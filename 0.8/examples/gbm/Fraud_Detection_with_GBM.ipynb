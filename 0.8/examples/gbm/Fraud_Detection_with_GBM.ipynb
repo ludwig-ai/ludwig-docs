{
  "cells": [
    {
      "cell_type": "code",
      "execution_count": null,
      "metadata": {
        "id": "eTU4R2zCt2F7"
      },
      "outputs": [],
      "source": [
        "# Restart runtime after executing this cell \n",
        "\n",
        "# TensorFlow makes the colab runtime crash due to an outdated protobuf version.\n",
        "!pip uninstall -y tensorflow\n",
        "!pip install -U ludwig[tree,viz] matplotlib \"scikit-learn<1.2\""
      ]
    },
    {
      "cell_type": "markdown",
      "metadata": {
        "id": "C5U41FMPvWZm"
      },
      "source": [
        "# Detecting credit card fraud using GBM\n",
        "\n",
        "Welcome to this tutorial on training a GBM model for detecting credit card fraud using the creditcard_fraud Ludwig dataset!"
      ]
    },
    {
      "cell_type": "markdown",
      "metadata": {
        "id": "pZvwgGo1vXoH"
      },
      "source": [
        "## Load data\n",
        "\n",
        "First, let's download the dataset from Kaggle. You'll need to specify your Kaggle username and Kaggle API key so that Ludwig can download the dataset via the Kaggle API. Ludwig will not store any of your credentials.\n",
        "\n"
      ]
    },
    {
      "cell_type": "code",
      "execution_count": null,
      "metadata": {
        "id": "N-vARsXiug0G"
      },
      "outputs": [],
      "source": [
        "import os\n",
        "import getpass\n",
        "\n",
        "os.environ[\"KAGGLE_USERNAME\"] = input(\"Enter your Kaggle username:\")\n",
        "os.environ[\"KAGGLE_KEY\"] = getpass.getpass(\"Enter your Kaggle API key:\")"
      ]
    },
    {
      "cell_type": "code",
      "execution_count": 3,
      "metadata": {
        "colab": {
          "base_uri": "https://localhost:8080/"
        },
        "id": "68lBm1Idt90O",
        "outputId": "f727c43f-0301-45c4-96a4-78a1eba8c621"
      },
      "outputs": [
        {
          "name": "stdout",
          "output_type": "stream",
          "text": [
            "███████████████████████\n",
            "█ █ █ █  ▜█ █ █ █ █   █\n",
            "█ █ █ █ █ █ █ █ █ █ ███\n",
            "█ █   █ █ █ █ █ █ █ ▌ █\n",
            "█ █████ █ █ █ █ █ █ █ █\n",
            "█     █  ▟█     █ █   █\n",
            "███████████████████████\n",
            "ludwig v0.6.4 - Datasets download\n",
            "\n"
          ]
        }
      ],
      "source": [
        "!ludwig datasets download creditcard_fraud"
      ]
    },
    {
      "cell_type": "markdown",
      "metadata": {
        "id": "YWlZX3oUwoAL"
      },
      "source": [
        "This command will download the [credit card fraud dataset from Kaggle](https://www.kaggle.com/datasets/mlg-ulb/creditcardfraud).\n",
        "\n",
        "The creditcard_fraud dataset contains over 284K records with 31 features and a binary label indicating whether a transaction was fraudulent or not."
      ]
    },
    {
      "cell_type": "code",
      "execution_count": null,
      "metadata": {
        "id": "E0UvmrfIF3mW"
      },
      "outputs": [],
      "source": [
        "from ludwig.benchmarking.utils import load_from_module\n",
        "from ludwig.datasets import creditcard_fraud\n",
        "\n",
        "df = load_from_module(creditcard_fraud, {'name': 'Class', 'type': 'binary'})"
      ]
    },
    {
      "cell_type": "markdown",
      "metadata": {
        "id": "NqBc9D4eF3GC"
      },
      "source": [
        "This will load the dataset into a Pandas DataFrame and add a reproducible train/valid/test split, stratified on the output feature."
      ]
    },
    {
      "cell_type": "code",
      "execution_count": 34,
      "metadata": {
        "colab": {
          "base_uri": "https://localhost:8080/"
        },
        "id": "JW8WrpSiGsy9",
        "outputId": "8696ac90-ce96-4641-f5e8-0f7c60ea260d"
      },
      "outputs": [
        {
          "data": {
            "text/plain": [
              "split  Class\n",
              "0      0        178180\n",
              "       1           349\n",
              "1      0         19802\n",
              "       1            34\n",
              "2      0         86333\n",
              "       1           109\n",
              "Name: Class, dtype: int64"
            ]
          },
          "execution_count": 34,
          "metadata": {},
          "output_type": "execute_result"
        }
      ],
      "source": [
        "df.groupby('split').Class.value_counts()"
      ]
    },
    {
      "cell_type": "markdown",
      "metadata": {
        "id": "OSBOo60Avkja"
      },
      "source": [
        "## Training\n",
        "\n",
        "Next, let's create a Ludwig configuration to define our machine learning task. In this configuration, we will specify that we want to use a GBM model for training. We will also specify the input and output features and set some hyperparameters for the model. For more details about the available trainer parameters, see the [documentation](https://ludwig.ai/latest/configuration/trainer/)."
      ]
    },
    {
      "cell_type": "code",
      "execution_count": 18,
      "metadata": {
        "id": "b5XDMVPquV-2"
      },
      "outputs": [],
      "source": [
        "import yaml\n",
        "\n",
        "config = yaml.safe_load(\n",
        "\"\"\"\n",
        "model_type: gbm\n",
        "\n",
        "input_features:\n",
        "  - name: Time\n",
        "    type: number\n",
        "  - name: V1\n",
        "    type: number\n",
        "  - name: V2\n",
        "    type: number\n",
        "  - name: V3\n",
        "    type: number\n",
        "  - name: V4\n",
        "    type: number\n",
        "  - name: V5\n",
        "    type: number\n",
        "  - name: V6\n",
        "    type: number\n",
        "  - name: V7\n",
        "    type: number\n",
        "  - name: V8\n",
        "    type: number\n",
        "  - name: V9\n",
        "    type: number\n",
        "  - name: V10\n",
        "    type: number\n",
        "  - name: V11\n",
        "    type: number\n",
        "  - name: V12\n",
        "    type: number\n",
        "  - name: V13\n",
        "    type: number\n",
        "  - name: V14\n",
        "    type: number\n",
        "  - name: V15\n",
        "    type: number\n",
        "  - name: V16\n",
        "    type: number\n",
        "  - name: V17\n",
        "    type: number\n",
        "  - name: V18\n",
        "    type: number\n",
        "  - name: V19\n",
        "    type: number\n",
        "  - name: V20\n",
        "    type: number\n",
        "  - name: V21\n",
        "    type: number\n",
        "  - name: V22\n",
        "    type: number\n",
        "  - name: V23\n",
        "    type: number\n",
        "  - name: V24\n",
        "    type: number\n",
        "  - name: V25\n",
        "    type: number\n",
        "  - name: V26\n",
        "    type: number\n",
        "  - name: V27\n",
        "    type: number\n",
        "  - name: V28\n",
        "    type: number\n",
        "  - name: Amount\n",
        "    type: number\n",
        "\n",
        "output_features:\n",
        "  - name: Class\n",
        "    type: binary\n",
        "\n",
        "trainer:\n",
        "  num_boost_round: 300\n",
        "  lambda_l1: 0.00011379587942715957\n",
        "  lambda_l2: 8.286477350867434\n",
        "  bagging_fraction: 0.4868130193152093\n",
        "  feature_fraction: 0.462444410839139\n",
        "  evaluate_training_set: false\n",
        "\"\"\"\n",
        ")"
      ]
    },
    {
      "cell_type": "markdown",
      "metadata": {
        "id": "1l5kz_W-wrAo"
      },
      "source": [
        "Now that we have our data and configuration set up, we can train our GBM model using the following command:"
      ]
    },
    {
      "cell_type": "code",
      "execution_count": 19,
      "metadata": {
        "colab": {
          "base_uri": "https://localhost:8080/"
        },
        "id": "dBUGFeGowWkN",
        "outputId": "f41273d3-3cf2-43f0-b437-874b72398d6c"
      },
      "outputs": [
        {
          "name": "stderr",
          "output_type": "stream",
          "text": [
            "/usr/local/lib/python3.8/dist-packages/ludwig/utils/dataset_utils.py:88: SettingWithCopyWarning: \n",
            "A value is trying to be set on a copy of a slice from a DataFrame.\n",
            "Try using .loc[row_indexer,col_indexer] = value instead\n",
            "\n",
            "See the caveats in the documentation: https://pandas.pydata.org/pandas-docs/stable/user_guide/indexing.html#returning-a-view-versus-a-copy\n",
            "  df_test[\"split\"] = TEST_SPLIT\n",
            "INFO:ludwig.utils.print_utils:\n",
            "INFO:ludwig.utils.print_utils:╒════════════════════════╕\n",
            "INFO:ludwig.utils.print_utils:│ EXPERIMENT DESCRIPTION │\n",
            "INFO:ludwig.utils.print_utils:╘════════════════════════╛\n",
            "INFO:ludwig.utils.print_utils:\n",
            "INFO:ludwig.api:╒══════════════════╤═════════════════════════════════════════════════════════════════════════════════════════╕\n",
            "│ Experiment name  │ api_experiment                                                                          │\n",
            "├──────────────────┼─────────────────────────────────────────────────────────────────────────────────────────┤\n",
            "│ Model name       │ run                                                                                     │\n",
            "├──────────────────┼─────────────────────────────────────────────────────────────────────────────────────────┤\n",
            "│ Output directory │ /content/results/api_experiment_run_5                                                   │\n",
            "├──────────────────┼─────────────────────────────────────────────────────────────────────────────────────────┤\n",
            "│ ludwig_version   │ '0.6.4'                                                                                 │\n",
            "├──────────────────┼─────────────────────────────────────────────────────────────────────────────────────────┤\n",
            "│ command          │ ('/usr/local/lib/python3.8/dist-packages/ipykernel_launcher.py -f '                     │\n",
            "│                  │  '/root/.local/share/jupyter/runtime/kernel-2675506a-ea80-4c25-9711-69a05a041a19.json') │\n",
            "├──────────────────┼─────────────────────────────────────────────────────────────────────────────────────────┤\n",
            "│ random_seed      │ 42                                                                                      │\n",
            "├──────────────────┼─────────────────────────────────────────────────────────────────────────────────────────┤\n",
            "│ data_format      │ \"<class 'pandas.core.frame.DataFrame'>\"                                                 │\n",
            "├──────────────────┼─────────────────────────────────────────────────────────────────────────────────────────┤\n",
            "│ torch_version    │ '1.13.0+cu116'                                                                          │\n",
            "├──────────────────┼─────────────────────────────────────────────────────────────────────────────────────────┤\n",
            "│ compute          │ {'num_nodes': 1}                                                                        │\n",
            "╘══════════════════╧═════════════════════════════════════════════════════════════════════════════════════════╛\n",
            "INFO:ludwig.utils.print_utils:\n",
            "INFO:ludwig.utils.print_utils:╒═══════════════╕\n",
            "INFO:ludwig.utils.print_utils:│ LUDWIG CONFIG │\n",
            "INFO:ludwig.utils.print_utils:╘═══════════════╛\n",
            "INFO:ludwig.utils.print_utils:\n",
            "INFO:ludwig.api:{   'combiner': {   'activation': 'relu',\n",
            "                    'bias_initializer': 'zeros',\n",
            "                    'dropout': 0.0,\n",
            "                    'fc_layers': None,\n",
            "                    'flatten_inputs': False,\n",
            "                    'norm': None,\n",
            "                    'norm_params': None,\n",
            "                    'num_fc_layers': 0,\n",
            "                    'output_size': 256,\n",
            "                    'residual': False,\n",
            "                    'type': 'concat',\n",
            "                    'use_bias': True,\n",
            "                    'weights_initializer': 'xavier_uniform'},\n",
            "    'defaults': {   'audio': {   'preprocessing': {   'audio_file_length_limit_in_s': 7.5,\n",
            "                                                      'computed_fill_value': None,\n",
            "                                                      'fill_value': None,\n",
            "                                                      'in_memory': True,\n",
            "                                                      'missing_value_strategy': 'bfill',\n",
            "                                                      'norm': None,\n",
            "                                                      'num_fft_points': None,\n",
            "                                                      'num_filter_bands': 80,\n",
            "                                                      'padding_value': 0.0,\n",
            "                                                      'type': 'fbank',\n",
            "                                                      'window_length_in_s': 0.04,\n",
            "                                                      'window_shift_in_s': 0.02,\n",
            "                                                      'window_type': 'hamming'}},\n",
            "                    'bag': {   'preprocessing': {   'computed_fill_value': '<UNK>',\n",
            "                                                    'fill_value': '<UNK>',\n",
            "                                                    'lowercase': False,\n",
            "                                                    'missing_value_strategy': 'fill_with_const',\n",
            "                                                    'most_common': 10000,\n",
            "                                                    'tokenizer': 'space'}},\n",
            "                    'binary': {   'preprocessing': {   'computed_fill_value': None,\n",
            "                                                       'fallback_true_label': None,\n",
            "                                                       'fill_value': None,\n",
            "                                                       'missing_value_strategy': 'fill_with_false'}},\n",
            "                    'category': {   'preprocessing': {   'computed_fill_value': '<UNK>',\n",
            "                                                         'fill_value': '<UNK>',\n",
            "                                                         'lowercase': False,\n",
            "                                                         'missing_value_strategy': 'fill_with_const',\n",
            "                                                         'most_common': 10000}},\n",
            "                    'date': {   'preprocessing': {   'computed_fill_value': '',\n",
            "                                                     'datetime_format': None,\n",
            "                                                     'fill_value': '',\n",
            "                                                     'missing_value_strategy': 'fill_with_const'}},\n",
            "                    'h3': {   'preprocessing': {   'computed_fill_value': 576495936675512319,\n",
            "                                                   'fill_value': 576495936675512319,\n",
            "                                                   'missing_value_strategy': 'fill_with_const'}},\n",
            "                    'image': {   'preprocessing': {   'computed_fill_value': None,\n",
            "                                                      'fill_value': None,\n",
            "                                                      'height': None,\n",
            "                                                      'in_memory': True,\n",
            "                                                      'infer_image_dimensions': True,\n",
            "                                                      'infer_image_max_height': 256,\n",
            "                                                      'infer_image_max_width': 256,\n",
            "                                                      'infer_image_num_channels': True,\n",
            "                                                      'infer_image_sample_size': 100,\n",
            "                                                      'missing_value_strategy': 'bfill',\n",
            "                                                      'num_channels': None,\n",
            "                                                      'num_processes': 1,\n",
            "                                                      'resize_method': 'interpolate',\n",
            "                                                      'scaling': 'pixel_normalization',\n",
            "                                                      'width': None}},\n",
            "                    'number': {   'preprocessing': {   'computed_fill_value': 0.0,\n",
            "                                                       'fill_value': 0.0,\n",
            "                                                       'missing_value_strategy': 'fill_with_const',\n",
            "                                                       'normalization': None}},\n",
            "                    'sequence': {   'preprocessing': {   'computed_fill_value': '<UNK>',\n",
            "                                                         'fill_value': '<UNK>',\n",
            "                                                         'lowercase': False,\n",
            "                                                         'max_sequence_length': 256,\n",
            "                                                         'missing_value_strategy': 'fill_with_const',\n",
            "                                                         'most_common': 20000,\n",
            "                                                         'padding': 'right',\n",
            "                                                         'padding_symbol': '<PAD>',\n",
            "                                                         'tokenizer': 'space',\n",
            "                                                         'unknown_symbol': '<UNK>',\n",
            "                                                         'vocab_file': None}},\n",
            "                    'set': {   'preprocessing': {   'computed_fill_value': '<UNK>',\n",
            "                                                    'fill_value': '<UNK>',\n",
            "                                                    'lowercase': False,\n",
            "                                                    'missing_value_strategy': 'fill_with_const',\n",
            "                                                    'most_common': 10000,\n",
            "                                                    'tokenizer': 'space'}},\n",
            "                    'text': {   'preprocessing': {   'computed_fill_value': '<UNK>',\n",
            "                                                     'fill_value': '<UNK>',\n",
            "                                                     'lowercase': True,\n",
            "                                                     'max_sequence_length': 256,\n",
            "                                                     'missing_value_strategy': 'fill_with_const',\n",
            "                                                     'most_common': 20000,\n",
            "                                                     'padding': 'right',\n",
            "                                                     'padding_symbol': '<PAD>',\n",
            "                                                     'pretrained_model_name_or_path': None,\n",
            "                                                     'tokenizer': 'space_punct',\n",
            "                                                     'unknown_symbol': '<UNK>',\n",
            "                                                     'vocab_file': None}},\n",
            "                    'timeseries': {   'preprocessing': {   'computed_fill_value': '',\n",
            "                                                           'fill_value': '',\n",
            "                                                           'missing_value_strategy': 'fill_with_const',\n",
            "                                                           'padding': 'right',\n",
            "                                                           'padding_value': 0.0,\n",
            "                                                           'timeseries_length_limit': 256,\n",
            "                                                           'tokenizer': 'space'}},\n",
            "                    'vector': {   'preprocessing': {   'computed_fill_value': '',\n",
            "                                                       'fill_value': '',\n",
            "                                                       'missing_value_strategy': 'fill_with_const',\n",
            "                                                       'vector_size': None}}},\n",
            "    'input_features': [   {   'column': 'Time',\n",
            "                              'encoder': {'type': 'passthrough'},\n",
            "                              'name': 'Time',\n",
            "                              'preprocessing': {   'computed_fill_value': 0.0,\n",
            "                                                   'fill_value': 0.0,\n",
            "                                                   'missing_value_strategy': 'fill_with_const',\n",
            "                                                   'normalization': None},\n",
            "                              'proc_column': 'Time_mZFLky',\n",
            "                              'tied': None,\n",
            "                              'type': 'number'},\n",
            "                          {   'column': 'V1',\n",
            "                              'encoder': {'type': 'passthrough'},\n",
            "                              'name': 'V1',\n",
            "                              'preprocessing': {   'computed_fill_value': 0.0,\n",
            "                                                   'fill_value': 0.0,\n",
            "                                                   'missing_value_strategy': 'fill_with_const',\n",
            "                                                   'normalization': None},\n",
            "                              'proc_column': 'V1_mZFLky',\n",
            "                              'tied': None,\n",
            "                              'type': 'number'},\n",
            "                          {   'column': 'V2',\n",
            "                              'encoder': {'type': 'passthrough'},\n",
            "                              'name': 'V2',\n",
            "                              'preprocessing': {   'computed_fill_value': 0.0,\n",
            "                                                   'fill_value': 0.0,\n",
            "                                                   'missing_value_strategy': 'fill_with_const',\n",
            "                                                   'normalization': None},\n",
            "                              'proc_column': 'V2_mZFLky',\n",
            "                              'tied': None,\n",
            "                              'type': 'number'},\n",
            "                          {   'column': 'V3',\n",
            "                              'encoder': {'type': 'passthrough'},\n",
            "                              'name': 'V3',\n",
            "                              'preprocessing': {   'computed_fill_value': 0.0,\n",
            "                                                   'fill_value': 0.0,\n",
            "                                                   'missing_value_strategy': 'fill_with_const',\n",
            "                                                   'normalization': None},\n",
            "                              'proc_column': 'V3_mZFLky',\n",
            "                              'tied': None,\n",
            "                              'type': 'number'},\n",
            "                          {   'column': 'V4',\n",
            "                              'encoder': {'type': 'passthrough'},\n",
            "                              'name': 'V4',\n",
            "                              'preprocessing': {   'computed_fill_value': 0.0,\n",
            "                                                   'fill_value': 0.0,\n",
            "                                                   'missing_value_strategy': 'fill_with_const',\n",
            "                                                   'normalization': None},\n",
            "                              'proc_column': 'V4_mZFLky',\n",
            "                              'tied': None,\n",
            "                              'type': 'number'},\n",
            "                          {   'column': 'V5',\n",
            "                              'encoder': {'type': 'passthrough'},\n",
            "                              'name': 'V5',\n",
            "                              'preprocessing': {   'computed_fill_value': 0.0,\n",
            "                                                   'fill_value': 0.0,\n",
            "                                                   'missing_value_strategy': 'fill_with_const',\n",
            "                                                   'normalization': None},\n",
            "                              'proc_column': 'V5_mZFLky',\n",
            "                              'tied': None,\n",
            "                              'type': 'number'},\n",
            "                          {   'column': 'V6',\n",
            "                              'encoder': {'type': 'passthrough'},\n",
            "                              'name': 'V6',\n",
            "                              'preprocessing': {   'computed_fill_value': 0.0,\n",
            "                                                   'fill_value': 0.0,\n",
            "                                                   'missing_value_strategy': 'fill_with_const',\n",
            "                                                   'normalization': None},\n",
            "                              'proc_column': 'V6_mZFLky',\n",
            "                              'tied': None,\n",
            "                              'type': 'number'},\n",
            "                          {   'column': 'V7',\n",
            "                              'encoder': {'type': 'passthrough'},\n",
            "                              'name': 'V7',\n",
            "                              'preprocessing': {   'computed_fill_value': 0.0,\n",
            "                                                   'fill_value': 0.0,\n",
            "                                                   'missing_value_strategy': 'fill_with_const',\n",
            "                                                   'normalization': None},\n",
            "                              'proc_column': 'V7_mZFLky',\n",
            "                              'tied': None,\n",
            "                              'type': 'number'},\n",
            "                          {   'column': 'V8',\n",
            "                              'encoder': {'type': 'passthrough'},\n",
            "                              'name': 'V8',\n",
            "                              'preprocessing': {   'computed_fill_value': 0.0,\n",
            "                                                   'fill_value': 0.0,\n",
            "                                                   'missing_value_strategy': 'fill_with_const',\n",
            "                                                   'normalization': None},\n",
            "                              'proc_column': 'V8_mZFLky',\n",
            "                              'tied': None,\n",
            "                              'type': 'number'},\n",
            "                          {   'column': 'V9',\n",
            "                              'encoder': {'type': 'passthrough'},\n",
            "                              'name': 'V9',\n",
            "                              'preprocessing': {   'computed_fill_value': 0.0,\n",
            "                                                   'fill_value': 0.0,\n",
            "                                                   'missing_value_strategy': 'fill_with_const',\n",
            "                                                   'normalization': None},\n",
            "                              'proc_column': 'V9_mZFLky',\n",
            "                              'tied': None,\n",
            "                              'type': 'number'},\n",
            "                          {   'column': 'V10',\n",
            "                              'encoder': {'type': 'passthrough'},\n",
            "                              'name': 'V10',\n",
            "                              'preprocessing': {   'computed_fill_value': 0.0,\n",
            "                                                   'fill_value': 0.0,\n",
            "                                                   'missing_value_strategy': 'fill_with_const',\n",
            "                                                   'normalization': None},\n",
            "                              'proc_column': 'V10_mZFLky',\n",
            "                              'tied': None,\n",
            "                              'type': 'number'},\n",
            "                          {   'column': 'V11',\n",
            "                              'encoder': {'type': 'passthrough'},\n",
            "                              'name': 'V11',\n",
            "                              'preprocessing': {   'computed_fill_value': 0.0,\n",
            "                                                   'fill_value': 0.0,\n",
            "                                                   'missing_value_strategy': 'fill_with_const',\n",
            "                                                   'normalization': None},\n",
            "                              'proc_column': 'V11_mZFLky',\n",
            "                              'tied': None,\n",
            "                              'type': 'number'},\n",
            "                          {   'column': 'V12',\n",
            "                              'encoder': {'type': 'passthrough'},\n",
            "                              'name': 'V12',\n",
            "                              'preprocessing': {   'computed_fill_value': 0.0,\n",
            "                                                   'fill_value': 0.0,\n",
            "                                                   'missing_value_strategy': 'fill_with_const',\n",
            "                                                   'normalization': None},\n",
            "                              'proc_column': 'V12_mZFLky',\n",
            "                              'tied': None,\n",
            "                              'type': 'number'},\n",
            "                          {   'column': 'V13',\n",
            "                              'encoder': {'type': 'passthrough'},\n",
            "                              'name': 'V13',\n",
            "                              'preprocessing': {   'computed_fill_value': 0.0,\n",
            "                                                   'fill_value': 0.0,\n",
            "                                                   'missing_value_strategy': 'fill_with_const',\n",
            "                                                   'normalization': None},\n",
            "                              'proc_column': 'V13_mZFLky',\n",
            "                              'tied': None,\n",
            "                              'type': 'number'},\n",
            "                          {   'column': 'V14',\n",
            "                              'encoder': {'type': 'passthrough'},\n",
            "                              'name': 'V14',\n",
            "                              'preprocessing': {   'computed_fill_value': 0.0,\n",
            "                                                   'fill_value': 0.0,\n",
            "                                                   'missing_value_strategy': 'fill_with_const',\n",
            "                                                   'normalization': None},\n",
            "                              'proc_column': 'V14_mZFLky',\n",
            "                              'tied': None,\n",
            "                              'type': 'number'},\n",
            "                          {   'column': 'V15',\n",
            "                              'encoder': {'type': 'passthrough'},\n",
            "                              'name': 'V15',\n",
            "                              'preprocessing': {   'computed_fill_value': 0.0,\n",
            "                                                   'fill_value': 0.0,\n",
            "                                                   'missing_value_strategy': 'fill_with_const',\n",
            "                                                   'normalization': None},\n",
            "                              'proc_column': 'V15_mZFLky',\n",
            "                              'tied': None,\n",
            "                              'type': 'number'},\n",
            "                          {   'column': 'V16',\n",
            "                              'encoder': {'type': 'passthrough'},\n",
            "                              'name': 'V16',\n",
            "                              'preprocessing': {   'computed_fill_value': 0.0,\n",
            "                                                   'fill_value': 0.0,\n",
            "                                                   'missing_value_strategy': 'fill_with_const',\n",
            "                                                   'normalization': None},\n",
            "                              'proc_column': 'V16_mZFLky',\n",
            "                              'tied': None,\n",
            "                              'type': 'number'},\n",
            "                          {   'column': 'V17',\n",
            "                              'encoder': {'type': 'passthrough'},\n",
            "                              'name': 'V17',\n",
            "                              'preprocessing': {   'computed_fill_value': 0.0,\n",
            "                                                   'fill_value': 0.0,\n",
            "                                                   'missing_value_strategy': 'fill_with_const',\n",
            "                                                   'normalization': None},\n",
            "                              'proc_column': 'V17_mZFLky',\n",
            "                              'tied': None,\n",
            "                              'type': 'number'},\n",
            "                          {   'column': 'V18',\n",
            "                              'encoder': {'type': 'passthrough'},\n",
            "                              'name': 'V18',\n",
            "                              'preprocessing': {   'computed_fill_value': 0.0,\n",
            "                                                   'fill_value': 0.0,\n",
            "                                                   'missing_value_strategy': 'fill_with_const',\n",
            "                                                   'normalization': None},\n",
            "                              'proc_column': 'V18_mZFLky',\n",
            "                              'tied': None,\n",
            "                              'type': 'number'},\n",
            "                          {   'column': 'V19',\n",
            "                              'encoder': {'type': 'passthrough'},\n",
            "                              'name': 'V19',\n",
            "                              'preprocessing': {   'computed_fill_value': 0.0,\n",
            "                                                   'fill_value': 0.0,\n",
            "                                                   'missing_value_strategy': 'fill_with_const',\n",
            "                                                   'normalization': None},\n",
            "                              'proc_column': 'V19_mZFLky',\n",
            "                              'tied': None,\n",
            "                              'type': 'number'},\n",
            "                          {   'column': 'V20',\n",
            "                              'encoder': {'type': 'passthrough'},\n",
            "                              'name': 'V20',\n",
            "                              'preprocessing': {   'computed_fill_value': 0.0,\n",
            "                                                   'fill_value': 0.0,\n",
            "                                                   'missing_value_strategy': 'fill_with_const',\n",
            "                                                   'normalization': None},\n",
            "                              'proc_column': 'V20_mZFLky',\n",
            "                              'tied': None,\n",
            "                              'type': 'number'},\n",
            "                          {   'column': 'V21',\n",
            "                              'encoder': {'type': 'passthrough'},\n",
            "                              'name': 'V21',\n",
            "                              'preprocessing': {   'computed_fill_value': 0.0,\n",
            "                                                   'fill_value': 0.0,\n",
            "                                                   'missing_value_strategy': 'fill_with_const',\n",
            "                                                   'normalization': None},\n",
            "                              'proc_column': 'V21_mZFLky',\n",
            "                              'tied': None,\n",
            "                              'type': 'number'},\n",
            "                          {   'column': 'V22',\n",
            "                              'encoder': {'type': 'passthrough'},\n",
            "                              'name': 'V22',\n",
            "                              'preprocessing': {   'computed_fill_value': 0.0,\n",
            "                                                   'fill_value': 0.0,\n",
            "                                                   'missing_value_strategy': 'fill_with_const',\n",
            "                                                   'normalization': None},\n",
            "                              'proc_column': 'V22_mZFLky',\n",
            "                              'tied': None,\n",
            "                              'type': 'number'},\n",
            "                          {   'column': 'V23',\n",
            "                              'encoder': {'type': 'passthrough'},\n",
            "                              'name': 'V23',\n",
            "                              'preprocessing': {   'computed_fill_value': 0.0,\n",
            "                                                   'fill_value': 0.0,\n",
            "                                                   'missing_value_strategy': 'fill_with_const',\n",
            "                                                   'normalization': None},\n",
            "                              'proc_column': 'V23_mZFLky',\n",
            "                              'tied': None,\n",
            "                              'type': 'number'},\n",
            "                          {   'column': 'V24',\n",
            "                              'encoder': {'type': 'passthrough'},\n",
            "                              'name': 'V24',\n",
            "                              'preprocessing': {   'computed_fill_value': 0.0,\n",
            "                                                   'fill_value': 0.0,\n",
            "                                                   'missing_value_strategy': 'fill_with_const',\n",
            "                                                   'normalization': None},\n",
            "                              'proc_column': 'V24_mZFLky',\n",
            "                              'tied': None,\n",
            "                              'type': 'number'},\n",
            "                          {   'column': 'V25',\n",
            "                              'encoder': {'type': 'passthrough'},\n",
            "                              'name': 'V25',\n",
            "                              'preprocessing': {   'computed_fill_value': 0.0,\n",
            "                                                   'fill_value': 0.0,\n",
            "                                                   'missing_value_strategy': 'fill_with_const',\n",
            "                                                   'normalization': None},\n",
            "                              'proc_column': 'V25_mZFLky',\n",
            "                              'tied': None,\n",
            "                              'type': 'number'},\n",
            "                          {   'column': 'V26',\n",
            "                              'encoder': {'type': 'passthrough'},\n",
            "                              'name': 'V26',\n",
            "                              'preprocessing': {   'computed_fill_value': 0.0,\n",
            "                                                   'fill_value': 0.0,\n",
            "                                                   'missing_value_strategy': 'fill_with_const',\n",
            "                                                   'normalization': None},\n",
            "                              'proc_column': 'V26_mZFLky',\n",
            "                              'tied': None,\n",
            "                              'type': 'number'},\n",
            "                          {   'column': 'V27',\n",
            "                              'encoder': {'type': 'passthrough'},\n",
            "                              'name': 'V27',\n",
            "                              'preprocessing': {   'computed_fill_value': 0.0,\n",
            "                                                   'fill_value': 0.0,\n",
            "                                                   'missing_value_strategy': 'fill_with_const',\n",
            "                                                   'normalization': None},\n",
            "                              'proc_column': 'V27_mZFLky',\n",
            "                              'tied': None,\n",
            "                              'type': 'number'},\n",
            "                          {   'column': 'V28',\n",
            "                              'encoder': {'type': 'passthrough'},\n",
            "                              'name': 'V28',\n",
            "                              'preprocessing': {   'computed_fill_value': 0.0,\n",
            "                                                   'fill_value': 0.0,\n",
            "                                                   'missing_value_strategy': 'fill_with_const',\n",
            "                                                   'normalization': None},\n",
            "                              'proc_column': 'V28_mZFLky',\n",
            "                              'tied': None,\n",
            "                              'type': 'number'},\n",
            "                          {   'column': 'Amount',\n",
            "                              'encoder': {'type': 'passthrough'},\n",
            "                              'name': 'Amount',\n",
            "                              'preprocessing': {   'computed_fill_value': 0.0,\n",
            "                                                   'fill_value': 0.0,\n",
            "                                                   'missing_value_strategy': 'fill_with_const',\n",
            "                                                   'normalization': None},\n",
            "                              'proc_column': 'Amount_mZFLky',\n",
            "                              'tied': None,\n",
            "                              'type': 'number'}],\n",
            "    'ludwig_version': '0.6.4',\n",
            "    'model_type': 'gbm',\n",
            "    'output_features': [   {   'calibration': False,\n",
            "                               'column': 'Class',\n",
            "                               'decoder': {   'fc_activation': 'relu',\n",
            "                                              'fc_bias_initializer': 'zeros',\n",
            "                                              'fc_dropout': 0.0,\n",
            "                                              'fc_layers': None,\n",
            "                                              'fc_norm': None,\n",
            "                                              'fc_norm_params': None,\n",
            "                                              'fc_output_size': 256,\n",
            "                                              'fc_use_bias': True,\n",
            "                                              'fc_weights_initializer': 'xavier_uniform',\n",
            "                                              'input_size': 1,\n",
            "                                              'num_fc_layers': 0,\n",
            "                                              'type': 'passthrough'},\n",
            "                               'dependencies': [],\n",
            "                               'input_size': None,\n",
            "                               'loss': {   'confidence_penalty': 0.0,\n",
            "                                           'positive_class_weight': None,\n",
            "                                           'robust_lambda': 0,\n",
            "                                           'type': 'binary_weighted_cross_entropy',\n",
            "                                           'weight': 1.0},\n",
            "                               'name': 'Class',\n",
            "                               'num_classes': None,\n",
            "                               'preprocessing': {   'computed_fill_value': None,\n",
            "                                                    'fallback_true_label': None,\n",
            "                                                    'fill_value': None,\n",
            "                                                    'missing_value_strategy': 'drop_row'},\n",
            "                               'proc_column': 'Class_mZFLky',\n",
            "                               'reduce_dependencies': 'sum',\n",
            "                               'reduce_input': 'sum',\n",
            "                               'threshold': 0.5,\n",
            "                               'type': 'binary'}],\n",
            "    'preprocessing': {   'oversample_minority': None,\n",
            "                         'sample_ratio': 1.0,\n",
            "                         'split': {   'probabilities': [0.7, 0.1, 0.2],\n",
            "                                      'type': 'random'},\n",
            "                         'undersample_majority': None},\n",
            "    'trainer': {   'bagging_fraction': 0.4868130193152093,\n",
            "                   'bagging_freq': 1,\n",
            "                   'bagging_seed': 3,\n",
            "                   'boosting_rounds_per_checkpoint': 50,\n",
            "                   'boosting_type': 'gbdt',\n",
            "                   'cat_l2': 10.0,\n",
            "                   'cat_smooth': 10.0,\n",
            "                   'cegb_penalty_split': 0.0,\n",
            "                   'cegb_tradeoff': 1.0,\n",
            "                   'drop_rate': 0.1,\n",
            "                   'drop_seed': 4,\n",
            "                   'early_stop': 5,\n",
            "                   'eval_batch_size': 1024,\n",
            "                   'evaluate_training_set': False,\n",
            "                   'extra_seed': 6,\n",
            "                   'extra_trees': False,\n",
            "                   'feature_fraction': 0.462444410839139,\n",
            "                   'feature_fraction_bynode': 1.0,\n",
            "                   'feature_fraction_seed': 2,\n",
            "                   'lambda_l1': 0.00011379587942715957,\n",
            "                   'lambda_l2': 8.286477350867434,\n",
            "                   'learning_rate': 0.03,\n",
            "                   'linear_lambda': 0.0,\n",
            "                   'max_bin': 255,\n",
            "                   'max_cat_threshold': 32,\n",
            "                   'max_cat_to_onehot': 4,\n",
            "                   'max_delta_step': 0.0,\n",
            "                   'max_depth': 18,\n",
            "                   'max_drop': 50,\n",
            "                   'min_data_in_leaf': 315,\n",
            "                   'min_data_per_group': 100,\n",
            "                   'min_gain_to_split': 0.03,\n",
            "                   'min_sum_hessian_in_leaf': 0.001,\n",
            "                   'neg_bagging_fraction': 1.0,\n",
            "                   'num_boost_round': 300,\n",
            "                   'num_leaves': 82,\n",
            "                   'other_rate': 0.1,\n",
            "                   'path_smooth': 0.0,\n",
            "                   'pos_bagging_fraction': 1.0,\n",
            "                   'skip_drop': 0.5,\n",
            "                   'top_rate': 0.2,\n",
            "                   'tree_learner': 'serial',\n",
            "                   'type': 'lightgbm_trainer',\n",
            "                   'uniform_drop': False,\n",
            "                   'validation_field': 'combined',\n",
            "                   'validation_metric': 'loss',\n",
            "                   'verbose': -1,\n",
            "                   'xgboost_dart_mode': False}}\n",
            "INFO:ludwig.utils.print_utils:\n",
            "INFO:ludwig.utils.print_utils:╒═══════════════╕\n",
            "INFO:ludwig.utils.print_utils:│ PREPROCESSING │\n",
            "INFO:ludwig.utils.print_utils:╘═══════════════╛\n",
            "INFO:ludwig.utils.print_utils:\n",
            "INFO:ludwig.data.preprocessing:Using full dataframe\n",
            "INFO:ludwig.data.preprocessing:Building dataset (it may take a while)\n",
            "INFO:ludwig.data.preprocessing:Building dataset: DONE\n",
            "INFO:ludwig.data.cache.manager:Writing preprocessed training set cache\n",
            "INFO:ludwig.data.cache.manager:Writing preprocessed test set cache\n",
            "INFO:ludwig.data.cache.manager:Writing preprocessed validation set cache\n",
            "INFO:ludwig.data.cache.manager:Writing train set metadata\n",
            "INFO:ludwig.api:\n",
            "Dataset Statistics\n",
            "INFO:ludwig.api:╒════════════╤═══════════════╤════════════════════╕\n",
            "│ Dataset    │   Size (Rows) │ Size (In Memory)   │\n",
            "╞════════════╪═══════════════╪════════════════════╡\n",
            "│ Training   │        199364 │ 23.01 Mb           │\n",
            "├────────────┼───────────────┼────────────────────┤\n",
            "│ Validation │         28480 │ 3.29 Mb            │\n",
            "├────────────┼───────────────┼────────────────────┤\n",
            "│ Test       │         56963 │ 6.57 Mb            │\n",
            "╘════════════╧═══════════════╧════════════════════╛\n",
            "INFO:ludwig.utils.print_utils:\n",
            "INFO:ludwig.utils.print_utils:╒═══════╕\n",
            "INFO:ludwig.utils.print_utils:│ MODEL │\n",
            "INFO:ludwig.utils.print_utils:╘═══════╛\n",
            "INFO:ludwig.utils.print_utils:\n",
            "INFO:ludwig.api:Warnings and other logs:\n",
            "INFO:ludwig.utils.print_utils:\n",
            "INFO:ludwig.utils.print_utils:╒══════════╕\n",
            "INFO:ludwig.utils.print_utils:│ TRAINING │\n",
            "INFO:ludwig.utils.print_utils:╘══════════╛\n",
            "INFO:ludwig.utils.print_utils:\n",
            "/usr/local/lib/python3.8/dist-packages/lightgbm/basic.py:1780: UserWarning: Overriding the parameters from Reference Dataset.\n",
            "  _log_warning('Overriding the parameters from Reference Dataset.')\n",
            "INFO:ludwig.trainers.trainer_lightgbm:Training for 300 boosting round(s), approximately 6 round(s) of evaluation.\n",
            "INFO:ludwig.trainers.trainer_lightgbm:Early stopping policy: 5 round(s) of evaluation, or 250 boosting round(s).\n",
            "\n",
            "INFO:ludwig.trainers.trainer_lightgbm:Starting with step 0\n"
          ]
        },
        {
          "name": "stdout",
          "output_type": "stream",
          "text": [
            "\n",
            "Training:   0%|          | 0/300 [00:00<?, ?it/s]\u001b[A[LightGBM] [Warning] lambda_l1 is set=0.00011379587942715957, reg_alpha=0.0 will be ignored. Current value: lambda_l1=0.00011379587942715957\n",
            "[LightGBM] [Warning] feature_fraction is set=0.462444410839139, colsample_bytree=1.0 will be ignored. Current value: feature_fraction=0.462444410839139\n",
            "[LightGBM] [Warning] bagging_freq is set=1, subsample_freq=0 will be ignored. Current value: bagging_freq=1\n",
            "[LightGBM] [Warning] min_data_in_leaf is set=315, min_child_samples=20 will be ignored. Current value: min_data_in_leaf=315\n",
            "[LightGBM] [Warning] min_sum_hessian_in_leaf is set=0.001, min_child_weight=0.001 will be ignored. Current value: min_sum_hessian_in_leaf=0.001\n",
            "[LightGBM] [Warning] min_gain_to_split is set=0.03, min_split_gain=0.0 will be ignored. Current value: min_gain_to_split=0.03\n",
            "[LightGBM] [Warning] lambda_l2 is set=8.286477350867434, reg_lambda=0.0 will be ignored. Current value: lambda_l2=8.286477350867434\n",
            "[LightGBM] [Warning] bagging_fraction is set=0.4868130193152093, subsample=1.0 will be ignored. Current value: bagging_fraction=0.4868130193152093\n",
            "Training until validation scores don't improve for 50 rounds\n",
            "Did not meet early stopping. Best iteration is:\n",
            "[50]\ttrain's binary_logloss: 0.00369196\tvalidation's binary_logloss: 0.00411424\ttest's binary_logloss: 0.00374338\n",
            "\n",
            "Training:  17%|█▋        | 50/300 [00:03<00:19, 12.64it/s]\u001b[A"
          ]
        },
        {
          "name": "stderr",
          "output_type": "stream",
          "text": [
            "INFO:ludwig.trainers.trainer_lightgbm:\n",
            "Running evaluation for step: 50, epoch: 0\n"
          ]
        },
        {
          "name": "stdout",
          "output_type": "stream",
          "text": [
            "Evaluation valid: 100%|██████████| 28/28 [00:00<00:00, 45.68it/s]\n",
            "Evaluation test : 100%|██████████| 56/56 [00:01<00:00, 43.06it/s]"
          ]
        },
        {
          "name": "stderr",
          "output_type": "stream",
          "text": [
            "INFO:ludwig.trainers.trainer_lightgbm:╒════════════╤════════╤═══════════╤════════════╕\n",
            "│ Class      │   loss │   roc_auc │   accuracy │\n",
            "╞════════════╪════════╪═══════════╪════════════╡\n",
            "│ train      │ 0.0037 │           │            │\n",
            "├────────────┼────────┼───────────┼────────────┤\n",
            "│ validation │ 0.0041 │    0.9210 │     0.9993 │\n",
            "├────────────┼────────┼───────────┼────────────┤\n",
            "│ test       │ 0.0037 │    0.9377 │     0.9991 │\n",
            "╘════════════╧════════╧═══════════╧════════════╛\n",
            "INFO:ludwig.trainers.trainer_lightgbm:╒════════════╤════════╕\n",
            "│ combined   │   loss │\n",
            "╞════════════╪════════╡\n",
            "│ train      │ 0.0037 │\n",
            "├────────────┼────────┤\n",
            "│ validation │ 0.0041 │\n",
            "├────────────┼────────┤\n",
            "│ test       │ 0.0037 │\n",
            "╘════════════╧════════╛\n",
            "INFO:ludwig.trainers.trainer_lightgbm:Validation loss on combined improved, model saved.\n",
            "\n"
          ]
        },
        {
          "name": "stdout",
          "output_type": "stream",
          "text": [
            "\n",
            "Training until validation scores don't improve for 50 rounds\n",
            "Did not meet early stopping. Best iteration is:\n",
            "[100]\ttrain's binary_logloss: 0.00273991\tvalidation's binary_logloss: 0.00343076\ttest's binary_logloss: 0.00291259\n",
            "\n",
            "Training:  33%|███▎      | 100/300 [00:10<00:22,  8.85it/s]\u001b[A"
          ]
        },
        {
          "name": "stderr",
          "output_type": "stream",
          "text": [
            "INFO:ludwig.trainers.trainer_lightgbm:\n",
            "Running evaluation for step: 100, epoch: 1\n"
          ]
        },
        {
          "name": "stdout",
          "output_type": "stream",
          "text": [
            "Evaluation valid: 100%|██████████| 28/28 [00:01<00:00, 26.12it/s]\n",
            "Evaluation test : 100%|██████████| 56/56 [00:02<00:00, 26.01it/s]"
          ]
        },
        {
          "name": "stderr",
          "output_type": "stream",
          "text": [
            "INFO:ludwig.trainers.trainer_lightgbm:╒════════════╤════════╤═══════════╤════════════╕\n",
            "│ Class      │   loss │   roc_auc │   accuracy │\n",
            "╞════════════╪════════╪═══════════╪════════════╡\n",
            "│ train      │ 0.0027 │           │            │\n",
            "├────────────┼────────┼───────────┼────────────┤\n",
            "│ validation │ 0.0034 │    0.9210 │     0.9995 │\n",
            "├────────────┼────────┼───────────┼────────────┤\n",
            "│ test       │ 0.0029 │    0.9377 │     0.9994 │\n",
            "╘════════════╧════════╧═══════════╧════════════╛\n",
            "INFO:ludwig.trainers.trainer_lightgbm:╒════════════╤════════╕\n",
            "│ combined   │   loss │\n",
            "╞════════════╪════════╡\n",
            "│ train      │ 0.0027 │\n",
            "├────────────┼────────┤\n",
            "│ validation │ 0.0034 │\n",
            "├────────────┼────────┤\n",
            "│ test       │ 0.0029 │\n",
            "╘════════════╧════════╛\n"
          ]
        },
        {
          "name": "stdout",
          "output_type": "stream",
          "text": [
            "\n"
          ]
        },
        {
          "name": "stderr",
          "output_type": "stream",
          "text": [
            "INFO:ludwig.trainers.trainer_lightgbm:Validation loss on combined improved, model saved.\n",
            "\n"
          ]
        },
        {
          "name": "stdout",
          "output_type": "stream",
          "text": [
            "Training until validation scores don't improve for 50 rounds\n",
            "Did not meet early stopping. Best iteration is:\n",
            "[150]\ttrain's binary_logloss: 0.00230929\tvalidation's binary_logloss: 0.00324739\ttest's binary_logloss: 0.00262236\n",
            "\n",
            "Training:  50%|█████     | 150/300 [00:19<00:21,  6.94it/s]\u001b[A"
          ]
        },
        {
          "name": "stderr",
          "output_type": "stream",
          "text": [
            "INFO:ludwig.trainers.trainer_lightgbm:\n",
            "Running evaluation for step: 150, epoch: 2\n"
          ]
        },
        {
          "name": "stdout",
          "output_type": "stream",
          "text": [
            "Evaluation valid: 100%|██████████| 28/28 [00:01<00:00, 15.80it/s]\n",
            "Evaluation test : 100%|██████████| 56/56 [00:03<00:00, 15.87it/s]"
          ]
        },
        {
          "name": "stderr",
          "output_type": "stream",
          "text": [
            "INFO:ludwig.trainers.trainer_lightgbm:╒════════════╤════════╤═══════════╤════════════╕\n",
            "│ Class      │   loss │   roc_auc │   accuracy │\n",
            "╞════════════╪════════╪═══════════╪════════════╡\n",
            "│ train      │ 0.0023 │           │            │\n",
            "├────────────┼────────┼───────────┼────────────┤\n",
            "│ validation │ 0.0032 │    0.9210 │     0.9995 │\n",
            "├────────────┼────────┼───────────┼────────────┤\n",
            "│ test       │ 0.0026 │    0.9378 │     0.9995 │\n",
            "╘════════════╧════════╧═══════════╧════════════╛\n",
            "INFO:ludwig.trainers.trainer_lightgbm:╒════════════╤════════╕\n",
            "│ combined   │   loss │\n",
            "╞════════════╪════════╡\n",
            "│ train      │ 0.0023 │\n",
            "├────────────┼────────┤\n",
            "│ validation │ 0.0032 │\n",
            "├────────────┼────────┤\n",
            "│ test       │ 0.0026 │\n",
            "╘════════════╧════════╛\n",
            "INFO:ludwig.trainers.trainer_lightgbm:Validation loss on combined improved, model saved.\n",
            "\n"
          ]
        },
        {
          "name": "stdout",
          "output_type": "stream",
          "text": [
            "\n",
            "Training until validation scores don't improve for 50 rounds\n",
            "Did not meet early stopping. Best iteration is:\n",
            "[200]\ttrain's binary_logloss: 0.0020226\tvalidation's binary_logloss: 0.00315434\ttest's binary_logloss: 0.0024874\n",
            "\n",
            "Training:  67%|██████▋   | 200/300 [00:32<00:18,  5.37it/s]\u001b[A"
          ]
        },
        {
          "name": "stderr",
          "output_type": "stream",
          "text": [
            "INFO:ludwig.trainers.trainer_lightgbm:\n",
            "Running evaluation for step: 200, epoch: 3\n"
          ]
        },
        {
          "name": "stdout",
          "output_type": "stream",
          "text": [
            "Evaluation valid: 100%|██████████| 28/28 [00:02<00:00, 13.37it/s]\n",
            "Evaluation test : 100%|██████████| 56/56 [00:04<00:00, 12.99it/s]"
          ]
        },
        {
          "name": "stderr",
          "output_type": "stream",
          "text": [
            "INFO:ludwig.trainers.trainer_lightgbm:╒════════════╤════════╤═══════════╤════════════╕\n",
            "│ Class      │   loss │   roc_auc │   accuracy │\n",
            "╞════════════╪════════╪═══════════╪════════════╡\n",
            "│ train      │ 0.0020 │           │            │\n",
            "├────────────┼────────┼───────────┼────────────┤\n",
            "│ validation │ 0.0031 │    0.9210 │     0.9996 │\n",
            "├────────────┼────────┼───────────┼────────────┤\n",
            "│ test       │ 0.0025 │    0.9378 │     0.9995 │\n",
            "╘════════════╧════════╧═══════════╧════════════╛\n",
            "INFO:ludwig.trainers.trainer_lightgbm:╒════════════╤════════╕\n",
            "│ combined   │   loss │\n",
            "╞════════════╪════════╡\n",
            "│ train      │ 0.0020 │\n",
            "├────────────┼────────┤\n",
            "│ validation │ 0.0031 │\n",
            "├────────────┼────────┤\n",
            "│ test       │ 0.0025 │\n",
            "╘════════════╧════════╛\n",
            "INFO:ludwig.trainers.trainer_lightgbm:Validation loss on combined improved, model saved.\n",
            "\n"
          ]
        },
        {
          "name": "stdout",
          "output_type": "stream",
          "text": [
            "\n",
            "Training until validation scores don't improve for 50 rounds\n",
            "Did not meet early stopping. Best iteration is:\n",
            "[250]\ttrain's binary_logloss: 0.00179806\tvalidation's binary_logloss: 0.00311817\ttest's binary_logloss: 0.00239345\n",
            "\n",
            "Training:  83%|████████▎ | 250/300 [00:47<00:11,  4.38it/s]\u001b[A"
          ]
        },
        {
          "name": "stderr",
          "output_type": "stream",
          "text": [
            "INFO:ludwig.trainers.trainer_lightgbm:\n",
            "Running evaluation for step: 250, epoch: 4\n"
          ]
        },
        {
          "name": "stdout",
          "output_type": "stream",
          "text": [
            "Evaluation valid: 100%|██████████| 28/28 [00:02<00:00, 10.16it/s]\n",
            "Evaluation test : 100%|██████████| 56/56 [00:06<00:00,  8.37it/s]"
          ]
        },
        {
          "name": "stderr",
          "output_type": "stream",
          "text": [
            "INFO:ludwig.trainers.trainer_lightgbm:╒════════════╤════════╤═══════════╤════════════╕\n",
            "│ Class      │   loss │   roc_auc │   accuracy │\n",
            "╞════════════╪════════╪═══════════╪════════════╡\n",
            "│ train      │ 0.0018 │           │            │\n",
            "├────────────┼────────┼───────────┼────────────┤\n",
            "│ validation │ 0.0031 │    0.9210 │     0.9996 │\n",
            "├────────────┼────────┼───────────┼────────────┤\n",
            "│ test       │ 0.0024 │    0.9429 │     0.9995 │\n",
            "╘════════════╧════════╧═══════════╧════════════╛\n",
            "INFO:ludwig.trainers.trainer_lightgbm:╒════════════╤════════╕\n",
            "│ combined   │   loss │\n",
            "╞════════════╪════════╡\n",
            "│ train      │ 0.0018 │\n",
            "├────────────┼────────┤\n",
            "│ validation │ 0.0031 │\n",
            "├────────────┼────────┤\n",
            "│ test       │ 0.0024 │\n",
            "╘════════════╧════════╛\n",
            "INFO:ludwig.trainers.trainer_lightgbm:Validation loss on combined improved, model saved.\n",
            "\n"
          ]
        },
        {
          "name": "stdout",
          "output_type": "stream",
          "text": [
            "\n",
            "Training until validation scores don't improve for 50 rounds\n",
            "Did not meet early stopping. Best iteration is:\n",
            "[300]\ttrain's binary_logloss: 0.00160972\tvalidation's binary_logloss: 0.00310636\ttest's binary_logloss: 0.00234607\n",
            "\n",
            "Training: 100%|██████████| 300/300 [01:08<00:00,  3.42it/s]\u001b[A"
          ]
        },
        {
          "name": "stderr",
          "output_type": "stream",
          "text": [
            "INFO:ludwig.trainers.trainer_lightgbm:\n",
            "Running evaluation for step: 300, epoch: 5\n"
          ]
        },
        {
          "name": "stdout",
          "output_type": "stream",
          "text": [
            "Evaluation valid: 100%|██████████| 28/28 [00:03<00:00,  8.01it/s]\n",
            "Evaluation test : 100%|██████████| 56/56 [00:07<00:00,  7.90it/s]"
          ]
        },
        {
          "name": "stderr",
          "output_type": "stream",
          "text": [
            "INFO:ludwig.trainers.trainer_lightgbm:╒════════════╤════════╤═══════════╤════════════╕\n",
            "│ Class      │   loss │   roc_auc │   accuracy │\n",
            "╞════════════╪════════╪═══════════╪════════════╡\n",
            "│ train      │ 0.0016 │           │            │\n",
            "├────────────┼────────┼───────────┼────────────┤\n",
            "│ validation │ 0.0031 │    0.9211 │     0.9996 │\n",
            "├────────────┼────────┼───────────┼────────────┤\n",
            "│ test       │ 0.0023 │    0.9430 │     0.9995 │\n",
            "╘════════════╧════════╧═══════════╧════════════╛\n",
            "INFO:ludwig.trainers.trainer_lightgbm:╒════════════╤════════╕\n",
            "│ combined   │   loss │\n",
            "╞════════════╪════════╡\n",
            "│ train      │ 0.0016 │\n",
            "├────────────┼────────┤\n",
            "│ validation │ 0.0031 │\n",
            "├────────────┼────────┤\n",
            "│ test       │ 0.0023 │\n",
            "╘════════════╧════════╛\n",
            "INFO:ludwig.trainers.trainer_lightgbm:Validation loss on combined improved, model saved.\n",
            "\n"
          ]
        },
        {
          "name": "stdout",
          "output_type": "stream",
          "text": [
            "\n",
            "Training: 100%|██████████| 300/300 [01:20<00:00,  3.74it/s]"
          ]
        },
        {
          "name": "stderr",
          "output_type": "stream",
          "text": [
            "INFO:ludwig.utils.print_utils:\n",
            "INFO:ludwig.utils.print_utils:╒═════════════════╕\n",
            "INFO:ludwig.utils.print_utils:│ TRAINING REPORT │\n",
            "INFO:ludwig.utils.print_utils:╘═════════════════╛\n",
            "INFO:ludwig.utils.print_utils:\n",
            "INFO:ludwig.api:╒══════════════════════════════╤═══════════════════════╕\n",
            "│ Validation feature           │ combined              │\n",
            "├──────────────────────────────┼───────────────────────┤\n",
            "│ Validation metric            │ loss                  │\n",
            "├──────────────────────────────┼───────────────────────┤\n",
            "│ Best model step              │ 300                   │\n",
            "├──────────────────────────────┼───────────────────────┤\n",
            "│ Best model epoch             │ 6                     │\n",
            "├──────────────────────────────┼───────────────────────┤\n",
            "│ Best model's validation loss │ 0.0030890759080648422 │\n",
            "├──────────────────────────────┼───────────────────────┤\n",
            "│ Best model's test loss       │ 0.002332845004275441  │\n",
            "╘══════════════════════════════╧═══════════════════════╛\n",
            "INFO:ludwig.api:\n",
            "Finished: api_experiment_run\n",
            "INFO:ludwig.api:Saved to: /content/results/api_experiment_run_5\n",
            "INFO:ludwig.utils.print_utils:\n",
            "INFO:ludwig.utils.print_utils:╒══════════╕\n",
            "INFO:ludwig.utils.print_utils:│ FINISHED │\n",
            "INFO:ludwig.utils.print_utils:╘══════════╛\n",
            "INFO:ludwig.utils.print_utils:\n"
          ]
        },
        {
          "name": "stdout",
          "output_type": "stream",
          "text": [
            "\n"
          ]
        }
      ],
      "source": [
        "import logging\n",
        "from ludwig.api import LudwigModel\n",
        "\n",
        "model = LudwigModel(config, logging_level=logging.INFO)\n",
        "train_stats, preprocessed_data, output_directory = model.train(df)"
      ]
    },
    {
      "cell_type": "markdown",
      "metadata": {
        "id": "3QIJ_E8E2ZSk"
      },
      "source": [
        "## Evaluation\n",
        "Once the training is complete, we can evaluate the performance of our model using the `model.evaluate` command:"
      ]
    },
    {
      "cell_type": "code",
      "execution_count": 20,
      "metadata": {
        "id": "ATHm01g_zxYA"
      },
      "outputs": [],
      "source": [
        "model.set_logging_level(logging.ERROR)\n",
        "\n",
        "train, valid, test, metadata = preprocessed_data\n",
        "evaluation_statistics, predictions, output_directory = model.evaluate(test, collect_overall_stats=True)"
      ]
    },
    {
      "cell_type": "markdown",
      "metadata": {
        "id": "DdX0bqocEGme"
      },
      "source": [
        "ROC AUC"
      ]
    },
    {
      "cell_type": "code",
      "execution_count": 21,
      "metadata": {
        "colab": {
          "base_uri": "https://localhost:8080/"
        },
        "id": "Ixf4r_9_42nq",
        "outputId": "833bfe4f-a9df-4dce-e6ee-d7e00474e757"
      },
      "outputs": [
        {
          "data": {
            "text/plain": [
              "0.9429567456245422"
            ]
          },
          "execution_count": 21,
          "metadata": {},
          "output_type": "execute_result"
        }
      ],
      "source": [
        "evaluation_statistics['Class'][\"roc_auc\"]"
      ]
    },
    {
      "cell_type": "markdown",
      "metadata": {
        "id": "C6OJ6D8_EH_Y"
      },
      "source": [
        "Accuracy"
      ]
    },
    {
      "cell_type": "code",
      "execution_count": 22,
      "metadata": {
        "colab": {
          "base_uri": "https://localhost:8080/"
        },
        "id": "8-T051iA5E1i",
        "outputId": "095dd0a7-83d1-4858-c1b1-9036f3b26e75"
      },
      "outputs": [
        {
          "data": {
            "text/plain": [
              "0.9995435476303101"
            ]
          },
          "execution_count": 22,
          "metadata": {},
          "output_type": "execute_result"
        }
      ],
      "source": [
        "evaluation_statistics['Class'][\"accuracy\"]"
      ]
    },
    {
      "cell_type": "markdown",
      "metadata": {
        "id": "SZRJCNl_EKEy"
      },
      "source": [
        "Precision, recall and F1"
      ]
    },
    {
      "cell_type": "code",
      "execution_count": 23,
      "metadata": {
        "colab": {
          "base_uri": "https://localhost:8080/"
        },
        "id": "q7X4_G1K5CQt",
        "outputId": "a9e2cae8-6b9a-4760-c2bc-4aea6e44b90d"
      },
      "outputs": [
        {
          "data": {
            "text/plain": [
              "{'token_accuracy': 0.9995435633656935,\n",
              " 'avg_precision_macro': 0.9689512098036177,\n",
              " 'avg_recall_macro': 0.8917086143188491,\n",
              " 'avg_f1_score_macro': 0.9268520044110913,\n",
              " 'avg_precision_micro': 0.9995435633656935,\n",
              " 'avg_recall_micro': 0.9995435633656935,\n",
              " 'avg_f1_score_micro': 0.9995435633656935,\n",
              " 'avg_precision_weighted': 0.9995435633656935,\n",
              " 'avg_recall_weighted': 0.9995435633656935,\n",
              " 'avg_f1_score_weighted': 0.9995230814612599,\n",
              " 'kappa_score': 0.8537058585299842}"
            ]
          },
          "execution_count": 23,
          "metadata": {},
          "output_type": "execute_result"
        }
      ],
      "source": [
        "evaluation_statistics['Class'][\"overall_stats\"]"
      ]
    },
    {
      "cell_type": "markdown",
      "metadata": {
        "id": "P7oVO41g3_C6"
      },
      "source": [
        "### Visualization\n",
        "In addition to evaluating the performance of our model with metrics such as accuracy, precision, and recall, it can also be helpful to visualize the results of our model. Ludwig provides several options for visualizing the results of our model, including confusion matrices and ROC curves."
      ]
    },
    {
      "cell_type": "code",
      "execution_count": 3,
      "metadata": {
        "id": "DgwGqf3t3-0d"
      },
      "outputs": [],
      "source": [
        "from ludwig import visualize"
      ]
    },
    {
      "cell_type": "markdown",
      "metadata": {
        "id": "EtjChFs7EW3C"
      },
      "source": [
        "We can use the `visualize.confusion_matrix` function from Ludwig to create a confusion matrix, which shows the number of true positive, true negative, false positive, and false negative predictions made by our model. To do this, we can use the following code, which will display a confusion matrix plot showing the performance of our model."
      ]
    },
    {
      "cell_type": "code",
      "execution_count": 25,
      "metadata": {
        "colab": {
          "base_uri": "https://localhost:8080/",
          "height": 668
        },
        "id": "CA8BVP112gCW",
        "outputId": "4de7cd1d-76d2-4473-955f-6391653f0e7d"
      },
      "outputs": [
        {
          "name": "stderr",
          "output_type": "stream",
          "text": [
            "/usr/local/lib/python3.8/dist-packages/ludwig/utils/visualization_utils.py:1058: UserWarning: FixedFormatter should only be used together with FixedLocator\n",
            "  ax.set_xticklabels([\"\"] + labels, rotation=45, ha=\"left\")\n",
            "/usr/local/lib/python3.8/dist-packages/ludwig/utils/visualization_utils.py:1059: UserWarning: FixedFormatter should only be used together with FixedLocator\n",
            "  ax.set_yticklabels([\"\"] + labels)\n"
          ]
        },
        {
          "data": {
            "image/png": "[encoded data removed]",
            "text/plain": [
              "<Figure size 432x288 with 2 Axes>"
            ]
          },
          "metadata": {},
          "output_type": "display_data"
        },
        {
          "data": {
            "image/png": "[encoded data removed]",
            "text/plain": [
              "<Figure size 432x288 with 1 Axes>"
            ]
          },
          "metadata": {},
          "output_type": "display_data"
        }
      ],
      "source": [
        "visualize.confusion_matrix(\n",
        "    [evaluation_statistics],\n",
        "    model.training_set_metadata,\n",
        "    'Class',\n",
        "    top_n_classes=[2],\n",
        "    model_names=[''],\n",
        "    normalize=True\n",
        ")"
      ]
    },
    {
      "cell_type": "markdown",
      "metadata": {
        "id": "WbrrSrGIEnLh"
      },
      "source": [
        "We can also create an ROC curve, which plots the true positive rate against the false positive rate at different classification thresholds. To do this, we can use the following code:"
      ]
    },
    {
      "cell_type": "code",
      "execution_count": 31,
      "metadata": {
        "colab": {
          "base_uri": "https://localhost:8080/",
          "height": 297
        },
        "id": "zwXpYJY07_mT",
        "outputId": "68a077c7-d933-4f3c-d072-c28836bb2870"
      },
      "outputs": [
        {
          "data": {
            "image/png": "[encoded data removed]",
            "text/plain": [
              "<Figure size 432x288 with 1 Axes>"
            ]
          },
          "metadata": {},
          "output_type": "display_data"
        }
      ],
      "source": [
        "visualize.roc_curves(\n",
        "    [predictions['Class_probabilities']],\n",
        "    test.to_df()['Class_mZFLky'],\n",
        "    test.to_df(),\n",
        "    'Class_mZFLky',\n",
        "    '1',\n",
        "    model_names=[\"Credit Card Fraud\"],\n",
        "    output_directory='visualization',\n",
        "    file_format='png'\n",
        ")"
      ]
    },
    {
      "cell_type": "markdown",
      "metadata": {
        "id": "FWMyCy4nErx2"
      },
      "source": [
        "We hope these visualizations have been helpful in understanding the performance of our GBM model for detecting credit card fraud. For more information on the various visualization options available in Ludwig, please refer to the [documentation](https://ludwig.ai/latest/user_guide/api/visualization/)."
      ]
    },
    {
      "cell_type": "markdown",
      "metadata": {
        "id": "y-3HuIzzFSAi"
      },
      "source": [
        "\n",
        "\n",
        "---\n",
        "\n",
        "Thank you for following along with our tutorial on training a GBM model on the credit card fraud dataset. We hope that you found the tutorial helpful and gained a better understanding of how to use GBM models in your own machine learning projects. \n",
        "\n",
        "If you have any questions or feedback, please feel free to reach out to our [community](https://ludwig.ai/latest/community/)!\n"
      ]
    }
  ],
  "metadata": {
    "colab": {
      "provenance": []
    },
    "kernelspec": {
      "display_name": "Python 3.8.16 64-bit",
      "language": "python",
      "name": "python3"
    },
    "language_info": {
      "name": "python",
      "version": "3.8.16"
    },
    "vscode": {
      "interpreter": {
        "hash": "949777d72b0d2535278d3dc13498b2535136f6dfe0678499012e853ee9abcab1"
      }
    }
  },
  "nbformat": 4,
  "nbformat_minor": 0
}
