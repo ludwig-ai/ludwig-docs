{
  "cells": [
    {
      "cell_type": "markdown",
      "metadata": {
        "id": "dqW_BZ60kyWP"
      },
      "source": [
        "# LLM fine-tuning for Text Classification with AG's News Topics - Python API\n",
        "\n",
        "*We recommend using a GPU runtime for this example. In the Colab menu bar, choose **Runtime** > **Change Runtime Type** and choose **GPU** under Hardware Accelerator.*"
      ]
    },
    {
      "cell_type": "code",
      "execution_count": 10,
      "metadata": {
        "colab": {
          "base_uri": "https://localhost:8080/"
        },
        "id": "FczUptADgreZ",
        "outputId": "b7836f94-fdd2-44a6-ac7f-851cbd93981c"
      },
      "outputs": [
        {
          "output_type": "stream",
          "name": "stdout",
          "text": [
            "\u001b[33mWARNING: Skipping tensorflow as it is not installed.\u001b[0m\u001b[33m\n",
            "\u001b[0m  Installing build dependencies ... \u001b[?25l\u001b[?25hdone\n",
            "  Getting requirements to build wheel ... \u001b[?25l\u001b[?25hdone\n",
            "  Preparing metadata (pyproject.toml) ... \u001b[?25l\u001b[?25hdone\n"
          ]
        }
      ],
      "source": [
        "# Prerequisite: Installs the latest version of Ludwig in the Colab environment\n",
        "!pip uninstall -y tensorflow --quiet\n",
        "!python -m pip install git+https://github.com/ludwig-ai/ludwig.git --quiet\n",
        "!python -m pip install ptitprince --quiet"
      ]
    },
    {
      "cell_type": "markdown",
      "metadata": {
        "id": "zYOMqI9UiBpz"
      },
      "source": [
        "# Download Dataset\n",
        "\n",
        "We'll be using AG's news topic classification dataset, a common benchmark dataset for text classification. This dataset is a subset of the full AG news dataset, constructed by choosing 4 largest classes from the original corpus. Each class contains 30,000 training samples and 1,900 testing samples. The total number of training samples is 120,000 and testing 7,600.\n",
        "\n",
        "\n",
        "This dataset contains four columns:\n",
        "\n",
        "| column      | description                                                |\n",
        "|-------------|------------------------------------------------------------|\n",
        "| class_index | integer 1-4 corresponding to \"world\", \"sports\", \"business\", \"sci_tech\" respectively |\n",
        "| class       | The topic label, one of \"world\", \"sports\", \"business\", \"sci_tech\" |\n",
        "| title       | Title of the news article                                  |\n",
        "| description | Description of the news article                            |\n"
      ]
    },
    {
      "cell_type": "code",
      "execution_count": 2,
      "metadata": {
        "colab": {
          "base_uri": "https://localhost:8080/",
          "height": 242
        },
        "id": "5vmJL7v1iAdM",
        "outputId": "6c4721e7-adf3-441f-8efe-460348f5e2da"
      },
      "outputs": [
        {
          "output_type": "stream",
          "name": "stderr",
          "text": [
            "train.csv: 28.1MB [00:00, 30.6MB/s]                            \n",
            "test.csv: 1.77MB [00:00, 6.10MB/s]                            \n"
          ]
        },
        {
          "output_type": "execute_result",
          "data": {
            "text/plain": [
              "      class_index                                              title  \\\n",
              "4059            4                News: DIY phishing kits hit the Net   \n",
              "4080            4  Two NCSSM students win national team science c...   \n",
              "4108            4     Web Sites Agree to Be Accessible to Blind (AP)   \n",
              "4109            4  European Winters Could Disappear by 2080 - Rep...   \n",
              "4110            4                Charter Schools and Testing Collide   \n",
              "\n",
              "                                            description     class  \n",
              "4059  Do-it-yourself phishing kits are being made av...  sci_tech  \n",
              "4080  Two students at the Durham NC School of Scienc...  sci_tech  \n",
              "4108  AP - In one of the first enforcement actions o...  sci_tech  \n",
              "4109  Reuters - Europe is warming up\\more quickly th...  sci_tech  \n",
              "4110  The education policy of the Bush administratio...  sci_tech  "
            ],
            "text/html": [
              "\n",
              "  <div id=\"df-15ff2597-b80f-44e3-bb70-228f9eaa19fe\">\n",
              "    <div class=\"colab-df-container\">\n",
              "      <div>\n",
              "<style scoped>\n",
              "    .dataframe tbody tr th:only-of-type {\n",
              "        vertical-align: middle;\n",
              "    }\n",
              "\n",
              "    .dataframe tbody tr th {\n",
              "        vertical-align: top;\n",
              "    }\n",
              "\n",
              "    .dataframe thead th {\n",
              "        text-align: right;\n",
              "    }\n",
              "</style>\n",
              "<table border=\"1\" class=\"dataframe\">\n",
              "  <thead>\n",
              "    <tr style=\"text-align: right;\">\n",
              "      <th></th>\n",
              "      <th>class_index</th>\n",
              "      <th>title</th>\n",
              "      <th>description</th>\n",
              "      <th>class</th>\n",
              "    </tr>\n",
              "  </thead>\n",
              "  <tbody>\n",
              "    <tr>\n",
              "      <th>4059</th>\n",
              "      <td>4</td>\n",
              "      <td>News: DIY phishing kits hit the Net</td>\n",
              "      <td>Do-it-yourself phishing kits are being made av...</td>\n",
              "      <td>sci_tech</td>\n",
              "    </tr>\n",
              "    <tr>\n",
              "      <th>4080</th>\n",
              "      <td>4</td>\n",
              "      <td>Two NCSSM students win national team science c...</td>\n",
              "      <td>Two students at the Durham NC School of Scienc...</td>\n",
              "      <td>sci_tech</td>\n",
              "    </tr>\n",
              "    <tr>\n",
              "      <th>4108</th>\n",
              "      <td>4</td>\n",
              "      <td>Web Sites Agree to Be Accessible to Blind (AP)</td>\n",
              "      <td>AP - In one of the first enforcement actions o...</td>\n",
              "      <td>sci_tech</td>\n",
              "    </tr>\n",
              "    <tr>\n",
              "      <th>4109</th>\n",
              "      <td>4</td>\n",
              "      <td>European Winters Could Disappear by 2080 - Rep...</td>\n",
              "      <td>Reuters - Europe is warming up\\more quickly th...</td>\n",
              "      <td>sci_tech</td>\n",
              "    </tr>\n",
              "    <tr>\n",
              "      <th>4110</th>\n",
              "      <td>4</td>\n",
              "      <td>Charter Schools and Testing Collide</td>\n",
              "      <td>The education policy of the Bush administratio...</td>\n",
              "      <td>sci_tech</td>\n",
              "    </tr>\n",
              "  </tbody>\n",
              "</table>\n",
              "</div>\n",
              "      <button class=\"colab-df-convert\" onclick=\"convertToInteractive('df-15ff2597-b80f-44e3-bb70-228f9eaa19fe')\"\n",
              "              title=\"Convert this dataframe to an interactive table.\"\n",
              "              style=\"display:none;\">\n",
              "        \n",
              "  <svg xmlns=\"http://www.w3.org/2000/svg\" height=\"24px\"viewBox=\"0 0 24 24\"\n",
              "       width=\"24px\">\n",
              "    <path d=\"M0 0h24v24H0V0z\" fill=\"none\"/>\n",
              "    <path d=\"M18.56 5.44l.94 2.06.94-2.06 2.06-.94-2.06-.94-.94-2.06-.94 2.06-2.06.94zm-11 1L8.5 8.5l.94-2.06 2.06-.94-2.06-.94L8.5 2.5l-.94 2.06-2.06.94zm10 10l.94 2.06.94-2.06 2.06-.94-2.06-.94-.94-2.06-.94 2.06-2.06.94z\"/><path d=\"M17.41 7.96l-1.37-1.37c-.4-.4-.92-.59-1.43-.59-.52 0-1.04.2-1.43.59L10.3 9.45l-7.72 7.72c-.78.78-.78 2.05 0 2.83L4 21.41c.39.39.9.59 1.41.59.51 0 1.02-.2 1.41-.59l7.78-7.78 2.81-2.81c.8-.78.8-2.07 0-2.86zM5.41 20L4 18.59l7.72-7.72 1.47 1.35L5.41 20z\"/>\n",
              "  </svg>\n",
              "      </button>\n",
              "      \n",
              "  <style>\n",
              "    .colab-df-container {\n",
              "      display:flex;\n",
              "      flex-wrap:wrap;\n",
              "      gap: 12px;\n",
              "    }\n",
              "\n",
              "    .colab-df-convert {\n",
              "      background-color: #E8F0FE;\n",
              "      border: none;\n",
              "      border-radius: 50%;\n",
              "      cursor: pointer;\n",
              "      display: none;\n",
              "      fill: #1967D2;\n",
              "      height: 32px;\n",
              "      padding: 0 0 0 0;\n",
              "      width: 32px;\n",
              "    }\n",
              "\n",
              "    .colab-df-convert:hover {\n",
              "      background-color: #E2EBFA;\n",
              "      box-shadow: 0px 1px 2px rgba(60, 64, 67, 0.3), 0px 1px 3px 1px rgba(60, 64, 67, 0.15);\n",
              "      fill: #174EA6;\n",
              "    }\n",
              "\n",
              "    [theme=dark] .colab-df-convert {\n",
              "      background-color: #3B4455;\n",
              "      fill: #D2E3FC;\n",
              "    }\n",
              "\n",
              "    [theme=dark] .colab-df-convert:hover {\n",
              "      background-color: #434B5C;\n",
              "      box-shadow: 0px 1px 3px 1px rgba(0, 0, 0, 0.15);\n",
              "      filter: drop-shadow(0px 1px 2px rgba(0, 0, 0, 0.3));\n",
              "      fill: #FFFFFF;\n",
              "    }\n",
              "  </style>\n",
              "\n",
              "      <script>\n",
              "        const buttonEl =\n",
              "          document.querySelector('#df-15ff2597-b80f-44e3-bb70-228f9eaa19fe button.colab-df-convert');\n",
              "        buttonEl.style.display =\n",
              "          google.colab.kernel.accessAllowed ? 'block' : 'none';\n",
              "\n",
              "        async function convertToInteractive(key) {\n",
              "          const element = document.querySelector('#df-15ff2597-b80f-44e3-bb70-228f9eaa19fe');\n",
              "          const dataTable =\n",
              "            await google.colab.kernel.invokeFunction('convertToInteractive',\n",
              "                                                     [key], {});\n",
              "          if (!dataTable) return;\n",
              "\n",
              "          const docLinkHtml = 'Like what you see? Visit the ' +\n",
              "            '<a target=\"_blank\" href=https://colab.research.google.com/notebooks/data_table.ipynb>data table notebook</a>'\n",
              "            + ' to learn more about interactive tables.';\n",
              "          element.innerHTML = '';\n",
              "          dataTable['output_type'] = 'display_data';\n",
              "          await google.colab.output.renderOutput(dataTable, element);\n",
              "          const docLink = document.createElement('div');\n",
              "          docLink.innerHTML = docLinkHtml;\n",
              "          element.appendChild(docLink);\n",
              "        }\n",
              "      </script>\n",
              "    </div>\n",
              "  </div>\n",
              "  "
            ]
          },
          "metadata": {},
          "execution_count": 2
        }
      ],
      "source": [
        "from ludwig.datasets import agnews\n",
        "\n",
        "# Loads the dataset as a pandas.DataFrame\n",
        "train_df, test_df, _ = agnews.load(split=True)\n",
        "\n",
        "# Prints a preview of the first five rows.\n",
        "train_df.head(5)"
      ]
    },
    {
      "cell_type": "markdown",
      "metadata": {
        "id": "vtSyZji4C-7t"
      },
      "source": [
        "# Train"
      ]
    },
    {
      "cell_type": "markdown",
      "metadata": {
        "id": "m-7NypeYh2hb"
      },
      "source": [
        "## Define ludwig config\n",
        "\n",
        "The Ludwig config declares the machine learning task. It tells Ludwig what to predict, what columns to use as input, and optionally specifies the model type and hyperparameters.\n",
        "\n",
        "Here, for simplicity, we'll try to predict **class** from **title**."
      ]
    },
    {
      "cell_type": "markdown",
      "source": [
        "## Train with Ludwig defaults"
      ],
      "metadata": {
        "id": "toN1m8dr9ASA"
      }
    },
    {
      "cell_type": "code",
      "source": [
        "import logging\n",
        "from ludwig.api import LudwigModel\n",
        "\n",
        "config = {\n",
        "  \"input_features\": [\n",
        "    {\n",
        "      \"name\": \"title\",    # The name of the input column\n",
        "      \"type\": \"text\",     # Data type of the input column                            \n",
        "    },\n",
        "    {\n",
        "      \"name\": \"description\",    # The name of the input column\n",
        "      \"type\": \"text\",     # Data type of the input column\n",
        "      \"tied\": \"title\",                           \n",
        "    }\n",
        "  ],\n",
        "  \"output_features\": [\n",
        "    {\n",
        "      \"name\": \"class\",\n",
        "      \"type\": \"category\",\n",
        "    }\n",
        "  ],\n",
        "  \"trainer\": {\n",
        "    \"epochs\": 20,\n",
        "  }\n",
        "}\n",
        "\n",
        "model = LudwigModel(config, logging_level=logging.INFO)\n",
        "train_stats, preprocessed_data, output_directory = model.train(dataset=train_df)"
      ],
      "metadata": {
        "colab": {
          "base_uri": "https://localhost:8080/"
        },
        "id": "Sr6LuRWZ9D8C",
        "outputId": "c0909573-18f1-4b27-f4cf-5b446b3e73cb"
      },
      "execution_count": 3,
      "outputs": [
        {
          "output_type": "stream",
          "name": "stderr",
          "text": [
            "INFO:ludwig.utils.print_utils:\n",
            "INFO:ludwig.utils.print_utils:╒════════════════════════╕\n",
            "INFO:ludwig.utils.print_utils:│ EXPERIMENT DESCRIPTION │\n",
            "INFO:ludwig.utils.print_utils:╘════════════════════════╛\n",
            "INFO:ludwig.utils.print_utils:\n",
            "INFO:ludwig.api:╒══════════════════╤═════════════════════════════════════════════════════════════════════════════════════════╕\n",
            "│ Experiment name  │ api_experiment                                                                          │\n",
            "├──────────────────┼─────────────────────────────────────────────────────────────────────────────────────────┤\n",
            "│ Model name       │ run                                                                                     │\n",
            "├──────────────────┼─────────────────────────────────────────────────────────────────────────────────────────┤\n",
            "│ Output directory │ /content/results/api_experiment_run                                                     │\n",
            "├──────────────────┼─────────────────────────────────────────────────────────────────────────────────────────┤\n",
            "│ ludwig_version   │ '0.8.dev'                                                                               │\n",
            "├──────────────────┼─────────────────────────────────────────────────────────────────────────────────────────┤\n",
            "│ command          │ ('/usr/local/lib/python3.9/dist-packages/ipykernel_launcher.py -f '                     │\n",
            "│                  │  '/root/.local/share/jupyter/runtime/kernel-6f320aa7-2020-4b94-8cef-40c8dfa3eb61.json') │\n",
            "├──────────────────┼─────────────────────────────────────────────────────────────────────────────────────────┤\n",
            "│ random_seed      │ 42                                                                                      │\n",
            "├──────────────────┼─────────────────────────────────────────────────────────────────────────────────────────┤\n",
            "│ data_format      │ \"<class 'pandas.core.frame.DataFrame'>\"                                                 │\n",
            "├──────────────────┼─────────────────────────────────────────────────────────────────────────────────────────┤\n",
            "│ torch_version    │ '2.0.0+cu118'                                                                           │\n",
            "├──────────────────┼─────────────────────────────────────────────────────────────────────────────────────────┤\n",
            "│ compute          │ {'gpu_type': 'Tesla T4', 'gpus_per_node': 1, 'num_nodes': 1}                            │\n",
            "╘══════════════════╧═════════════════════════════════════════════════════════════════════════════════════════╛\n",
            "INFO:ludwig.utils.print_utils:\n",
            "INFO:ludwig.utils.print_utils:╒═══════════════╕\n",
            "INFO:ludwig.utils.print_utils:│ LUDWIG CONFIG │\n",
            "INFO:ludwig.utils.print_utils:╘═══════════════╛\n",
            "INFO:ludwig.utils.print_utils:\n",
            "INFO:ludwig.api:User-specified config (with upgrades):\n",
            "\n",
            "INFO:ludwig.api:{   'input_features': [   {'name': 'title', 'type': 'text'},\n",
            "                          {   'name': 'description',\n",
            "                              'tied': 'title',\n",
            "                              'type': 'text'}],\n",
            "    'ludwig_version': '0.8.dev',\n",
            "    'output_features': [{'name': 'class', 'type': 'category'}],\n",
            "    'trainer': {'epochs': 20}}\n",
            "INFO:ludwig.api:\n",
            "Full config saved to:\n",
            "/content/results/api_experiment_run/api_experiment/model/model_hyperparameters.json\n",
            "INFO:ludwig.utils.print_utils:\n",
            "INFO:ludwig.utils.print_utils:╒═══════════════╕\n",
            "INFO:ludwig.utils.print_utils:│ PREPROCESSING │\n",
            "INFO:ludwig.utils.print_utils:╘═══════════════╛\n",
            "INFO:ludwig.utils.print_utils:\n",
            "INFO:ludwig.data.preprocessing:No cached dataset found at /content/940a359ad27a11ed8a1d0242ac1c000c.training.hdf5. Preprocessing the dataset.\n",
            "INFO:ludwig.data.preprocessing:Using full dataframe\n",
            "INFO:ludwig.data.preprocessing:Building dataset (it may take a while)\n",
            "INFO:ludwig.features.text_feature:Max length of feature 'title': 44 (without start and stop symbols)\n",
            "INFO:ludwig.features.text_feature:Setting max length using dataset: 46 (including start and stop symbols)\n",
            "INFO:ludwig.features.text_feature:max sequence length is 46 for feature 'title'\n",
            "INFO:ludwig.features.text_feature:Max length of feature 'description': 309 (without start and stop symbols)\n",
            "INFO:ludwig.features.text_feature:Setting max length using dataset: 311 (including start and stop symbols)\n",
            "INFO:ludwig.features.text_feature:Truncating max length with max_sequence_length=256 from preprocessing parameters\n",
            "INFO:ludwig.features.text_feature:max sequence length is 256 for feature 'description'\n",
            "INFO:ludwig.data.preprocessing:Building dataset: DONE\n",
            "INFO:ludwig.data.cache.manager:Writing preprocessed training set cache to /content/940a359ad27a11ed8a1d0242ac1c000c.training.hdf5\n",
            "INFO:ludwig.data.cache.manager:Writing preprocessed validation set cache to /content/940a359ad27a11ed8a1d0242ac1c000c.validation.hdf5\n",
            "INFO:ludwig.data.cache.manager:Writing preprocessed test set cache to /content/940a359ad27a11ed8a1d0242ac1c000c.test.hdf5\n",
            "INFO:ludwig.data.cache.manager:Writing train set metadata to /content/940a359ad27a11ed8a1d0242ac1c000c.meta.json\n",
            "INFO:ludwig.api:\n",
            "Dataset Statistics\n",
            "INFO:ludwig.api:╒════════════╤═══════════════╤════════════════════╕\n",
            "│ Dataset    │   Size (Rows) │ Size (In Memory)   │\n",
            "╞════════════╪═══════════════╪════════════════════╡\n",
            "│ Training   │         80430 │ 18.49 Mb           │\n",
            "├────────────┼───────────────┼────────────────────┤\n",
            "│ Validation │         11489 │ 2.64 Mb            │\n",
            "├────────────┼───────────────┼────────────────────┤\n",
            "│ Test       │         22980 │ 5.28 Mb            │\n",
            "╘════════════╧═══════════════╧════════════════════╛\n",
            "INFO:ludwig.utils.print_utils:\n",
            "INFO:ludwig.utils.print_utils:╒═══════╕\n",
            "INFO:ludwig.utils.print_utils:│ MODEL │\n",
            "INFO:ludwig.utils.print_utils:╘═══════╛\n",
            "INFO:ludwig.utils.print_utils:\n",
            "INFO:ludwig.api:Warnings and other logs:\n",
            "/usr/local/lib/python3.9/dist-packages/torch/nn/modules/conv.py:309: UserWarning: Using padding='same' with even kernel lengths and odd dilation may require a zero-padded copy of the input be created (Triggered internally at ../aten/src/ATen/native/Convolution.cpp:1003.)\n",
            "  return F.conv1d(input, weight, bias, self.stride,\n",
            "INFO:ludwig.trainers.trainer:Tuning batch size...\n",
            "INFO:ludwig.utils.batch_size_tuner:Tuning batch size...\n",
            "INFO:ludwig.utils.batch_size_tuner:Exploring batch_size=2\n",
            "INFO:ludwig.utils.batch_size_tuner:Throughput at batch_size=2: 192.38162 samples/s\n",
            "INFO:ludwig.utils.batch_size_tuner:Exploring batch_size=4\n",
            "INFO:ludwig.utils.batch_size_tuner:Throughput at batch_size=4: 315.65787 samples/s\n",
            "INFO:ludwig.utils.batch_size_tuner:Exploring batch_size=8\n",
            "INFO:ludwig.utils.batch_size_tuner:Throughput at batch_size=8: 516.15850 samples/s\n",
            "INFO:ludwig.utils.batch_size_tuner:Exploring batch_size=16\n",
            "INFO:ludwig.utils.batch_size_tuner:Throughput at batch_size=16: 948.02599 samples/s\n",
            "INFO:ludwig.utils.batch_size_tuner:Exploring batch_size=32\n",
            "INFO:ludwig.utils.batch_size_tuner:Throughput at batch_size=32: 1457.27268 samples/s\n",
            "INFO:ludwig.utils.batch_size_tuner:Exploring batch_size=64\n",
            "INFO:ludwig.utils.batch_size_tuner:Throughput at batch_size=64: 2132.92854 samples/s\n",
            "INFO:ludwig.utils.batch_size_tuner:Exploring batch_size=128\n",
            "INFO:ludwig.utils.batch_size_tuner:Throughput at batch_size=128: 3768.57302 samples/s\n",
            "INFO:ludwig.utils.batch_size_tuner:Exploring batch_size=256\n",
            "INFO:ludwig.utils.batch_size_tuner:Throughput at batch_size=256: 5236.00263 samples/s\n",
            "INFO:ludwig.utils.batch_size_tuner:Exploring batch_size=512\n",
            "INFO:ludwig.utils.batch_size_tuner:Throughput at batch_size=512: 5634.20704 samples/s\n",
            "INFO:ludwig.utils.batch_size_tuner:Exploring batch_size=1024\n",
            "INFO:ludwig.utils.batch_size_tuner:Throughput at batch_size=1024: 5777.79118 samples/s\n",
            "INFO:ludwig.utils.batch_size_tuner:Exploring batch_size=2048\n",
            "INFO:ludwig.utils.batch_size_tuner:Throughput at batch_size=2048: 5787.79231 samples/s\n",
            "INFO:ludwig.utils.batch_size_tuner:Exploring batch_size=4096\n",
            "INFO:ludwig.utils.batch_size_tuner:Throughput at batch_size=4096: 5657.93945 samples/s\n",
            "INFO:ludwig.utils.batch_size_tuner:Throughput decrease at batch_size=4096\n",
            "INFO:ludwig.utils.batch_size_tuner:Selected batch_size=2048\n",
            "INFO:ludwig.utils.print_utils:\n",
            "INFO:ludwig.utils.print_utils:╒══════════╕\n",
            "INFO:ludwig.utils.print_utils:│ TRAINING │\n",
            "INFO:ludwig.utils.print_utils:╘══════════╛\n",
            "INFO:ludwig.utils.print_utils:\n",
            "INFO:ludwig.trainers.trainer:Creating fresh model training run.\n",
            "INFO:ludwig.trainers.trainer:Training for 800 step(s), approximately 20 epoch(s).\n",
            "INFO:ludwig.trainers.trainer:Early stopping policy: 5 round(s) of evaluation, or 200 step(s), approximately 5 epoch(s).\n",
            "\n",
            "INFO:ludwig.trainers.trainer:Starting with step 0, epoch: 0\n"
          ]
        },
        {
          "output_type": "stream",
          "name": "stdout",
          "text": [
            "Training:   5%|▌         | 40/800 [00:48<12:28,  1.01it/s]"
          ]
        },
        {
          "output_type": "stream",
          "name": "stderr",
          "text": [
            "INFO:ludwig.trainers.trainer:\n",
            "Running evaluation for step: 40, epoch: 0\n"
          ]
        },
        {
          "output_type": "stream",
          "name": "stdout",
          "text": [
            "Evaluation valid: 100%|██████████| 6/6 [00:03<00:00,  1.80it/s]\n",
            "Evaluation test : 100%|██████████| 12/12 [00:06<00:00,  1.80it/s]"
          ]
        },
        {
          "output_type": "stream",
          "name": "stderr",
          "text": [
            "INFO:ludwig.trainers.trainer:Evaluation took 10.7738s\n",
            "\n",
            "INFO:ludwig.utils.metrics_printed_table:╒════════════╤════════════╤═════════════╤════════╤═══════════╕\n",
            "│ class      │   accuracy │   hits_at_k │   loss │   roc_auc │\n",
            "╞════════════╪════════════╪═════════════╪════════╪═══════════╡\n",
            "│ train      │     0.4889 │      0.8577 │ 9.2540 │    0.6924 │\n",
            "├────────────┼────────────┼─────────────┼────────┼───────────┤\n",
            "│ validation │     0.8596 │      0.9885 │ 0.4384 │    0.9685 │\n",
            "├────────────┼────────────┼─────────────┼────────┼───────────┤\n",
            "│ test       │     0.8561 │      0.9910 │ 0.4447 │    0.9677 │\n",
            "╘════════════╧════════════╧═════════════╧════════╧═══════════╛\n",
            "INFO:ludwig.utils.metrics_printed_table:╒════════════╤════════╕\n",
            "│ combined   │   loss │\n",
            "╞════════════╪════════╡\n",
            "│ train      │ 9.2540 │\n",
            "├────────────┼────────┤\n",
            "│ validation │ 0.4384 │\n",
            "├────────────┼────────┤\n",
            "│ test       │ 0.4447 │\n",
            "╘════════════╧════════╛\n",
            "INFO:ludwig.trainers.trainer:Evaluation validation metric: 'class' 'accuracy' improved.\n",
            "INFO:ludwig.trainers.trainer:'class' 'accuracy' increased by inf.\n",
            "INFO:ludwig.trainers.trainer:New best model saved.\n",
            "\n"
          ]
        },
        {
          "output_type": "stream",
          "name": "stdout",
          "text": [
            "\n",
            "Training:  10%|█         | 80/800 [01:50<12:24,  1.03s/it]"
          ]
        },
        {
          "output_type": "stream",
          "name": "stderr",
          "text": [
            "INFO:ludwig.trainers.trainer:\n",
            "Running evaluation for step: 80, epoch: 1\n"
          ]
        },
        {
          "output_type": "stream",
          "name": "stdout",
          "text": [
            "Evaluation valid: 100%|██████████| 6/6 [00:03<00:00,  1.71it/s]\n",
            "Evaluation test : 100%|██████████| 12/12 [00:06<00:00,  1.73it/s]"
          ]
        },
        {
          "output_type": "stream",
          "name": "stderr",
          "text": [
            "INFO:ludwig.trainers.trainer:Evaluation took 10.5268s\n",
            "\n",
            "INFO:ludwig.utils.metrics_printed_table:╒════════════╤════════════╤═════════════╤════════╤═══════════╕\n",
            "│ class      │   accuracy │   hits_at_k │   loss │   roc_auc │\n",
            "╞════════════╪════════════╪═════════════╪════════╪═══════════╡\n",
            "│ train      │     0.9047 │      0.9959 │ 0.2850 │    0.9819 │\n",
            "├────────────┼────────────┼─────────────┼────────┼───────────┤\n",
            "│ validation │     0.9101 │      0.9954 │ 0.2676 │    0.9848 │\n",
            "├────────────┼────────────┼─────────────┼────────┼───────────┤\n",
            "│ test       │     0.9122 │      0.9965 │ 0.2647 │    0.9847 │\n",
            "╘════════════╧════════════╧═════════════╧════════╧═══════════╛\n",
            "INFO:ludwig.utils.metrics_printed_table:╒════════════╤════════╕\n",
            "│ combined   │   loss │\n",
            "╞════════════╪════════╡\n",
            "│ train      │ 0.2850 │\n",
            "├────────────┼────────┤\n",
            "│ validation │ 0.2676 │\n",
            "├────────────┼────────┤\n",
            "│ test       │ 0.2647 │\n",
            "╘════════════╧════════╛\n",
            "INFO:ludwig.trainers.trainer:Evaluation validation metric: 'class' 'accuracy' improved.\n",
            "INFO:ludwig.trainers.trainer:'class' 'accuracy' increased by 0.05.\n",
            "INFO:ludwig.trainers.trainer:New best model saved.\n",
            "\n"
          ]
        },
        {
          "output_type": "stream",
          "name": "stdout",
          "text": [
            "\n",
            "Training:  15%|█▌        | 120/800 [02:54<12:00,  1.06s/it]"
          ]
        },
        {
          "output_type": "stream",
          "name": "stderr",
          "text": [
            "INFO:ludwig.trainers.trainer:\n",
            "Running evaluation for step: 120, epoch: 2\n"
          ]
        },
        {
          "output_type": "stream",
          "name": "stdout",
          "text": [
            "Evaluation valid: 100%|██████████| 6/6 [00:03<00:00,  1.70it/s]\n",
            "Evaluation test : 100%|██████████| 12/12 [00:07<00:00,  1.70it/s]"
          ]
        },
        {
          "output_type": "stream",
          "name": "stderr",
          "text": [
            "INFO:ludwig.trainers.trainer:Evaluation took 10.6503s\n",
            "\n",
            "INFO:ludwig.utils.metrics_printed_table:╒════════════╤════════════╤═════════════╤════════╤═══════════╕\n",
            "│ class      │   accuracy │   hits_at_k │   loss │   roc_auc │\n",
            "╞════════════╪════════════╪═════════════╪════════╪═══════════╡\n",
            "│ train      │     0.9435 │      0.9991 │ 0.1697 │    0.9929 │\n",
            "├────────────┼────────────┼─────────────┼────────┼───────────┤\n",
            "│ validation │     0.9123 │      0.9960 │ 0.2775 │    0.9856 │\n",
            "├────────────┼────────────┼─────────────┼────────┼───────────┤\n",
            "│ test       │     0.9124 │      0.9965 │ 0.2804 │    0.9853 │\n",
            "╘════════════╧════════════╧═════════════╧════════╧═══════════╛\n",
            "INFO:ludwig.utils.metrics_printed_table:╒════════════╤════════╕\n",
            "│ combined   │   loss │\n",
            "╞════════════╪════════╡\n",
            "│ train      │ 0.1697 │\n",
            "├────────────┼────────┤\n",
            "│ validation │ 0.2775 │\n",
            "├────────────┼────────┤\n",
            "│ test       │ 0.2804 │\n",
            "╘════════════╧════════╛\n",
            "INFO:ludwig.trainers.trainer:Evaluation validation metric: 'class' 'accuracy' improved.\n",
            "INFO:ludwig.trainers.trainer:'class' 'accuracy' increased by 0.002.\n",
            "INFO:ludwig.trainers.trainer:New best model saved.\n",
            "\n"
          ]
        },
        {
          "output_type": "stream",
          "name": "stdout",
          "text": [
            "\n",
            "Training:  20%|██        | 160/800 [03:59<11:17,  1.06s/it]"
          ]
        },
        {
          "output_type": "stream",
          "name": "stderr",
          "text": [
            "INFO:ludwig.trainers.trainer:\n",
            "Running evaluation for step: 160, epoch: 3\n"
          ]
        },
        {
          "output_type": "stream",
          "name": "stdout",
          "text": [
            "Evaluation valid: 100%|██████████| 6/6 [00:03<00:00,  1.71it/s]\n",
            "Evaluation test : 100%|██████████| 12/12 [00:07<00:00,  1.71it/s]"
          ]
        },
        {
          "output_type": "stream",
          "name": "stderr",
          "text": [
            "INFO:ludwig.trainers.trainer:Evaluation took 10.6183s\n",
            "\n",
            "INFO:ludwig.utils.metrics_printed_table:╒════════════╤════════════╤═════════════╤════════╤═══════════╕\n",
            "│ class      │   accuracy │   hits_at_k │   loss │   roc_auc │\n",
            "╞════════════╪════════════╪═════════════╪════════╪═══════════╡\n",
            "│ train      │     0.9648 │      0.9998 │ 0.1042 │    0.9971 │\n",
            "├────────────┼────────────┼─────────────┼────────┼───────────┤\n",
            "│ validation │     0.9064 │      0.9953 │ 0.3208 │    0.9851 │\n",
            "├────────────┼────────────┼─────────────┼────────┼───────────┤\n",
            "│ test       │     0.9052 │      0.9958 │ 0.3219 │    0.9846 │\n",
            "╘════════════╧════════════╧═════════════╧════════╧═══════════╛\n",
            "INFO:ludwig.utils.metrics_printed_table:╒════════════╤════════╕\n",
            "│ combined   │   loss │\n",
            "╞════════════╪════════╡\n",
            "│ train      │ 0.1042 │\n",
            "├────────────┼────────┤\n",
            "│ validation │ 0.3208 │\n",
            "├────────────┼────────┤\n",
            "│ test       │ 0.3219 │\n",
            "╘════════════╧════════╛\n",
            "INFO:ludwig.trainers.trainer:Last improvement of class validation accuracy happened 40 step(s) ago.\n",
            "\n"
          ]
        },
        {
          "output_type": "stream",
          "name": "stdout",
          "text": [
            "\n",
            "Training:  25%|██▌       | 200/800 [05:04<10:38,  1.06s/it]"
          ]
        },
        {
          "output_type": "stream",
          "name": "stderr",
          "text": [
            "INFO:ludwig.trainers.trainer:\n",
            "Running evaluation for step: 200, epoch: 4\n"
          ]
        },
        {
          "output_type": "stream",
          "name": "stdout",
          "text": [
            "Evaluation valid: 100%|██████████| 6/6 [00:03<00:00,  1.71it/s]\n",
            "Evaluation test : 100%|██████████| 12/12 [00:07<00:00,  1.68it/s]"
          ]
        },
        {
          "output_type": "stream",
          "name": "stderr",
          "text": [
            "INFO:ludwig.trainers.trainer:Evaluation took 10.6975s\n",
            "\n",
            "INFO:ludwig.utils.metrics_printed_table:╒════════════╤════════════╤═════════════╤════════╤═══════════╕\n",
            "│ class      │   accuracy │   hits_at_k │   loss │   roc_auc │\n",
            "╞════════════╪════════════╪═════════════╪════════╪═══════════╡\n",
            "│ train      │     0.9789 │      1.0000 │ 0.0627 │    0.9989 │\n",
            "├────────────┼────────────┼─────────────┼────────┼───────────┤\n",
            "│ validation │     0.9017 │      0.9960 │ 0.4043 │    0.9835 │\n",
            "├────────────┼────────────┼─────────────┼────────┼───────────┤\n",
            "│ test       │     0.9004 │      0.9956 │ 0.4100 │    0.9831 │\n",
            "╘════════════╧════════════╧═════════════╧════════╧═══════════╛\n",
            "INFO:ludwig.utils.metrics_printed_table:╒════════════╤════════╕\n",
            "│ combined   │   loss │\n",
            "╞════════════╪════════╡\n",
            "│ train      │ 0.0627 │\n",
            "├────────────┼────────┤\n",
            "│ validation │ 0.4043 │\n",
            "├────────────┼────────┤\n",
            "│ test       │ 0.4100 │\n",
            "╘════════════╧════════╛\n",
            "INFO:ludwig.trainers.trainer:Last improvement of class validation accuracy happened 80 step(s) ago.\n",
            "\n"
          ]
        },
        {
          "output_type": "stream",
          "name": "stdout",
          "text": [
            "\n",
            "Training:  30%|███       | 240/800 [06:08<09:54,  1.06s/it]"
          ]
        },
        {
          "output_type": "stream",
          "name": "stderr",
          "text": [
            "INFO:ludwig.trainers.trainer:\n",
            "Running evaluation for step: 240, epoch: 5\n"
          ]
        },
        {
          "output_type": "stream",
          "name": "stdout",
          "text": [
            "Evaluation valid: 100%|██████████| 6/6 [00:03<00:00,  1.70it/s]\n",
            "Evaluation test : 100%|██████████| 12/12 [00:07<00:00,  1.70it/s]"
          ]
        },
        {
          "output_type": "stream",
          "name": "stderr",
          "text": [
            "INFO:ludwig.trainers.trainer:Evaluation took 10.6492s\n",
            "\n",
            "INFO:ludwig.utils.metrics_printed_table:╒════════════╤════════════╤═════════════╤════════╤═══════════╕\n",
            "│ class      │   accuracy │   hits_at_k │   loss │   roc_auc │\n",
            "╞════════════╪════════════╪═════════════╪════════╪═══════════╡\n",
            "│ train      │     0.9869 │      1.0000 │ 0.0391 │    0.9995 │\n",
            "├────────────┼────────────┼─────────────┼────────┼───────────┤\n",
            "│ validation │     0.8981 │      0.9953 │ 0.4991 │    0.9829 │\n",
            "├────────────┼────────────┼─────────────┼────────┼───────────┤\n",
            "│ test       │     0.8965 │      0.9950 │ 0.5058 │    0.9824 │\n",
            "╘════════════╧════════════╧═════════════╧════════╧═══════════╛\n",
            "INFO:ludwig.utils.metrics_printed_table:╒════════════╤════════╕\n",
            "│ combined   │   loss │\n",
            "╞════════════╪════════╡\n",
            "│ train      │ 0.0391 │\n",
            "├────────────┼────────┤\n",
            "│ validation │ 0.4991 │\n",
            "├────────────┼────────┤\n",
            "│ test       │ 0.5058 │\n",
            "╘════════════╧════════╛\n",
            "INFO:ludwig.trainers.trainer:Last improvement of class validation accuracy happened 120 step(s) ago.\n",
            "\n"
          ]
        },
        {
          "output_type": "stream",
          "name": "stdout",
          "text": [
            "\n",
            "Training:  35%|███▌      | 280/800 [07:13<09:11,  1.06s/it]"
          ]
        },
        {
          "output_type": "stream",
          "name": "stderr",
          "text": [
            "INFO:ludwig.trainers.trainer:\n",
            "Running evaluation for step: 280, epoch: 6\n"
          ]
        },
        {
          "output_type": "stream",
          "name": "stdout",
          "text": [
            "Evaluation valid: 100%|██████████| 6/6 [00:03<00:00,  1.71it/s]\n",
            "Evaluation test : 100%|██████████| 12/12 [00:07<00:00,  1.70it/s]"
          ]
        },
        {
          "output_type": "stream",
          "name": "stderr",
          "text": [
            "INFO:ludwig.trainers.trainer:Evaluation took 10.6550s\n",
            "\n",
            "INFO:ludwig.utils.metrics_printed_table:╒════════════╤════════════╤═════════════╤════════╤═══════════╕\n",
            "│ class      │   accuracy │   hits_at_k │   loss │   roc_auc │\n",
            "╞════════════╪════════════╪═════════════╪════════╪═══════════╡\n",
            "│ train      │     0.9918 │      1.0000 │ 0.0260 │    0.9998 │\n",
            "├────────────┼────────────┼─────────────┼────────┼───────────┤\n",
            "│ validation │     0.9012 │      0.9950 │ 0.5378 │    0.9827 │\n",
            "├────────────┼────────────┼─────────────┼────────┼───────────┤\n",
            "│ test       │     0.8992 │      0.9943 │ 0.5578 │    0.9819 │\n",
            "╘════════════╧════════════╧═════════════╧════════╧═══════════╛\n",
            "INFO:ludwig.utils.metrics_printed_table:╒════════════╤════════╕\n",
            "│ combined   │   loss │\n",
            "╞════════════╪════════╡\n",
            "│ train      │ 0.0260 │\n",
            "├────────────┼────────┤\n",
            "│ validation │ 0.5378 │\n",
            "├────────────┼────────┤\n",
            "│ test       │ 0.5578 │\n",
            "╘════════════╧════════╛\n",
            "INFO:ludwig.trainers.trainer:Last improvement of class validation accuracy happened 160 step(s) ago.\n",
            "\n"
          ]
        },
        {
          "output_type": "stream",
          "name": "stdout",
          "text": [
            "\n",
            "Training:  40%|████      | 320/800 [08:17<08:29,  1.06s/it]"
          ]
        },
        {
          "output_type": "stream",
          "name": "stderr",
          "text": [
            "INFO:ludwig.trainers.trainer:\n",
            "Running evaluation for step: 320, epoch: 7\n"
          ]
        },
        {
          "output_type": "stream",
          "name": "stdout",
          "text": [
            "Evaluation valid: 100%|██████████| 6/6 [00:03<00:00,  1.71it/s]\n",
            "Evaluation test : 100%|██████████| 12/12 [00:07<00:00,  1.70it/s]"
          ]
        },
        {
          "output_type": "stream",
          "name": "stderr",
          "text": [
            "INFO:ludwig.trainers.trainer:Evaluation took 10.6515s\n",
            "\n",
            "INFO:ludwig.utils.metrics_printed_table:╒════════════╤════════════╤═════════════╤════════╤═══════════╕\n",
            "│ class      │   accuracy │   hits_at_k │   loss │   roc_auc │\n",
            "╞════════════╪════════════╪═════════════╪════════╪═══════════╡\n",
            "│ train      │     0.9943 │      1.0000 │ 0.0188 │    0.9999 │\n",
            "├────────────┼────────────┼─────────────┼────────┼───────────┤\n",
            "│ validation │     0.8982 │      0.9952 │ 0.6027 │    0.9819 │\n",
            "├────────────┼────────────┼─────────────┼────────┼───────────┤\n",
            "│ test       │     0.8958 │      0.9950 │ 0.6353 │    0.9809 │\n",
            "╘════════════╧════════════╧═════════════╧════════╧═══════════╛\n",
            "INFO:ludwig.utils.metrics_printed_table:╒════════════╤════════╕\n",
            "│ combined   │   loss │\n",
            "╞════════════╪════════╡\n",
            "│ train      │ 0.0188 │\n",
            "├────────────┼────────┤\n",
            "│ validation │ 0.6027 │\n",
            "├────────────┼────────┤\n",
            "│ test       │ 0.6353 │\n",
            "╘════════════╧════════╛\n",
            "INFO:ludwig.trainers.trainer:Last improvement of class validation accuracy happened 200 step(s) ago.\n",
            "\n",
            "INFO:ludwig.trainers.trainer:\n",
            "EARLY STOPPING due to lack of validation improvement. It has been 200 step(s) since last validation improvement.\n"
          ]
        },
        {
          "output_type": "stream",
          "name": "stdout",
          "text": [
            "\n",
            "Training:  40%|████      | 320/800 [08:29<12:43,  1.59s/it]"
          ]
        },
        {
          "output_type": "stream",
          "name": "stderr",
          "text": [
            "INFO:ludwig.utils.print_utils:\n",
            "INFO:ludwig.utils.print_utils:╒═════════════════╕\n",
            "INFO:ludwig.utils.print_utils:│ TRAINING REPORT │\n",
            "INFO:ludwig.utils.print_utils:╘═════════════════╛\n",
            "INFO:ludwig.utils.print_utils:\n",
            "INFO:ludwig.api:╒══════════════════════════════════╤════════════════════╕\n",
            "│ Validation feature               │ class              │\n",
            "├──────────────────────────────────┼────────────────────┤\n",
            "│ Validation metric                │ accuracy           │\n",
            "├──────────────────────────────────┼────────────────────┤\n",
            "│ Best model step                  │ 120                │\n",
            "├──────────────────────────────────┼────────────────────┤\n",
            "│ Best model epoch                 │ 3                  │\n",
            "├──────────────────────────────────┼────────────────────┤\n",
            "│ Best model's validation accuracy │ 0.912275493144989  │\n",
            "├──────────────────────────────────┼────────────────────┤\n",
            "│ Best model's test accuracy       │ 0.9123843312263489 │\n",
            "╘══════════════════════════════════╧════════════════════╛\n",
            "INFO:ludwig.api:\n",
            "Finished: api_experiment_run\n",
            "INFO:ludwig.api:Saved to: /content/results/api_experiment_run\n"
          ]
        },
        {
          "output_type": "stream",
          "name": "stdout",
          "text": [
            "\n"
          ]
        },
        {
          "output_type": "stream",
          "name": "stderr",
          "text": [
            "INFO:ludwig.utils.print_utils:\n",
            "INFO:ludwig.utils.print_utils:╒══════════╕\n",
            "INFO:ludwig.utils.print_utils:│ FINISHED │\n",
            "INFO:ludwig.utils.print_utils:╘══════════╛\n",
            "INFO:ludwig.utils.print_utils:\n"
          ]
        }
      ]
    },
    {
      "cell_type": "code",
      "source": [
        "test_stats, predictions, output_directory = model.evaluate(\n",
        "  test_df,\n",
        "  collect_predictions=True,\n",
        "  collect_overall_stats=True\n",
        ")"
      ],
      "metadata": {
        "colab": {
          "base_uri": "https://localhost:8080/"
        },
        "id": "AsYwgIoE-95v",
        "outputId": "0543a1c8-4956-4e13-fb81-aefe504540de"
      },
      "execution_count": 4,
      "outputs": [
        {
          "output_type": "stream",
          "name": "stdout",
          "text": [
            "Evaluation: 100%|██████████| 4/4 [00:02<00:00,  1.77it/s]"
          ]
        },
        {
          "output_type": "stream",
          "name": "stderr",
          "text": [
            "INFO:ludwig.models.predictor:\n",
            "===== class =====\n",
            "INFO:ludwig.models.predictor:accuracy: 0.9087990522384644\n",
            "INFO:ludwig.models.predictor:hits_at_k: 0.9964469075202942\n",
            "INFO:ludwig.models.predictor:loss: 0.2826341688632965\n",
            "INFO:ludwig.models.predictor:overall_stats: { 'avg_f1_score_macro': 0.9085973485097647,\n",
            "  'avg_f1_score_micro': 0.9088037899723648,\n",
            "  'avg_f1_score_weighted': 0.9086013294552651,\n",
            "  'avg_precision_macro': 0.9084790325595495,\n",
            "  'avg_precision_micro': 0.9088037899723648,\n",
            "  'avg_precision_weighted': 0.9088037899723648,\n",
            "  'avg_recall_macro': 0.9087990216457414,\n",
            "  'avg_recall_micro': 0.9088037899723648,\n",
            "  'avg_recall_weighted': 0.9088037899723648,\n",
            "  'kappa_score': 0.8784049809997212,\n",
            "  'token_accuracy': 0.9088037899723648}\n",
            "INFO:ludwig.models.predictor:per_class_stats: {sci_tech: {   'accuracy': 0.9442031846295565,\n",
            "    'f1_score': 0.8877118644067796,\n",
            "    'fall_out': 0.03509387611861725,\n",
            "    'false_discovery_rate': 0.10660980810234544,\n",
            "    'false_negative_rate': 0.11789473684210527,\n",
            "    'false_negatives': 224,\n",
            "    'false_omission_rate': 0.039140311025685826,\n",
            "    'false_positive_rate': 0.03509387611861725,\n",
            "    'false_positives': 200,\n",
            "    'hit_rate': 0.8821052631578947,\n",
            "    'informedness': 0.8470113870392775,\n",
            "    'markedness': 0.8542498808719687,\n",
            "    'matthews_correlation_coefficient': 0.8506229343695736,\n",
            "    'miss_rate': 0.11789473684210527,\n",
            "    'negative_predictive_value': 0.9608596889743142,\n",
            "    'positive_predictive_value': 0.8933901918976546,\n",
            "    'precision': 0.8933901918976546,\n",
            "    'recall': 0.8821052631578947,\n",
            "    'sensitivity': 0.8821052631578947,\n",
            "    'specificity': 0.9649061238813827,\n",
            "    'true_negative_rate': 0.9649061238813827,\n",
            "    'true_negatives': 5499,\n",
            "    'true_positive_rate': 0.8821052631578947,\n",
            "    'true_positives': 1676},\n",
            "  world: {   'accuracy': 0.9534149230161864,\n",
            "    'f1_score': 0.9071840587309911,\n",
            "    'fall_out': 0.03228636602912793,\n",
            "    'false_discovery_rate': 0.09613375130616508,\n",
            "    'false_negative_rate': 0.08947368421052626,\n",
            "    'false_negatives': 170,\n",
            "    'false_omission_rate': 0.029903254177660488,\n",
            "    'false_positive_rate': 0.03228636602912793,\n",
            "    'false_positives': 184,\n",
            "    'hit_rate': 0.9105263157894737,\n",
            "    'informedness': 0.8782399497603457,\n",
            "    'markedness': 0.8739629945161744,\n",
            "    'matthews_correlation_coefficient': 0.8760988622274808,\n",
            "    'miss_rate': 0.08947368421052626,\n",
            "    'negative_predictive_value': 0.9700967458223395,\n",
            "    'positive_predictive_value': 0.9038662486938349,\n",
            "    'precision': 0.9038662486938349,\n",
            "    'recall': 0.9105263157894737,\n",
            "    'sensitivity': 0.9105263157894737,\n",
            "    'specificity': 0.9677136339708721,\n",
            "    'true_negative_rate': 0.9677136339708721,\n",
            "    'true_negatives': 5515,\n",
            "    'true_positive_rate': 0.9105263157894737,\n",
            "    'true_positives': 1730},\n",
            "  sports: {   'accuracy': 0.9803921568627451,\n",
            "    'f1_score': 0.9611473272490221,\n",
            "    'fall_out': 0.016143183014563967,\n",
            "    'false_discovery_rate': 0.047545219638242875,\n",
            "    'false_negative_rate': 0.030000000000000027,\n",
            "    'false_negatives': 57,\n",
            "    'false_omission_rate': 0.010063559322033844,\n",
            "    'false_positive_rate': 0.016143183014563967,\n",
            "    'false_positives': 92,\n",
            "    'hit_rate': 0.97,\n",
            "    'informedness': 0.953856816985436,\n",
            "    'markedness': 0.9423912210397232,\n",
            "    'matthews_correlation_coefficient': 0.9481066872752079,\n",
            "    'miss_rate': 0.030000000000000027,\n",
            "    'negative_predictive_value': 0.9899364406779662,\n",
            "    'positive_predictive_value': 0.9524547803617571,\n",
            "    'precision': 0.9524547803617571,\n",
            "    'recall': 0.97,\n",
            "    'sensitivity': 0.97,\n",
            "    'specificity': 0.983856816985436,\n",
            "    'true_negative_rate': 0.983856816985436,\n",
            "    'true_negatives': 5607,\n",
            "    'true_positive_rate': 0.97,\n",
            "    'true_positives': 1843},\n",
            "  business: {   'accuracy': 0.9395973154362416,\n",
            "    'f1_score': 0.8783461436522662,\n",
            "    'fall_out': 0.038070175438596476,\n",
            "    'false_discovery_rate': 0.11579509071504801,\n",
            "    'false_negative_rate': 0.12743549236440233,\n",
            "    'false_negatives': 242,\n",
            "    'false_omission_rate': 0.042270742358078595,\n",
            "    'false_positive_rate': 0.038070175438596476,\n",
            "    'false_positives': 217,\n",
            "    'hit_rate': 0.8725645076355977,\n",
            "    'informedness': 0.8344943321970013,\n",
            "    'markedness': 0.8419341669268734,\n",
            "    'matthews_correlation_coefficient': 0.8382059951965743,\n",
            "    'miss_rate': 0.12743549236440233,\n",
            "    'negative_predictive_value': 0.9577292576419214,\n",
            "    'positive_predictive_value': 0.884204909284952,\n",
            "    'precision': 0.884204909284952,\n",
            "    'recall': 0.8725645076355977,\n",
            "    'sensitivity': 0.8725645076355977,\n",
            "    'specificity': 0.9619298245614035,\n",
            "    'true_negative_rate': 0.9619298245614035,\n",
            "    'true_negatives': 5483,\n",
            "    'true_positive_rate': 0.8725645076355977,\n",
            "    'true_positives': 1657}}\n",
            "INFO:ludwig.models.predictor:roc_auc: 0.9848066568374634\n"
          ]
        },
        {
          "output_type": "stream",
          "name": "stdout",
          "text": [
            "\n"
          ]
        }
      ]
    },
    {
      "cell_type": "code",
      "source": [
        "# Visualizes confusion matrix, which gives an overview of classifier performance\n",
        "# for each class.\n",
        "from ludwig.visualize import confusion_matrix\n",
        "\n",
        "confusion_matrix(\n",
        "  [test_stats],\n",
        "  model.training_set_metadata,\n",
        "  'class',\n",
        "  top_n_classes=[5],\n",
        "  model_names=[''],\n",
        "  normalize=True,\n",
        ")"
      ],
      "metadata": {
        "colab": {
          "base_uri": "https://localhost:8080/",
          "height": 1000
        },
        "id": "3bDSfKWQuGVm",
        "outputId": "33613f3f-a6b2-4839-f88a-9ca828af8753"
      },
      "execution_count": 5,
      "outputs": [
        {
          "output_type": "stream",
          "name": "stderr",
          "text": [
            "/usr/local/lib/python3.9/dist-packages/ludwig/utils/visualization_utils.py:1167: UserWarning: FixedFormatter should only be used together with FixedLocator\n",
            "  ax.set_xticklabels([\"\"] + labels, rotation=45, ha=\"left\")\n",
            "/usr/local/lib/python3.9/dist-packages/ludwig/utils/visualization_utils.py:1168: UserWarning: FixedFormatter should only be used together with FixedLocator\n",
            "  ax.set_yticklabels([\"\"] + labels, rotation=45, ha=\"right\")\n"
          ]
        },
        {
          "output_type": "display_data",
          "data": {
            "text/plain": [
              "<Figure size 640x480 with 2 Axes>"
            ],
            "image/png": "[encoded data removed]"
          },
          "metadata": {}
        },
        {
          "output_type": "display_data",
          "data": {
            "text/plain": [
              "<Figure size 640x480 with 1 Axes>"
            ],
            "image/png": "[encoded data removed]"
          },
          "metadata": {}
        }
      ]
    },
    {
      "cell_type": "code",
      "source": [
        "# Visualizes learning curves, which show how performance metrics changed over\n",
        "# time during training.\n",
        "from ludwig.visualize import learning_curves\n",
        "\n",
        "learning_curves(train_stats, output_feature_name='class')"
      ],
      "metadata": {
        "colab": {
          "base_uri": "https://localhost:8080/",
          "height": 1000
        },
        "id": "U4YZO_-tuI43",
        "outputId": "fea5a553-0f33-48ac-c730-966a675ad61f"
      },
      "execution_count": 6,
      "outputs": [
        {
          "output_type": "display_data",
          "data": {
            "text/plain": [
              "<Figure size 640x480 with 1 Axes>"
            ],
            "image/png": "[encoded data removed]"
          },
          "metadata": {}
        },
        {
          "output_type": "display_data",
          "data": {
            "text/plain": [
              "<Figure size 640x480 with 1 Axes>"
            ],
            "image/png": "[encoded data removed]"
          },
          "metadata": {}
        },
        {
          "output_type": "display_data",
          "data": {
            "text/plain": [
              "<Figure size 640x480 with 1 Axes>"
            ],
            "image/png": "[encoded data removed]"
          },
          "metadata": {}
        }
      ]
    },
    {
      "cell_type": "markdown",
      "metadata": {
        "id": "Z_zVLLMFhkTg"
      },
      "source": [
        "# Make Predictions on New Data\n",
        "\n",
        "Generate predictions for new data.\n",
        "\n",
        "The following are some recent news headlines. Feel free to edit or add your own strings to text_to_predict to see how the newly trained model classifies them."
      ]
    },
    {
      "cell_type": "code",
      "execution_count": 7,
      "metadata": {
        "id": "wzfdn7hnlv0j",
        "colab": {
          "base_uri": "https://localhost:8080/",
          "height": 257
        },
        "outputId": "92ebbfad-0ad4-45e7-f9f7-0410ce6cd0e3"
      },
      "outputs": [
        {
          "output_type": "stream",
          "name": "stdout",
          "text": [
            "Prediction: 100%|██████████| 1/1 [00:00<00:00, 64.25it/s]\n"
          ]
        },
        {
          "output_type": "execute_result",
          "data": {
            "text/plain": [
              "  class_predictions                                class_probabilities  \\\n",
              "0            sports  [6.567276432178915e-05, 0.0008850554586388171,...   \n",
              "1          sci_tech  [0.967261016368866, 0.0004890392883680761, 2.7...   \n",
              "2             world  [0.008548591285943985, 0.9872704744338989, 6.7...   \n",
              "\n",
              "   class_probability  class_probabilities_sci_tech  class_probabilities_world  \\\n",
              "0           0.999033                      0.000066                   0.000885   \n",
              "1           0.967261                      0.967261                   0.000489   \n",
              "2           0.987270                      0.008549                   0.987270   \n",
              "\n",
              "   class_probabilities_sports  class_probabilities_business  \n",
              "0                    0.999033                      0.000016  \n",
              "1                    0.000003                      0.032247  \n",
              "2                    0.000007                      0.004174  "
            ],
            "text/html": [
              "\n",
              "  <div id=\"df-7da18a0c-b8c4-4c12-8fd6-1dae38fbf96a\">\n",
              "    <div class=\"colab-df-container\">\n",
              "      <div>\n",
              "<style scoped>\n",
              "    .dataframe tbody tr th:only-of-type {\n",
              "        vertical-align: middle;\n",
              "    }\n",
              "\n",
              "    .dataframe tbody tr th {\n",
              "        vertical-align: top;\n",
              "    }\n",
              "\n",
              "    .dataframe thead th {\n",
              "        text-align: right;\n",
              "    }\n",
              "</style>\n",
              "<table border=\"1\" class=\"dataframe\">\n",
              "  <thead>\n",
              "    <tr style=\"text-align: right;\">\n",
              "      <th></th>\n",
              "      <th>class_predictions</th>\n",
              "      <th>class_probabilities</th>\n",
              "      <th>class_probability</th>\n",
              "      <th>class_probabilities_sci_tech</th>\n",
              "      <th>class_probabilities_world</th>\n",
              "      <th>class_probabilities_sports</th>\n",
              "      <th>class_probabilities_business</th>\n",
              "    </tr>\n",
              "  </thead>\n",
              "  <tbody>\n",
              "    <tr>\n",
              "      <th>0</th>\n",
              "      <td>sports</td>\n",
              "      <td>[6.567276432178915e-05, 0.0008850554586388171,...</td>\n",
              "      <td>0.999033</td>\n",
              "      <td>0.000066</td>\n",
              "      <td>0.000885</td>\n",
              "      <td>0.999033</td>\n",
              "      <td>0.000016</td>\n",
              "    </tr>\n",
              "    <tr>\n",
              "      <th>1</th>\n",
              "      <td>sci_tech</td>\n",
              "      <td>[0.967261016368866, 0.0004890392883680761, 2.7...</td>\n",
              "      <td>0.967261</td>\n",
              "      <td>0.967261</td>\n",
              "      <td>0.000489</td>\n",
              "      <td>0.000003</td>\n",
              "      <td>0.032247</td>\n",
              "    </tr>\n",
              "    <tr>\n",
              "      <th>2</th>\n",
              "      <td>world</td>\n",
              "      <td>[0.008548591285943985, 0.9872704744338989, 6.7...</td>\n",
              "      <td>0.987270</td>\n",
              "      <td>0.008549</td>\n",
              "      <td>0.987270</td>\n",
              "      <td>0.000007</td>\n",
              "      <td>0.004174</td>\n",
              "    </tr>\n",
              "  </tbody>\n",
              "</table>\n",
              "</div>\n",
              "      <button class=\"colab-df-convert\" onclick=\"convertToInteractive('df-7da18a0c-b8c4-4c12-8fd6-1dae38fbf96a')\"\n",
              "              title=\"Convert this dataframe to an interactive table.\"\n",
              "              style=\"display:none;\">\n",
              "        \n",
              "  <svg xmlns=\"http://www.w3.org/2000/svg\" height=\"24px\"viewBox=\"0 0 24 24\"\n",
              "       width=\"24px\">\n",
              "    <path d=\"M0 0h24v24H0V0z\" fill=\"none\"/>\n",
              "    <path d=\"M18.56 5.44l.94 2.06.94-2.06 2.06-.94-2.06-.94-.94-2.06-.94 2.06-2.06.94zm-11 1L8.5 8.5l.94-2.06 2.06-.94-2.06-.94L8.5 2.5l-.94 2.06-2.06.94zm10 10l.94 2.06.94-2.06 2.06-.94-2.06-.94-.94-2.06-.94 2.06-2.06.94z\"/><path d=\"M17.41 7.96l-1.37-1.37c-.4-.4-.92-.59-1.43-.59-.52 0-1.04.2-1.43.59L10.3 9.45l-7.72 7.72c-.78.78-.78 2.05 0 2.83L4 21.41c.39.39.9.59 1.41.59.51 0 1.02-.2 1.41-.59l7.78-7.78 2.81-2.81c.8-.78.8-2.07 0-2.86zM5.41 20L4 18.59l7.72-7.72 1.47 1.35L5.41 20z\"/>\n",
              "  </svg>\n",
              "      </button>\n",
              "      \n",
              "  <style>\n",
              "    .colab-df-container {\n",
              "      display:flex;\n",
              "      flex-wrap:wrap;\n",
              "      gap: 12px;\n",
              "    }\n",
              "\n",
              "    .colab-df-convert {\n",
              "      background-color: #E8F0FE;\n",
              "      border: none;\n",
              "      border-radius: 50%;\n",
              "      cursor: pointer;\n",
              "      display: none;\n",
              "      fill: #1967D2;\n",
              "      height: 32px;\n",
              "      padding: 0 0 0 0;\n",
              "      width: 32px;\n",
              "    }\n",
              "\n",
              "    .colab-df-convert:hover {\n",
              "      background-color: #E2EBFA;\n",
              "      box-shadow: 0px 1px 2px rgba(60, 64, 67, 0.3), 0px 1px 3px 1px rgba(60, 64, 67, 0.15);\n",
              "      fill: #174EA6;\n",
              "    }\n",
              "\n",
              "    [theme=dark] .colab-df-convert {\n",
              "      background-color: #3B4455;\n",
              "      fill: #D2E3FC;\n",
              "    }\n",
              "\n",
              "    [theme=dark] .colab-df-convert:hover {\n",
              "      background-color: #434B5C;\n",
              "      box-shadow: 0px 1px 3px 1px rgba(0, 0, 0, 0.15);\n",
              "      filter: drop-shadow(0px 1px 2px rgba(0, 0, 0, 0.3));\n",
              "      fill: #FFFFFF;\n",
              "    }\n",
              "  </style>\n",
              "\n",
              "      <script>\n",
              "        const buttonEl =\n",
              "          document.querySelector('#df-7da18a0c-b8c4-4c12-8fd6-1dae38fbf96a button.colab-df-convert');\n",
              "        buttonEl.style.display =\n",
              "          google.colab.kernel.accessAllowed ? 'block' : 'none';\n",
              "\n",
              "        async function convertToInteractive(key) {\n",
              "          const element = document.querySelector('#df-7da18a0c-b8c4-4c12-8fd6-1dae38fbf96a');\n",
              "          const dataTable =\n",
              "            await google.colab.kernel.invokeFunction('convertToInteractive',\n",
              "                                                     [key], {});\n",
              "          if (!dataTable) return;\n",
              "\n",
              "          const docLinkHtml = 'Like what you see? Visit the ' +\n",
              "            '<a target=\"_blank\" href=https://colab.research.google.com/notebooks/data_table.ipynb>data table notebook</a>'\n",
              "            + ' to learn more about interactive tables.';\n",
              "          element.innerHTML = '';\n",
              "          dataTable['output_type'] = 'display_data';\n",
              "          await google.colab.output.renderOutput(dataTable, element);\n",
              "          const docLink = document.createElement('div');\n",
              "          docLink.innerHTML = docLinkHtml;\n",
              "          element.appendChild(docLink);\n",
              "        }\n",
              "      </script>\n",
              "    </div>\n",
              "  </div>\n",
              "  "
            ]
          },
          "metadata": {},
          "execution_count": 7
        }
      ],
      "source": [
        "import pandas as pd\n",
        "\n",
        "text_to_predict = pd.DataFrame.from_records([\n",
        "  {\"title\": \"NBA Playoff Picture 2023: Kings Clinch; Lakers Play-In Lock as Mavs Keep Sliding?\",\n",
        "   \"description\": \"After Wednesday night, the gap between the Western Conference's fourth and 12th seeds is just five games. Only 2.5 games sit between No. 7 and No. 12, meaning the smallest bump in the road could be enough to throw an entire playoff plan off-course..\"},\n",
        "  {\"title\": \"Google may spur cloud cybersecurity M&A with $5.4B Mandiant buy\",\n",
        "   \"description\": \"Google LLC's proposed acquisition of a cyber defense services provider may spur a further surge of M&A activity in the cloud cybersecurity sector.\"},\n",
        "  {\"title\": \"Europe struggles to meet mounting needs of Ukraine's fleeing millions\",\n",
        "   \"description\": \"More than 3.5 million people have fled abroad from the war in Ukraine, United Nations data showed on Tuesday, leaving Eastern Europe scrambling to provide them with care, schools and jobs even as daily numbers crossing borders ease.\"},\n",
        "])\n",
        "\n",
        "predictions, output_directory = model.predict(text_to_predict)\n",
        "\n",
        "predictions"
      ]
    },
    {
      "cell_type": "markdown",
      "source": [
        "# Train a different model\n",
        "\n",
        "One of the advantages of using a configuration system is that you can just change one line in the configuration and train a new model."
      ],
      "metadata": {
        "id": "FD8F5_whGhNq"
      }
    },
    {
      "cell_type": "code",
      "execution_count": 9,
      "metadata": {
        "id": "TA9HnltKG31o",
        "colab": {
          "base_uri": "https://localhost:8080/",
          "height": 1000,
          "referenced_widgets": [
            "5d6d38c64a3944bda2f989ee9faaf286",
            "b6e8c3c1ee524c428320a5b858f5ce45",
            "4a264b6ab9c343a6b239c8a26c50dd65",
            "2048907283a0422fbd99404ae6624ecf",
            "b022de85ad8649e3962fb353c7c14e95",
            "c007a659f60d4e19b69f051291f7fb9e",
            "7ca3deecce3c4c5987746ab33361fc3f",
            "ae32ec995d5747cd9b2ea240cb6d6b01",
            "b37befe396c84ff493020051fe3c0751",
            "8f36cb32e09e4363b3a1e29c36d82561",
            "e7efc11f43f444a4aa951c9d5f687eeb",
            "cdff8f944492492284642a42ebafdb23",
            "f7468a086d5b444d8422087172b1bb60",
            "71ecdea70e95479eb134e2759051cf50",
            "ecd2e617b12e44bb8f3652a62d775cb4",
            "07bf34fd735d480f98db1d53339c04de",
            "ab2a232607e445e2ba34a5019853b74e",
            "b7cad925e63449f28f59b00cc0f71934",
            "78acbbd0ebf544519fc1310a2c2e2a2e",
            "422016e9de1e4112a6d17e5998b1cdb0",
            "852f909fc6454140abba59ceae6b1780",
            "4c8bb3a6346b43d79a1f2357f61023e7",
            "b9a744a903d148c79f26a5c1e1169c99",
            "9749efb6b4b54a27b49729c1f7bcd484",
            "80f62b5403454e299a9e0a2b4b8992cd",
            "9d03f824b106468e9db98c01cf1cc093",
            "dd15c473798d408eab856928277f8c2c",
            "08428fcc39b342cd94b10f1dfd64fe9e",
            "a28b21191a514e278da1595e19506ea5",
            "8354a34986cc4b3ab7a29b7ea9870ff6",
            "b1f39b6a77f245efb164c25e969c4526",
            "200fa38ca0c14ee7b9c6d41e99d7b8dc",
            "e35e3d4e3b7845049e7c899392c12175",
            "5d73e4f3e8d2462ebeefaed3b3d94feb",
            "0a8874ff3e1e48dab9ba30067aa996cb",
            "ea3e768ef60c4836b7d51de55f991a83",
            "cf749976cc534893ad40fd509ca53c34",
            "b67a575aa4784cc5b6f6293c24390dae",
            "fe47e20c92044fe2a6b13ccc9ddb16c5",
            "fbc0233583174c5a94e325dbd4b8d213",
            "599b035a11c74772aa1f482f434d8178",
            "d649e5f6f8d04c279fb5e47816af4413",
            "84e2ef9602bd4649ae48c59860f34a46",
            "840f614ff3a440a4acbe51679c5383bf"
          ]
        },
        "outputId": "a3a7ef98-c46d-48f4-afae-ee744e110eef"
      },
      "outputs": [
        {
          "output_type": "stream",
          "name": "stderr",
          "text": [
            "INFO:ludwig.utils.print_utils:\n",
            "INFO:ludwig.utils.print_utils:╒════════════════════════╕\n",
            "INFO:ludwig.utils.print_utils:│ EXPERIMENT DESCRIPTION │\n",
            "INFO:ludwig.utils.print_utils:╘════════════════════════╛\n",
            "INFO:ludwig.utils.print_utils:\n",
            "INFO:ludwig.api:╒══════════════════╤═════════════════════════════════════════════════════════════════════════════════════════╕\n",
            "│ Experiment name  │ api_experiment                                                                          │\n",
            "├──────────────────┼─────────────────────────────────────────────────────────────────────────────────────────┤\n",
            "│ Model name       │ run                                                                                     │\n",
            "├──────────────────┼─────────────────────────────────────────────────────────────────────────────────────────┤\n",
            "│ Output directory │ /content/results/api_experiment_run_1                                                   │\n",
            "├──────────────────┼─────────────────────────────────────────────────────────────────────────────────────────┤\n",
            "│ ludwig_version   │ '0.8.dev'                                                                               │\n",
            "├──────────────────┼─────────────────────────────────────────────────────────────────────────────────────────┤\n",
            "│ command          │ ('/usr/local/lib/python3.9/dist-packages/ipykernel_launcher.py -f '                     │\n",
            "│                  │  '/root/.local/share/jupyter/runtime/kernel-6f320aa7-2020-4b94-8cef-40c8dfa3eb61.json') │\n",
            "├──────────────────┼─────────────────────────────────────────────────────────────────────────────────────────┤\n",
            "│ random_seed      │ 42                                                                                      │\n",
            "├──────────────────┼─────────────────────────────────────────────────────────────────────────────────────────┤\n",
            "│ data_format      │ \"<class 'pandas.core.frame.DataFrame'>\"                                                 │\n",
            "├──────────────────┼─────────────────────────────────────────────────────────────────────────────────────────┤\n",
            "│ torch_version    │ '2.0.0+cu118'                                                                           │\n",
            "├──────────────────┼─────────────────────────────────────────────────────────────────────────────────────────┤\n",
            "│ compute          │ {'gpu_type': 'Tesla T4', 'gpus_per_node': 1, 'num_nodes': 1}                            │\n",
            "╘══════════════════╧═════════════════════════════════════════════════════════════════════════════════════════╛\n",
            "INFO:ludwig.utils.print_utils:\n",
            "INFO:ludwig.utils.print_utils:╒═══════════════╕\n",
            "INFO:ludwig.utils.print_utils:│ LUDWIG CONFIG │\n",
            "INFO:ludwig.utils.print_utils:╘═══════════════╛\n",
            "INFO:ludwig.utils.print_utils:\n",
            "INFO:ludwig.api:User-specified config (with upgrades):\n",
            "\n",
            "INFO:ludwig.api:{   'input_features': [   {   'encoder': {   'trainable': True,\n",
            "                                             'type': 'distilbert'},\n",
            "                              'name': 'description',\n",
            "                              'type': 'text'}],\n",
            "    'ludwig_version': '0.8.dev',\n",
            "    'output_features': [{'name': 'class', 'type': 'category'}],\n",
            "    'trainer': {   'batch_size': 32,\n",
            "                   'epochs': 3,\n",
            "                   'learning_rate': 1e-05,\n",
            "                   'learning_rate_scheduler': {   'decay': 'linear',\n",
            "                                                  'warmup_fraction': 0.2},\n",
            "                   'optimizer': {'type': 'adamw'},\n",
            "                   'use_mixed_precision': True}}\n",
            "INFO:ludwig.api:\n",
            "Full config saved to:\n",
            "/content/results/api_experiment_run_1/api_experiment/model/model_hyperparameters.json\n",
            "INFO:ludwig.utils.print_utils:\n",
            "INFO:ludwig.utils.print_utils:╒═══════════════╕\n",
            "INFO:ludwig.utils.print_utils:│ PREPROCESSING │\n",
            "INFO:ludwig.utils.print_utils:╘═══════════════╛\n",
            "INFO:ludwig.utils.print_utils:\n",
            "INFO:ludwig.data.preprocessing:No cached dataset found at /content/abc10d74d27c11ed8a1d0242ac1c000c.training.hdf5. Preprocessing the dataset.\n",
            "INFO:ludwig.data.preprocessing:Using full dataframe\n",
            "INFO:ludwig.data.preprocessing:Building dataset (it may take a while)\n"
          ]
        },
        {
          "output_type": "display_data",
          "data": {
            "text/plain": [
              "Downloading (…)okenizer_config.json:   0%|          | 0.00/28.0 [00:00<?, ?B/s]"
            ],
            "application/vnd.jupyter.widget-view+json": {
              "version_major": 2,
              "version_minor": 0,
              "model_id": "5d6d38c64a3944bda2f989ee9faaf286"
            }
          },
          "metadata": {}
        },
        {
          "output_type": "display_data",
          "data": {
            "text/plain": [
              "Downloading (…)lve/main/config.json:   0%|          | 0.00/483 [00:00<?, ?B/s]"
            ],
            "application/vnd.jupyter.widget-view+json": {
              "version_major": 2,
              "version_minor": 0,
              "model_id": "cdff8f944492492284642a42ebafdb23"
            }
          },
          "metadata": {}
        },
        {
          "output_type": "display_data",
          "data": {
            "text/plain": [
              "Downloading (…)solve/main/vocab.txt:   0%|          | 0.00/232k [00:00<?, ?B/s]"
            ],
            "application/vnd.jupyter.widget-view+json": {
              "version_major": 2,
              "version_minor": 0,
              "model_id": "b9a744a903d148c79f26a5c1e1169c99"
            }
          },
          "metadata": {}
        },
        {
          "output_type": "stream",
          "name": "stderr",
          "text": [
            "INFO:ludwig.utils.tokenizers:Loaded TorchText implementation of distilbert-base-uncased tokenizer\n",
            "INFO:ludwig.features.text_feature:Max length of feature 'description': 372 (without start and stop symbols)\n",
            "INFO:ludwig.features.text_feature:Setting max length using dataset: 374 (including start and stop symbols)\n",
            "INFO:ludwig.features.text_feature:Truncating max length with max_sequence_length=256 from preprocessing parameters\n",
            "INFO:ludwig.features.text_feature:max sequence length is 256 for feature 'description'\n",
            "INFO:ludwig.utils.tokenizers:Loaded TorchText implementation of distilbert-base-uncased tokenizer\n",
            "INFO:ludwig.data.preprocessing:Building dataset: DONE\n",
            "INFO:ludwig.data.cache.manager:Writing preprocessed training set cache to /content/abc10d74d27c11ed8a1d0242ac1c000c.training.hdf5\n",
            "INFO:ludwig.data.cache.manager:Writing preprocessed validation set cache to /content/abc10d74d27c11ed8a1d0242ac1c000c.validation.hdf5\n",
            "INFO:ludwig.data.cache.manager:Writing preprocessed test set cache to /content/abc10d74d27c11ed8a1d0242ac1c000c.test.hdf5\n",
            "INFO:ludwig.data.cache.manager:Writing train set metadata to /content/abc10d74d27c11ed8a1d0242ac1c000c.meta.json\n",
            "INFO:ludwig.api:\n",
            "Dataset Statistics\n",
            "INFO:ludwig.api:╒════════════╤═══════════════╤════════════════════╕\n",
            "│ Dataset    │   Size (Rows) │ Size (In Memory)   │\n",
            "╞════════════╪═══════════════╪════════════════════╡\n",
            "│ Training   │         80430 │ 9.28 Mb            │\n",
            "├────────────┼───────────────┼────────────────────┤\n",
            "│ Validation │         11489 │ 1.33 Mb            │\n",
            "├────────────┼───────────────┼────────────────────┤\n",
            "│ Test       │         22980 │ 2.65 Mb            │\n",
            "╘════════════╧═══════════════╧════════════════════╛\n",
            "INFO:ludwig.utils.print_utils:\n",
            "INFO:ludwig.utils.print_utils:╒═══════╕\n",
            "INFO:ludwig.utils.print_utils:│ MODEL │\n",
            "INFO:ludwig.utils.print_utils:╘═══════╛\n",
            "INFO:ludwig.utils.print_utils:\n",
            "INFO:ludwig.api:Warnings and other logs:\n"
          ]
        },
        {
          "output_type": "display_data",
          "data": {
            "text/plain": [
              "Downloading pytorch_model.bin:   0%|          | 0.00/268M [00:00<?, ?B/s]"
            ],
            "application/vnd.jupyter.widget-view+json": {
              "version_major": 2,
              "version_minor": 0,
              "model_id": "5d73e4f3e8d2462ebeefaed3b3d94feb"
            }
          },
          "metadata": {}
        },
        {
          "output_type": "stream",
          "name": "stderr",
          "text": [
            "Some weights of the model checkpoint at distilbert-base-uncased were not used when initializing DistilBertModel: ['vocab_transform.weight', 'vocab_layer_norm.bias', 'vocab_projector.weight', 'vocab_layer_norm.weight', 'vocab_projector.bias', 'vocab_transform.bias']\n",
            "- This IS expected if you are initializing DistilBertModel from the checkpoint of a model trained on another task or with another architecture (e.g. initializing a BertForSequenceClassification model from a BertForPreTraining model).\n",
            "- This IS NOT expected if you are initializing DistilBertModel from the checkpoint of a model that you expect to be exactly identical (initializing a BertForSequenceClassification model from a BertForSequenceClassification model).\n",
            "INFO:ludwig.trainers.trainer:Enabling automatic mixed precision (AMP)\n",
            "INFO:ludwig.utils.print_utils:\n",
            "INFO:ludwig.utils.print_utils:╒══════════╕\n",
            "INFO:ludwig.utils.print_utils:│ TRAINING │\n",
            "INFO:ludwig.utils.print_utils:╘══════════╛\n",
            "INFO:ludwig.utils.print_utils:\n",
            "INFO:ludwig.trainers.trainer:Creating fresh model training run.\n",
            "INFO:ludwig.trainers.trainer:Training for 7542 step(s), approximately 3 epoch(s).\n",
            "INFO:ludwig.trainers.trainer:Early stopping policy: 5 round(s) of evaluation, or 12570 step(s), approximately 5 epoch(s).\n",
            "\n",
            "INFO:ludwig.trainers.trainer:Starting with step 0, epoch: 0\n"
          ]
        },
        {
          "output_type": "stream",
          "name": "stdout",
          "text": [
            "Training:   0%|          | 1/7542 [00:00<34:53,  3.60it/s]"
          ]
        },
        {
          "output_type": "stream",
          "name": "stderr",
          "text": [
            "/usr/local/lib/python3.9/dist-packages/torch/optim/lr_scheduler.py:139: UserWarning: Detected call of `lr_scheduler.step()` before `optimizer.step()`. In PyTorch 1.1.0 and later, you should call them in the opposite order: `optimizer.step()` before `lr_scheduler.step()`.  Failure to do this will result in PyTorch skipping the first value of the learning rate schedule. See more details at https://pytorch.org/docs/stable/optim.html#how-to-adjust-learning-rate\n",
            "  warnings.warn(\"Detected call of `lr_scheduler.step()` before `optimizer.step()`. \"\n"
          ]
        },
        {
          "output_type": "stream",
          "name": "stdout",
          "text": [
            "Training:  33%|███▎      | 2514/7542 [10:12<18:01,  4.65it/s]"
          ]
        },
        {
          "output_type": "stream",
          "name": "stderr",
          "text": [
            "INFO:ludwig.trainers.trainer:\n",
            "Running evaluation for step: 2514, epoch: 0\n"
          ]
        },
        {
          "output_type": "stream",
          "name": "stdout",
          "text": [
            "Evaluation valid: 100%|██████████| 360/360 [01:34<00:00,  3.80it/s]\n",
            "Evaluation test : 100%|██████████| 719/719 [03:08<00:00,  3.81it/s]"
          ]
        },
        {
          "output_type": "stream",
          "name": "stderr",
          "text": [
            "INFO:ludwig.trainers.trainer:Evaluation took 4m 43.6481s\n",
            "\n",
            "INFO:ludwig.utils.metrics_printed_table:╒════════════╤════════════╤═════════════╤════════╤═══════════╕\n",
            "│ class      │   accuracy │   hits_at_k │   loss │   roc_auc │\n",
            "╞════════════╪════════════╪═════════════╪════════╪═══════════╡\n",
            "│ train      │     0.7325 │      0.9614 │ 4.1764 │    0.8979 │\n",
            "├────────────┼────────────┼─────────────┼────────┼───────────┤\n",
            "│ validation │     0.8547 │      0.9913 │ 0.9231 │    0.9787 │\n",
            "├────────────┼────────────┼─────────────┼────────┼───────────┤\n",
            "│ test       │     0.8551 │      0.9920 │ 0.9262 │    0.9781 │\n",
            "╘════════════╧════════════╧═════════════╧════════╧═══════════╛\n",
            "INFO:ludwig.utils.metrics_printed_table:╒════════════╤════════╕\n",
            "│ combined   │   loss │\n",
            "╞════════════╪════════╡\n",
            "│ train      │ 4.1764 │\n",
            "├────────────┼────────┤\n",
            "│ validation │ 0.9231 │\n",
            "├────────────┼────────┤\n",
            "│ test       │ 0.9262 │\n",
            "╘════════════╧════════╛\n",
            "INFO:ludwig.trainers.trainer:Evaluation validation metric: 'class' 'accuracy' improved.\n",
            "INFO:ludwig.trainers.trainer:'class' 'accuracy' increased by inf.\n",
            "INFO:ludwig.trainers.trainer:New best model saved.\n",
            "\n"
          ]
        },
        {
          "output_type": "stream",
          "name": "stdout",
          "text": [
            "\n",
            "Training:  67%|██████▋   | 5028/7542 [25:29<09:08,  4.59it/s]"
          ]
        },
        {
          "output_type": "stream",
          "name": "stderr",
          "text": [
            "INFO:ludwig.trainers.trainer:\n",
            "Running evaluation for step: 5028, epoch: 1\n"
          ]
        },
        {
          "output_type": "stream",
          "name": "stdout",
          "text": [
            "Evaluation valid: 100%|██████████| 360/360 [01:34<00:00,  3.80it/s]\n",
            "Evaluation test : 100%|██████████| 719/719 [03:08<00:00,  3.81it/s]"
          ]
        },
        {
          "output_type": "stream",
          "name": "stderr",
          "text": [
            "INFO:ludwig.trainers.trainer:Evaluation took 4m 43.6986s\n",
            "\n",
            "INFO:ludwig.utils.metrics_printed_table:╒════════════╤════════════╤═════════════╤════════╤═══════════╕\n",
            "│ class      │   accuracy │   hits_at_k │   loss │   roc_auc │\n",
            "╞════════════╪════════════╪═════════════╪════════╪═══════════╡\n",
            "│ train      │     0.8610 │      0.9943 │ 0.7952 │    0.9683 │\n",
            "├────────────┼────────────┼─────────────┼────────┼───────────┤\n",
            "│ validation │     0.8448 │      0.9959 │ 0.6690 │    0.9846 │\n",
            "├────────────┼────────────┼─────────────┼────────┼───────────┤\n",
            "│ test       │     0.8531 │      0.9954 │ 0.6437 │    0.9853 │\n",
            "╘════════════╧════════════╧═════════════╧════════╧═══════════╛\n",
            "INFO:ludwig.utils.metrics_printed_table:╒════════════╤════════╕\n",
            "│ combined   │   loss │\n",
            "╞════════════╪════════╡\n",
            "│ train      │ 0.7952 │\n",
            "├────────────┼────────┤\n",
            "│ validation │ 0.6690 │\n",
            "├────────────┼────────┤\n",
            "│ test       │ 0.6437 │\n",
            "╘════════════╧════════╛\n",
            "INFO:ludwig.trainers.trainer:Last improvement of class validation accuracy happened 2514 step(s) ago.\n",
            "\n"
          ]
        },
        {
          "output_type": "stream",
          "name": "stdout",
          "text": [
            "\n",
            "Training: 100%|██████████| 7542/7542 [40:49<00:00,  4.39it/s]"
          ]
        },
        {
          "output_type": "stream",
          "name": "stderr",
          "text": [
            "INFO:ludwig.trainers.trainer:\n",
            "Running evaluation for step: 7542, epoch: 2\n"
          ]
        },
        {
          "output_type": "stream",
          "name": "stdout",
          "text": [
            "Evaluation valid: 100%|██████████| 360/360 [01:34<00:00,  3.81it/s]\n",
            "Evaluation test : 100%|██████████| 719/719 [03:08<00:00,  3.81it/s]"
          ]
        },
        {
          "output_type": "stream",
          "name": "stderr",
          "text": [
            "INFO:ludwig.trainers.trainer:Evaluation took 4m 43.3513s\n",
            "\n",
            "INFO:ludwig.utils.metrics_printed_table:╒════════════╤════════════╤═════════════╤════════╤═══════════╕\n",
            "│ class      │   accuracy │   hits_at_k │   loss │   roc_auc │\n",
            "╞════════════╪════════════╪═════════════╪════════╪═══════════╡\n",
            "│ train      │     0.9033 │      0.9971 │ 0.3665 │    0.9834 │\n",
            "├────────────┼────────────┼─────────────┼────────┼───────────┤\n",
            "│ validation │     0.9130 │      0.9975 │ 0.2826 │    0.9876 │\n",
            "├────────────┼────────────┼─────────────┼────────┼───────────┤\n",
            "│ test       │     0.9184 │      0.9971 │ 0.2714 │    0.9882 │\n",
            "╘════════════╧════════════╧═════════════╧════════╧═══════════╛\n",
            "INFO:ludwig.utils.metrics_printed_table:╒════════════╤════════╕\n",
            "│ combined   │   loss │\n",
            "╞════════════╪════════╡\n",
            "│ train      │ 0.3665 │\n",
            "├────────────┼────────┤\n",
            "│ validation │ 0.2826 │\n",
            "├────────────┼────────┤\n",
            "│ test       │ 0.2714 │\n",
            "╘════════════╧════════╛\n",
            "INFO:ludwig.trainers.trainer:Evaluation validation metric: 'class' 'accuracy' improved.\n",
            "INFO:ludwig.trainers.trainer:'class' 'accuracy' increased by 0.058.\n",
            "INFO:ludwig.trainers.trainer:New best model saved.\n",
            "\n"
          ]
        },
        {
          "output_type": "stream",
          "name": "stdout",
          "text": [
            "\n",
            "Training: 100%|██████████| 7542/7542 [45:39<00:00,  2.75it/s]\n"
          ]
        },
        {
          "output_type": "stream",
          "name": "stderr",
          "text": [
            "INFO:ludwig.utils.print_utils:\n",
            "INFO:ludwig.utils.print_utils:╒═════════════════╕\n",
            "INFO:ludwig.utils.print_utils:│ TRAINING REPORT │\n",
            "INFO:ludwig.utils.print_utils:╘═════════════════╛\n",
            "INFO:ludwig.utils.print_utils:\n",
            "INFO:ludwig.api:╒══════════════════════════════════╤════════════════════╕\n",
            "│ Validation feature               │ class              │\n",
            "├──────────────────────────────────┼────────────────────┤\n",
            "│ Validation metric                │ accuracy           │\n",
            "├──────────────────────────────────┼────────────────────┤\n",
            "│ Best model step                  │ 7542               │\n",
            "├──────────────────────────────────┼────────────────────┤\n",
            "│ Best model epoch                 │ 3                  │\n",
            "├──────────────────────────────────┼────────────────────┤\n",
            "│ Best model's validation accuracy │ 0.9130334854125977 │\n",
            "├──────────────────────────────────┼────────────────────┤\n",
            "│ Best model's test accuracy       │ 0.9183943867683411 │\n",
            "╘══════════════════════════════════╧════════════════════╛\n",
            "INFO:ludwig.api:\n",
            "Finished: api_experiment_run\n",
            "INFO:ludwig.api:Saved to: /content/results/api_experiment_run_1\n",
            "INFO:ludwig.utils.print_utils:\n",
            "INFO:ludwig.utils.print_utils:╒══════════╕\n",
            "INFO:ludwig.utils.print_utils:│ FINISHED │\n",
            "INFO:ludwig.utils.print_utils:╘══════════╛\n",
            "INFO:ludwig.utils.print_utils:\n"
          ]
        }
      ],
      "source": [
        "import logging\n",
        "from ludwig.api import LudwigModel\n",
        "\n",
        "config = {\n",
        "  \"input_features\": [\n",
        "    {\n",
        "      \"name\": \"description\",    # The name of the input column\n",
        "      \"type\": \"text\",     # Data type of the input column\n",
        "      \"encoder\": {\"type\": \"distilbert\", \"trainable\": True}\n",
        "    },\n",
        "\n",
        "  ],\n",
        "  \"output_features\": [\n",
        "    {\n",
        "      \"name\": \"class\",\n",
        "      \"type\": \"category\",\n",
        "    }\n",
        "  ],\n",
        "  \"trainer\": {\n",
        "    \"epochs\": 3,\n",
        "    \"learning_rate\": 0.00001,\n",
        "    \"optimizer\": {\"type\": \"adamw\"},\n",
        "    \"use_mixed_precision\": True,\n",
        "    \"learning_rate_scheduler\": {\"decay\": \"linear\", \"warmup_fraction\": 0.2},\n",
        "    \"batch_size\": 32,\n",
        "  }\n",
        "}\n",
        "\n",
        "model = LudwigModel(config, logging_level=logging.INFO)\n",
        "train_stats, preprocessed_data, output_directory = model.train(dataset=train_df)"
      ]
    },
    {
      "cell_type": "markdown",
      "source": [
        "# Train a model on multiple GPUs\n",
        "\n",
        "Very large LLMs require multiple GPUs to be stored in memory and trained. Here is how to do it in Ludwig by changing the configuration.\n",
        "\n",
        "NOTE: This may not run successfully using free colab hardware. Consider predibase.com for a hosted solution."
      ],
      "metadata": {
        "id": "JlTGKNl3IxTj"
      }
    },
    {
      "cell_type": "markdown",
      "source": [],
      "metadata": {
        "id": "UoqDrVLY8_Gk"
      }
    },
    {
      "cell_type": "code",
      "source": [
        "config = {\n",
        "  \"input_features\": [\n",
        "    {\n",
        "      \"name\": \"title\",    # The name of the input column\n",
        "      \"type\": \"text\",     # Data type of the input column\n",
        "      \"encoder\": {\n",
        "          \"type\": \"auto_transformer\",   # The model architecture to use\n",
        "          \"pretrained_model_name_or_path\": \"bigscience/bloom-3b\",\n",
        "          \"trainable\": True,\n",
        "      },                           \n",
        "    },\n",
        "  ],\n",
        "  \"output_features\": [\n",
        "    {\n",
        "      \"name\": \"class\",\n",
        "      \"type\": \"category\",\n",
        "    }\n",
        "  ],\n",
        "  \"trainer\": {\n",
        "    \"learning_rate\": 0.00001,\n",
        "    \"epochs\": 3,  # We'll train for three epochs. Training longer might give\n",
        "                  # better performance.\n",
        "  },\n",
        "  \"backend\": {\n",
        "    \"type\": \"ray\",\n",
        "    \"trainer\": {\n",
        "      \"strategy\": \"fsdp\", # fsdp distributed strategy for using a multi-GPU cluster\n",
        "    }\n",
        "  }\n",
        "}"
      ],
      "metadata": {
        "id": "X-jSv6V3JHuo"
      },
      "execution_count": null,
      "outputs": []
    }
  ],
  "metadata": {
    "accelerator": "GPU",
    "colab": {
      "provenance": []
    },
    "kernelspec": {
      "display_name": "Python 3",
      "name": "python3"
    },
    "language_info": {
      "name": "python"
    },
    "gpuClass": "standard",
    "widgets": {
      "application/vnd.jupyter.widget-state+json": {
        "5d6d38c64a3944bda2f989ee9faaf286": {
          "model_module": "@jupyter-widgets/controls",
          "model_name": "HBoxModel",
          "model_module_version": "1.5.0",
          "state": {
            "_dom_classes": [],
            "_model_module": "@jupyter-widgets/controls",
            "_model_module_version": "1.5.0",
            "_model_name": "HBoxModel",
            "_view_count": null,
            "_view_module": "@jupyter-widgets/controls",
            "_view_module_version": "1.5.0",
            "_view_name": "HBoxView",
            "box_style": "",
            "children": [
              "IPY_MODEL_b6e8c3c1ee524c428320a5b858f5ce45",
              "IPY_MODEL_4a264b6ab9c343a6b239c8a26c50dd65",
              "IPY_MODEL_2048907283a0422fbd99404ae6624ecf"
            ],
            "layout": "IPY_MODEL_b022de85ad8649e3962fb353c7c14e95"
          }
        },
        "b6e8c3c1ee524c428320a5b858f5ce45": {
          "model_module": "@jupyter-widgets/controls",
          "model_name": "HTMLModel",
          "model_module_version": "1.5.0",
          "state": {
            "_dom_classes": [],
            "_model_module": "@jupyter-widgets/controls",
            "_model_module_version": "1.5.0",
            "_model_name": "HTMLModel",
            "_view_count": null,
            "_view_module": "@jupyter-widgets/controls",
            "_view_module_version": "1.5.0",
            "_view_name": "HTMLView",
            "description": "",
            "description_tooltip": null,
            "layout": "IPY_MODEL_c007a659f60d4e19b69f051291f7fb9e",
            "placeholder": "​",
            "style": "IPY_MODEL_7ca3deecce3c4c5987746ab33361fc3f",
            "value": "Downloading (…)okenizer_config.json: 100%"
          }
        },
        "4a264b6ab9c343a6b239c8a26c50dd65": {
          "model_module": "@jupyter-widgets/controls",
          "model_name": "FloatProgressModel",
          "model_module_version": "1.5.0",
          "state": {
            "_dom_classes": [],
            "_model_module": "@jupyter-widgets/controls",
            "_model_module_version": "1.5.0",
            "_model_name": "FloatProgressModel",
            "_view_count": null,
            "_view_module": "@jupyter-widgets/controls",
            "_view_module_version": "1.5.0",
            "_view_name": "ProgressView",
            "bar_style": "success",
            "description": "",
            "description_tooltip": null,
            "layout": "IPY_MODEL_ae32ec995d5747cd9b2ea240cb6d6b01",
            "max": 28,
            "min": 0,
            "orientation": "horizontal",
            "style": "IPY_MODEL_b37befe396c84ff493020051fe3c0751",
            "value": 28
          }
        },
        "2048907283a0422fbd99404ae6624ecf": {
          "model_module": "@jupyter-widgets/controls",
          "model_name": "HTMLModel",
          "model_module_version": "1.5.0",
          "state": {
            "_dom_classes": [],
            "_model_module": "@jupyter-widgets/controls",
            "_model_module_version": "1.5.0",
            "_model_name": "HTMLModel",
            "_view_count": null,
            "_view_module": "@jupyter-widgets/controls",
            "_view_module_version": "1.5.0",
            "_view_name": "HTMLView",
            "description": "",
            "description_tooltip": null,
            "layout": "IPY_MODEL_8f36cb32e09e4363b3a1e29c36d82561",
            "placeholder": "​",
            "style": "IPY_MODEL_e7efc11f43f444a4aa951c9d5f687eeb",
            "value": " 28.0/28.0 [00:00&lt;00:00, 1.15kB/s]"
          }
        },
        "b022de85ad8649e3962fb353c7c14e95": {
          "model_module": "@jupyter-widgets/base",
          "model_name": "LayoutModel",
          "model_module_version": "1.2.0",
          "state": {
            "_model_module": "@jupyter-widgets/base",
            "_model_module_version": "1.2.0",
            "_model_name": "LayoutModel",
            "_view_count": null,
            "_view_module": "@jupyter-widgets/base",
            "_view_module_version": "1.2.0",
            "_view_name": "LayoutView",
            "align_content": null,
            "align_items": null,
            "align_self": null,
            "border": null,
            "bottom": null,
            "display": null,
            "flex": null,
            "flex_flow": null,
            "grid_area": null,
            "grid_auto_columns": null,
            "grid_auto_flow": null,
            "grid_auto_rows": null,
            "grid_column": null,
            "grid_gap": null,
            "grid_row": null,
            "grid_template_areas": null,
            "grid_template_columns": null,
            "grid_template_rows": null,
            "height": null,
            "justify_content": null,
            "justify_items": null,
            "left": null,
            "margin": null,
            "max_height": null,
            "max_width": null,
            "min_height": null,
            "min_width": null,
            "object_fit": null,
            "object_position": null,
            "order": null,
            "overflow": null,
            "overflow_x": null,
            "overflow_y": null,
            "padding": null,
            "right": null,
            "top": null,
            "visibility": null,
            "width": null
          }
        },
        "c007a659f60d4e19b69f051291f7fb9e": {
          "model_module": "@jupyter-widgets/base",
          "model_name": "LayoutModel",
          "model_module_version": "1.2.0",
          "state": {
            "_model_module": "@jupyter-widgets/base",
            "_model_module_version": "1.2.0",
            "_model_name": "LayoutModel",
            "_view_count": null,
            "_view_module": "@jupyter-widgets/base",
            "_view_module_version": "1.2.0",
            "_view_name": "LayoutView",
            "align_content": null,
            "align_items": null,
            "align_self": null,
            "border": null,
            "bottom": null,
            "display": null,
            "flex": null,
            "flex_flow": null,
            "grid_area": null,
            "grid_auto_columns": null,
            "grid_auto_flow": null,
            "grid_auto_rows": null,
            "grid_column": null,
            "grid_gap": null,
            "grid_row": null,
            "grid_template_areas": null,
            "grid_template_columns": null,
            "grid_template_rows": null,
            "height": null,
            "justify_content": null,
            "justify_items": null,
            "left": null,
            "margin": null,
            "max_height": null,
            "max_width": null,
            "min_height": null,
            "min_width": null,
            "object_fit": null,
            "object_position": null,
            "order": null,
            "overflow": null,
            "overflow_x": null,
            "overflow_y": null,
            "padding": null,
            "right": null,
            "top": null,
            "visibility": null,
            "width": null
          }
        },
        "7ca3deecce3c4c5987746ab33361fc3f": {
          "model_module": "@jupyter-widgets/controls",
          "model_name": "DescriptionStyleModel",
          "model_module_version": "1.5.0",
          "state": {
            "_model_module": "@jupyter-widgets/controls",
            "_model_module_version": "1.5.0",
            "_model_name": "DescriptionStyleModel",
            "_view_count": null,
            "_view_module": "@jupyter-widgets/base",
            "_view_module_version": "1.2.0",
            "_view_name": "StyleView",
            "description_width": ""
          }
        },
        "ae32ec995d5747cd9b2ea240cb6d6b01": {
          "model_module": "@jupyter-widgets/base",
          "model_name": "LayoutModel",
          "model_module_version": "1.2.0",
          "state": {
            "_model_module": "@jupyter-widgets/base",
            "_model_module_version": "1.2.0",
            "_model_name": "LayoutModel",
            "_view_count": null,
            "_view_module": "@jupyter-widgets/base",
            "_view_module_version": "1.2.0",
            "_view_name": "LayoutView",
            "align_content": null,
            "align_items": null,
            "align_self": null,
            "border": null,
            "bottom": null,
            "display": null,
            "flex": null,
            "flex_flow": null,
            "grid_area": null,
            "grid_auto_columns": null,
            "grid_auto_flow": null,
            "grid_auto_rows": null,
            "grid_column": null,
            "grid_gap": null,
            "grid_row": null,
            "grid_template_areas": null,
            "grid_template_columns": null,
            "grid_template_rows": null,
            "height": null,
            "justify_content": null,
            "justify_items": null,
            "left": null,
            "margin": null,
            "max_height": null,
            "max_width": null,
            "min_height": null,
            "min_width": null,
            "object_fit": null,
            "object_position": null,
            "order": null,
            "overflow": null,
            "overflow_x": null,
            "overflow_y": null,
            "padding": null,
            "right": null,
            "top": null,
            "visibility": null,
            "width": null
          }
        },
        "b37befe396c84ff493020051fe3c0751": {
          "model_module": "@jupyter-widgets/controls",
          "model_name": "ProgressStyleModel",
          "model_module_version": "1.5.0",
          "state": {
            "_model_module": "@jupyter-widgets/controls",
            "_model_module_version": "1.5.0",
            "_model_name": "ProgressStyleModel",
            "_view_count": null,
            "_view_module": "@jupyter-widgets/base",
            "_view_module_version": "1.2.0",
            "_view_name": "StyleView",
            "bar_color": null,
            "description_width": ""
          }
        },
        "8f36cb32e09e4363b3a1e29c36d82561": {
          "model_module": "@jupyter-widgets/base",
          "model_name": "LayoutModel",
          "model_module_version": "1.2.0",
          "state": {
            "_model_module": "@jupyter-widgets/base",
            "_model_module_version": "1.2.0",
            "_model_name": "LayoutModel",
            "_view_count": null,
            "_view_module": "@jupyter-widgets/base",
            "_view_module_version": "1.2.0",
            "_view_name": "LayoutView",
            "align_content": null,
            "align_items": null,
            "align_self": null,
            "border": null,
            "bottom": null,
            "display": null,
            "flex": null,
            "flex_flow": null,
            "grid_area": null,
            "grid_auto_columns": null,
            "grid_auto_flow": null,
            "grid_auto_rows": null,
            "grid_column": null,
            "grid_gap": null,
            "grid_row": null,
            "grid_template_areas": null,
            "grid_template_columns": null,
            "grid_template_rows": null,
            "height": null,
            "justify_content": null,
            "justify_items": null,
            "left": null,
            "margin": null,
            "max_height": null,
            "max_width": null,
            "min_height": null,
            "min_width": null,
            "object_fit": null,
            "object_position": null,
            "order": null,
            "overflow": null,
            "overflow_x": null,
            "overflow_y": null,
            "padding": null,
            "right": null,
            "top": null,
            "visibility": null,
            "width": null
          }
        },
        "e7efc11f43f444a4aa951c9d5f687eeb": {
          "model_module": "@jupyter-widgets/controls",
          "model_name": "DescriptionStyleModel",
          "model_module_version": "1.5.0",
          "state": {
            "_model_module": "@jupyter-widgets/controls",
            "_model_module_version": "1.5.0",
            "_model_name": "DescriptionStyleModel",
            "_view_count": null,
            "_view_module": "@jupyter-widgets/base",
            "_view_module_version": "1.2.0",
            "_view_name": "StyleView",
            "description_width": ""
          }
        },
        "cdff8f944492492284642a42ebafdb23": {
          "model_module": "@jupyter-widgets/controls",
          "model_name": "HBoxModel",
          "model_module_version": "1.5.0",
          "state": {
            "_dom_classes": [],
            "_model_module": "@jupyter-widgets/controls",
            "_model_module_version": "1.5.0",
            "_model_name": "HBoxModel",
            "_view_count": null,
            "_view_module": "@jupyter-widgets/controls",
            "_view_module_version": "1.5.0",
            "_view_name": "HBoxView",
            "box_style": "",
            "children": [
              "IPY_MODEL_f7468a086d5b444d8422087172b1bb60",
              "IPY_MODEL_71ecdea70e95479eb134e2759051cf50",
              "IPY_MODEL_ecd2e617b12e44bb8f3652a62d775cb4"
            ],
            "layout": "IPY_MODEL_07bf34fd735d480f98db1d53339c04de"
          }
        },
        "f7468a086d5b444d8422087172b1bb60": {
          "model_module": "@jupyter-widgets/controls",
          "model_name": "HTMLModel",
          "model_module_version": "1.5.0",
          "state": {
            "_dom_classes": [],
            "_model_module": "@jupyter-widgets/controls",
            "_model_module_version": "1.5.0",
            "_model_name": "HTMLModel",
            "_view_count": null,
            "_view_module": "@jupyter-widgets/controls",
            "_view_module_version": "1.5.0",
            "_view_name": "HTMLView",
            "description": "",
            "description_tooltip": null,
            "layout": "IPY_MODEL_ab2a232607e445e2ba34a5019853b74e",
            "placeholder": "​",
            "style": "IPY_MODEL_b7cad925e63449f28f59b00cc0f71934",
            "value": "Downloading (…)lve/main/config.json: 100%"
          }
        },
        "71ecdea70e95479eb134e2759051cf50": {
          "model_module": "@jupyter-widgets/controls",
          "model_name": "FloatProgressModel",
          "model_module_version": "1.5.0",
          "state": {
            "_dom_classes": [],
            "_model_module": "@jupyter-widgets/controls",
            "_model_module_version": "1.5.0",
            "_model_name": "FloatProgressModel",
            "_view_count": null,
            "_view_module": "@jupyter-widgets/controls",
            "_view_module_version": "1.5.0",
            "_view_name": "ProgressView",
            "bar_style": "success",
            "description": "",
            "description_tooltip": null,
            "layout": "IPY_MODEL_78acbbd0ebf544519fc1310a2c2e2a2e",
            "max": 483,
            "min": 0,
            "orientation": "horizontal",
            "style": "IPY_MODEL_422016e9de1e4112a6d17e5998b1cdb0",
            "value": 483
          }
        },
        "ecd2e617b12e44bb8f3652a62d775cb4": {
          "model_module": "@jupyter-widgets/controls",
          "model_name": "HTMLModel",
          "model_module_version": "1.5.0",
          "state": {
            "_dom_classes": [],
            "_model_module": "@jupyter-widgets/controls",
            "_model_module_version": "1.5.0",
            "_model_name": "HTMLModel",
            "_view_count": null,
            "_view_module": "@jupyter-widgets/controls",
            "_view_module_version": "1.5.0",
            "_view_name": "HTMLView",
            "description": "",
            "description_tooltip": null,
            "layout": "IPY_MODEL_852f909fc6454140abba59ceae6b1780",
            "placeholder": "​",
            "style": "IPY_MODEL_4c8bb3a6346b43d79a1f2357f61023e7",
            "value": " 483/483 [00:00&lt;00:00, 21.9kB/s]"
          }
        },
        "07bf34fd735d480f98db1d53339c04de": {
          "model_module": "@jupyter-widgets/base",
          "model_name": "LayoutModel",
          "model_module_version": "1.2.0",
          "state": {
            "_model_module": "@jupyter-widgets/base",
            "_model_module_version": "1.2.0",
            "_model_name": "LayoutModel",
            "_view_count": null,
            "_view_module": "@jupyter-widgets/base",
            "_view_module_version": "1.2.0",
            "_view_name": "LayoutView",
            "align_content": null,
            "align_items": null,
            "align_self": null,
            "border": null,
            "bottom": null,
            "display": null,
            "flex": null,
            "flex_flow": null,
            "grid_area": null,
            "grid_auto_columns": null,
            "grid_auto_flow": null,
            "grid_auto_rows": null,
            "grid_column": null,
            "grid_gap": null,
            "grid_row": null,
            "grid_template_areas": null,
            "grid_template_columns": null,
            "grid_template_rows": null,
            "height": null,
            "justify_content": null,
            "justify_items": null,
            "left": null,
            "margin": null,
            "max_height": null,
            "max_width": null,
            "min_height": null,
            "min_width": null,
            "object_fit": null,
            "object_position": null,
            "order": null,
            "overflow": null,
            "overflow_x": null,
            "overflow_y": null,
            "padding": null,
            "right": null,
            "top": null,
            "visibility": null,
            "width": null
          }
        },
        "ab2a232607e445e2ba34a5019853b74e": {
          "model_module": "@jupyter-widgets/base",
          "model_name": "LayoutModel",
          "model_module_version": "1.2.0",
          "state": {
            "_model_module": "@jupyter-widgets/base",
            "_model_module_version": "1.2.0",
            "_model_name": "LayoutModel",
            "_view_count": null,
            "_view_module": "@jupyter-widgets/base",
            "_view_module_version": "1.2.0",
            "_view_name": "LayoutView",
            "align_content": null,
            "align_items": null,
            "align_self": null,
            "border": null,
            "bottom": null,
            "display": null,
            "flex": null,
            "flex_flow": null,
            "grid_area": null,
            "grid_auto_columns": null,
            "grid_auto_flow": null,
            "grid_auto_rows": null,
            "grid_column": null,
            "grid_gap": null,
            "grid_row": null,
            "grid_template_areas": null,
            "grid_template_columns": null,
            "grid_template_rows": null,
            "height": null,
            "justify_content": null,
            "justify_items": null,
            "left": null,
            "margin": null,
            "max_height": null,
            "max_width": null,
            "min_height": null,
            "min_width": null,
            "object_fit": null,
            "object_position": null,
            "order": null,
            "overflow": null,
            "overflow_x": null,
            "overflow_y": null,
            "padding": null,
            "right": null,
            "top": null,
            "visibility": null,
            "width": null
          }
        },
        "b7cad925e63449f28f59b00cc0f71934": {
          "model_module": "@jupyter-widgets/controls",
          "model_name": "DescriptionStyleModel",
          "model_module_version": "1.5.0",
          "state": {
            "_model_module": "@jupyter-widgets/controls",
            "_model_module_version": "1.5.0",
            "_model_name": "DescriptionStyleModel",
            "_view_count": null,
            "_view_module": "@jupyter-widgets/base",
            "_view_module_version": "1.2.0",
            "_view_name": "StyleView",
            "description_width": ""
          }
        },
        "78acbbd0ebf544519fc1310a2c2e2a2e": {
          "model_module": "@jupyter-widgets/base",
          "model_name": "LayoutModel",
          "model_module_version": "1.2.0",
          "state": {
            "_model_module": "@jupyter-widgets/base",
            "_model_module_version": "1.2.0",
            "_model_name": "LayoutModel",
            "_view_count": null,
            "_view_module": "@jupyter-widgets/base",
            "_view_module_version": "1.2.0",
            "_view_name": "LayoutView",
            "align_content": null,
            "align_items": null,
            "align_self": null,
            "border": null,
            "bottom": null,
            "display": null,
            "flex": null,
            "flex_flow": null,
            "grid_area": null,
            "grid_auto_columns": null,
            "grid_auto_flow": null,
            "grid_auto_rows": null,
            "grid_column": null,
            "grid_gap": null,
            "grid_row": null,
            "grid_template_areas": null,
            "grid_template_columns": null,
            "grid_template_rows": null,
            "height": null,
            "justify_content": null,
            "justify_items": null,
            "left": null,
            "margin": null,
            "max_height": null,
            "max_width": null,
            "min_height": null,
            "min_width": null,
            "object_fit": null,
            "object_position": null,
            "order": null,
            "overflow": null,
            "overflow_x": null,
            "overflow_y": null,
            "padding": null,
            "right": null,
            "top": null,
            "visibility": null,
            "width": null
          }
        },
        "422016e9de1e4112a6d17e5998b1cdb0": {
          "model_module": "@jupyter-widgets/controls",
          "model_name": "ProgressStyleModel",
          "model_module_version": "1.5.0",
          "state": {
            "_model_module": "@jupyter-widgets/controls",
            "_model_module_version": "1.5.0",
            "_model_name": "ProgressStyleModel",
            "_view_count": null,
            "_view_module": "@jupyter-widgets/base",
            "_view_module_version": "1.2.0",
            "_view_name": "StyleView",
            "bar_color": null,
            "description_width": ""
          }
        },
        "852f909fc6454140abba59ceae6b1780": {
          "model_module": "@jupyter-widgets/base",
          "model_name": "LayoutModel",
          "model_module_version": "1.2.0",
          "state": {
            "_model_module": "@jupyter-widgets/base",
            "_model_module_version": "1.2.0",
            "_model_name": "LayoutModel",
            "_view_count": null,
            "_view_module": "@jupyter-widgets/base",
            "_view_module_version": "1.2.0",
            "_view_name": "LayoutView",
            "align_content": null,
            "align_items": null,
            "align_self": null,
            "border": null,
            "bottom": null,
            "display": null,
            "flex": null,
            "flex_flow": null,
            "grid_area": null,
            "grid_auto_columns": null,
            "grid_auto_flow": null,
            "grid_auto_rows": null,
            "grid_column": null,
            "grid_gap": null,
            "grid_row": null,
            "grid_template_areas": null,
            "grid_template_columns": null,
            "grid_template_rows": null,
            "height": null,
            "justify_content": null,
            "justify_items": null,
            "left": null,
            "margin": null,
            "max_height": null,
            "max_width": null,
            "min_height": null,
            "min_width": null,
            "object_fit": null,
            "object_position": null,
            "order": null,
            "overflow": null,
            "overflow_x": null,
            "overflow_y": null,
            "padding": null,
            "right": null,
            "top": null,
            "visibility": null,
            "width": null
          }
        },
        "4c8bb3a6346b43d79a1f2357f61023e7": {
          "model_module": "@jupyter-widgets/controls",
          "model_name": "DescriptionStyleModel",
          "model_module_version": "1.5.0",
          "state": {
            "_model_module": "@jupyter-widgets/controls",
            "_model_module_version": "1.5.0",
            "_model_name": "DescriptionStyleModel",
            "_view_count": null,
            "_view_module": "@jupyter-widgets/base",
            "_view_module_version": "1.2.0",
            "_view_name": "StyleView",
            "description_width": ""
          }
        },
        "b9a744a903d148c79f26a5c1e1169c99": {
          "model_module": "@jupyter-widgets/controls",
          "model_name": "HBoxModel",
          "model_module_version": "1.5.0",
          "state": {
            "_dom_classes": [],
            "_model_module": "@jupyter-widgets/controls",
            "_model_module_version": "1.5.0",
            "_model_name": "HBoxModel",
            "_view_count": null,
            "_view_module": "@jupyter-widgets/controls",
            "_view_module_version": "1.5.0",
            "_view_name": "HBoxView",
            "box_style": "",
            "children": [
              "IPY_MODEL_9749efb6b4b54a27b49729c1f7bcd484",
              "IPY_MODEL_80f62b5403454e299a9e0a2b4b8992cd",
              "IPY_MODEL_9d03f824b106468e9db98c01cf1cc093"
            ],
            "layout": "IPY_MODEL_dd15c473798d408eab856928277f8c2c"
          }
        },
        "9749efb6b4b54a27b49729c1f7bcd484": {
          "model_module": "@jupyter-widgets/controls",
          "model_name": "HTMLModel",
          "model_module_version": "1.5.0",
          "state": {
            "_dom_classes": [],
            "_model_module": "@jupyter-widgets/controls",
            "_model_module_version": "1.5.0",
            "_model_name": "HTMLModel",
            "_view_count": null,
            "_view_module": "@jupyter-widgets/controls",
            "_view_module_version": "1.5.0",
            "_view_name": "HTMLView",
            "description": "",
            "description_tooltip": null,
            "layout": "IPY_MODEL_08428fcc39b342cd94b10f1dfd64fe9e",
            "placeholder": "​",
            "style": "IPY_MODEL_a28b21191a514e278da1595e19506ea5",
            "value": "Downloading (…)solve/main/vocab.txt: 100%"
          }
        },
        "80f62b5403454e299a9e0a2b4b8992cd": {
          "model_module": "@jupyter-widgets/controls",
          "model_name": "FloatProgressModel",
          "model_module_version": "1.5.0",
          "state": {
            "_dom_classes": [],
            "_model_module": "@jupyter-widgets/controls",
            "_model_module_version": "1.5.0",
            "_model_name": "FloatProgressModel",
            "_view_count": null,
            "_view_module": "@jupyter-widgets/controls",
            "_view_module_version": "1.5.0",
            "_view_name": "ProgressView",
            "bar_style": "success",
            "description": "",
            "description_tooltip": null,
            "layout": "IPY_MODEL_8354a34986cc4b3ab7a29b7ea9870ff6",
            "max": 231508,
            "min": 0,
            "orientation": "horizontal",
            "style": "IPY_MODEL_b1f39b6a77f245efb164c25e969c4526",
            "value": 231508
          }
        },
        "9d03f824b106468e9db98c01cf1cc093": {
          "model_module": "@jupyter-widgets/controls",
          "model_name": "HTMLModel",
          "model_module_version": "1.5.0",
          "state": {
            "_dom_classes": [],
            "_model_module": "@jupyter-widgets/controls",
            "_model_module_version": "1.5.0",
            "_model_name": "HTMLModel",
            "_view_count": null,
            "_view_module": "@jupyter-widgets/controls",
            "_view_module_version": "1.5.0",
            "_view_name": "HTMLView",
            "description": "",
            "description_tooltip": null,
            "layout": "IPY_MODEL_200fa38ca0c14ee7b9c6d41e99d7b8dc",
            "placeholder": "​",
            "style": "IPY_MODEL_e35e3d4e3b7845049e7c899392c12175",
            "value": " 232k/232k [00:00&lt;00:00, 2.88MB/s]"
          }
        },
        "dd15c473798d408eab856928277f8c2c": {
          "model_module": "@jupyter-widgets/base",
          "model_name": "LayoutModel",
          "model_module_version": "1.2.0",
          "state": {
            "_model_module": "@jupyter-widgets/base",
            "_model_module_version": "1.2.0",
            "_model_name": "LayoutModel",
            "_view_count": null,
            "_view_module": "@jupyter-widgets/base",
            "_view_module_version": "1.2.0",
            "_view_name": "LayoutView",
            "align_content": null,
            "align_items": null,
            "align_self": null,
            "border": null,
            "bottom": null,
            "display": null,
            "flex": null,
            "flex_flow": null,
            "grid_area": null,
            "grid_auto_columns": null,
            "grid_auto_flow": null,
            "grid_auto_rows": null,
            "grid_column": null,
            "grid_gap": null,
            "grid_row": null,
            "grid_template_areas": null,
            "grid_template_columns": null,
            "grid_template_rows": null,
            "height": null,
            "justify_content": null,
            "justify_items": null,
            "left": null,
            "margin": null,
            "max_height": null,
            "max_width": null,
            "min_height": null,
            "min_width": null,
            "object_fit": null,
            "object_position": null,
            "order": null,
            "overflow": null,
            "overflow_x": null,
            "overflow_y": null,
            "padding": null,
            "right": null,
            "top": null,
            "visibility": null,
            "width": null
          }
        },
        "08428fcc39b342cd94b10f1dfd64fe9e": {
          "model_module": "@jupyter-widgets/base",
          "model_name": "LayoutModel",
          "model_module_version": "1.2.0",
          "state": {
            "_model_module": "@jupyter-widgets/base",
            "_model_module_version": "1.2.0",
            "_model_name": "LayoutModel",
            "_view_count": null,
            "_view_module": "@jupyter-widgets/base",
            "_view_module_version": "1.2.0",
            "_view_name": "LayoutView",
            "align_content": null,
            "align_items": null,
            "align_self": null,
            "border": null,
            "bottom": null,
            "display": null,
            "flex": null,
            "flex_flow": null,
            "grid_area": null,
            "grid_auto_columns": null,
            "grid_auto_flow": null,
            "grid_auto_rows": null,
            "grid_column": null,
            "grid_gap": null,
            "grid_row": null,
            "grid_template_areas": null,
            "grid_template_columns": null,
            "grid_template_rows": null,
            "height": null,
            "justify_content": null,
            "justify_items": null,
            "left": null,
            "margin": null,
            "max_height": null,
            "max_width": null,
            "min_height": null,
            "min_width": null,
            "object_fit": null,
            "object_position": null,
            "order": null,
            "overflow": null,
            "overflow_x": null,
            "overflow_y": null,
            "padding": null,
            "right": null,
            "top": null,
            "visibility": null,
            "width": null
          }
        },
        "a28b21191a514e278da1595e19506ea5": {
          "model_module": "@jupyter-widgets/controls",
          "model_name": "DescriptionStyleModel",
          "model_module_version": "1.5.0",
          "state": {
            "_model_module": "@jupyter-widgets/controls",
            "_model_module_version": "1.5.0",
            "_model_name": "DescriptionStyleModel",
            "_view_count": null,
            "_view_module": "@jupyter-widgets/base",
            "_view_module_version": "1.2.0",
            "_view_name": "StyleView",
            "description_width": ""
          }
        },
        "8354a34986cc4b3ab7a29b7ea9870ff6": {
          "model_module": "@jupyter-widgets/base",
          "model_name": "LayoutModel",
          "model_module_version": "1.2.0",
          "state": {
            "_model_module": "@jupyter-widgets/base",
            "_model_module_version": "1.2.0",
            "_model_name": "LayoutModel",
            "_view_count": null,
            "_view_module": "@jupyter-widgets/base",
            "_view_module_version": "1.2.0",
            "_view_name": "LayoutView",
            "align_content": null,
            "align_items": null,
            "align_self": null,
            "border": null,
            "bottom": null,
            "display": null,
            "flex": null,
            "flex_flow": null,
            "grid_area": null,
            "grid_auto_columns": null,
            "grid_auto_flow": null,
            "grid_auto_rows": null,
            "grid_column": null,
            "grid_gap": null,
            "grid_row": null,
            "grid_template_areas": null,
            "grid_template_columns": null,
            "grid_template_rows": null,
            "height": null,
            "justify_content": null,
            "justify_items": null,
            "left": null,
            "margin": null,
            "max_height": null,
            "max_width": null,
            "min_height": null,
            "min_width": null,
            "object_fit": null,
            "object_position": null,
            "order": null,
            "overflow": null,
            "overflow_x": null,
            "overflow_y": null,
            "padding": null,
            "right": null,
            "top": null,
            "visibility": null,
            "width": null
          }
        },
        "b1f39b6a77f245efb164c25e969c4526": {
          "model_module": "@jupyter-widgets/controls",
          "model_name": "ProgressStyleModel",
          "model_module_version": "1.5.0",
          "state": {
            "_model_module": "@jupyter-widgets/controls",
            "_model_module_version": "1.5.0",
            "_model_name": "ProgressStyleModel",
            "_view_count": null,
            "_view_module": "@jupyter-widgets/base",
            "_view_module_version": "1.2.0",
            "_view_name": "StyleView",
            "bar_color": null,
            "description_width": ""
          }
        },
        "200fa38ca0c14ee7b9c6d41e99d7b8dc": {
          "model_module": "@jupyter-widgets/base",
          "model_name": "LayoutModel",
          "model_module_version": "1.2.0",
          "state": {
            "_model_module": "@jupyter-widgets/base",
            "_model_module_version": "1.2.0",
            "_model_name": "LayoutModel",
            "_view_count": null,
            "_view_module": "@jupyter-widgets/base",
            "_view_module_version": "1.2.0",
            "_view_name": "LayoutView",
            "align_content": null,
            "align_items": null,
            "align_self": null,
            "border": null,
            "bottom": null,
            "display": null,
            "flex": null,
            "flex_flow": null,
            "grid_area": null,
            "grid_auto_columns": null,
            "grid_auto_flow": null,
            "grid_auto_rows": null,
            "grid_column": null,
            "grid_gap": null,
            "grid_row": null,
            "grid_template_areas": null,
            "grid_template_columns": null,
            "grid_template_rows": null,
            "height": null,
            "justify_content": null,
            "justify_items": null,
            "left": null,
            "margin": null,
            "max_height": null,
            "max_width": null,
            "min_height": null,
            "min_width": null,
            "object_fit": null,
            "object_position": null,
            "order": null,
            "overflow": null,
            "overflow_x": null,
            "overflow_y": null,
            "padding": null,
            "right": null,
            "top": null,
            "visibility": null,
            "width": null
          }
        },
        "e35e3d4e3b7845049e7c899392c12175": {
          "model_module": "@jupyter-widgets/controls",
          "model_name": "DescriptionStyleModel",
          "model_module_version": "1.5.0",
          "state": {
            "_model_module": "@jupyter-widgets/controls",
            "_model_module_version": "1.5.0",
            "_model_name": "DescriptionStyleModel",
            "_view_count": null,
            "_view_module": "@jupyter-widgets/base",
            "_view_module_version": "1.2.0",
            "_view_name": "StyleView",
            "description_width": ""
          }
        },
        "5d73e4f3e8d2462ebeefaed3b3d94feb": {
          "model_module": "@jupyter-widgets/controls",
          "model_name": "HBoxModel",
          "model_module_version": "1.5.0",
          "state": {
            "_dom_classes": [],
            "_model_module": "@jupyter-widgets/controls",
            "_model_module_version": "1.5.0",
            "_model_name": "HBoxModel",
            "_view_count": null,
            "_view_module": "@jupyter-widgets/controls",
            "_view_module_version": "1.5.0",
            "_view_name": "HBoxView",
            "box_style": "",
            "children": [
              "IPY_MODEL_0a8874ff3e1e48dab9ba30067aa996cb",
              "IPY_MODEL_ea3e768ef60c4836b7d51de55f991a83",
              "IPY_MODEL_cf749976cc534893ad40fd509ca53c34"
            ],
            "layout": "IPY_MODEL_b67a575aa4784cc5b6f6293c24390dae"
          }
        },
        "0a8874ff3e1e48dab9ba30067aa996cb": {
          "model_module": "@jupyter-widgets/controls",
          "model_name": "HTMLModel",
          "model_module_version": "1.5.0",
          "state": {
            "_dom_classes": [],
            "_model_module": "@jupyter-widgets/controls",
            "_model_module_version": "1.5.0",
            "_model_name": "HTMLModel",
            "_view_count": null,
            "_view_module": "@jupyter-widgets/controls",
            "_view_module_version": "1.5.0",
            "_view_name": "HTMLView",
            "description": "",
            "description_tooltip": null,
            "layout": "IPY_MODEL_fe47e20c92044fe2a6b13ccc9ddb16c5",
            "placeholder": "​",
            "style": "IPY_MODEL_fbc0233583174c5a94e325dbd4b8d213",
            "value": "Downloading pytorch_model.bin: 100%"
          }
        },
        "ea3e768ef60c4836b7d51de55f991a83": {
          "model_module": "@jupyter-widgets/controls",
          "model_name": "FloatProgressModel",
          "model_module_version": "1.5.0",
          "state": {
            "_dom_classes": [],
            "_model_module": "@jupyter-widgets/controls",
            "_model_module_version": "1.5.0",
            "_model_name": "FloatProgressModel",
            "_view_count": null,
            "_view_module": "@jupyter-widgets/controls",
            "_view_module_version": "1.5.0",
            "_view_name": "ProgressView",
            "bar_style": "success",
            "description": "",
            "description_tooltip": null,
            "layout": "IPY_MODEL_599b035a11c74772aa1f482f434d8178",
            "max": 267967963,
            "min": 0,
            "orientation": "horizontal",
            "style": "IPY_MODEL_d649e5f6f8d04c279fb5e47816af4413",
            "value": 267967963
          }
        },
        "cf749976cc534893ad40fd509ca53c34": {
          "model_module": "@jupyter-widgets/controls",
          "model_name": "HTMLModel",
          "model_module_version": "1.5.0",
          "state": {
            "_dom_classes": [],
            "_model_module": "@jupyter-widgets/controls",
            "_model_module_version": "1.5.0",
            "_model_name": "HTMLModel",
            "_view_count": null,
            "_view_module": "@jupyter-widgets/controls",
            "_view_module_version": "1.5.0",
            "_view_name": "HTMLView",
            "description": "",
            "description_tooltip": null,
            "layout": "IPY_MODEL_84e2ef9602bd4649ae48c59860f34a46",
            "placeholder": "​",
            "style": "IPY_MODEL_840f614ff3a440a4acbe51679c5383bf",
            "value": " 268M/268M [00:03&lt;00:00, 64.9MB/s]"
          }
        },
        "b67a575aa4784cc5b6f6293c24390dae": {
          "model_module": "@jupyter-widgets/base",
          "model_name": "LayoutModel",
          "model_module_version": "1.2.0",
          "state": {
            "_model_module": "@jupyter-widgets/base",
            "_model_module_version": "1.2.0",
            "_model_name": "LayoutModel",
            "_view_count": null,
            "_view_module": "@jupyter-widgets/base",
            "_view_module_version": "1.2.0",
            "_view_name": "LayoutView",
            "align_content": null,
            "align_items": null,
            "align_self": null,
            "border": null,
            "bottom": null,
            "display": null,
            "flex": null,
            "flex_flow": null,
            "grid_area": null,
            "grid_auto_columns": null,
            "grid_auto_flow": null,
            "grid_auto_rows": null,
            "grid_column": null,
            "grid_gap": null,
            "grid_row": null,
            "grid_template_areas": null,
            "grid_template_columns": null,
            "grid_template_rows": null,
            "height": null,
            "justify_content": null,
            "justify_items": null,
            "left": null,
            "margin": null,
            "max_height": null,
            "max_width": null,
            "min_height": null,
            "min_width": null,
            "object_fit": null,
            "object_position": null,
            "order": null,
            "overflow": null,
            "overflow_x": null,
            "overflow_y": null,
            "padding": null,
            "right": null,
            "top": null,
            "visibility": null,
            "width": null
          }
        },
        "fe47e20c92044fe2a6b13ccc9ddb16c5": {
          "model_module": "@jupyter-widgets/base",
          "model_name": "LayoutModel",
          "model_module_version": "1.2.0",
          "state": {
            "_model_module": "@jupyter-widgets/base",
            "_model_module_version": "1.2.0",
            "_model_name": "LayoutModel",
            "_view_count": null,
            "_view_module": "@jupyter-widgets/base",
            "_view_module_version": "1.2.0",
            "_view_name": "LayoutView",
            "align_content": null,
            "align_items": null,
            "align_self": null,
            "border": null,
            "bottom": null,
            "display": null,
            "flex": null,
            "flex_flow": null,
            "grid_area": null,
            "grid_auto_columns": null,
            "grid_auto_flow": null,
            "grid_auto_rows": null,
            "grid_column": null,
            "grid_gap": null,
            "grid_row": null,
            "grid_template_areas": null,
            "grid_template_columns": null,
            "grid_template_rows": null,
            "height": null,
            "justify_content": null,
            "justify_items": null,
            "left": null,
            "margin": null,
            "max_height": null,
            "max_width": null,
            "min_height": null,
            "min_width": null,
            "object_fit": null,
            "object_position": null,
            "order": null,
            "overflow": null,
            "overflow_x": null,
            "overflow_y": null,
            "padding": null,
            "right": null,
            "top": null,
            "visibility": null,
            "width": null
          }
        },
        "fbc0233583174c5a94e325dbd4b8d213": {
          "model_module": "@jupyter-widgets/controls",
          "model_name": "DescriptionStyleModel",
          "model_module_version": "1.5.0",
          "state": {
            "_model_module": "@jupyter-widgets/controls",
            "_model_module_version": "1.5.0",
            "_model_name": "DescriptionStyleModel",
            "_view_count": null,
            "_view_module": "@jupyter-widgets/base",
            "_view_module_version": "1.2.0",
            "_view_name": "StyleView",
            "description_width": ""
          }
        },
        "599b035a11c74772aa1f482f434d8178": {
          "model_module": "@jupyter-widgets/base",
          "model_name": "LayoutModel",
          "model_module_version": "1.2.0",
          "state": {
            "_model_module": "@jupyter-widgets/base",
            "_model_module_version": "1.2.0",
            "_model_name": "LayoutModel",
            "_view_count": null,
            "_view_module": "@jupyter-widgets/base",
            "_view_module_version": "1.2.0",
            "_view_name": "LayoutView",
            "align_content": null,
            "align_items": null,
            "align_self": null,
            "border": null,
            "bottom": null,
            "display": null,
            "flex": null,
            "flex_flow": null,
            "grid_area": null,
            "grid_auto_columns": null,
            "grid_auto_flow": null,
            "grid_auto_rows": null,
            "grid_column": null,
            "grid_gap": null,
            "grid_row": null,
            "grid_template_areas": null,
            "grid_template_columns": null,
            "grid_template_rows": null,
            "height": null,
            "justify_content": null,
            "justify_items": null,
            "left": null,
            "margin": null,
            "max_height": null,
            "max_width": null,
            "min_height": null,
            "min_width": null,
            "object_fit": null,
            "object_position": null,
            "order": null,
            "overflow": null,
            "overflow_x": null,
            "overflow_y": null,
            "padding": null,
            "right": null,
            "top": null,
            "visibility": null,
            "width": null
          }
        },
        "d649e5f6f8d04c279fb5e47816af4413": {
          "model_module": "@jupyter-widgets/controls",
          "model_name": "ProgressStyleModel",
          "model_module_version": "1.5.0",
          "state": {
            "_model_module": "@jupyter-widgets/controls",
            "_model_module_version": "1.5.0",
            "_model_name": "ProgressStyleModel",
            "_view_count": null,
            "_view_module": "@jupyter-widgets/base",
            "_view_module_version": "1.2.0",
            "_view_name": "StyleView",
            "bar_color": null,
            "description_width": ""
          }
        },
        "84e2ef9602bd4649ae48c59860f34a46": {
          "model_module": "@jupyter-widgets/base",
          "model_name": "LayoutModel",
          "model_module_version": "1.2.0",
          "state": {
            "_model_module": "@jupyter-widgets/base",
            "_model_module_version": "1.2.0",
            "_model_name": "LayoutModel",
            "_view_count": null,
            "_view_module": "@jupyter-widgets/base",
            "_view_module_version": "1.2.0",
            "_view_name": "LayoutView",
            "align_content": null,
            "align_items": null,
            "align_self": null,
            "border": null,
            "bottom": null,
            "display": null,
            "flex": null,
            "flex_flow": null,
            "grid_area": null,
            "grid_auto_columns": null,
            "grid_auto_flow": null,
            "grid_auto_rows": null,
            "grid_column": null,
            "grid_gap": null,
            "grid_row": null,
            "grid_template_areas": null,
            "grid_template_columns": null,
            "grid_template_rows": null,
            "height": null,
            "justify_content": null,
            "justify_items": null,
            "left": null,
            "margin": null,
            "max_height": null,
            "max_width": null,
            "min_height": null,
            "min_width": null,
            "object_fit": null,
            "object_position": null,
            "order": null,
            "overflow": null,
            "overflow_x": null,
            "overflow_y": null,
            "padding": null,
            "right": null,
            "top": null,
            "visibility": null,
            "width": null
          }
        },
        "840f614ff3a440a4acbe51679c5383bf": {
          "model_module": "@jupyter-widgets/controls",
          "model_name": "DescriptionStyleModel",
          "model_module_version": "1.5.0",
          "state": {
            "_model_module": "@jupyter-widgets/controls",
            "_model_module_version": "1.5.0",
            "_model_name": "DescriptionStyleModel",
            "_view_count": null,
            "_view_module": "@jupyter-widgets/base",
            "_view_module_version": "1.2.0",
            "_view_name": "StyleView",
            "description_width": ""
          }
        }
      }
    }
  },
  "nbformat": 4,
  "nbformat_minor": 0
}