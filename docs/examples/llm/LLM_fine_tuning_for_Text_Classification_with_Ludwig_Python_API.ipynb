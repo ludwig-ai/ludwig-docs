{
  "cells": [
    {
      "cell_type": "markdown",
      "metadata": {
        "id": "dqW_BZ60kyWP"
      },
      "source": [
        "# LLM fine-tuning for Text Classification with AG's News Topics - Python API\n",
        "\n",
        "*We recommend using a GPU runtime for this example. In the Colab menu bar, choose **Runtime** > **Change Runtime Type** and choose **GPU** under Hardware Accelerator.*"
      ]
    },
    {
      "cell_type": "code",
      "execution_count": null,
      "metadata": {
        "id": "FczUptADgreZ"
      },
      "outputs": [],
      "source": [
        "# Prerequisite: Installs the latest version of Ludwig in the Colab environment\n",
        "%pip uninstall -y tensorflow --quiet\n",
        "%pip install ludwig --quiet\n",
        "%pip install ludwig[viz] --quiet"
      ]
    },
    {
      "cell_type": "markdown",
      "metadata": {
        "id": "zYOMqI9UiBpz"
      },
      "source": [
        "# Download Dataset\n",
        "\n",
        "We'll be using AG's news topic classification dataset, a common benchmark dataset for text classification. This dataset is a subset of the full AG news dataset, constructed by choosing 4 largest classes from the original corpus. Each class contains 30,000 training samples and 1,900 testing samples. The total number of training samples is 120,000 and testing 7,600.\n",
        "\n",
        "\n",
        "This dataset contains four columns:\n",
        "\n",
        "| column      | description                                                |\n",
        "|-------------|------------------------------------------------------------|\n",
        "| class_index | integer 1-4 corresponding to \"world\", \"sports\", \"business\", \"sci_tech\" respectively |\n",
        "| class       | The topic label, one of \"world\", \"sports\", \"business\", \"sci_tech\" |\n",
        "| title       | Title of the news article                                  |\n",
        "| description | Description of the news article                            |\n"
      ]
    },
    {
      "cell_type": "code",
      "execution_count": 2,
      "metadata": {
        "colab": {
          "base_uri": "https://localhost:8080/",
          "height": 241
        },
        "id": "5vmJL7v1iAdM",
        "outputId": "56d27200-58b3-46a9-93fe-3ff041e6fd36"
      },
      "outputs": [
        {
          "name": "stderr",
          "output_type": "stream",
          "text": [
            "train.csv: 28.1MB [00:01, 19.5MB/s]                            \n",
            "test.csv: 1.77MB [00:00, 5.66MB/s]                            \n"
          ]
        },
        {
          "data": {
            "text/html": [
              "\n",
              "  <div id=\"df-8a920d7a-2579-4603-a86d-00b1a2550d36\">\n",
              "    <div class=\"colab-df-container\">\n",
              "      <div>\n",
              "<style scoped>\n",
              "    .dataframe tbody tr th:only-of-type {\n",
              "        vertical-align: middle;\n",
              "    }\n",
              "\n",
              "    .dataframe tbody tr th {\n",
              "        vertical-align: top;\n",
              "    }\n",
              "\n",
              "    .dataframe thead th {\n",
              "        text-align: right;\n",
              "    }\n",
              "</style>\n",
              "<table border=\"1\" class=\"dataframe\">\n",
              "  <thead>\n",
              "    <tr style=\"text-align: right;\">\n",
              "      <th></th>\n",
              "      <th>class_index</th>\n",
              "      <th>title</th>\n",
              "      <th>description</th>\n",
              "      <th>class</th>\n",
              "    </tr>\n",
              "  </thead>\n",
              "  <tbody>\n",
              "    <tr>\n",
              "      <th>4059</th>\n",
              "      <td>4</td>\n",
              "      <td>News: DIY phishing kits hit the Net</td>\n",
              "      <td>Do-it-yourself phishing kits are being made av...</td>\n",
              "      <td>sci_tech</td>\n",
              "    </tr>\n",
              "    <tr>\n",
              "      <th>4080</th>\n",
              "      <td>4</td>\n",
              "      <td>Two NCSSM students win national team science c...</td>\n",
              "      <td>Two students at the Durham NC School of Scienc...</td>\n",
              "      <td>sci_tech</td>\n",
              "    </tr>\n",
              "    <tr>\n",
              "      <th>4108</th>\n",
              "      <td>4</td>\n",
              "      <td>Web Sites Agree to Be Accessible to Blind (AP)</td>\n",
              "      <td>AP - In one of the first enforcement actions o...</td>\n",
              "      <td>sci_tech</td>\n",
              "    </tr>\n",
              "    <tr>\n",
              "      <th>4109</th>\n",
              "      <td>4</td>\n",
              "      <td>European Winters Could Disappear by 2080 - Rep...</td>\n",
              "      <td>Reuters - Europe is warming up\\more quickly th...</td>\n",
              "      <td>sci_tech</td>\n",
              "    </tr>\n",
              "    <tr>\n",
              "      <th>4110</th>\n",
              "      <td>4</td>\n",
              "      <td>Charter Schools and Testing Collide</td>\n",
              "      <td>The education policy of the Bush administratio...</td>\n",
              "      <td>sci_tech</td>\n",
              "    </tr>\n",
              "  </tbody>\n",
              "</table>\n",
              "</div>\n",
              "      <button class=\"colab-df-convert\" onclick=\"convertToInteractive('df-8a920d7a-2579-4603-a86d-00b1a2550d36')\"\n",
              "              title=\"Convert this dataframe to an interactive table.\"\n",
              "              style=\"display:none;\">\n",
              "        \n",
              "  <svg xmlns=\"http://www.w3.org/2000/svg\" height=\"24px\"viewBox=\"0 0 24 24\"\n",
              "       width=\"24px\">\n",
              "    <path d=\"M0 0h24v24H0V0z\" fill=\"none\"/>\n",
              "    <path d=\"M18.56 5.44l.94 2.06.94-2.06 2.06-.94-2.06-.94-.94-2.06-.94 2.06-2.06.94zm-11 1L8.5 8.5l.94-2.06 2.06-.94-2.06-.94L8.5 2.5l-.94 2.06-2.06.94zm10 10l.94 2.06.94-2.06 2.06-.94-2.06-.94-.94-2.06-.94 2.06-2.06.94z\"/><path d=\"M17.41 7.96l-1.37-1.37c-.4-.4-.92-.59-1.43-.59-.52 0-1.04.2-1.43.59L10.3 9.45l-7.72 7.72c-.78.78-.78 2.05 0 2.83L4 21.41c.39.39.9.59 1.41.59.51 0 1.02-.2 1.41-.59l7.78-7.78 2.81-2.81c.8-.78.8-2.07 0-2.86zM5.41 20L4 18.59l7.72-7.72 1.47 1.35L5.41 20z\"/>\n",
              "  </svg>\n",
              "      </button>\n",
              "      \n",
              "  <style>\n",
              "    .colab-df-container {\n",
              "      display:flex;\n",
              "      flex-wrap:wrap;\n",
              "      gap: 12px;\n",
              "    }\n",
              "\n",
              "    .colab-df-convert {\n",
              "      background-color: #E8F0FE;\n",
              "      border: none;\n",
              "      border-radius: 50%;\n",
              "      cursor: pointer;\n",
              "      display: none;\n",
              "      fill: #1967D2;\n",
              "      height: 32px;\n",
              "      padding: 0 0 0 0;\n",
              "      width: 32px;\n",
              "    }\n",
              "\n",
              "    .colab-df-convert:hover {\n",
              "      background-color: #E2EBFA;\n",
              "      box-shadow: 0px 1px 2px rgba(60, 64, 67, 0.3), 0px 1px 3px 1px rgba(60, 64, 67, 0.15);\n",
              "      fill: #174EA6;\n",
              "    }\n",
              "\n",
              "    [theme=dark] .colab-df-convert {\n",
              "      background-color: #3B4455;\n",
              "      fill: #D2E3FC;\n",
              "    }\n",
              "\n",
              "    [theme=dark] .colab-df-convert:hover {\n",
              "      background-color: #434B5C;\n",
              "      box-shadow: 0px 1px 3px 1px rgba(0, 0, 0, 0.15);\n",
              "      filter: drop-shadow(0px 1px 2px rgba(0, 0, 0, 0.3));\n",
              "      fill: #FFFFFF;\n",
              "    }\n",
              "  </style>\n",
              "\n",
              "      <script>\n",
              "        const buttonEl =\n",
              "          document.querySelector('#df-8a920d7a-2579-4603-a86d-00b1a2550d36 button.colab-df-convert');\n",
              "        buttonEl.style.display =\n",
              "          google.colab.kernel.accessAllowed ? 'block' : 'none';\n",
              "\n",
              "        async function convertToInteractive(key) {\n",
              "          const element = document.querySelector('#df-8a920d7a-2579-4603-a86d-00b1a2550d36');\n",
              "          const dataTable =\n",
              "            await google.colab.kernel.invokeFunction('convertToInteractive',\n",
              "                                                     [key], {});\n",
              "          if (!dataTable) return;\n",
              "\n",
              "          const docLinkHtml = 'Like what you see? Visit the ' +\n",
              "            '<a target=\"_blank\" href=https://colab.research.google.com/notebooks/data_table.ipynb>data table notebook</a>'\n",
              "            + ' to learn more about interactive tables.';\n",
              "          element.innerHTML = '';\n",
              "          dataTable['output_type'] = 'display_data';\n",
              "          await google.colab.output.renderOutput(dataTable, element);\n",
              "          const docLink = document.createElement('div');\n",
              "          docLink.innerHTML = docLinkHtml;\n",
              "          element.appendChild(docLink);\n",
              "        }\n",
              "      </script>\n",
              "    </div>\n",
              "  </div>\n",
              "  "
            ],
            "text/plain": [
              "      class_index                                              title  \\\n",
              "4059            4                News: DIY phishing kits hit the Net   \n",
              "4080            4  Two NCSSM students win national team science c...   \n",
              "4108            4     Web Sites Agree to Be Accessible to Blind (AP)   \n",
              "4109            4  European Winters Could Disappear by 2080 - Rep...   \n",
              "4110            4                Charter Schools and Testing Collide   \n",
              "\n",
              "                                            description     class  \n",
              "4059  Do-it-yourself phishing kits are being made av...  sci_tech  \n",
              "4080  Two students at the Durham NC School of Scienc...  sci_tech  \n",
              "4108  AP - In one of the first enforcement actions o...  sci_tech  \n",
              "4109  Reuters - Europe is warming up\\more quickly th...  sci_tech  \n",
              "4110  The education policy of the Bush administratio...  sci_tech  "
            ]
          },
          "execution_count": 2,
          "metadata": {},
          "output_type": "execute_result"
        }
      ],
      "source": [
        "from ludwig.datasets import agnews\n",
        "\n",
        "# Loads the dataset as a pandas.DataFrame\n",
        "train_df, test_df, _ = agnews.load(split=True)\n",
        "\n",
        "# Prints a preview of the first five rows.\n",
        "train_df.head(5)"
      ]
    },
    {
      "cell_type": "markdown",
      "metadata": {
        "id": "vtSyZji4C-7t"
      },
      "source": [
        "# Train"
      ]
    },
    {
      "cell_type": "markdown",
      "metadata": {
        "id": "m-7NypeYh2hb"
      },
      "source": [
        "## Define ludwig config\n",
        "\n",
        "The Ludwig config declares the machine learning task. It tells Ludwig what to predict, what columns to use as input, and optionally specifies the model type and hyperparameters.\n",
        "\n",
        "Here, for simplicity, we'll try to predict **class** from **title**."
      ]
    },
    {
      "attachments": {},
      "cell_type": "markdown",
      "metadata": {
        "id": "FD8F5_whGhNq"
      },
      "source": [
        "# Train a model using distilbert\n",
        "\n",
        "One of the advantages of using a configuration system is that you can just change one line in the configuration and train a new model.\n",
        "\n",
        "NOTE that We are using `distilbert` because it is small enough to run a few epochs in colab. bigger models like `BERT`, `RoBERTa`, `T5`, can get better results, but may timeout on colab so we suggest to run them in a private environment. Look at the end of the notebook for an example of how to train very large models like `Bloom` using multiple GPUs."
      ]
    },
    {
      "cell_type": "code",
      "execution_count": null,
      "metadata": {
        "colab": {
          "base_uri": "https://localhost:8080/",
          "height": 1000,
          "referenced_widgets": [
            "5d6d38c64a3944bda2f989ee9faaf286",
            "b6e8c3c1ee524c428320a5b858f5ce45",
            "4a264b6ab9c343a6b239c8a26c50dd65",
            "2048907283a0422fbd99404ae6624ecf",
            "b022de85ad8649e3962fb353c7c14e95",
            "c007a659f60d4e19b69f051291f7fb9e",
            "7ca3deecce3c4c5987746ab33361fc3f",
            "ae32ec995d5747cd9b2ea240cb6d6b01",
            "b37befe396c84ff493020051fe3c0751",
            "8f36cb32e09e4363b3a1e29c36d82561",
            "e7efc11f43f444a4aa951c9d5f687eeb",
            "cdff8f944492492284642a42ebafdb23",
            "f7468a086d5b444d8422087172b1bb60",
            "71ecdea70e95479eb134e2759051cf50",
            "ecd2e617b12e44bb8f3652a62d775cb4",
            "07bf34fd735d480f98db1d53339c04de",
            "ab2a232607e445e2ba34a5019853b74e",
            "b7cad925e63449f28f59b00cc0f71934",
            "78acbbd0ebf544519fc1310a2c2e2a2e",
            "422016e9de1e4112a6d17e5998b1cdb0",
            "852f909fc6454140abba59ceae6b1780",
            "4c8bb3a6346b43d79a1f2357f61023e7",
            "b9a744a903d148c79f26a5c1e1169c99",
            "9749efb6b4b54a27b49729c1f7bcd484",
            "80f62b5403454e299a9e0a2b4b8992cd",
            "9d03f824b106468e9db98c01cf1cc093",
            "dd15c473798d408eab856928277f8c2c",
            "08428fcc39b342cd94b10f1dfd64fe9e",
            "a28b21191a514e278da1595e19506ea5",
            "8354a34986cc4b3ab7a29b7ea9870ff6",
            "b1f39b6a77f245efb164c25e969c4526",
            "200fa38ca0c14ee7b9c6d41e99d7b8dc",
            "e35e3d4e3b7845049e7c899392c12175",
            "5d73e4f3e8d2462ebeefaed3b3d94feb",
            "0a8874ff3e1e48dab9ba30067aa996cb",
            "ea3e768ef60c4836b7d51de55f991a83",
            "cf749976cc534893ad40fd509ca53c34",
            "b67a575aa4784cc5b6f6293c24390dae",
            "fe47e20c92044fe2a6b13ccc9ddb16c5",
            "fbc0233583174c5a94e325dbd4b8d213",
            "599b035a11c74772aa1f482f434d8178",
            "d649e5f6f8d04c279fb5e47816af4413",
            "84e2ef9602bd4649ae48c59860f34a46",
            "840f614ff3a440a4acbe51679c5383bf"
          ]
        },
        "id": "TA9HnltKG31o",
        "outputId": "a3a7ef98-c46d-48f4-afae-ee744e110eef"
      },
      "outputs": [
        {
          "name": "stderr",
          "output_type": "stream",
          "text": [
            "INFO:ludwig.utils.print_utils:\n",
            "INFO:ludwig.utils.print_utils:╒════════════════════════╕\n",
            "INFO:ludwig.utils.print_utils:│ EXPERIMENT DESCRIPTION │\n",
            "INFO:ludwig.utils.print_utils:╘════════════════════════╛\n",
            "INFO:ludwig.utils.print_utils:\n",
            "INFO:ludwig.api:╒══════════════════╤═════════════════════════════════════════════════════════════════════════════════════════╕\n",
            "│ Experiment name  │ api_experiment                                                                          │\n",
            "├──────────────────┼─────────────────────────────────────────────────────────────────────────────────────────┤\n",
            "│ Model name       │ run                                                                                     │\n",
            "├──────────────────┼─────────────────────────────────────────────────────────────────────────────────────────┤\n",
            "│ Output directory │ /content/results/api_experiment_run_1                                                   │\n",
            "├──────────────────┼─────────────────────────────────────────────────────────────────────────────────────────┤\n",
            "│ ludwig_version   │ '0.8.dev'                                                                               │\n",
            "├──────────────────┼─────────────────────────────────────────────────────────────────────────────────────────┤\n",
            "│ command          │ ('/usr/local/lib/python3.9/dist-packages/ipykernel_launcher.py -f '                     │\n",
            "│                  │  '/root/.local/share/jupyter/runtime/kernel-6f320aa7-2020-4b94-8cef-40c8dfa3eb61.json') │\n",
            "├──────────────────┼─────────────────────────────────────────────────────────────────────────────────────────┤\n",
            "│ random_seed      │ 42                                                                                      │\n",
            "├──────────────────┼─────────────────────────────────────────────────────────────────────────────────────────┤\n",
            "│ data_format      │ \"<class 'pandas.core.frame.DataFrame'>\"                                                 │\n",
            "├──────────────────┼─────────────────────────────────────────────────────────────────────────────────────────┤\n",
            "│ torch_version    │ '2.0.0+cu118'                                                                           │\n",
            "├──────────────────┼─────────────────────────────────────────────────────────────────────────────────────────┤\n",
            "│ compute          │ {'gpu_type': 'Tesla T4', 'gpus_per_node': 1, 'num_nodes': 1}                            │\n",
            "╘══════════════════╧═════════════════════════════════════════════════════════════════════════════════════════╛\n",
            "INFO:ludwig.utils.print_utils:\n",
            "INFO:ludwig.utils.print_utils:╒═══════════════╕\n",
            "INFO:ludwig.utils.print_utils:│ LUDWIG CONFIG │\n",
            "INFO:ludwig.utils.print_utils:╘═══════════════╛\n",
            "INFO:ludwig.utils.print_utils:\n",
            "INFO:ludwig.api:User-specified config (with upgrades):\n",
            "\n",
            "INFO:ludwig.api:{   'input_features': [   {   'encoder': {   'trainable': True,\n",
            "                                             'type': 'distilbert'},\n",
            "                              'name': 'description',\n",
            "                              'type': 'text'}],\n",
            "    'ludwig_version': '0.8.dev',\n",
            "    'output_features': [{'name': 'class', 'type': 'category'}],\n",
            "    'trainer': {   'batch_size': 32,\n",
            "                   'epochs': 3,\n",
            "                   'learning_rate': 1e-05,\n",
            "                   'learning_rate_scheduler': {   'decay': 'linear',\n",
            "                                                  'warmup_fraction': 0.2},\n",
            "                   'optimizer': {'type': 'adamw'},\n",
            "                   'use_mixed_precision': True}}\n",
            "INFO:ludwig.api:\n",
            "Full config saved to:\n",
            "/content/results/api_experiment_run_1/api_experiment/model/model_hyperparameters.json\n",
            "INFO:ludwig.utils.print_utils:\n",
            "INFO:ludwig.utils.print_utils:╒═══════════════╕\n",
            "INFO:ludwig.utils.print_utils:│ PREPROCESSING │\n",
            "INFO:ludwig.utils.print_utils:╘═══════════════╛\n",
            "INFO:ludwig.utils.print_utils:\n",
            "INFO:ludwig.data.preprocessing:No cached dataset found at /content/abc10d74d27c11ed8a1d0242ac1c000c.training.hdf5. Preprocessing the dataset.\n",
            "INFO:ludwig.data.preprocessing:Using full dataframe\n",
            "INFO:ludwig.data.preprocessing:Building dataset (it may take a while)\n"
          ]
        },
        {
          "data": {
            "application/vnd.jupyter.widget-view+json": {
              "model_id": "5d6d38c64a3944bda2f989ee9faaf286",
              "version_major": 2,
              "version_minor": 0
            },
            "text/plain": [
              "Downloading (…)okenizer_config.json:   0%|          | 0.00/28.0 [00:00<?, ?B/s]"
            ]
          },
          "metadata": {},
          "output_type": "display_data"
        },
        {
          "data": {
            "application/vnd.jupyter.widget-view+json": {
              "model_id": "cdff8f944492492284642a42ebafdb23",
              "version_major": 2,
              "version_minor": 0
            },
            "text/plain": [
              "Downloading (…)lve/main/config.json:   0%|          | 0.00/483 [00:00<?, ?B/s]"
            ]
          },
          "metadata": {},
          "output_type": "display_data"
        },
        {
          "data": {
            "application/vnd.jupyter.widget-view+json": {
              "model_id": "b9a744a903d148c79f26a5c1e1169c99",
              "version_major": 2,
              "version_minor": 0
            },
            "text/plain": [
              "Downloading (…)solve/main/vocab.txt:   0%|          | 0.00/232k [00:00<?, ?B/s]"
            ]
          },
          "metadata": {},
          "output_type": "display_data"
        },
        {
          "name": "stderr",
          "output_type": "stream",
          "text": [
            "INFO:ludwig.utils.tokenizers:Loaded TorchText implementation of distilbert-base-uncased tokenizer\n",
            "INFO:ludwig.features.text_feature:Max length of feature 'description': 372 (without start and stop symbols)\n",
            "INFO:ludwig.features.text_feature:Setting max length using dataset: 374 (including start and stop symbols)\n",
            "INFO:ludwig.features.text_feature:Truncating max length with max_sequence_length=256 from preprocessing parameters\n",
            "INFO:ludwig.features.text_feature:max sequence length is 256 for feature 'description'\n",
            "INFO:ludwig.utils.tokenizers:Loaded TorchText implementation of distilbert-base-uncased tokenizer\n",
            "INFO:ludwig.data.preprocessing:Building dataset: DONE\n",
            "INFO:ludwig.data.cache.manager:Writing preprocessed training set cache to /content/abc10d74d27c11ed8a1d0242ac1c000c.training.hdf5\n",
            "INFO:ludwig.data.cache.manager:Writing preprocessed validation set cache to /content/abc10d74d27c11ed8a1d0242ac1c000c.validation.hdf5\n",
            "INFO:ludwig.data.cache.manager:Writing preprocessed test set cache to /content/abc10d74d27c11ed8a1d0242ac1c000c.test.hdf5\n",
            "INFO:ludwig.data.cache.manager:Writing train set metadata to /content/abc10d74d27c11ed8a1d0242ac1c000c.meta.json\n",
            "INFO:ludwig.api:\n",
            "Dataset Statistics\n",
            "INFO:ludwig.api:╒════════════╤═══════════════╤════════════════════╕\n",
            "│ Dataset    │   Size (Rows) │ Size (In Memory)   │\n",
            "╞════════════╪═══════════════╪════════════════════╡\n",
            "│ Training   │         80430 │ 9.28 Mb            │\n",
            "├────────────┼───────────────┼────────────────────┤\n",
            "│ Validation │         11489 │ 1.33 Mb            │\n",
            "├────────────┼───────────────┼────────────────────┤\n",
            "│ Test       │         22980 │ 2.65 Mb            │\n",
            "╘════════════╧═══════════════╧════════════════════╛\n",
            "INFO:ludwig.utils.print_utils:\n",
            "INFO:ludwig.utils.print_utils:╒═══════╕\n",
            "INFO:ludwig.utils.print_utils:│ MODEL │\n",
            "INFO:ludwig.utils.print_utils:╘═══════╛\n",
            "INFO:ludwig.utils.print_utils:\n",
            "INFO:ludwig.api:Warnings and other logs:\n"
          ]
        },
        {
          "data": {
            "application/vnd.jupyter.widget-view+json": {
              "model_id": "5d73e4f3e8d2462ebeefaed3b3d94feb",
              "version_major": 2,
              "version_minor": 0
            },
            "text/plain": [
              "Downloading pytorch_model.bin:   0%|          | 0.00/268M [00:00<?, ?B/s]"
            ]
          },
          "metadata": {},
          "output_type": "display_data"
        },
        {
          "name": "stderr",
          "output_type": "stream",
          "text": [
            "Some weights of the model checkpoint at distilbert-base-uncased were not used when initializing DistilBertModel: ['vocab_transform.weight', 'vocab_layer_norm.bias', 'vocab_projector.weight', 'vocab_layer_norm.weight', 'vocab_projector.bias', 'vocab_transform.bias']\n",
            "- This IS expected if you are initializing DistilBertModel from the checkpoint of a model trained on another task or with another architecture (e.g. initializing a BertForSequenceClassification model from a BertForPreTraining model).\n",
            "- This IS NOT expected if you are initializing DistilBertModel from the checkpoint of a model that you expect to be exactly identical (initializing a BertForSequenceClassification model from a BertForSequenceClassification model).\n",
            "INFO:ludwig.trainers.trainer:Enabling automatic mixed precision (AMP)\n",
            "INFO:ludwig.utils.print_utils:\n",
            "INFO:ludwig.utils.print_utils:╒══════════╕\n",
            "INFO:ludwig.utils.print_utils:│ TRAINING │\n",
            "INFO:ludwig.utils.print_utils:╘══════════╛\n",
            "INFO:ludwig.utils.print_utils:\n",
            "INFO:ludwig.trainers.trainer:Creating fresh model training run.\n",
            "INFO:ludwig.trainers.trainer:Training for 7542 step(s), approximately 3 epoch(s).\n",
            "INFO:ludwig.trainers.trainer:Early stopping policy: 5 round(s) of evaluation, or 12570 step(s), approximately 5 epoch(s).\n",
            "\n",
            "INFO:ludwig.trainers.trainer:Starting with step 0, epoch: 0\n"
          ]
        },
        {
          "name": "stdout",
          "output_type": "stream",
          "text": [
            "Training:   0%|          | 1/7542 [00:00<34:53,  3.60it/s]"
          ]
        },
        {
          "name": "stderr",
          "output_type": "stream",
          "text": [
            "/usr/local/lib/python3.9/dist-packages/torch/optim/lr_scheduler.py:139: UserWarning: Detected call of `lr_scheduler.step()` before `optimizer.step()`. In PyTorch 1.1.0 and later, you should call them in the opposite order: `optimizer.step()` before `lr_scheduler.step()`.  Failure to do this will result in PyTorch skipping the first value of the learning rate schedule. See more details at https://pytorch.org/docs/stable/optim.html#how-to-adjust-learning-rate\n",
            "  warnings.warn(\"Detected call of `lr_scheduler.step()` before `optimizer.step()`. \"\n"
          ]
        },
        {
          "name": "stdout",
          "output_type": "stream",
          "text": [
            "Training:  33%|███▎      | 2514/7542 [10:12<18:01,  4.65it/s]"
          ]
        },
        {
          "name": "stderr",
          "output_type": "stream",
          "text": [
            "INFO:ludwig.trainers.trainer:\n",
            "Running evaluation for step: 2514, epoch: 0\n"
          ]
        },
        {
          "name": "stdout",
          "output_type": "stream",
          "text": [
            "Evaluation valid: 100%|██████████| 360/360 [01:34<00:00,  3.80it/s]\n",
            "Evaluation test : 100%|██████████| 719/719 [03:08<00:00,  3.81it/s]"
          ]
        },
        {
          "name": "stderr",
          "output_type": "stream",
          "text": [
            "INFO:ludwig.trainers.trainer:Evaluation took 4m 43.6481s\n",
            "\n",
            "INFO:ludwig.utils.metrics_printed_table:╒════════════╤════════════╤═════════════╤════════╤═══════════╕\n",
            "│ class      │   accuracy │   hits_at_k │   loss │   roc_auc │\n",
            "╞════════════╪════════════╪═════════════╪════════╪═══════════╡\n",
            "│ train      │     0.7325 │      0.9614 │ 4.1764 │    0.8979 │\n",
            "├────────────┼────────────┼─────────────┼────────┼───────────┤\n",
            "│ validation │     0.8547 │      0.9913 │ 0.9231 │    0.9787 │\n",
            "├────────────┼────────────┼─────────────┼────────┼───────────┤\n",
            "│ test       │     0.8551 │      0.9920 │ 0.9262 │    0.9781 │\n",
            "╘════════════╧════════════╧═════════════╧════════╧═══════════╛\n",
            "INFO:ludwig.utils.metrics_printed_table:╒════════════╤════════╕\n",
            "│ combined   │   loss │\n",
            "╞════════════╪════════╡\n",
            "│ train      │ 4.1764 │\n",
            "├────────────┼────────┤\n",
            "│ validation │ 0.9231 │\n",
            "├────────────┼────────┤\n",
            "│ test       │ 0.9262 │\n",
            "╘════════════╧════════╛\n",
            "INFO:ludwig.trainers.trainer:Evaluation validation metric: 'class' 'accuracy' improved.\n",
            "INFO:ludwig.trainers.trainer:'class' 'accuracy' increased by inf.\n",
            "INFO:ludwig.trainers.trainer:New best model saved.\n",
            "\n"
          ]
        },
        {
          "name": "stdout",
          "output_type": "stream",
          "text": [
            "\n",
            "Training:  67%|██████▋   | 5028/7542 [25:29<09:08,  4.59it/s]"
          ]
        },
        {
          "name": "stderr",
          "output_type": "stream",
          "text": [
            "INFO:ludwig.trainers.trainer:\n",
            "Running evaluation for step: 5028, epoch: 1\n"
          ]
        },
        {
          "name": "stdout",
          "output_type": "stream",
          "text": [
            "Evaluation valid: 100%|██████████| 360/360 [01:34<00:00,  3.80it/s]\n",
            "Evaluation test : 100%|██████████| 719/719 [03:08<00:00,  3.81it/s]"
          ]
        },
        {
          "name": "stderr",
          "output_type": "stream",
          "text": [
            "INFO:ludwig.trainers.trainer:Evaluation took 4m 43.6986s\n",
            "\n",
            "INFO:ludwig.utils.metrics_printed_table:╒════════════╤════════════╤═════════════╤════════╤═══════════╕\n",
            "│ class      │   accuracy │   hits_at_k │   loss │   roc_auc │\n",
            "╞════════════╪════════════╪═════════════╪════════╪═══════════╡\n",
            "│ train      │     0.8610 │      0.9943 │ 0.7952 │    0.9683 │\n",
            "├────────────┼────────────┼─────────────┼────────┼───────────┤\n",
            "│ validation │     0.8448 │      0.9959 │ 0.6690 │    0.9846 │\n",
            "├────────────┼────────────┼─────────────┼────────┼───────────┤\n",
            "│ test       │     0.8531 │      0.9954 │ 0.6437 │    0.9853 │\n",
            "╘════════════╧════════════╧═════════════╧════════╧═══════════╛\n",
            "INFO:ludwig.utils.metrics_printed_table:╒════════════╤════════╕\n",
            "│ combined   │   loss │\n",
            "╞════════════╪════════╡\n",
            "│ train      │ 0.7952 │\n",
            "├────────────┼────────┤\n",
            "│ validation │ 0.6690 │\n",
            "├────────────┼────────┤\n",
            "│ test       │ 0.6437 │\n",
            "╘════════════╧════════╛\n",
            "INFO:ludwig.trainers.trainer:Last improvement of class validation accuracy happened 2514 step(s) ago.\n",
            "\n"
          ]
        },
        {
          "name": "stdout",
          "output_type": "stream",
          "text": [
            "\n",
            "Training: 100%|██████████| 7542/7542 [40:49<00:00,  4.39it/s]"
          ]
        },
        {
          "name": "stderr",
          "output_type": "stream",
          "text": [
            "INFO:ludwig.trainers.trainer:\n",
            "Running evaluation for step: 7542, epoch: 2\n"
          ]
        },
        {
          "name": "stdout",
          "output_type": "stream",
          "text": [
            "Evaluation valid: 100%|██████████| 360/360 [01:34<00:00,  3.81it/s]\n",
            "Evaluation test : 100%|██████████| 719/719 [03:08<00:00,  3.81it/s]"
          ]
        },
        {
          "name": "stderr",
          "output_type": "stream",
          "text": [
            "INFO:ludwig.trainers.trainer:Evaluation took 4m 43.3513s\n",
            "\n",
            "INFO:ludwig.utils.metrics_printed_table:╒════════════╤════════════╤═════════════╤════════╤═══════════╕\n",
            "│ class      │   accuracy │   hits_at_k │   loss │   roc_auc │\n",
            "╞════════════╪════════════╪═════════════╪════════╪═══════════╡\n",
            "│ train      │     0.9033 │      0.9971 │ 0.3665 │    0.9834 │\n",
            "├────────────┼────────────┼─────────────┼────────┼───────────┤\n",
            "│ validation │     0.9130 │      0.9975 │ 0.2826 │    0.9876 │\n",
            "├────────────┼────────────┼─────────────┼────────┼───────────┤\n",
            "│ test       │     0.9184 │      0.9971 │ 0.2714 │    0.9882 │\n",
            "╘════════════╧════════════╧═════════════╧════════╧═══════════╛\n",
            "INFO:ludwig.utils.metrics_printed_table:╒════════════╤════════╕\n",
            "│ combined   │   loss │\n",
            "╞════════════╪════════╡\n",
            "│ train      │ 0.3665 │\n",
            "├────────────┼────────┤\n",
            "│ validation │ 0.2826 │\n",
            "├────────────┼────────┤\n",
            "│ test       │ 0.2714 │\n",
            "╘════════════╧════════╛\n",
            "INFO:ludwig.trainers.trainer:Evaluation validation metric: 'class' 'accuracy' improved.\n",
            "INFO:ludwig.trainers.trainer:'class' 'accuracy' increased by 0.058.\n",
            "INFO:ludwig.trainers.trainer:New best model saved.\n",
            "\n"
          ]
        },
        {
          "name": "stdout",
          "output_type": "stream",
          "text": [
            "\n",
            "Training: 100%|██████████| 7542/7542 [45:39<00:00,  2.75it/s]\n"
          ]
        },
        {
          "name": "stderr",
          "output_type": "stream",
          "text": [
            "INFO:ludwig.utils.print_utils:\n",
            "INFO:ludwig.utils.print_utils:╒═════════════════╕\n",
            "INFO:ludwig.utils.print_utils:│ TRAINING REPORT │\n",
            "INFO:ludwig.utils.print_utils:╘═════════════════╛\n",
            "INFO:ludwig.utils.print_utils:\n",
            "INFO:ludwig.api:╒══════════════════════════════════╤════════════════════╕\n",
            "│ Validation feature               │ class              │\n",
            "├──────────────────────────────────┼────────────────────┤\n",
            "│ Validation metric                │ accuracy           │\n",
            "├──────────────────────────────────┼────────────────────┤\n",
            "│ Best model step                  │ 7542               │\n",
            "├──────────────────────────────────┼────────────────────┤\n",
            "│ Best model epoch                 │ 3                  │\n",
            "├──────────────────────────────────┼────────────────────┤\n",
            "│ Best model's validation accuracy │ 0.9130334854125977 │\n",
            "├──────────────────────────────────┼────────────────────┤\n",
            "│ Best model's test accuracy       │ 0.9183943867683411 │\n",
            "╘══════════════════════════════════╧════════════════════╛\n",
            "INFO:ludwig.api:\n",
            "Finished: api_experiment_run\n",
            "INFO:ludwig.api:Saved to: /content/results/api_experiment_run_1\n",
            "INFO:ludwig.utils.print_utils:\n",
            "INFO:ludwig.utils.print_utils:╒══════════╕\n",
            "INFO:ludwig.utils.print_utils:│ FINISHED │\n",
            "INFO:ludwig.utils.print_utils:╘══════════╛\n",
            "INFO:ludwig.utils.print_utils:\n"
          ]
        }
      ],
      "source": [
        "import logging\n",
        "from ludwig.api import LudwigModel\n",
        "\n",
        "config = {\n",
        "  \"input_features\": [\n",
        "    {\n",
        "      \"name\": \"description\",    # The name of the input column\n",
        "      \"type\": \"text\",     # Data type of the input column\n",
        "      \"encoder\": {\"type\": \"distilbert\", \"trainable\": True}\n",
        "    },\n",
        "\n",
        "  ],\n",
        "  \"output_features\": [\n",
        "    {\n",
        "      \"name\": \"class\",\n",
        "      \"type\": \"category\",\n",
        "    }\n",
        "  ],\n",
        "  \"trainer\": {\n",
        "    \"epochs\": 3,\n",
        "    \"learning_rate\": 0.00001,\n",
        "    \"optimizer\": {\"type\": \"adamw\"},\n",
        "    \"use_mixed_precision\": True,\n",
        "    \"learning_rate_scheduler\": {\"decay\": \"linear\", \"warmup_fraction\": 0.2},\n",
        "    \"batch_size\": 32,\n",
        "  }\n",
        "}\n",
        "\n",
        "model = LudwigModel(config, logging_level=logging.INFO)\n",
        "train_stats, preprocessed_data, output_directory = model.train(dataset=train_df)"
      ]
    },
    {
      "cell_type": "markdown",
      "metadata": {
        "id": "XGC1NsLRVzwy"
      },
      "source": [
        "# Freeze distilbert weights, and use cached embeddings to speed up training.\n",
        "\n",
        "Faster training allows us to train for more epochs, though we do see a hit to performance compared to fine-tuning weights."
      ]
    },
    {
      "cell_type": "code",
      "execution_count": 6,
      "metadata": {
        "colab": {
          "base_uri": "https://localhost:8080/"
        },
        "id": "Ux7c1lYXV6yJ",
        "outputId": "2a48c868-8a69-42ed-ebef-10052480772f"
      },
      "outputs": [
        {
          "name": "stderr",
          "output_type": "stream",
          "text": [
            "INFO:ludwig.utils.print_utils:\n",
            "INFO:ludwig.utils.print_utils:╒════════════════════════╕\n",
            "INFO:ludwig.utils.print_utils:│ EXPERIMENT DESCRIPTION │\n",
            "INFO:ludwig.utils.print_utils:╘════════════════════════╛\n",
            "INFO:ludwig.utils.print_utils:\n",
            "INFO:ludwig.api:╒══════════════════╤═════════════════════════════════════════════════════════════════════════════════════════╕\n",
            "│ Experiment name  │ api_experiment                                                                          │\n",
            "├──────────────────┼─────────────────────────────────────────────────────────────────────────────────────────┤\n",
            "│ Model name       │ run                                                                                     │\n",
            "├──────────────────┼─────────────────────────────────────────────────────────────────────────────────────────┤\n",
            "│ Output directory │ /content/results/api_experiment_run_0                                                   │\n",
            "├──────────────────┼─────────────────────────────────────────────────────────────────────────────────────────┤\n",
            "│ ludwig_version   │ '0.7.4'                                                                                 │\n",
            "├──────────────────┼─────────────────────────────────────────────────────────────────────────────────────────┤\n",
            "│ command          │ ('/usr/local/lib/python3.9/dist-packages/ipykernel_launcher.py -f '                     │\n",
            "│                  │  '/root/.local/share/jupyter/runtime/kernel-c2edd578-7ef9-447a-931d-3aaee3d115ea.json') │\n",
            "├──────────────────┼─────────────────────────────────────────────────────────────────────────────────────────┤\n",
            "│ random_seed      │ 42                                                                                      │\n",
            "├──────────────────┼─────────────────────────────────────────────────────────────────────────────────────────┤\n",
            "│ data_format      │ \"<class 'pandas.core.frame.DataFrame'>\"                                                 │\n",
            "├──────────────────┼─────────────────────────────────────────────────────────────────────────────────────────┤\n",
            "│ torch_version    │ '2.0.0+cu118'                                                                           │\n",
            "├──────────────────┼─────────────────────────────────────────────────────────────────────────────────────────┤\n",
            "│ compute          │ {'gpu_type': 'Tesla T4', 'gpus_per_node': 1, 'num_nodes': 1}                            │\n",
            "╘══════════════════╧═════════════════════════════════════════════════════════════════════════════════════════╛\n",
            "INFO:ludwig.utils.print_utils:\n",
            "INFO:ludwig.utils.print_utils:╒═══════════════╕\n",
            "INFO:ludwig.utils.print_utils:│ LUDWIG CONFIG │\n",
            "INFO:ludwig.utils.print_utils:╘═══════════════╛\n",
            "INFO:ludwig.utils.print_utils:\n",
            "INFO:ludwig.api:User-specified config (with upgrades):\n",
            "\n",
            "INFO:ludwig.api:{   'combiner': {'num_fc_layers': 2, 'type': 'concat'},\n",
            "    'input_features': [   {   'encoder': {   'trainable': False,\n",
            "                                             'type': 'distilbert'},\n",
            "                              'name': 'description',\n",
            "                              'preprocessing': {   'cache_encoder_embeddings': True},\n",
            "                              'type': 'text'}],\n",
            "    'ludwig_version': '0.7.4',\n",
            "    'output_features': [{'name': 'class', 'type': 'category'}],\n",
            "    'trainer': {   'batch_size': 32,\n",
            "                   'epochs': 30,\n",
            "                   'learning_rate': 1e-05,\n",
            "                   'learning_rate_scheduler': {   'decay': 'linear',\n",
            "                                                  'warmup_fraction': 0.2},\n",
            "                   'optimizer': {'type': 'adamw'},\n",
            "                   'use_mixed_precision': True}}\n",
            "INFO:ludwig.api:\n",
            "Full config saved to:\n",
            "/content/results/api_experiment_run_0/api_experiment/model/model_hyperparameters.json\n",
            "INFO:ludwig.utils.print_utils:\n",
            "INFO:ludwig.utils.print_utils:╒═══════════════╕\n",
            "INFO:ludwig.utils.print_utils:│ PREPROCESSING │\n",
            "INFO:ludwig.utils.print_utils:╘═══════════════╛\n",
            "INFO:ludwig.utils.print_utils:\n",
            "INFO:ludwig.data.preprocessing:Using full dataframe\n",
            "INFO:ludwig.data.preprocessing:Building dataset (it may take a while)\n",
            "INFO:ludwig.utils.tokenizers:Loaded TorchText implementation of distilbert-base-uncased tokenizer\n",
            "INFO:ludwig.features.text_feature:Max length of feature 'description': 372 (without start and stop symbols)\n",
            "INFO:ludwig.features.text_feature:Setting max length using dataset: 374 (including start and stop symbols)\n",
            "INFO:ludwig.features.text_feature:Truncating max length with max_sequence_length=256 from preprocessing parameters\n",
            "INFO:ludwig.features.text_feature:max sequence length is 256 for feature 'description'\n",
            "INFO:ludwig.utils.tokenizers:Loaded TorchText implementation of distilbert-base-uncased tokenizer\n",
            "Some weights of the model checkpoint at distilbert-base-uncased were not used when initializing DistilBertModel: ['vocab_transform.bias', 'vocab_projector.weight', 'vocab_projector.bias', 'vocab_layer_norm.weight', 'vocab_layer_norm.bias', 'vocab_transform.weight']\n",
            "- This IS expected if you are initializing DistilBertModel from the checkpoint of a model trained on another task or with another architecture (e.g. initializing a BertForSequenceClassification model from a BertForPreTraining model).\n",
            "- This IS NOT expected if you are initializing DistilBertModel from the checkpoint of a model that you expect to be exactly identical (initializing a BertForSequenceClassification model from a BertForSequenceClassification model).\n",
            "INFO:ludwig.utils.batch_size_tuner:Tuning batch size...\n",
            "INFO:ludwig.utils.batch_size_tuner:Exploring batch_size=2\n",
            "INFO:ludwig.utils.batch_size_tuner:Throughput at batch_size=2: 89.60752 samples/s\n",
            "INFO:ludwig.utils.batch_size_tuner:Exploring batch_size=4\n",
            "INFO:ludwig.utils.batch_size_tuner:Throughput at batch_size=4: 120.21421 samples/s\n",
            "INFO:ludwig.utils.batch_size_tuner:Exploring batch_size=8\n",
            "INFO:ludwig.utils.batch_size_tuner:Throughput at batch_size=8: 149.29470 samples/s\n",
            "INFO:ludwig.utils.batch_size_tuner:Exploring batch_size=16\n",
            "INFO:ludwig.utils.batch_size_tuner:Throughput at batch_size=16: 162.83816 samples/s\n",
            "INFO:ludwig.utils.batch_size_tuner:Exploring batch_size=32\n",
            "INFO:ludwig.utils.batch_size_tuner:Throughput at batch_size=32: 158.02052 samples/s\n",
            "INFO:ludwig.utils.batch_size_tuner:Throughput decrease at batch_size=32\n",
            "INFO:ludwig.utils.batch_size_tuner:Selected batch_size=16\n",
            "Some weights of the model checkpoint at distilbert-base-uncased were not used when initializing DistilBertModel: ['vocab_transform.bias', 'vocab_projector.weight', 'vocab_projector.bias', 'vocab_layer_norm.weight', 'vocab_layer_norm.bias', 'vocab_transform.weight']\n",
            "- This IS expected if you are initializing DistilBertModel from the checkpoint of a model trained on another task or with another architecture (e.g. initializing a BertForSequenceClassification model from a BertForPreTraining model).\n",
            "- This IS NOT expected if you are initializing DistilBertModel from the checkpoint of a model that you expect to be exactly identical (initializing a BertForSequenceClassification model from a BertForSequenceClassification model).\n",
            "INFO:ludwig.data.preprocessing:Building dataset: DONE\n",
            "INFO:ludwig.data.cache.manager:Writing preprocessed training set cache\n",
            "INFO:ludwig.data.cache.manager:Writing preprocessed test set cache\n",
            "INFO:ludwig.data.cache.manager:Writing preprocessed validation set cache\n",
            "INFO:ludwig.data.cache.manager:Writing train set metadata\n",
            "INFO:ludwig.api:\n",
            "Dataset Statistics\n",
            "INFO:ludwig.api:╒════════════╤═══════════════╤════════════════════╕\n",
            "│ Dataset    │   Size (Rows) │ Size (In Memory)   │\n",
            "╞════════════╪═══════════════╪════════════════════╡\n",
            "│ Training   │         80430 │ 9.28 Mb            │\n",
            "├────────────┼───────────────┼────────────────────┤\n",
            "│ Validation │         11489 │ 1.33 Mb            │\n",
            "├────────────┼───────────────┼────────────────────┤\n",
            "│ Test       │         22980 │ 2.65 Mb            │\n",
            "╘════════════╧═══════════════╧════════════════════╛\n",
            "INFO:ludwig.utils.print_utils:\n",
            "INFO:ludwig.utils.print_utils:╒═══════╕\n",
            "INFO:ludwig.utils.print_utils:│ MODEL │\n",
            "INFO:ludwig.utils.print_utils:╘═══════╛\n",
            "INFO:ludwig.utils.print_utils:\n",
            "INFO:ludwig.api:Warnings and other logs:\n",
            "Some weights of the model checkpoint at distilbert-base-uncased were not used when initializing DistilBertModel: ['vocab_transform.bias', 'vocab_projector.weight', 'vocab_projector.bias', 'vocab_layer_norm.weight', 'vocab_layer_norm.bias', 'vocab_transform.weight']\n",
            "- This IS expected if you are initializing DistilBertModel from the checkpoint of a model trained on another task or with another architecture (e.g. initializing a BertForSequenceClassification model from a BertForPreTraining model).\n",
            "- This IS NOT expected if you are initializing DistilBertModel from the checkpoint of a model that you expect to be exactly identical (initializing a BertForSequenceClassification model from a BertForSequenceClassification model).\n",
            "INFO:ludwig.trainers.trainer:Enabling automatic mixed precision (AMP)\n",
            "INFO:ludwig.utils.print_utils:\n",
            "INFO:ludwig.utils.print_utils:╒══════════╕\n",
            "INFO:ludwig.utils.print_utils:│ TRAINING │\n",
            "INFO:ludwig.utils.print_utils:╘══════════╛\n",
            "INFO:ludwig.utils.print_utils:\n",
            "INFO:ludwig.trainers.trainer:Creating fresh model training run.\n",
            "INFO:ludwig.trainers.trainer:Training for 75420 step(s), approximately 30 epoch(s).\n",
            "INFO:ludwig.trainers.trainer:Early stopping policy: 5 round(s) of evaluation, or 12570 step(s), approximately 5 epoch(s).\n",
            "\n",
            "INFO:ludwig.trainers.trainer:Starting with step 0, epoch: 0\n"
          ]
        },
        {
          "name": "stdout",
          "output_type": "stream",
          "text": [
            "\rTraining:   0%|          | 0/75420 [00:00<?, ?it/s]"
          ]
        },
        {
          "name": "stderr",
          "output_type": "stream",
          "text": [
            "/usr/local/lib/python3.9/dist-packages/torch/optim/lr_scheduler.py:139: UserWarning: Detected call of `lr_scheduler.step()` before `optimizer.step()`. In PyTorch 1.1.0 and later, you should call them in the opposite order: `optimizer.step()` before `lr_scheduler.step()`.  Failure to do this will result in PyTorch skipping the first value of the learning rate schedule. See more details at https://pytorch.org/docs/stable/optim.html#how-to-adjust-learning-rate\n",
            "  warnings.warn(\"Detected call of `lr_scheduler.step()` before `optimizer.step()`. \"\n"
          ]
        },
        {
          "name": "stdout",
          "output_type": "stream",
          "text": [
            "Training:   3%|▎         | 2512/75420 [00:25<13:00, 93.40it/s]"
          ]
        },
        {
          "name": "stderr",
          "output_type": "stream",
          "text": [
            "INFO:ludwig.trainers.trainer:\n",
            "Running evaluation for step: 2514, epoch: 0\n"
          ]
        },
        {
          "name": "stdout",
          "output_type": "stream",
          "text": [
            "Evaluation valid: 100%|██████████| 360/360 [00:01<00:00, 246.78it/s]\n",
            "Evaluation test : 100%|██████████| 719/719 [00:03<00:00, 230.29it/s]"
          ]
        },
        {
          "name": "stderr",
          "output_type": "stream",
          "text": [
            "INFO:ludwig.trainers.trainer:Evaluation took 4.6461s\n",
            "\n",
            "INFO:ludwig.utils.metrics_printed_table:╒════════════╤════════════╤═════════════╤═════════╤═══════════╕\n",
            "│ class      │   accuracy │   hits_at_k │    loss │   roc_auc │\n",
            "╞════════════╪════════════╪═════════════╪═════════╪═══════════╡\n",
            "│ train      │     0.3349 │      0.8057 │ 27.5257 │    0.5585 │\n",
            "├────────────┼────────────┼─────────────┼─────────┼───────────┤\n",
            "│ validation │     0.5021 │      0.8988 │  2.3647 │    0.7465 │\n",
            "├────────────┼────────────┼─────────────┼─────────┼───────────┤\n",
            "│ test       │     0.4918 │      0.8957 │  2.4518 │    0.7385 │\n",
            "╘════════════╧════════════╧═════════════╧═════════╧═══════════╛\n",
            "INFO:ludwig.utils.metrics_printed_table:╒════════════╤═════════╕\n",
            "│ combined   │    loss │\n",
            "╞════════════╪═════════╡\n",
            "│ train      │ 27.5257 │\n",
            "├────────────┼─────────┤\n",
            "│ validation │  2.3647 │\n",
            "├────────────┼─────────┤\n",
            "│ test       │  2.4518 │\n",
            "╘════════════╧═════════╛\n",
            "INFO:ludwig.trainers.trainer:Evaluation validation metric: 'class' 'accuracy' improved.\n",
            "INFO:ludwig.trainers.trainer:'class' 'accuracy' increased by inf.\n",
            "INFO:ludwig.trainers.trainer:New best model saved.\n",
            "\n"
          ]
        },
        {
          "name": "stdout",
          "output_type": "stream",
          "text": [
            "\n",
            "Training:   7%|▋         | 5020/75420 [00:54<12:42, 92.32it/s]"
          ]
        },
        {
          "name": "stderr",
          "output_type": "stream",
          "text": [
            "INFO:ludwig.trainers.trainer:\n",
            "Running evaluation for step: 5028, epoch: 1\n"
          ]
        },
        {
          "name": "stdout",
          "output_type": "stream",
          "text": [
            "Evaluation valid: 100%|██████████| 360/360 [00:01<00:00, 244.32it/s]\n",
            "Evaluation test : 100%|██████████| 719/719 [00:03<00:00, 228.70it/s]\n"
          ]
        },
        {
          "name": "stderr",
          "output_type": "stream",
          "text": [
            "INFO:ludwig.trainers.trainer:Evaluation took 4.6907s\n",
            "\n",
            "INFO:ludwig.utils.metrics_printed_table:╒════════════╤════════════╤═════════════╤════════╤═══════════╕\n",
            "│ class      │   accuracy │   hits_at_k │   loss │   roc_auc │\n",
            "╞════════════╪════════════╪═════════════╪════════╪═══════════╡\n",
            "│ train      │     0.6183 │      0.9423 │ 1.7219 │    0.8347 │\n",
            "├────────────┼────────────┼─────────────┼────────┼───────────┤\n",
            "│ validation │     0.6907 │      0.9703 │ 1.2642 │    0.8883 │\n",
            "├────────────┼────────────┼─────────────┼────────┼───────────┤\n",
            "│ test       │     0.6837 │      0.9675 │ 1.3308 │    0.8831 │\n",
            "╘════════════╧════════════╧═════════════╧════════╧═══════════╛\n",
            "INFO:ludwig.utils.metrics_printed_table:╒════════════╤════════╕\n",
            "│ combined   │   loss │\n",
            "╞════════════╪════════╡\n",
            "│ train      │ 1.7219 │\n",
            "├────────────┼────────┤\n",
            "│ validation │ 1.2642 │\n",
            "├────────────┼────────┤\n",
            "│ test       │ 1.3308 │\n",
            "╘════════════╧════════╛\n",
            "INFO:ludwig.trainers.trainer:Evaluation validation metric: 'class' 'accuracy' improved.\n",
            "INFO:ludwig.trainers.trainer:'class' 'accuracy' increased by 0.189.\n",
            "INFO:ludwig.trainers.trainer:New best model saved.\n",
            "\n"
          ]
        },
        {
          "name": "stdout",
          "output_type": "stream",
          "text": [
            "Training:  10%|▉         | 7533/75420 [01:24<13:22, 84.64it/s]"
          ]
        },
        {
          "name": "stderr",
          "output_type": "stream",
          "text": [
            "INFO:ludwig.trainers.trainer:\n",
            "Running evaluation for step: 7542, epoch: 2\n"
          ]
        },
        {
          "name": "stdout",
          "output_type": "stream",
          "text": [
            "Evaluation valid: 100%|██████████| 360/360 [00:01<00:00, 246.53it/s]\n",
            "Evaluation test : 100%|██████████| 719/719 [00:03<00:00, 231.50it/s]"
          ]
        },
        {
          "name": "stderr",
          "output_type": "stream",
          "text": [
            "INFO:ludwig.trainers.trainer:Evaluation took 4.6330s\n",
            "\n",
            "INFO:ludwig.utils.metrics_printed_table:╒════════════╤════════════╤═════════════╤════════╤═══════════╕\n",
            "│ class      │   accuracy │   hits_at_k │   loss │   roc_auc │\n",
            "╞════════════╪════════════╪═════════════╪════════╪═══════════╡\n",
            "│ train      │     0.7361 │      0.9723 │ 1.0829 │    0.9108 │\n",
            "├────────────┼────────────┼─────────────┼────────┼───────────┤\n",
            "│ validation │     0.7752 │      0.9797 │ 0.8505 │    0.9337 │\n",
            "├────────────┼────────────┼─────────────┼────────┼───────────┤\n",
            "│ test       │     0.7674 │      0.9784 │ 0.9069 │    0.9297 │\n",
            "╘════════════╧════════════╧═════════════╧════════╧═══════════╛\n",
            "INFO:ludwig.utils.metrics_printed_table:╒════════════╤════════╕\n",
            "│ combined   │   loss │\n",
            "╞════════════╪════════╡\n",
            "│ train      │ 1.0829 │\n",
            "├────────────┼────────┤\n",
            "│ validation │ 0.8505 │\n",
            "├────────────┼────────┤\n",
            "│ test       │ 0.9069 │\n",
            "╘════════════╧════════╛\n",
            "INFO:ludwig.trainers.trainer:Evaluation validation metric: 'class' 'accuracy' improved.\n",
            "INFO:ludwig.trainers.trainer:'class' 'accuracy' increased by 0.085.\n",
            "INFO:ludwig.trainers.trainer:New best model saved.\n",
            "\n"
          ]
        },
        {
          "name": "stdout",
          "output_type": "stream",
          "text": [
            "\n",
            "Training:  13%|█▎        | 10050/75420 [01:54<11:38, 93.60it/s]"
          ]
        },
        {
          "name": "stderr",
          "output_type": "stream",
          "text": [
            "INFO:ludwig.trainers.trainer:\n",
            "Running evaluation for step: 10056, epoch: 3\n"
          ]
        },
        {
          "name": "stdout",
          "output_type": "stream",
          "text": [
            "Evaluation valid: 100%|██████████| 360/360 [00:01<00:00, 245.06it/s]\n",
            "Evaluation test : 100%|██████████| 719/719 [00:03<00:00, 218.37it/s]"
          ]
        },
        {
          "name": "stderr",
          "output_type": "stream",
          "text": [
            "INFO:ludwig.trainers.trainer:Evaluation took 4.8414s\n",
            "\n",
            "INFO:ludwig.utils.metrics_printed_table:╒════════════╤════════════╤═════════════╤════════╤═══════════╕\n",
            "│ class      │   accuracy │   hits_at_k │   loss │   roc_auc │\n",
            "╞════════════╪════════════╪═════════════╪════════╪═══════════╡\n",
            "│ train      │     0.7846 │      0.9810 │ 0.8382 │    0.9362 │\n",
            "├────────────┼────────────┼─────────────┼────────┼───────────┤\n",
            "│ validation │     0.7944 │      0.9848 │ 0.7507 │    0.9480 │\n",
            "├────────────┼────────────┼─────────────┼────────┼───────────┤\n",
            "│ test       │     0.7874 │      0.9840 │ 0.7953 │    0.9446 │\n",
            "╘════════════╧════════════╧═════════════╧════════╧═══════════╛\n",
            "INFO:ludwig.utils.metrics_printed_table:╒════════════╤════════╕\n",
            "│ combined   │   loss │\n",
            "╞════════════╪════════╡\n",
            "│ train      │ 0.8382 │\n",
            "├────────────┼────────┤\n",
            "│ validation │ 0.7507 │\n",
            "├────────────┼────────┤\n",
            "│ test       │ 0.7953 │\n",
            "╘════════════╧════════╛\n",
            "INFO:ludwig.trainers.trainer:Evaluation validation metric: 'class' 'accuracy' improved.\n",
            "INFO:ludwig.trainers.trainer:'class' 'accuracy' increased by 0.019.\n"
          ]
        },
        {
          "name": "stdout",
          "output_type": "stream",
          "text": [
            "\n"
          ]
        },
        {
          "name": "stderr",
          "output_type": "stream",
          "text": [
            "INFO:ludwig.trainers.trainer:New best model saved.\n",
            "\n"
          ]
        },
        {
          "name": "stdout",
          "output_type": "stream",
          "text": [
            "Training:  17%|█▋        | 12568/75420 [02:24<12:49, 81.71it/s]"
          ]
        },
        {
          "name": "stderr",
          "output_type": "stream",
          "text": [
            "INFO:ludwig.trainers.trainer:\n",
            "Running evaluation for step: 12570, epoch: 4\n"
          ]
        },
        {
          "name": "stdout",
          "output_type": "stream",
          "text": [
            "Evaluation valid: 100%|██████████| 360/360 [00:01<00:00, 246.17it/s]\n",
            "Evaluation test : 100%|██████████| 719/719 [00:03<00:00, 198.56it/s]"
          ]
        },
        {
          "name": "stderr",
          "output_type": "stream",
          "text": [
            "INFO:ludwig.trainers.trainer:Evaluation took 5.1585s\n",
            "\n",
            "INFO:ludwig.utils.metrics_printed_table:╒════════════╤════════════╤═════════════╤════════╤═══════════╕\n",
            "│ class      │   accuracy │   hits_at_k │   loss │   roc_auc │\n",
            "╞════════════╪════════════╪═════════════╪════════╪═══════════╡\n",
            "│ train      │     0.8077 │      0.9849 │ 0.7144 │    0.9475 │\n",
            "├────────────┼────────────┼─────────────┼────────┼───────────┤\n",
            "│ validation │     0.8173 │      0.9878 │ 0.6420 │    0.9566 │\n",
            "├────────────┼────────────┼─────────────┼────────┼───────────┤\n",
            "│ test       │     0.8139 │      0.9870 │ 0.6680 │    0.9542 │\n",
            "╘════════════╧════════════╧═════════════╧════════╧═══════════╛\n",
            "INFO:ludwig.utils.metrics_printed_table:╒════════════╤════════╕\n",
            "│ combined   │   loss │\n",
            "╞════════════╪════════╡\n",
            "│ train      │ 0.7144 │\n",
            "├────────────┼────────┤\n",
            "│ validation │ 0.6420 │\n",
            "├────────────┼────────┤\n",
            "│ test       │ 0.6680 │\n",
            "╘════════════╧════════╛\n",
            "INFO:ludwig.trainers.trainer:Evaluation validation metric: 'class' 'accuracy' improved.\n",
            "INFO:ludwig.trainers.trainer:'class' 'accuracy' increased by 0.023.\n",
            "INFO:ludwig.trainers.trainer:New best model saved.\n",
            "\n"
          ]
        },
        {
          "name": "stdout",
          "output_type": "stream",
          "text": [
            "\n",
            "Training:  20%|█▉        | 15080/75420 [02:54<10:48, 93.10it/s]"
          ]
        },
        {
          "name": "stderr",
          "output_type": "stream",
          "text": [
            "INFO:ludwig.trainers.trainer:\n",
            "Running evaluation for step: 15084, epoch: 5\n"
          ]
        },
        {
          "name": "stdout",
          "output_type": "stream",
          "text": [
            "Evaluation valid: 100%|██████████| 360/360 [00:01<00:00, 242.40it/s]\n",
            "Evaluation test : 100%|██████████| 719/719 [00:04<00:00, 172.64it/s]"
          ]
        },
        {
          "name": "stderr",
          "output_type": "stream",
          "text": [
            "INFO:ludwig.trainers.trainer:Evaluation took 5.7263s\n",
            "\n",
            "INFO:ludwig.utils.metrics_printed_table:╒════════════╤════════════╤═════════════╤════════╤═══════════╕\n",
            "│ class      │   accuracy │   hits_at_k │   loss │   roc_auc │\n",
            "╞════════════╪════════════╪═════════════╪════════╪═══════════╡\n",
            "│ train      │     0.8199 │      0.9877 │ 0.6479 │    0.9531 │\n",
            "├────────────┼────────────┼─────────────┼────────┼───────────┤\n",
            "│ validation │     0.8166 │      0.9869 │ 0.6390 │    0.9619 │\n",
            "├────────────┼────────────┼─────────────┼────────┼───────────┤\n",
            "│ test       │     0.8165 │      0.9860 │ 0.6667 │    0.9595 │\n",
            "╘════════════╧════════════╧═════════════╧════════╧═══════════╛\n",
            "INFO:ludwig.utils.metrics_printed_table:╒════════════╤════════╕\n",
            "│ combined   │   loss │\n",
            "╞════════════╪════════╡\n",
            "│ train      │ 0.6479 │\n",
            "├────────────┼────────┤\n",
            "│ validation │ 0.6390 │\n",
            "├────────────┼────────┤\n",
            "│ test       │ 0.6667 │\n",
            "╘════════════╧════════╛\n",
            "INFO:ludwig.trainers.trainer:Last improvement of class validation accuracy happened 2514 step(s) ago.\n",
            "\n"
          ]
        },
        {
          "name": "stdout",
          "output_type": "stream",
          "text": [
            "\n",
            "Training:  23%|██▎       | 17594/75420 [03:25<10:30, 91.70it/s]"
          ]
        },
        {
          "name": "stderr",
          "output_type": "stream",
          "text": [
            "INFO:ludwig.trainers.trainer:\n",
            "Running evaluation for step: 17598, epoch: 6\n"
          ]
        },
        {
          "name": "stdout",
          "output_type": "stream",
          "text": [
            "Evaluation valid: 100%|██████████| 360/360 [00:01<00:00, 217.53it/s]\n",
            "Evaluation test : 100%|██████████| 719/719 [00:04<00:00, 161.53it/s]"
          ]
        },
        {
          "name": "stderr",
          "output_type": "stream",
          "text": [
            "INFO:ludwig.trainers.trainer:Evaluation took 6.1814s\n",
            "\n",
            "INFO:ludwig.utils.metrics_printed_table:╒════════════╤════════════╤═════════════╤════════╤═══════════╕\n",
            "│ class      │   accuracy │   hits_at_k │   loss │   roc_auc │\n",
            "╞════════════╪════════════╪═════════════╪════════╪═══════════╡\n",
            "│ train      │     0.8306 │      0.9889 │ 0.5862 │    0.9579 │\n",
            "├────────────┼────────────┼─────────────┼────────┼───────────┤\n",
            "│ validation │     0.8490 │      0.9911 │ 0.4989 │    0.9655 │\n",
            "├────────────┼────────────┼─────────────┼────────┼───────────┤\n",
            "│ test       │     0.8444 │      0.9913 │ 0.5187 │    0.9637 │\n",
            "╘════════════╧════════════╧═════════════╧════════╧═══════════╛\n",
            "INFO:ludwig.utils.metrics_printed_table:╒════════════╤════════╕\n",
            "│ combined   │   loss │\n",
            "╞════════════╪════════╡\n",
            "│ train      │ 0.5862 │\n",
            "├────────────┼────────┤\n",
            "│ validation │ 0.4989 │\n",
            "├────────────┼────────┤\n",
            "│ test       │ 0.5187 │\n",
            "╘════════════╧════════╛\n",
            "INFO:ludwig.trainers.trainer:Evaluation validation metric: 'class' 'accuracy' improved.\n",
            "INFO:ludwig.trainers.trainer:'class' 'accuracy' increased by 0.032.\n",
            "INFO:ludwig.trainers.trainer:New best model saved.\n",
            "\n"
          ]
        },
        {
          "name": "stdout",
          "output_type": "stream",
          "text": [
            "\n",
            "Training:  27%|██▋       | 20107/75420 [03:55<09:41, 95.05it/s]"
          ]
        },
        {
          "name": "stderr",
          "output_type": "stream",
          "text": [
            "INFO:ludwig.trainers.trainer:\n",
            "Running evaluation for step: 20112, epoch: 7\n"
          ]
        },
        {
          "name": "stdout",
          "output_type": "stream",
          "text": [
            "Evaluation valid: 100%|██████████| 360/360 [00:01<00:00, 187.37it/s]\n",
            "Evaluation test : 100%|██████████| 719/719 [00:04<00:00, 176.44it/s]"
          ]
        },
        {
          "name": "stderr",
          "output_type": "stream",
          "text": [
            "INFO:ludwig.trainers.trainer:Evaluation took 6.7015s\n",
            "\n"
          ]
        },
        {
          "name": "stdout",
          "output_type": "stream",
          "text": [
            "\n"
          ]
        },
        {
          "name": "stderr",
          "output_type": "stream",
          "text": [
            "INFO:ludwig.utils.metrics_printed_table:╒════════════╤════════════╤═════════════╤════════╤═══════════╕\n",
            "│ class      │   accuracy │   hits_at_k │   loss │   roc_auc │\n",
            "╞════════════╪════════════╪═════════════╪════════╪═══════════╡\n",
            "│ train      │     0.8376 │      0.9901 │ 0.5471 │    0.9608 │\n",
            "├────────────┼────────────┼─────────────┼────────┼───────────┤\n",
            "│ validation │     0.8379 │      0.9894 │ 0.5214 │    0.9666 │\n",
            "├────────────┼────────────┼─────────────┼────────┼───────────┤\n",
            "│ test       │     0.8352 │      0.9888 │ 0.5384 │    0.9649 │\n",
            "╘════════════╧════════════╧═════════════╧════════╧═══════════╛\n",
            "INFO:ludwig.utils.metrics_printed_table:╒════════════╤════════╕\n",
            "│ combined   │   loss │\n",
            "╞════════════╪════════╡\n",
            "│ train      │ 0.5471 │\n",
            "├────────────┼────────┤\n",
            "│ validation │ 0.5214 │\n",
            "├────────────┼────────┤\n",
            "│ test       │ 0.5384 │\n",
            "╘════════════╧════════╛\n",
            "INFO:ludwig.trainers.trainer:Last improvement of class validation accuracy happened 2514 step(s) ago.\n",
            "\n"
          ]
        },
        {
          "name": "stdout",
          "output_type": "stream",
          "text": [
            "Training:  30%|██▉       | 22621/75420 [04:25<14:01, 62.73it/s]"
          ]
        },
        {
          "name": "stderr",
          "output_type": "stream",
          "text": [
            "INFO:ludwig.trainers.trainer:\n",
            "Running evaluation for step: 22626, epoch: 8\n"
          ]
        },
        {
          "name": "stdout",
          "output_type": "stream",
          "text": [
            "Evaluation valid: 100%|██████████| 360/360 [00:02<00:00, 175.75it/s]\n",
            "Evaluation test : 100%|██████████| 719/719 [00:03<00:00, 197.56it/s]\n"
          ]
        },
        {
          "name": "stderr",
          "output_type": "stream",
          "text": [
            "INFO:ludwig.trainers.trainer:Evaluation took 5.7799s\n",
            "\n",
            "INFO:ludwig.utils.metrics_printed_table:╒════════════╤════════════╤═════════════╤════════╤═══════════╕\n",
            "│ class      │   accuracy │   hits_at_k │   loss │   roc_auc │\n",
            "╞════════════╪════════════╪═════════════╪════════╪═══════════╡\n",
            "│ train      │     0.8441 │      0.9907 │ 0.5167 │    0.9634 │\n",
            "├────────────┼────────────┼─────────────┼────────┼───────────┤\n",
            "│ validation │     0.8569 │      0.9922 │ 0.4569 │    0.9693 │\n",
            "├────────────┼────────────┼─────────────┼────────┼───────────┤\n",
            "│ test       │     0.8558 │      0.9923 │ 0.4816 │    0.9672 │\n",
            "╘════════════╧════════════╧═════════════╧════════╧═══════════╛\n",
            "INFO:ludwig.utils.metrics_printed_table:╒════════════╤════════╕\n",
            "│ combined   │   loss │\n",
            "╞════════════╪════════╡\n",
            "│ train      │ 0.5167 │\n",
            "├────────────┼────────┤\n",
            "│ validation │ 0.4569 │\n",
            "├────────────┼────────┤\n",
            "│ test       │ 0.4816 │\n",
            "╘════════════╧════════╛\n",
            "INFO:ludwig.trainers.trainer:Evaluation validation metric: 'class' 'accuracy' improved.\n",
            "INFO:ludwig.trainers.trainer:'class' 'accuracy' increased by 0.008.\n",
            "INFO:ludwig.trainers.trainer:New best model saved.\n",
            "\n"
          ]
        },
        {
          "name": "stdout",
          "output_type": "stream",
          "text": [
            "Training:  33%|███▎      | 25134/75420 [04:56<13:51, 60.46it/s]"
          ]
        },
        {
          "name": "stderr",
          "output_type": "stream",
          "text": [
            "INFO:ludwig.trainers.trainer:\n",
            "Running evaluation for step: 25140, epoch: 9\n"
          ]
        },
        {
          "name": "stdout",
          "output_type": "stream",
          "text": [
            "Evaluation valid: 100%|██████████| 360/360 [00:02<00:00, 166.05it/s]\n",
            "Evaluation test : 100%|██████████| 719/719 [00:03<00:00, 220.49it/s]"
          ]
        },
        {
          "name": "stderr",
          "output_type": "stream",
          "text": [
            "INFO:ludwig.trainers.trainer:Evaluation took 5.5179s\n",
            "\n",
            "INFO:ludwig.utils.metrics_printed_table:╒════════════╤════════════╤═════════════╤════════╤═══════════╕\n",
            "│ class      │   accuracy │   hits_at_k │   loss │   roc_auc │\n",
            "╞════════════╪════════════╪═════════════╪════════╪═══════════╡\n",
            "│ train      │     0.8494 │      0.9917 │ 0.4887 │    0.9654 │\n",
            "├────────────┼────────────┼─────────────┼────────┼───────────┤\n",
            "│ validation │     0.8497 │      0.9923 │ 0.4715 │    0.9704 │\n",
            "├────────────┼────────────┼─────────────┼────────┼───────────┤\n",
            "│ test       │     0.8484 │      0.9918 │ 0.4915 │    0.9686 │\n",
            "╘════════════╧════════════╧═════════════╧════════╧═══════════╛\n",
            "INFO:ludwig.utils.metrics_printed_table:╒════════════╤════════╕\n",
            "│ combined   │   loss │\n",
            "╞════════════╪════════╡\n",
            "│ train      │ 0.4887 │\n",
            "├────────────┼────────┤\n",
            "│ validation │ 0.4715 │\n",
            "├────────────┼────────┤\n",
            "│ test       │ 0.4915 │\n",
            "╘════════════╧════════╛\n",
            "INFO:ludwig.trainers.trainer:Last improvement of class validation accuracy happened 2514 step(s) ago.\n",
            "\n"
          ]
        },
        {
          "name": "stdout",
          "output_type": "stream",
          "text": [
            "\n",
            "Training:  37%|███▋      | 27651/75420 [05:28<14:41, 54.16it/s]"
          ]
        },
        {
          "name": "stderr",
          "output_type": "stream",
          "text": [
            "INFO:ludwig.trainers.trainer:\n",
            "Running evaluation for step: 27654, epoch: 10\n"
          ]
        },
        {
          "name": "stdout",
          "output_type": "stream",
          "text": [
            "Evaluation valid: 100%|██████████| 360/360 [00:01<00:00, 240.79it/s]\n",
            "Evaluation test : 100%|██████████| 719/719 [00:03<00:00, 228.03it/s]"
          ]
        },
        {
          "name": "stderr",
          "output_type": "stream",
          "text": [
            "INFO:ludwig.trainers.trainer:Evaluation took 4.7324s\n",
            "\n",
            "INFO:ludwig.utils.metrics_printed_table:╒════════════╤════════════╤═════════════╤════════╤═══════════╕\n",
            "│ class      │   accuracy │   hits_at_k │   loss │   roc_auc │\n",
            "╞════════════╪════════════╪═════════════╪════════╪═══════════╡\n",
            "│ train      │     0.8535 │      0.9921 │ 0.4716 │    0.9666 │\n",
            "├────────────┼────────────┼─────────────┼────────┼───────────┤\n",
            "│ validation │     0.8629 │      0.9929 │ 0.4276 │    0.9714 │\n",
            "├────────────┼────────────┼─────────────┼────────┼───────────┤\n",
            "│ test       │     0.8619 │      0.9927 │ 0.4441 │    0.9699 │\n",
            "╘════════════╧════════════╧═════════════╧════════╧═══════════╛\n",
            "INFO:ludwig.utils.metrics_printed_table:╒════════════╤════════╕\n",
            "│ combined   │   loss │\n",
            "╞════════════╪════════╡\n",
            "│ train      │ 0.4716 │\n",
            "├────────────┼────────┤\n",
            "│ validation │ 0.4276 │\n",
            "├────────────┼────────┤\n",
            "│ test       │ 0.4441 │\n",
            "╘════════════╧════════╛\n",
            "INFO:ludwig.trainers.trainer:Evaluation validation metric: 'class' 'accuracy' improved.\n",
            "INFO:ludwig.trainers.trainer:'class' 'accuracy' increased by 0.006.\n",
            "INFO:ludwig.trainers.trainer:New best model saved.\n",
            "\n"
          ]
        },
        {
          "name": "stdout",
          "output_type": "stream",
          "text": [
            "\n",
            "Training:  40%|███▉      | 30162/75420 [05:58<08:42, 86.56it/s]"
          ]
        },
        {
          "name": "stderr",
          "output_type": "stream",
          "text": [
            "INFO:ludwig.trainers.trainer:\n",
            "Running evaluation for step: 30168, epoch: 11\n"
          ]
        },
        {
          "name": "stdout",
          "output_type": "stream",
          "text": [
            "Evaluation valid: 100%|██████████| 360/360 [00:01<00:00, 244.24it/s]\n",
            "Evaluation test : 100%|██████████| 719/719 [00:03<00:00, 226.66it/s]"
          ]
        },
        {
          "name": "stderr",
          "output_type": "stream",
          "text": [
            "INFO:ludwig.trainers.trainer:Evaluation took 4.7186s\n",
            "\n",
            "INFO:ludwig.utils.metrics_printed_table:╒════════════╤════════════╤═════════════╤════════╤═══════════╕\n",
            "│ class      │   accuracy │   hits_at_k │   loss │   roc_auc │\n",
            "╞════════════╪════════════╪═════════════╪════════╪═══════════╡\n",
            "│ train      │     0.8556 │      0.9923 │ 0.4600 │    0.9674 │\n",
            "├────────────┼────────────┼─────────────┼────────┼───────────┤\n",
            "│ validation │     0.8568 │      0.9932 │ 0.4437 │    0.9721 │\n",
            "├────────────┼────────────┼─────────────┼────────┼───────────┤\n",
            "│ test       │     0.8547 │      0.9922 │ 0.4573 │    0.9709 │\n",
            "╘════════════╧════════════╧═════════════╧════════╧═══════════╛\n",
            "INFO:ludwig.utils.metrics_printed_table:╒════════════╤════════╕\n",
            "│ combined   │   loss │\n",
            "╞════════════╪════════╡\n",
            "│ train      │ 0.4600 │\n",
            "├────────────┼────────┤\n",
            "│ validation │ 0.4437 │\n",
            "├────────────┼────────┤\n",
            "│ test       │ 0.4573 │\n",
            "╘════════════╧════════╛\n",
            "INFO:ludwig.trainers.trainer:Last improvement of class validation accuracy happened 2514 step(s) ago.\n",
            "\n"
          ]
        },
        {
          "name": "stdout",
          "output_type": "stream",
          "text": [
            "\n",
            "Training:  43%|████▎     | 32673/75420 [06:29<07:37, 93.38it/s]"
          ]
        },
        {
          "name": "stderr",
          "output_type": "stream",
          "text": [
            "INFO:ludwig.trainers.trainer:\n",
            "Running evaluation for step: 32682, epoch: 12\n"
          ]
        },
        {
          "name": "stdout",
          "output_type": "stream",
          "text": [
            "Evaluation valid: 100%|██████████| 360/360 [00:01<00:00, 240.66it/s]\n",
            "Evaluation test : 100%|██████████| 719/719 [00:03<00:00, 228.58it/s]"
          ]
        },
        {
          "name": "stderr",
          "output_type": "stream",
          "text": [
            "INFO:ludwig.trainers.trainer:Evaluation took 4.7156s\n",
            "\n",
            "INFO:ludwig.utils.metrics_printed_table:╒════════════╤════════════╤═════════════╤════════╤═══════════╕\n",
            "│ class      │   accuracy │   hits_at_k │   loss │   roc_auc │\n",
            "╞════════════╪════════════╪═════════════╪════════╪═══════════╡\n",
            "│ train      │     0.8579 │      0.9925 │ 0.4472 │    0.9684 │\n",
            "├────────────┼────────────┼─────────────┼────────┼───────────┤\n",
            "│ validation │     0.8609 │      0.9939 │ 0.4154 │    0.9730 │\n",
            "├────────────┼────────────┼─────────────┼────────┼───────────┤\n",
            "│ test       │     0.8617 │      0.9931 │ 0.4274 │    0.9717 │\n",
            "╘════════════╧════════════╧═════════════╧════════╧═══════════╛\n",
            "INFO:ludwig.utils.metrics_printed_table:╒════════════╤════════╕\n",
            "│ combined   │   loss │\n",
            "╞════════════╪════════╡\n",
            "│ train      │ 0.4472 │\n",
            "├────────────┼────────┤\n",
            "│ validation │ 0.4154 │\n",
            "├────────────┼────────┤\n",
            "│ test       │ 0.4274 │\n",
            "╘════════════╧════════╛\n",
            "INFO:ludwig.trainers.trainer:Last improvement of class validation accuracy happened 5028 step(s) ago.\n",
            "\n"
          ]
        },
        {
          "name": "stdout",
          "output_type": "stream",
          "text": [
            "\n",
            "Training:  47%|████▋     | 35192/75420 [06:59<07:49, 85.65it/s]"
          ]
        },
        {
          "name": "stderr",
          "output_type": "stream",
          "text": [
            "INFO:ludwig.trainers.trainer:\n",
            "Running evaluation for step: 35196, epoch: 13\n"
          ]
        },
        {
          "name": "stdout",
          "output_type": "stream",
          "text": [
            "Evaluation valid: 100%|██████████| 360/360 [00:01<00:00, 242.44it/s]\n",
            "Evaluation test : 100%|██████████| 719/719 [00:03<00:00, 227.32it/s]"
          ]
        },
        {
          "name": "stderr",
          "output_type": "stream",
          "text": [
            "INFO:ludwig.trainers.trainer:Evaluation took 4.7254s\n",
            "\n",
            "INFO:ludwig.utils.metrics_printed_table:╒════════════╤════════════╤═════════════╤════════╤═══════════╕\n",
            "│ class      │   accuracy │   hits_at_k │   loss │   roc_auc │\n",
            "╞════════════╪════════════╪═════════════╪════════╪═══════════╡\n",
            "│ train      │     0.8612 │      0.9927 │ 0.4322 │    0.9695 │\n",
            "├────────────┼────────────┼─────────────┼────────┼───────────┤\n",
            "│ validation │     0.8324 │      0.9918 │ 0.5081 │    0.9716 │\n",
            "├────────────┼────────────┼─────────────┼────────┼───────────┤\n",
            "│ test       │     0.8344 │      0.9912 │ 0.5100 │    0.9709 │\n",
            "╘════════════╧════════════╧═════════════╧════════╧═══════════╛\n",
            "INFO:ludwig.utils.metrics_printed_table:╒════════════╤════════╕\n",
            "│ combined   │   loss │\n",
            "╞════════════╪════════╡\n",
            "│ train      │ 0.4322 │\n",
            "├────────────┼────────┤\n",
            "│ validation │ 0.5081 │\n",
            "├────────────┼────────┤\n",
            "│ test       │ 0.5100 │\n",
            "╘════════════╧════════╛\n",
            "INFO:ludwig.trainers.trainer:Last improvement of class validation accuracy happened 7542 step(s) ago.\n",
            "\n"
          ]
        },
        {
          "name": "stdout",
          "output_type": "stream",
          "text": [
            "\n",
            "Training:  50%|████▉     | 37707/75420 [07:30<06:55, 90.80it/s]"
          ]
        },
        {
          "name": "stderr",
          "output_type": "stream",
          "text": [
            "INFO:ludwig.trainers.trainer:\n",
            "Running evaluation for step: 37710, epoch: 14\n"
          ]
        },
        {
          "name": "stdout",
          "output_type": "stream",
          "text": [
            "Evaluation valid: 100%|██████████| 360/360 [00:01<00:00, 245.20it/s]\n",
            "Evaluation test : 100%|██████████| 719/719 [00:03<00:00, 229.01it/s]\n"
          ]
        },
        {
          "name": "stderr",
          "output_type": "stream",
          "text": [
            "INFO:ludwig.trainers.trainer:Evaluation took 4.6788s\n",
            "\n",
            "INFO:ludwig.utils.metrics_printed_table:╒════════════╤════════════╤═════════════╤════════╤═══════════╕\n",
            "│ class      │   accuracy │   hits_at_k │   loss │   roc_auc │\n",
            "╞════════════╪════════════╪═════════════╪════════╪═══════════╡\n",
            "│ train      │     0.8634 │      0.9928 │ 0.4216 │    0.9704 │\n",
            "├────────────┼────────────┼─────────────┼────────┼───────────┤\n",
            "│ validation │     0.8597 │      0.9932 │ 0.4180 │    0.9727 │\n",
            "├────────────┼────────────┼─────────────┼────────┼───────────┤\n",
            "│ test       │     0.8599 │      0.9927 │ 0.4381 │    0.9708 │\n",
            "╘════════════╧════════════╧═════════════╧════════╧═══════════╛\n",
            "INFO:ludwig.utils.metrics_printed_table:╒════════════╤════════╕\n",
            "│ combined   │   loss │\n",
            "╞════════════╪════════╡\n",
            "│ train      │ 0.4216 │\n",
            "├────────────┼────────┤\n",
            "│ validation │ 0.4180 │\n",
            "├────────────┼────────┤\n",
            "│ test       │ 0.4381 │\n",
            "╘════════════╧════════╛\n",
            "INFO:ludwig.trainers.trainer:Last improvement of class validation accuracy happened 10056 step(s) ago.\n",
            "\n"
          ]
        },
        {
          "name": "stdout",
          "output_type": "stream",
          "text": [
            "Training:  53%|█████▎    | 40221/75420 [08:00<06:31, 89.92it/s]"
          ]
        },
        {
          "name": "stderr",
          "output_type": "stream",
          "text": [
            "INFO:ludwig.trainers.trainer:\n",
            "Running evaluation for step: 40224, epoch: 15\n"
          ]
        },
        {
          "name": "stdout",
          "output_type": "stream",
          "text": [
            "Evaluation valid: 100%|██████████| 360/360 [00:01<00:00, 235.69it/s]\n",
            "Evaluation test : 100%|██████████| 719/719 [00:03<00:00, 206.27it/s]"
          ]
        },
        {
          "name": "stderr",
          "output_type": "stream",
          "text": [
            "INFO:ludwig.trainers.trainer:Evaluation took 5.9255s\n",
            "\n",
            "INFO:ludwig.utils.metrics_printed_table:╒════════════╤════════════╤═════════════╤════════╤═══════════╕\n",
            "│ class      │   accuracy │   hits_at_k │   loss │   roc_auc │\n",
            "╞════════════╪════════════╪═════════════╪════════╪═══════════╡\n",
            "│ train      │     0.8649 │      0.9936 │ 0.4121 │    0.9711 │\n",
            "├────────────┼────────────┼─────────────┼────────┼───────────┤\n",
            "│ validation │     0.8743 │      0.9942 │ 0.3884 │    0.9739 │\n",
            "├────────────┼────────────┼─────────────┼────────┼───────────┤\n",
            "│ test       │     0.8730 │      0.9942 │ 0.4002 │    0.9729 │\n",
            "╘════════════╧════════════╧═════════════╧════════╧═══════════╛\n",
            "INFO:ludwig.utils.metrics_printed_table:╒════════════╤════════╕\n",
            "│ combined   │   loss │\n",
            "╞════════════╪════════╡\n",
            "│ train      │ 0.4121 │\n",
            "├────────────┼────────┤\n",
            "│ validation │ 0.3884 │\n",
            "├────────────┼────────┤\n",
            "│ test       │ 0.4002 │\n",
            "╘════════════╧════════╛\n",
            "INFO:ludwig.trainers.trainer:Evaluation validation metric: 'class' 'accuracy' improved.\n",
            "INFO:ludwig.trainers.trainer:'class' 'accuracy' increased by 0.011.\n",
            "INFO:ludwig.trainers.trainer:New best model saved.\n",
            "\n"
          ]
        },
        {
          "name": "stdout",
          "output_type": "stream",
          "text": [
            "\n",
            "Training:  57%|█████▋    | 42731/75420 [08:31<06:11, 88.06it/s]"
          ]
        },
        {
          "name": "stderr",
          "output_type": "stream",
          "text": [
            "INFO:ludwig.trainers.trainer:\n",
            "Running evaluation for step: 42738, epoch: 16\n"
          ]
        },
        {
          "name": "stdout",
          "output_type": "stream",
          "text": [
            "Evaluation valid: 100%|██████████| 360/360 [00:01<00:00, 244.52it/s]\n",
            "Evaluation test : 100%|██████████| 719/719 [00:04<00:00, 174.10it/s]"
          ]
        },
        {
          "name": "stderr",
          "output_type": "stream",
          "text": [
            "INFO:ludwig.trainers.trainer:Evaluation took 5.6800s\n",
            "\n",
            "INFO:ludwig.utils.metrics_printed_table:╒════════════╤════════════╤═════════════╤════════╤═══════════╕\n",
            "│ class      │   accuracy │   hits_at_k │   loss │   roc_auc │\n",
            "╞════════════╪════════════╪═════════════╪════════╪═══════════╡\n",
            "│ train      │     0.8677 │      0.9938 │ 0.4054 │    0.9717 │\n",
            "├────────────┼────────────┼─────────────┼────────┼───────────┤\n",
            "│ validation │     0.8640 │      0.9944 │ 0.3974 │    0.9742 │\n",
            "├────────────┼────────────┼─────────────┼────────┼───────────┤\n",
            "│ test       │     0.8646 │      0.9934 │ 0.4039 │    0.9734 │\n",
            "╘════════════╧════════════╧═════════════╧════════╧═══════════╛\n",
            "INFO:ludwig.utils.metrics_printed_table:╒════════════╤════════╕\n",
            "│ combined   │   loss │\n",
            "╞════════════╪════════╡\n",
            "│ train      │ 0.4054 │\n",
            "├────────────┼────────┤\n",
            "│ validation │ 0.3974 │\n",
            "├────────────┼────────┤\n",
            "│ test       │ 0.4039 │\n",
            "╘════════════╧════════╛\n",
            "INFO:ludwig.trainers.trainer:Last improvement of class validation accuracy happened 2514 step(s) ago.\n",
            "\n"
          ]
        },
        {
          "name": "stdout",
          "output_type": "stream",
          "text": [
            "\n",
            "Training:  60%|█████▉    | 45248/75420 [09:01<05:25, 92.66it/s]"
          ]
        },
        {
          "name": "stderr",
          "output_type": "stream",
          "text": [
            "INFO:ludwig.trainers.trainer:\n",
            "Running evaluation for step: 45252, epoch: 17\n"
          ]
        },
        {
          "name": "stdout",
          "output_type": "stream",
          "text": [
            "Evaluation valid: 100%|██████████| 360/360 [00:01<00:00, 246.11it/s]\n",
            "Evaluation test : 100%|██████████| 719/719 [00:04<00:00, 160.69it/s]"
          ]
        },
        {
          "name": "stderr",
          "output_type": "stream",
          "text": [
            "INFO:ludwig.trainers.trainer:Evaluation took 6.1501s\n",
            "\n",
            "INFO:ludwig.utils.metrics_printed_table:╒════════════╤════════════╤═════════════╤════════╤═══════════╕\n",
            "│ class      │   accuracy │   hits_at_k │   loss │   roc_auc │\n",
            "╞════════════╪════════════╪═════════════╪════════╪═══════════╡\n",
            "│ train      │     0.8683 │      0.9938 │ 0.3984 │    0.9724 │\n",
            "├────────────┼────────────┼─────────────┼────────┼───────────┤\n",
            "│ validation │     0.8755 │      0.9943 │ 0.3738 │    0.9749 │\n",
            "├────────────┼────────────┼─────────────┼────────┼───────────┤\n",
            "│ test       │     0.8738 │      0.9942 │ 0.3848 │    0.9738 │\n",
            "╘════════════╧════════════╧═════════════╧════════╧═══════════╛\n",
            "INFO:ludwig.utils.metrics_printed_table:╒════════════╤════════╕\n",
            "│ combined   │   loss │\n",
            "╞════════════╪════════╡\n",
            "│ train      │ 0.3984 │\n",
            "├────────────┼────────┤\n",
            "│ validation │ 0.3738 │\n",
            "├────────────┼────────┤\n",
            "│ test       │ 0.3848 │\n",
            "╘════════════╧════════╛\n",
            "INFO:ludwig.trainers.trainer:Evaluation validation metric: 'class' 'accuracy' improved.\n",
            "INFO:ludwig.trainers.trainer:'class' 'accuracy' increased by 0.001.\n",
            "INFO:ludwig.trainers.trainer:New best model saved.\n",
            "\n"
          ]
        },
        {
          "name": "stdout",
          "output_type": "stream",
          "text": [
            "\n",
            "Training:  63%|██████▎   | 47761/75420 [09:31<04:56, 93.14it/s]"
          ]
        },
        {
          "name": "stderr",
          "output_type": "stream",
          "text": [
            "INFO:ludwig.trainers.trainer:\n",
            "Running evaluation for step: 47766, epoch: 18\n"
          ]
        },
        {
          "name": "stdout",
          "output_type": "stream",
          "text": [
            "Evaluation valid: 100%|██████████| 360/360 [00:01<00:00, 221.08it/s]\n",
            "Evaluation test : 100%|██████████| 719/719 [00:04<00:00, 163.37it/s]"
          ]
        },
        {
          "name": "stderr",
          "output_type": "stream",
          "text": [
            "INFO:ludwig.trainers.trainer:Evaluation took 6.1126s\n",
            "\n",
            "INFO:ludwig.utils.metrics_printed_table:╒════════════╤════════════╤═════════════╤════════╤═══════════╕\n",
            "│ class      │   accuracy │   hits_at_k │   loss │   roc_auc │\n",
            "╞════════════╪════════════╪═════════════╪════════╪═══════════╡\n",
            "│ train      │     0.8716 │      0.9939 │ 0.3905 │    0.9729 │\n",
            "├────────────┼────────────┼─────────────┼────────┼───────────┤\n",
            "│ validation │     0.8742 │      0.9941 │ 0.3844 │    0.9747 │\n",
            "├────────────┼────────────┼─────────────┼────────┼───────────┤\n",
            "│ test       │     0.8725 │      0.9939 │ 0.3950 │    0.9739 │\n",
            "╘════════════╧════════════╧═════════════╧════════╧═══════════╛\n",
            "INFO:ludwig.utils.metrics_printed_table:╒════════════╤════════╕\n",
            "│ combined   │   loss │\n",
            "╞════════════╪════════╡\n",
            "│ train      │ 0.3905 │\n",
            "├────────────┼────────┤\n",
            "│ validation │ 0.3844 │\n",
            "├────────────┼────────┤\n",
            "│ test       │ 0.3950 │\n",
            "╘════════════╧════════╛\n",
            "INFO:ludwig.trainers.trainer:Last improvement of class validation accuracy happened 2514 step(s) ago.\n",
            "\n"
          ]
        },
        {
          "name": "stdout",
          "output_type": "stream",
          "text": [
            "\n",
            "Training:  67%|██████▋   | 50279/75420 [10:01<04:32, 92.38it/s]"
          ]
        },
        {
          "name": "stderr",
          "output_type": "stream",
          "text": [
            "INFO:ludwig.trainers.trainer:\n",
            "Running evaluation for step: 50280, epoch: 19\n"
          ]
        },
        {
          "name": "stdout",
          "output_type": "stream",
          "text": [
            "Evaluation valid: 100%|██████████| 360/360 [00:01<00:00, 191.42it/s]\n",
            "Evaluation test : 100%|██████████| 719/719 [00:04<00:00, 173.58it/s]"
          ]
        },
        {
          "name": "stderr",
          "output_type": "stream",
          "text": [
            "INFO:ludwig.trainers.trainer:Evaluation took 6.9452s\n",
            "\n",
            "INFO:ludwig.utils.metrics_printed_table:╒════════════╤════════════╤═════════════╤════════╤═══════════╕\n",
            "│ class      │   accuracy │   hits_at_k │   loss │   roc_auc │\n",
            "╞════════════╪════════════╪═════════════╪════════╪═══════════╡\n",
            "│ train      │     0.8718 │      0.9942 │ 0.3858 │    0.9733 │\n",
            "├────────────┼────────────┼─────────────┼────────┼───────────┤\n",
            "│ validation │     0.8721 │      0.9939 │ 0.3904 │    0.9749 │\n",
            "├────────────┼────────────┼─────────────┼────────┼───────────┤\n",
            "│ test       │     0.8702 │      0.9942 │ 0.4044 │    0.9739 │\n",
            "╘════════════╧════════════╧═════════════╧════════╧═══════════╛\n",
            "INFO:ludwig.utils.metrics_printed_table:╒════════════╤════════╕\n",
            "│ combined   │   loss │\n",
            "╞════════════╪════════╡\n",
            "│ train      │ 0.3858 │\n",
            "├────────────┼────────┤\n",
            "│ validation │ 0.3904 │\n",
            "├────────────┼────────┤\n",
            "│ test       │ 0.4044 │\n",
            "╘════════════╧════════╛\n",
            "INFO:ludwig.trainers.trainer:Last improvement of class validation accuracy happened 5028 step(s) ago.\n",
            "\n"
          ]
        },
        {
          "name": "stdout",
          "output_type": "stream",
          "text": [
            "\n",
            "Training:  70%|██████▉   | 52792/75420 [10:32<06:01, 62.52it/s]"
          ]
        },
        {
          "name": "stderr",
          "output_type": "stream",
          "text": [
            "INFO:ludwig.trainers.trainer:\n",
            "Running evaluation for step: 52794, epoch: 20\n"
          ]
        },
        {
          "name": "stdout",
          "output_type": "stream",
          "text": [
            "Evaluation valid: 100%|██████████| 360/360 [00:02<00:00, 170.90it/s]\n",
            "Evaluation test : 100%|██████████| 719/719 [00:03<00:00, 197.47it/s]\n"
          ]
        },
        {
          "name": "stderr",
          "output_type": "stream",
          "text": [
            "INFO:ludwig.trainers.trainer:Evaluation took 5.8446s\n",
            "\n",
            "INFO:ludwig.utils.metrics_printed_table:╒════════════╤════════════╤═════════════╤════════╤═══════════╕\n",
            "│ class      │   accuracy │   hits_at_k │   loss │   roc_auc │\n",
            "╞════════════╪════════════╪═════════════╪════════╪═══════════╡\n",
            "│ train      │     0.8729 │      0.9945 │ 0.3815 │    0.9736 │\n",
            "├────────────┼────────────┼─────────────┼────────┼───────────┤\n",
            "│ validation │     0.8728 │      0.9939 │ 0.3725 │    0.9750 │\n",
            "├────────────┼────────────┼─────────────┼────────┼───────────┤\n",
            "│ test       │     0.8732 │      0.9938 │ 0.3799 │    0.9743 │\n",
            "╘════════════╧════════════╧═════════════╧════════╧═══════════╛\n",
            "INFO:ludwig.utils.metrics_printed_table:╒════════════╤════════╕\n",
            "│ combined   │   loss │\n",
            "╞════════════╪════════╡\n",
            "│ train      │ 0.3815 │\n",
            "├────────────┼────────┤\n",
            "│ validation │ 0.3725 │\n",
            "├────────────┼────────┤\n",
            "│ test       │ 0.3799 │\n",
            "╘════════════╧════════╛\n",
            "INFO:ludwig.trainers.trainer:Last improvement of class validation accuracy happened 7542 step(s) ago.\n",
            "\n"
          ]
        },
        {
          "name": "stdout",
          "output_type": "stream",
          "text": [
            "Training:  73%|███████▎  | 55303/75420 [11:02<05:25, 61.71it/s]"
          ]
        },
        {
          "name": "stderr",
          "output_type": "stream",
          "text": [
            "INFO:ludwig.trainers.trainer:\n",
            "Running evaluation for step: 55308, epoch: 21\n"
          ]
        },
        {
          "name": "stdout",
          "output_type": "stream",
          "text": [
            "Evaluation valid: 100%|██████████| 360/360 [00:02<00:00, 167.35it/s]\n",
            "Evaluation test : 100%|██████████| 719/719 [00:03<00:00, 215.48it/s]\n"
          ]
        },
        {
          "name": "stderr",
          "output_type": "stream",
          "text": [
            "INFO:ludwig.trainers.trainer:Evaluation took 5.5819s\n",
            "\n",
            "INFO:ludwig.utils.metrics_printed_table:╒════════════╤════════════╤═════════════╤════════╤═══════════╕\n",
            "│ class      │   accuracy │   hits_at_k │   loss │   roc_auc │\n",
            "╞════════════╪════════════╪═════════════╪════════╪═══════════╡\n",
            "│ train      │     0.8744 │      0.9948 │ 0.3739 │    0.9743 │\n",
            "├────────────┼────────────┼─────────────┼────────┼───────────┤\n",
            "│ validation │     0.8769 │      0.9943 │ 0.3672 │    0.9753 │\n",
            "├────────────┼────────────┼─────────────┼────────┼───────────┤\n",
            "│ test       │     0.8745 │      0.9940 │ 0.3752 │    0.9746 │\n",
            "╘════════════╧════════════╧═════════════╧════════╧═══════════╛\n",
            "INFO:ludwig.utils.metrics_printed_table:╒════════════╤════════╕\n",
            "│ combined   │   loss │\n",
            "╞════════════╪════════╡\n",
            "│ train      │ 0.3739 │\n",
            "├────────────┼────────┤\n",
            "│ validation │ 0.3672 │\n",
            "├────────────┼────────┤\n",
            "│ test       │ 0.3752 │\n",
            "╘════════════╧════════╛\n",
            "INFO:ludwig.trainers.trainer:Evaluation validation metric: 'class' 'accuracy' improved.\n",
            "INFO:ludwig.trainers.trainer:'class' 'accuracy' increased by 0.001.\n",
            "INFO:ludwig.trainers.trainer:New best model saved.\n",
            "\n"
          ]
        },
        {
          "name": "stdout",
          "output_type": "stream",
          "text": [
            "Training:  77%|███████▋  | 57822/75420 [11:33<05:02, 58.11it/s]"
          ]
        },
        {
          "name": "stderr",
          "output_type": "stream",
          "text": [
            "INFO:ludwig.trainers.trainer:\n",
            "Running evaluation for step: 57822, epoch: 22\n"
          ]
        },
        {
          "name": "stdout",
          "output_type": "stream",
          "text": [
            "Evaluation valid: 100%|██████████| 360/360 [00:01<00:00, 194.88it/s]\n",
            "Evaluation test : 100%|██████████| 719/719 [00:03<00:00, 229.45it/s]\n"
          ]
        },
        {
          "name": "stderr",
          "output_type": "stream",
          "text": [
            "INFO:ludwig.trainers.trainer:Evaluation took 5.6837s\n",
            "\n",
            "INFO:ludwig.utils.metrics_printed_table:╒════════════╤════════════╤═════════════╤════════╤═══════════╕\n",
            "│ class      │   accuracy │   hits_at_k │   loss │   roc_auc │\n",
            "╞════════════╪════════════╪═════════════╪════════╪═══════════╡\n",
            "│ train      │     0.8764 │      0.9949 │ 0.3699 │    0.9747 │\n",
            "├────────────┼────────────┼─────────────┼────────┼───────────┤\n",
            "│ validation │     0.8651 │      0.9944 │ 0.3950 │    0.9751 │\n",
            "├────────────┼────────────┼─────────────┼────────┼───────────┤\n",
            "│ test       │     0.8656 │      0.9937 │ 0.3988 │    0.9746 │\n",
            "╘════════════╧════════════╧═════════════╧════════╧═══════════╛\n",
            "INFO:ludwig.utils.metrics_printed_table:╒════════════╤════════╕\n",
            "│ combined   │   loss │\n",
            "╞════════════╪════════╡\n",
            "│ train      │ 0.3699 │\n",
            "├────────────┼────────┤\n",
            "│ validation │ 0.3950 │\n",
            "├────────────┼────────┤\n",
            "│ test       │ 0.3988 │\n",
            "╘════════════╧════════╛\n",
            "INFO:ludwig.trainers.trainer:Last improvement of class validation accuracy happened 2514 step(s) ago.\n",
            "\n"
          ]
        },
        {
          "name": "stdout",
          "output_type": "stream",
          "text": [
            "Training:  80%|███████▉  | 60329/75420 [12:03<04:18, 58.47it/s]"
          ]
        },
        {
          "name": "stderr",
          "output_type": "stream",
          "text": [
            "INFO:ludwig.trainers.trainer:\n",
            "Running evaluation for step: 60336, epoch: 23\n"
          ]
        },
        {
          "name": "stdout",
          "output_type": "stream",
          "text": [
            "Evaluation valid: 100%|██████████| 360/360 [00:01<00:00, 245.56it/s]\n",
            "Evaluation test : 100%|██████████| 719/719 [00:03<00:00, 225.91it/s]"
          ]
        },
        {
          "name": "stderr",
          "output_type": "stream",
          "text": [
            "INFO:ludwig.trainers.trainer:Evaluation took 4.7192s\n",
            "\n",
            "INFO:ludwig.utils.metrics_printed_table:╒════════════╤════════════╤═════════════╤════════╤═══════════╕\n",
            "│ class      │   accuracy │   hits_at_k │   loss │   roc_auc │\n",
            "╞════════════╪════════════╪═════════════╪════════╪═══════════╡\n",
            "│ train      │     0.8777 │      0.9949 │ 0.3643 │    0.9753 │\n",
            "├────────────┼────────────┼─────────────┼────────┼───────────┤\n",
            "│ validation │     0.8734 │      0.9931 │ 0.3802 │    0.9753 │\n",
            "├────────────┼────────────┼─────────────┼────────┼───────────┤\n",
            "│ test       │     0.8735 │      0.9933 │ 0.3918 │    0.9743 │\n",
            "╘════════════╧════════════╧═════════════╧════════╧═══════════╛\n",
            "INFO:ludwig.utils.metrics_printed_table:╒════════════╤════════╕\n",
            "│ combined   │   loss │\n",
            "╞════════════╪════════╡\n",
            "│ train      │ 0.3643 │\n",
            "├────────────┼────────┤\n",
            "│ validation │ 0.3802 │\n",
            "├────────────┼────────┤\n",
            "│ test       │ 0.3918 │\n",
            "╘════════════╧════════╛\n",
            "INFO:ludwig.trainers.trainer:Last improvement of class validation accuracy happened 5028 step(s) ago.\n",
            "\n"
          ]
        },
        {
          "name": "stdout",
          "output_type": "stream",
          "text": [
            "\n",
            "Training:  83%|████████▎ | 62847/75420 [12:33<02:16, 92.30it/s]"
          ]
        },
        {
          "name": "stderr",
          "output_type": "stream",
          "text": [
            "INFO:ludwig.trainers.trainer:\n",
            "Running evaluation for step: 62850, epoch: 24\n"
          ]
        },
        {
          "name": "stdout",
          "output_type": "stream",
          "text": [
            "Evaluation valid: 100%|██████████| 360/360 [00:01<00:00, 247.17it/s]\n",
            "Evaluation test : 100%|██████████| 719/719 [00:03<00:00, 227.87it/s]"
          ]
        },
        {
          "name": "stderr",
          "output_type": "stream",
          "text": [
            "INFO:ludwig.trainers.trainer:Evaluation took 4.6794s\n",
            "\n",
            "INFO:ludwig.utils.metrics_printed_table:╒════════════╤════════════╤═════════════╤════════╤═══════════╕\n",
            "│ class      │   accuracy │   hits_at_k │   loss │   roc_auc │\n",
            "╞════════════╪════════════╪═════════════╪════════╪═══════════╡\n",
            "│ train      │     0.8789 │      0.9949 │ 0.3602 │    0.9755 │\n",
            "├────────────┼────────────┼─────────────┼────────┼───────────┤\n",
            "│ validation │     0.8704 │      0.9948 │ 0.3753 │    0.9754 │\n",
            "├────────────┼────────────┼─────────────┼────────┼───────────┤\n",
            "│ test       │     0.8702 │      0.9939 │ 0.3807 │    0.9748 │\n",
            "╘════════════╧════════════╧═════════════╧════════╧═══════════╛\n",
            "INFO:ludwig.utils.metrics_printed_table:╒════════════╤════════╕\n",
            "│ combined   │   loss │\n",
            "╞════════════╪════════╡\n",
            "│ train      │ 0.3602 │\n",
            "├────────────┼────────┤\n",
            "│ validation │ 0.3753 │\n",
            "├────────────┼────────┤\n",
            "│ test       │ 0.3807 │\n",
            "╘════════════╧════════╛\n",
            "INFO:ludwig.trainers.trainer:Last improvement of class validation accuracy happened 7542 step(s) ago.\n",
            "\n"
          ]
        },
        {
          "name": "stdout",
          "output_type": "stream",
          "text": [
            "\n",
            "Training:  87%|████████▋ | 65363/75420 [13:04<01:53, 88.59it/s]"
          ]
        },
        {
          "name": "stderr",
          "output_type": "stream",
          "text": [
            "INFO:ludwig.trainers.trainer:\n",
            "Running evaluation for step: 65364, epoch: 25\n"
          ]
        },
        {
          "name": "stdout",
          "output_type": "stream",
          "text": [
            "Evaluation valid: 100%|██████████| 360/360 [00:01<00:00, 246.29it/s]\n",
            "Evaluation test : 100%|██████████| 719/719 [00:03<00:00, 221.32it/s]\n"
          ]
        },
        {
          "name": "stderr",
          "output_type": "stream",
          "text": [
            "INFO:ludwig.trainers.trainer:Evaluation took 4.7814s\n",
            "\n",
            "INFO:ludwig.utils.metrics_printed_table:╒════════════╤════════════╤═════════════╤════════╤═══════════╕\n",
            "│ class      │   accuracy │   hits_at_k │   loss │   roc_auc │\n",
            "╞════════════╪════════════╪═════════════╪════════╪═══════════╡\n",
            "│ train      │     0.8800 │      0.9952 │ 0.3547 │    0.9761 │\n",
            "├────────────┼────────────┼─────────────┼────────┼───────────┤\n",
            "│ validation │     0.8728 │      0.9944 │ 0.3766 │    0.9755 │\n",
            "├────────────┼────────────┼─────────────┼────────┼───────────┤\n",
            "│ test       │     0.8703 │      0.9938 │ 0.3836 │    0.9749 │\n",
            "╘════════════╧════════════╧═════════════╧════════╧═══════════╛\n",
            "INFO:ludwig.utils.metrics_printed_table:╒════════════╤════════╕\n",
            "│ combined   │   loss │\n",
            "╞════════════╪════════╡\n",
            "│ train      │ 0.3547 │\n",
            "├────────────┼────────┤\n",
            "│ validation │ 0.3766 │\n",
            "├────────────┼────────┤\n",
            "│ test       │ 0.3836 │\n",
            "╘════════════╧════════╛\n",
            "INFO:ludwig.trainers.trainer:Last improvement of class validation accuracy happened 10056 step(s) ago.\n",
            "\n"
          ]
        },
        {
          "name": "stdout",
          "output_type": "stream",
          "text": [
            "Training:  90%|████████▉ | 67874/75420 [13:34<01:20, 94.26it/s]"
          ]
        },
        {
          "name": "stderr",
          "output_type": "stream",
          "text": [
            "INFO:ludwig.trainers.trainer:\n",
            "Running evaluation for step: 67878, epoch: 26\n"
          ]
        },
        {
          "name": "stdout",
          "output_type": "stream",
          "text": [
            "Evaluation valid: 100%|██████████| 360/360 [00:01<00:00, 242.90it/s]\n",
            "Evaluation test : 100%|██████████| 719/719 [00:03<00:00, 226.75it/s]"
          ]
        },
        {
          "name": "stderr",
          "output_type": "stream",
          "text": [
            "INFO:ludwig.trainers.trainer:Evaluation took 4.7209s\n",
            "\n",
            "INFO:ludwig.utils.metrics_printed_table:╒════════════╤════════════╤═════════════╤════════╤═══════════╕\n",
            "│ class      │   accuracy │   hits_at_k │   loss │   roc_auc │\n",
            "╞════════════╪════════════╪═════════════╪════════╪═══════════╡\n",
            "│ train      │     0.8811 │      0.9954 │ 0.3526 │    0.9763 │\n",
            "├────────────┼────────────┼─────────────┼────────┼───────────┤\n",
            "│ validation │     0.8733 │      0.9950 │ 0.3657 │    0.9758 │\n",
            "├────────────┼────────────┼─────────────┼────────┼───────────┤\n",
            "│ test       │     0.8749 │      0.9943 │ 0.3723 │    0.9751 │\n",
            "╘════════════╧════════════╧═════════════╧════════╧═══════════╛\n",
            "INFO:ludwig.utils.metrics_printed_table:╒════════════╤════════╕\n",
            "│ combined   │   loss │\n",
            "╞════════════╪════════╡\n",
            "│ train      │ 0.3526 │\n",
            "├────────────┼────────┤\n",
            "│ validation │ 0.3657 │\n",
            "├────────────┼────────┤\n",
            "│ test       │ 0.3723 │\n",
            "╘════════════╧════════╛\n",
            "INFO:ludwig.trainers.trainer:Last improvement of class validation accuracy happened 12570 step(s) ago.\n",
            "\n",
            "INFO:ludwig.trainers.trainer:\n",
            "EARLY STOPPING due to lack of validation improvement. It has been 12570 step(s) since last validation improvement.\n"
          ]
        },
        {
          "name": "stdout",
          "output_type": "stream",
          "text": [
            "\n",
            "\rTraining:  90%|█████████ | 67878/75420 [13:39<01:31, 82.87it/s]"
          ]
        },
        {
          "name": "stderr",
          "output_type": "stream",
          "text": [
            "INFO:ludwig.utils.print_utils:\n",
            "INFO:ludwig.utils.print_utils:╒═════════════════╕\n",
            "INFO:ludwig.utils.print_utils:│ TRAINING REPORT │\n",
            "INFO:ludwig.utils.print_utils:╘═════════════════╛\n",
            "INFO:ludwig.utils.print_utils:\n",
            "INFO:ludwig.api:╒══════════════════════════════════╤════════════════════╕\n",
            "│ Validation feature               │ class              │\n",
            "├──────────────────────────────────┼────────────────────┤\n",
            "│ Validation metric                │ accuracy           │\n",
            "├──────────────────────────────────┼────────────────────┤\n",
            "│ Best model step                  │ 55308              │\n",
            "├──────────────────────────────────┼────────────────────┤\n",
            "│ Best model epoch                 │ 22                 │\n",
            "├──────────────────────────────────┼────────────────────┤\n",
            "│ Best model's validation accuracy │ 0.8768604397773743 │\n",
            "├──────────────────────────────────┼────────────────────┤\n",
            "│ Best model's test accuracy       │ 0.8744570016860962 │\n",
            "╘══════════════════════════════════╧════════════════════╛\n",
            "INFO:ludwig.api:\n",
            "Finished: api_experiment_run\n",
            "INFO:ludwig.api:Saved to: /content/results/api_experiment_run_0\n"
          ]
        },
        {
          "name": "stdout",
          "output_type": "stream",
          "text": [
            "\n"
          ]
        },
        {
          "name": "stderr",
          "output_type": "stream",
          "text": [
            "INFO:ludwig.utils.print_utils:\n",
            "INFO:ludwig.utils.print_utils:╒══════════╕\n",
            "INFO:ludwig.utils.print_utils:│ FINISHED │\n",
            "INFO:ludwig.utils.print_utils:╘══════════╛\n",
            "INFO:ludwig.utils.print_utils:\n"
          ]
        }
      ],
      "source": [
        "import logging\n",
        "from ludwig.api import LudwigModel\n",
        "\n",
        "config = {\n",
        "  \"input_features\": [\n",
        "    {\n",
        "      \"name\": \"description\",    # The name of the input column\n",
        "      \"type\": \"text\",     # Data type of the input column\n",
        "      \"encoder\": {\"type\": \"distilbert\", \"trainable\": False},\n",
        "      \"preprocessing\": {\"cache_encoder_embeddings\": True}\n",
        "    },\n",
        "  ],\n",
        "  \"combiner\": {\n",
        "      \"type\": \"concat\",\n",
        "      \"num_fc_layers\": 2,\n",
        "  },\n",
        "  \"output_features\": [\n",
        "    {\n",
        "      \"name\": \"class\",\n",
        "      \"type\": \"category\",\n",
        "    }\n",
        "  ],\n",
        "  \"trainer\": {\n",
        "    \"epochs\": 30,\n",
        "    \"learning_rate\": 0.00001,\n",
        "    \"optimizer\": {\"type\": \"adamw\"},\n",
        "    \"use_mixed_precision\": True,\n",
        "    \"learning_rate_scheduler\": {\"decay\": \"linear\", \"warmup_fraction\": 0.2},\n",
        "    \"batch_size\": 32,\n",
        "  }\n",
        "}\n",
        "\n",
        "model = LudwigModel(config, logging_level=logging.INFO)\n",
        "train_stats, preprocessed_data, output_directory = model.train(dataset=train_df)"
      ]
    },
    {
      "cell_type": "markdown",
      "metadata": {
        "id": "CMTr54h-ibb_"
      },
      "source": [
        "# Model evaluation"
      ]
    },
    {
      "cell_type": "code",
      "execution_count": 7,
      "metadata": {
        "colab": {
          "base_uri": "https://localhost:8080/"
        },
        "id": "AsYwgIoE-95v",
        "outputId": "272aed7c-0f23-4d1e-a52d-a50c9e012ef4"
      },
      "outputs": [
        {
          "name": "stderr",
          "output_type": "stream",
          "text": [
            "INFO:ludwig.utils.tokenizers:Loaded TorchText implementation of distilbert-base-uncased tokenizer\n",
            "Some weights of the model checkpoint at distilbert-base-uncased were not used when initializing DistilBertModel: ['vocab_transform.bias', 'vocab_projector.weight', 'vocab_projector.bias', 'vocab_layer_norm.weight', 'vocab_layer_norm.bias', 'vocab_transform.weight']\n",
            "- This IS expected if you are initializing DistilBertModel from the checkpoint of a model trained on another task or with another architecture (e.g. initializing a BertForSequenceClassification model from a BertForPreTraining model).\n",
            "- This IS NOT expected if you are initializing DistilBertModel from the checkpoint of a model that you expect to be exactly identical (initializing a BertForSequenceClassification model from a BertForSequenceClassification model).\n",
            "INFO:ludwig.utils.batch_size_tuner:Tuning batch size...\n",
            "INFO:ludwig.utils.batch_size_tuner:Exploring batch_size=2\n",
            "INFO:ludwig.utils.batch_size_tuner:Throughput at batch_size=2: 90.02101 samples/s\n",
            "INFO:ludwig.utils.batch_size_tuner:Exploring batch_size=4\n",
            "INFO:ludwig.utils.batch_size_tuner:Throughput at batch_size=4: 105.64731 samples/s\n",
            "INFO:ludwig.utils.batch_size_tuner:Exploring batch_size=8\n",
            "INFO:ludwig.utils.batch_size_tuner:Throughput at batch_size=8: 158.08696 samples/s\n",
            "INFO:ludwig.utils.batch_size_tuner:Exploring batch_size=16\n",
            "INFO:ludwig.utils.batch_size_tuner:Throughput at batch_size=16: 163.96650 samples/s\n",
            "INFO:ludwig.utils.batch_size_tuner:Exploring batch_size=32\n",
            "INFO:ludwig.utils.batch_size_tuner:Throughput at batch_size=32: 157.41799 samples/s\n",
            "INFO:ludwig.utils.batch_size_tuner:Throughput decrease at batch_size=32\n",
            "INFO:ludwig.utils.batch_size_tuner:Selected batch_size=16\n",
            "Some weights of the model checkpoint at distilbert-base-uncased were not used when initializing DistilBertModel: ['vocab_transform.bias', 'vocab_projector.weight', 'vocab_projector.bias', 'vocab_layer_norm.weight', 'vocab_layer_norm.bias', 'vocab_transform.weight']\n",
            "- This IS expected if you are initializing DistilBertModel from the checkpoint of a model trained on another task or with another architecture (e.g. initializing a BertForSequenceClassification model from a BertForPreTraining model).\n",
            "- This IS NOT expected if you are initializing DistilBertModel from the checkpoint of a model that you expect to be exactly identical (initializing a BertForSequenceClassification model from a BertForSequenceClassification model).\n"
          ]
        },
        {
          "name": "stdout",
          "output_type": "stream",
          "text": [
            "Evaluation: 100%|██████████| 238/238 [00:00<00:00, 257.23it/s]"
          ]
        },
        {
          "name": "stderr",
          "output_type": "stream",
          "text": [
            "INFO:ludwig.models.predictor:\n",
            "===== class =====\n",
            "INFO:ludwig.models.predictor:accuracy: 0.874978244304657\n",
            "INFO:ludwig.models.predictor:hits_at_k: 0.9940786361694336\n",
            "INFO:ludwig.models.predictor:loss: 0.3828628957271576\n",
            "INFO:ludwig.models.predictor:overall_stats: { 'avg_f1_score_macro': 0.8752763670749705,\n",
            "  'avg_f1_score_micro': 0.8749835504671666,\n",
            "  'avg_f1_score_weighted': 0.8752830559857318,\n",
            "  'avg_precision_macro': 0.8756713050213373,\n",
            "  'avg_precision_micro': 0.8749835504671667,\n",
            "  'avg_precision_weighted': 0.8749835504671667,\n",
            "  'avg_recall_macro': 0.8749782433968016,\n",
            "  'avg_recall_micro': 0.8749835504671667,\n",
            "  'avg_recall_weighted': 0.8749835504671667,\n",
            "  'kappa_score': 0.8333115786323225,\n",
            "  'token_accuracy': 0.8749835504671667}\n",
            "INFO:ludwig.models.predictor:per_class_stats: {sci_tech: {   'accuracy': 0.9218318199763127,\n",
            "    'f1_score': 0.8436018957345971,\n",
            "    'fall_out': 0.0519389366555536,\n",
            "    'false_discovery_rate': 0.15595363540569018,\n",
            "    'false_negative_rate': 0.1568421052631579,\n",
            "    'false_negatives': 298,\n",
            "    'false_omission_rate': 0.05227153131029649,\n",
            "    'false_positive_rate': 0.0519389366555536,\n",
            "    'false_positives': 296,\n",
            "    'hit_rate': 0.8431578947368421,\n",
            "    'informedness': 0.7912189580812885,\n",
            "    'markedness': 0.7917748332840133,\n",
            "    'matthews_correlation_coefficient': 0.7914968468831464,\n",
            "    'miss_rate': 0.1568421052631579,\n",
            "    'negative_predictive_value': 0.9477284686897035,\n",
            "    'positive_predictive_value': 0.8440463645943098,\n",
            "    'precision': 0.8440463645943098,\n",
            "    'recall': 0.8431578947368421,\n",
            "    'sensitivity': 0.8431578947368421,\n",
            "    'specificity': 0.9480610633444464,\n",
            "    'true_negative_rate': 0.9480610633444464,\n",
            "    'true_negatives': 5403,\n",
            "    'true_positive_rate': 0.8431578947368421,\n",
            "    'true_positives': 1602},\n",
            "  world: {   'accuracy': 0.9417028556388999,\n",
            "    'f1_score': 0.8828971715569655,\n",
            "    'fall_out': 0.03737497806632739,\n",
            "    'false_discovery_rate': 0.11311736590546995,\n",
            "    'false_negative_rate': 0.12105263157894741,\n",
            "    'false_negatives': 230,\n",
            "    'false_omission_rate': 0.04023792862141362,\n",
            "    'false_positive_rate': 0.03737497806632739,\n",
            "    'false_positives': 213,\n",
            "    'hit_rate': 0.8789473684210526,\n",
            "    'informedness': 0.8415723903547252,\n",
            "    'markedness': 0.8466447054731163,\n",
            "    'matthews_correlation_coefficient': 0.8441047379124127,\n",
            "    'miss_rate': 0.12105263157894741,\n",
            "    'negative_predictive_value': 0.9597620713785864,\n",
            "    'positive_predictive_value': 0.88688263409453,\n",
            "    'precision': 0.88688263409453,\n",
            "    'recall': 0.8789473684210526,\n",
            "    'sensitivity': 0.8789473684210526,\n",
            "    'specificity': 0.9626250219336726,\n",
            "    'true_negative_rate': 0.9626250219336726,\n",
            "    'true_negatives': 5486,\n",
            "    'true_positive_rate': 0.8789473684210526,\n",
            "    'true_positives': 1670},\n",
            "  sports: {   'accuracy': 0.9752599026187656,\n",
            "    'f1_score': 0.9501590668080594,\n",
            "    'fall_out': 0.014037550447446923,\n",
            "    'false_discovery_rate': 0.042735042735042694,\n",
            "    'false_negative_rate': 0.056842105263157916,\n",
            "    'false_negatives': 108,\n",
            "    'false_omission_rate': 0.018858040859088487,\n",
            "    'false_positive_rate': 0.014037550447446923,\n",
            "    'false_positives': 80,\n",
            "    'hit_rate': 0.9431578947368421,\n",
            "    'informedness': 0.9291203442893952,\n",
            "    'markedness': 0.9384069164058688,\n",
            "    'matthews_correlation_coefficient': 0.933752085542287,\n",
            "    'miss_rate': 0.056842105263157916,\n",
            "    'negative_predictive_value': 0.9811419591409115,\n",
            "    'positive_predictive_value': 0.9572649572649573,\n",
            "    'precision': 0.9572649572649573,\n",
            "    'recall': 0.9431578947368421,\n",
            "    'sensitivity': 0.9431578947368421,\n",
            "    'specificity': 0.9859624495525531,\n",
            "    'true_negative_rate': 0.9859624495525531,\n",
            "    'true_negatives': 5619,\n",
            "    'true_positive_rate': 0.9431578947368421,\n",
            "    'true_positives': 1792},\n",
            "  business: {   'accuracy': 0.9111725227003553,\n",
            "    'f1_score': 0.8244473342002601,\n",
            "    'fall_out': 0.06333333333333335,\n",
            "    'false_discovery_rate': 0.18550873586844807,\n",
            "    'false_negative_rate': 0.16535018430753023,\n",
            "    'false_negatives': 314,\n",
            "    'false_omission_rate': 0.055545727932071465,\n",
            "    'false_positive_rate': 0.06333333333333335,\n",
            "    'false_positives': 361,\n",
            "    'hit_rate': 0.8346498156924698,\n",
            "    'informedness': 0.7713164823591363,\n",
            "    'markedness': 0.7589455361994806,\n",
            "    'matthews_correlation_coefficient': 0.7651060065661175,\n",
            "    'miss_rate': 0.16535018430753023,\n",
            "    'negative_predictive_value': 0.9444542720679285,\n",
            "    'positive_predictive_value': 0.8144912641315519,\n",
            "    'precision': 0.8144912641315519,\n",
            "    'recall': 0.8346498156924698,\n",
            "    'sensitivity': 0.8346498156924698,\n",
            "    'specificity': 0.9366666666666666,\n",
            "    'true_negative_rate': 0.9366666666666666,\n",
            "    'true_negatives': 5339,\n",
            "    'true_positive_rate': 0.8346498156924698,\n",
            "    'true_positives': 1585}}\n",
            "INFO:ludwig.models.predictor:roc_auc: 0.973825991153717\n"
          ]
        },
        {
          "name": "stdout",
          "output_type": "stream",
          "text": [
            "\n"
          ]
        }
      ],
      "source": [
        "test_stats, predictions, output_directory = model.evaluate(\n",
        "  test_df,\n",
        "  collect_predictions=True,\n",
        "  collect_overall_stats=True\n",
        ")"
      ]
    },
    {
      "cell_type": "code",
      "execution_count": 8,
      "metadata": {
        "colab": {
          "base_uri": "https://localhost:8080/",
          "height": 1000
        },
        "id": "3bDSfKWQuGVm",
        "outputId": "65053fbf-12c9-4ded-a902-7b694c0625e4"
      },
      "outputs": [
        {
          "name": "stderr",
          "output_type": "stream",
          "text": [
            "/usr/local/lib/python3.9/dist-packages/ludwig/utils/visualization_utils.py:1167: UserWarning: FixedFormatter should only be used together with FixedLocator\n",
            "  ax.set_xticklabels([\"\"] + labels, rotation=45, ha=\"left\")\n",
            "/usr/local/lib/python3.9/dist-packages/ludwig/utils/visualization_utils.py:1168: UserWarning: FixedFormatter should only be used together with FixedLocator\n",
            "  ax.set_yticklabels([\"\"] + labels, rotation=45, ha=\"right\")\n"
          ]
        },
        {
          "data": {
            "image/png": "[encoded data removed]",
            "text/plain": [
              "<Figure size 640x480 with 2 Axes>"
            ]
          },
          "metadata": {},
          "output_type": "display_data"
        },
        {
          "data": {
            "image/png": "[encoded data removed]",
            "text/plain": [
              "<Figure size 640x480 with 1 Axes>"
            ]
          },
          "metadata": {},
          "output_type": "display_data"
        }
      ],
      "source": [
        "# Visualizes confusion matrix, which gives an overview of classifier performance\n",
        "# for each class.\n",
        "from ludwig.visualize import confusion_matrix\n",
        "\n",
        "confusion_matrix(\n",
        "  [test_stats],\n",
        "  model.training_set_metadata,\n",
        "  'class',\n",
        "  top_n_classes=[5],\n",
        "  model_names=[''],\n",
        "  normalize=True,\n",
        ")"
      ]
    },
    {
      "cell_type": "code",
      "execution_count": 9,
      "metadata": {
        "colab": {
          "base_uri": "https://localhost:8080/",
          "height": 1000
        },
        "id": "U4YZO_-tuI43",
        "outputId": "9fe3d9f2-a8f1-4d85-8242-4430ed5398a0"
      },
      "outputs": [
        {
          "data": {
            "image/png": "[encoded data removed]",
            "text/plain": [
              "<Figure size 640x480 with 1 Axes>"
            ]
          },
          "metadata": {},
          "output_type": "display_data"
        },
        {
          "data": {
            "image/png": "[encoded data removed]",
            "text/plain": [
              "<Figure size 640x480 with 1 Axes>"
            ]
          },
          "metadata": {},
          "output_type": "display_data"
        },
        {
          "data": {
            "image/png": "[encoded data removed]",
            "text/plain": [
              "<Figure size 640x480 with 1 Axes>"
            ]
          },
          "metadata": {},
          "output_type": "display_data"
        }
      ],
      "source": [
        "# Visualizes learning curves, which show how performance metrics changed over\n",
        "# time during training.\n",
        "from ludwig.visualize import learning_curves\n",
        "\n",
        "learning_curves(train_stats, output_feature_name='class')"
      ]
    },
    {
      "cell_type": "markdown",
      "metadata": {
        "id": "Z_zVLLMFhkTg"
      },
      "source": [
        "# Make Predictions on New Data\n",
        "\n",
        "Generate predictions for new data.\n",
        "\n",
        "The following are some recent news headlines. Feel free to edit or add your own strings to text_to_predict to see how the newly trained model classifies them."
      ]
    },
    {
      "cell_type": "code",
      "execution_count": 10,
      "metadata": {
        "colab": {
          "base_uri": "https://localhost:8080/",
          "height": 468
        },
        "id": "wzfdn7hnlv0j",
        "outputId": "e38afe2d-e6ee-41b3-c3e4-3ed002737bd9"
      },
      "outputs": [
        {
          "name": "stderr",
          "output_type": "stream",
          "text": [
            "INFO:ludwig.utils.tokenizers:Loaded TorchText implementation of distilbert-base-uncased tokenizer\n",
            "Some weights of the model checkpoint at distilbert-base-uncased were not used when initializing DistilBertModel: ['vocab_transform.bias', 'vocab_projector.weight', 'vocab_projector.bias', 'vocab_layer_norm.weight', 'vocab_layer_norm.bias', 'vocab_transform.weight']\n",
            "- This IS expected if you are initializing DistilBertModel from the checkpoint of a model trained on another task or with another architecture (e.g. initializing a BertForSequenceClassification model from a BertForPreTraining model).\n",
            "- This IS NOT expected if you are initializing DistilBertModel from the checkpoint of a model that you expect to be exactly identical (initializing a BertForSequenceClassification model from a BertForSequenceClassification model).\n",
            "INFO:ludwig.utils.batch_size_tuner:Tuning batch size...\n",
            "INFO:ludwig.utils.batch_size_tuner:Batch size 2 is invalid, must be less than or equal to 20.0% dataset size (0 samples of 3) and less than or equal to max batch size 3\n",
            "INFO:ludwig.utils.batch_size_tuner:Could not tune batch size, using minimum batch size of 2\n",
            "INFO:ludwig.utils.batch_size_tuner:Selected batch_size=2\n",
            "Some weights of the model checkpoint at distilbert-base-uncased were not used when initializing DistilBertModel: ['vocab_transform.bias', 'vocab_projector.weight', 'vocab_projector.bias', 'vocab_layer_norm.weight', 'vocab_layer_norm.bias', 'vocab_transform.weight']\n",
            "- This IS expected if you are initializing DistilBertModel from the checkpoint of a model trained on another task or with another architecture (e.g. initializing a BertForSequenceClassification model from a BertForPreTraining model).\n",
            "- This IS NOT expected if you are initializing DistilBertModel from the checkpoint of a model that you expect to be exactly identical (initializing a BertForSequenceClassification model from a BertForSequenceClassification model).\n"
          ]
        },
        {
          "name": "stdout",
          "output_type": "stream",
          "text": [
            "Prediction: 100%|██████████| 1/1 [00:00<00:00, 939.16it/s]\n"
          ]
        },
        {
          "data": {
            "text/html": [
              "\n",
              "  <div id=\"df-d21893a5-5cec-4729-af7e-7ee70c8706e3\">\n",
              "    <div class=\"colab-df-container\">\n",
              "      <div>\n",
              "<style scoped>\n",
              "    .dataframe tbody tr th:only-of-type {\n",
              "        vertical-align: middle;\n",
              "    }\n",
              "\n",
              "    .dataframe tbody tr th {\n",
              "        vertical-align: top;\n",
              "    }\n",
              "\n",
              "    .dataframe thead th {\n",
              "        text-align: right;\n",
              "    }\n",
              "</style>\n",
              "<table border=\"1\" class=\"dataframe\">\n",
              "  <thead>\n",
              "    <tr style=\"text-align: right;\">\n",
              "      <th></th>\n",
              "      <th>class_predictions</th>\n",
              "      <th>class_probabilities</th>\n",
              "      <th>class_probability</th>\n",
              "      <th>class_probabilities_sci_tech</th>\n",
              "      <th>class_probabilities_world</th>\n",
              "      <th>class_probabilities_sports</th>\n",
              "      <th>class_probabilities_business</th>\n",
              "    </tr>\n",
              "  </thead>\n",
              "  <tbody>\n",
              "    <tr>\n",
              "      <th>0</th>\n",
              "      <td>sports</td>\n",
              "      <td>[3.489922661970013e-08, 0.00010609512537484989...</td>\n",
              "      <td>0.999893</td>\n",
              "      <td>3.489923e-08</td>\n",
              "      <td>0.000106</td>\n",
              "      <td>9.998932e-01</td>\n",
              "      <td>7.291574e-07</td>\n",
              "    </tr>\n",
              "    <tr>\n",
              "      <th>1</th>\n",
              "      <td>sci_tech</td>\n",
              "      <td>[0.9933932423591614, 3.21265215461608e-05, 3.3...</td>\n",
              "      <td>0.993393</td>\n",
              "      <td>9.933932e-01</td>\n",
              "      <td>0.000032</td>\n",
              "      <td>3.325229e-09</td>\n",
              "      <td>6.574597e-03</td>\n",
              "    </tr>\n",
              "    <tr>\n",
              "      <th>2</th>\n",
              "      <td>world</td>\n",
              "      <td>[0.0012336561921983957, 0.9912399649620056, 1....</td>\n",
              "      <td>0.991240</td>\n",
              "      <td>1.233656e-03</td>\n",
              "      <td>0.991240</td>\n",
              "      <td>1.589930e-06</td>\n",
              "      <td>7.524781e-03</td>\n",
              "    </tr>\n",
              "  </tbody>\n",
              "</table>\n",
              "</div>\n",
              "      <button class=\"colab-df-convert\" onclick=\"convertToInteractive('df-d21893a5-5cec-4729-af7e-7ee70c8706e3')\"\n",
              "              title=\"Convert this dataframe to an interactive table.\"\n",
              "              style=\"display:none;\">\n",
              "        \n",
              "  <svg xmlns=\"http://www.w3.org/2000/svg\" height=\"24px\"viewBox=\"0 0 24 24\"\n",
              "       width=\"24px\">\n",
              "    <path d=\"M0 0h24v24H0V0z\" fill=\"none\"/>\n",
              "    <path d=\"M18.56 5.44l.94 2.06.94-2.06 2.06-.94-2.06-.94-.94-2.06-.94 2.06-2.06.94zm-11 1L8.5 8.5l.94-2.06 2.06-.94-2.06-.94L8.5 2.5l-.94 2.06-2.06.94zm10 10l.94 2.06.94-2.06 2.06-.94-2.06-.94-.94-2.06-.94 2.06-2.06.94z\"/><path d=\"M17.41 7.96l-1.37-1.37c-.4-.4-.92-.59-1.43-.59-.52 0-1.04.2-1.43.59L10.3 9.45l-7.72 7.72c-.78.78-.78 2.05 0 2.83L4 21.41c.39.39.9.59 1.41.59.51 0 1.02-.2 1.41-.59l7.78-7.78 2.81-2.81c.8-.78.8-2.07 0-2.86zM5.41 20L4 18.59l7.72-7.72 1.47 1.35L5.41 20z\"/>\n",
              "  </svg>\n",
              "      </button>\n",
              "      \n",
              "  <style>\n",
              "    .colab-df-container {\n",
              "      display:flex;\n",
              "      flex-wrap:wrap;\n",
              "      gap: 12px;\n",
              "    }\n",
              "\n",
              "    .colab-df-convert {\n",
              "      background-color: #E8F0FE;\n",
              "      border: none;\n",
              "      border-radius: 50%;\n",
              "      cursor: pointer;\n",
              "      display: none;\n",
              "      fill: #1967D2;\n",
              "      height: 32px;\n",
              "      padding: 0 0 0 0;\n",
              "      width: 32px;\n",
              "    }\n",
              "\n",
              "    .colab-df-convert:hover {\n",
              "      background-color: #E2EBFA;\n",
              "      box-shadow: 0px 1px 2px rgba(60, 64, 67, 0.3), 0px 1px 3px 1px rgba(60, 64, 67, 0.15);\n",
              "      fill: #174EA6;\n",
              "    }\n",
              "\n",
              "    [theme=dark] .colab-df-convert {\n",
              "      background-color: #3B4455;\n",
              "      fill: #D2E3FC;\n",
              "    }\n",
              "\n",
              "    [theme=dark] .colab-df-convert:hover {\n",
              "      background-color: #434B5C;\n",
              "      box-shadow: 0px 1px 3px 1px rgba(0, 0, 0, 0.15);\n",
              "      filter: drop-shadow(0px 1px 2px rgba(0, 0, 0, 0.3));\n",
              "      fill: #FFFFFF;\n",
              "    }\n",
              "  </style>\n",
              "\n",
              "      <script>\n",
              "        const buttonEl =\n",
              "          document.querySelector('#df-d21893a5-5cec-4729-af7e-7ee70c8706e3 button.colab-df-convert');\n",
              "        buttonEl.style.display =\n",
              "          google.colab.kernel.accessAllowed ? 'block' : 'none';\n",
              "\n",
              "        async function convertToInteractive(key) {\n",
              "          const element = document.querySelector('#df-d21893a5-5cec-4729-af7e-7ee70c8706e3');\n",
              "          const dataTable =\n",
              "            await google.colab.kernel.invokeFunction('convertToInteractive',\n",
              "                                                     [key], {});\n",
              "          if (!dataTable) return;\n",
              "\n",
              "          const docLinkHtml = 'Like what you see? Visit the ' +\n",
              "            '<a target=\"_blank\" href=https://colab.research.google.com/notebooks/data_table.ipynb>data table notebook</a>'\n",
              "            + ' to learn more about interactive tables.';\n",
              "          element.innerHTML = '';\n",
              "          dataTable['output_type'] = 'display_data';\n",
              "          await google.colab.output.renderOutput(dataTable, element);\n",
              "          const docLink = document.createElement('div');\n",
              "          docLink.innerHTML = docLinkHtml;\n",
              "          element.appendChild(docLink);\n",
              "        }\n",
              "      </script>\n",
              "    </div>\n",
              "  </div>\n",
              "  "
            ],
            "text/plain": [
              "  class_predictions                                class_probabilities  \\\n",
              "0            sports  [3.489922661970013e-08, 0.00010609512537484989...   \n",
              "1          sci_tech  [0.9933932423591614, 3.21265215461608e-05, 3.3...   \n",
              "2             world  [0.0012336561921983957, 0.9912399649620056, 1....   \n",
              "\n",
              "   class_probability  class_probabilities_sci_tech  class_probabilities_world  \\\n",
              "0           0.999893                  3.489923e-08                   0.000106   \n",
              "1           0.993393                  9.933932e-01                   0.000032   \n",
              "2           0.991240                  1.233656e-03                   0.991240   \n",
              "\n",
              "   class_probabilities_sports  class_probabilities_business  \n",
              "0                9.998932e-01                  7.291574e-07  \n",
              "1                3.325229e-09                  6.574597e-03  \n",
              "2                1.589930e-06                  7.524781e-03  "
            ]
          },
          "execution_count": 10,
          "metadata": {},
          "output_type": "execute_result"
        }
      ],
      "source": [
        "import pandas as pd\n",
        "\n",
        "text_to_predict = pd.DataFrame.from_records([\n",
        "  {\"title\": \"NBA Playoff Picture 2023: Kings Clinch; Lakers Play-In Lock as Mavs Keep Sliding?\",\n",
        "   \"description\": \"After Wednesday night, the gap between the Western Conference's fourth and 12th seeds is just five games. Only 2.5 games sit between No. 7 and No. 12, meaning the smallest bump in the road could be enough to throw an entire playoff plan off-course..\"},\n",
        "  {\"title\": \"Google may spur cloud cybersecurity M&A with $5.4B Mandiant buy\",\n",
        "   \"description\": \"Google LLC's proposed acquisition of a cyber defense services provider may spur a further surge of M&A activity in the cloud cybersecurity sector.\"},\n",
        "  {\"title\": \"Europe struggles to meet mounting needs of Ukraine's fleeing millions\",\n",
        "   \"description\": \"More than 3.5 million people have fled abroad from the war in Ukraine, United Nations data showed on Tuesday, leaving Eastern Europe scrambling to provide them with care, schools and jobs even as daily numbers crossing borders ease.\"},\n",
        "])\n",
        "\n",
        "predictions, output_directory = model.predict(text_to_predict)\n",
        "\n",
        "predictions"
      ]
    },
    {
      "cell_type": "markdown",
      "metadata": {
        "id": "wONsTKtcleo4"
      },
      "source": [
        "# Try other LLMs!\n",
        "\n",
        "Ludwig supports training with a variety of LLMs from HF and torchtext. Read [these docs](https://ludwig.ai/latest/user_guide/distributed_training/finetuning/#features-supporting-fine-tuning) for a full list.\n",
        "\n"
      ]
    },
    {
      "cell_type": "markdown",
      "metadata": {
        "id": "JlTGKNl3IxTj"
      },
      "source": [
        "# Train a model on multiple GPUs\n",
        "\n",
        "Very large LLMs require multiple GPUs to be stored in memory and trained. Here is how to do it in Ludwig by changing the configuration.\n",
        "\n",
        "NOTE: This may not run successfully using free colab hardware. Consider predibase.com for a hosted solution."
      ]
    },
    {
      "cell_type": "markdown",
      "metadata": {
        "id": "UoqDrVLY8_Gk"
      },
      "source": []
    },
    {
      "cell_type": "code",
      "execution_count": null,
      "metadata": {
        "id": "X-jSv6V3JHuo"
      },
      "outputs": [],
      "source": [
        "config = {\n",
        "  \"input_features\": [\n",
        "    {\n",
        "      \"name\": \"title\",    # The name of the input column\n",
        "      \"type\": \"text\",     # Data type of the input column\n",
        "      \"encoder\": {\n",
        "          \"type\": \"auto_transformer\",   # The model architecture to use\n",
        "          \"pretrained_model_name_or_path\": \"bigscience/bloom-3b\",\n",
        "          \"trainable\": True,\n",
        "      },                           \n",
        "    },\n",
        "  ],\n",
        "  \"output_features\": [\n",
        "    {\n",
        "      \"name\": \"class\",\n",
        "      \"type\": \"category\",\n",
        "    }\n",
        "  ],\n",
        "  \"trainer\": {\n",
        "    \"learning_rate\": 0.00001,\n",
        "    \"epochs\": 3,  # We'll train for three epochs. Training longer might give\n",
        "                  # better performance.\n",
        "  },\n",
        "  \"backend\": {\n",
        "    \"type\": \"ray\",\n",
        "    \"trainer\": {\n",
        "      \"strategy\": \"fsdp\", # fsdp distributed strategy for using a multi-GPU cluster\n",
        "    }\n",
        "  }\n",
        "}"
      ]
    }
  ],
  "metadata": {
    "accelerator": "GPU",
    "colab": {
      "provenance": []
    },
    "gpuClass": "standard",
    "kernelspec": {
      "display_name": "Python 3",
      "name": "python3"
    },
    "language_info": {
      "name": "python"
    },
    "widgets": {
      "application/vnd.jupyter.widget-state+json": {
        "07bf34fd735d480f98db1d53339c04de": {
          "model_module": "@jupyter-widgets/base",
          "model_module_version": "1.2.0",
          "model_name": "LayoutModel",
          "state": {
            "_model_module": "@jupyter-widgets/base",
            "_model_module_version": "1.2.0",
            "_model_name": "LayoutModel",
            "_view_count": null,
            "_view_module": "@jupyter-widgets/base",
            "_view_module_version": "1.2.0",
            "_view_name": "LayoutView",
            "align_content": null,
            "align_items": null,
            "align_self": null,
            "border": null,
            "bottom": null,
            "display": null,
            "flex": null,
            "flex_flow": null,
            "grid_area": null,
            "grid_auto_columns": null,
            "grid_auto_flow": null,
            "grid_auto_rows": null,
            "grid_column": null,
            "grid_gap": null,
            "grid_row": null,
            "grid_template_areas": null,
            "grid_template_columns": null,
            "grid_template_rows": null,
            "height": null,
            "justify_content": null,
            "justify_items": null,
            "left": null,
            "margin": null,
            "max_height": null,
            "max_width": null,
            "min_height": null,
            "min_width": null,
            "object_fit": null,
            "object_position": null,
            "order": null,
            "overflow": null,
            "overflow_x": null,
            "overflow_y": null,
            "padding": null,
            "right": null,
            "top": null,
            "visibility": null,
            "width": null
          }
        },
        "08428fcc39b342cd94b10f1dfd64fe9e": {
          "model_module": "@jupyter-widgets/base",
          "model_module_version": "1.2.0",
          "model_name": "LayoutModel",
          "state": {
            "_model_module": "@jupyter-widgets/base",
            "_model_module_version": "1.2.0",
            "_model_name": "LayoutModel",
            "_view_count": null,
            "_view_module": "@jupyter-widgets/base",
            "_view_module_version": "1.2.0",
            "_view_name": "LayoutView",
            "align_content": null,
            "align_items": null,
            "align_self": null,
            "border": null,
            "bottom": null,
            "display": null,
            "flex": null,
            "flex_flow": null,
            "grid_area": null,
            "grid_auto_columns": null,
            "grid_auto_flow": null,
            "grid_auto_rows": null,
            "grid_column": null,
            "grid_gap": null,
            "grid_row": null,
            "grid_template_areas": null,
            "grid_template_columns": null,
            "grid_template_rows": null,
            "height": null,
            "justify_content": null,
            "justify_items": null,
            "left": null,
            "margin": null,
            "max_height": null,
            "max_width": null,
            "min_height": null,
            "min_width": null,
            "object_fit": null,
            "object_position": null,
            "order": null,
            "overflow": null,
            "overflow_x": null,
            "overflow_y": null,
            "padding": null,
            "right": null,
            "top": null,
            "visibility": null,
            "width": null
          }
        },
        "0a8874ff3e1e48dab9ba30067aa996cb": {
          "model_module": "@jupyter-widgets/controls",
          "model_module_version": "1.5.0",
          "model_name": "HTMLModel",
          "state": {
            "_dom_classes": [],
            "_model_module": "@jupyter-widgets/controls",
            "_model_module_version": "1.5.0",
            "_model_name": "HTMLModel",
            "_view_count": null,
            "_view_module": "@jupyter-widgets/controls",
            "_view_module_version": "1.5.0",
            "_view_name": "HTMLView",
            "description": "",
            "description_tooltip": null,
            "layout": "IPY_MODEL_fe47e20c92044fe2a6b13ccc9ddb16c5",
            "placeholder": "​",
            "style": "IPY_MODEL_fbc0233583174c5a94e325dbd4b8d213",
            "value": "Downloading pytorch_model.bin: 100%"
          }
        },
        "200fa38ca0c14ee7b9c6d41e99d7b8dc": {
          "model_module": "@jupyter-widgets/base",
          "model_module_version": "1.2.0",
          "model_name": "LayoutModel",
          "state": {
            "_model_module": "@jupyter-widgets/base",
            "_model_module_version": "1.2.0",
            "_model_name": "LayoutModel",
            "_view_count": null,
            "_view_module": "@jupyter-widgets/base",
            "_view_module_version": "1.2.0",
            "_view_name": "LayoutView",
            "align_content": null,
            "align_items": null,
            "align_self": null,
            "border": null,
            "bottom": null,
            "display": null,
            "flex": null,
            "flex_flow": null,
            "grid_area": null,
            "grid_auto_columns": null,
            "grid_auto_flow": null,
            "grid_auto_rows": null,
            "grid_column": null,
            "grid_gap": null,
            "grid_row": null,
            "grid_template_areas": null,
            "grid_template_columns": null,
            "grid_template_rows": null,
            "height": null,
            "justify_content": null,
            "justify_items": null,
            "left": null,
            "margin": null,
            "max_height": null,
            "max_width": null,
            "min_height": null,
            "min_width": null,
            "object_fit": null,
            "object_position": null,
            "order": null,
            "overflow": null,
            "overflow_x": null,
            "overflow_y": null,
            "padding": null,
            "right": null,
            "top": null,
            "visibility": null,
            "width": null
          }
        },
        "2048907283a0422fbd99404ae6624ecf": {
          "model_module": "@jupyter-widgets/controls",
          "model_module_version": "1.5.0",
          "model_name": "HTMLModel",
          "state": {
            "_dom_classes": [],
            "_model_module": "@jupyter-widgets/controls",
            "_model_module_version": "1.5.0",
            "_model_name": "HTMLModel",
            "_view_count": null,
            "_view_module": "@jupyter-widgets/controls",
            "_view_module_version": "1.5.0",
            "_view_name": "HTMLView",
            "description": "",
            "description_tooltip": null,
            "layout": "IPY_MODEL_8f36cb32e09e4363b3a1e29c36d82561",
            "placeholder": "​",
            "style": "IPY_MODEL_e7efc11f43f444a4aa951c9d5f687eeb",
            "value": " 28.0/28.0 [00:00&lt;00:00, 1.15kB/s]"
          }
        },
        "422016e9de1e4112a6d17e5998b1cdb0": {
          "model_module": "@jupyter-widgets/controls",
          "model_module_version": "1.5.0",
          "model_name": "ProgressStyleModel",
          "state": {
            "_model_module": "@jupyter-widgets/controls",
            "_model_module_version": "1.5.0",
            "_model_name": "ProgressStyleModel",
            "_view_count": null,
            "_view_module": "@jupyter-widgets/base",
            "_view_module_version": "1.2.0",
            "_view_name": "StyleView",
            "bar_color": null,
            "description_width": ""
          }
        },
        "4a264b6ab9c343a6b239c8a26c50dd65": {
          "model_module": "@jupyter-widgets/controls",
          "model_module_version": "1.5.0",
          "model_name": "FloatProgressModel",
          "state": {
            "_dom_classes": [],
            "_model_module": "@jupyter-widgets/controls",
            "_model_module_version": "1.5.0",
            "_model_name": "FloatProgressModel",
            "_view_count": null,
            "_view_module": "@jupyter-widgets/controls",
            "_view_module_version": "1.5.0",
            "_view_name": "ProgressView",
            "bar_style": "success",
            "description": "",
            "description_tooltip": null,
            "layout": "IPY_MODEL_ae32ec995d5747cd9b2ea240cb6d6b01",
            "max": 28,
            "min": 0,
            "orientation": "horizontal",
            "style": "IPY_MODEL_b37befe396c84ff493020051fe3c0751",
            "value": 28
          }
        },
        "4c8bb3a6346b43d79a1f2357f61023e7": {
          "model_module": "@jupyter-widgets/controls",
          "model_module_version": "1.5.0",
          "model_name": "DescriptionStyleModel",
          "state": {
            "_model_module": "@jupyter-widgets/controls",
            "_model_module_version": "1.5.0",
            "_model_name": "DescriptionStyleModel",
            "_view_count": null,
            "_view_module": "@jupyter-widgets/base",
            "_view_module_version": "1.2.0",
            "_view_name": "StyleView",
            "description_width": ""
          }
        },
        "599b035a11c74772aa1f482f434d8178": {
          "model_module": "@jupyter-widgets/base",
          "model_module_version": "1.2.0",
          "model_name": "LayoutModel",
          "state": {
            "_model_module": "@jupyter-widgets/base",
            "_model_module_version": "1.2.0",
            "_model_name": "LayoutModel",
            "_view_count": null,
            "_view_module": "@jupyter-widgets/base",
            "_view_module_version": "1.2.0",
            "_view_name": "LayoutView",
            "align_content": null,
            "align_items": null,
            "align_self": null,
            "border": null,
            "bottom": null,
            "display": null,
            "flex": null,
            "flex_flow": null,
            "grid_area": null,
            "grid_auto_columns": null,
            "grid_auto_flow": null,
            "grid_auto_rows": null,
            "grid_column": null,
            "grid_gap": null,
            "grid_row": null,
            "grid_template_areas": null,
            "grid_template_columns": null,
            "grid_template_rows": null,
            "height": null,
            "justify_content": null,
            "justify_items": null,
            "left": null,
            "margin": null,
            "max_height": null,
            "max_width": null,
            "min_height": null,
            "min_width": null,
            "object_fit": null,
            "object_position": null,
            "order": null,
            "overflow": null,
            "overflow_x": null,
            "overflow_y": null,
            "padding": null,
            "right": null,
            "top": null,
            "visibility": null,
            "width": null
          }
        },
        "5d6d38c64a3944bda2f989ee9faaf286": {
          "model_module": "@jupyter-widgets/controls",
          "model_module_version": "1.5.0",
          "model_name": "HBoxModel",
          "state": {
            "_dom_classes": [],
            "_model_module": "@jupyter-widgets/controls",
            "_model_module_version": "1.5.0",
            "_model_name": "HBoxModel",
            "_view_count": null,
            "_view_module": "@jupyter-widgets/controls",
            "_view_module_version": "1.5.0",
            "_view_name": "HBoxView",
            "box_style": "",
            "children": [
              "IPY_MODEL_b6e8c3c1ee524c428320a5b858f5ce45",
              "IPY_MODEL_4a264b6ab9c343a6b239c8a26c50dd65",
              "IPY_MODEL_2048907283a0422fbd99404ae6624ecf"
            ],
            "layout": "IPY_MODEL_b022de85ad8649e3962fb353c7c14e95"
          }
        },
        "5d73e4f3e8d2462ebeefaed3b3d94feb": {
          "model_module": "@jupyter-widgets/controls",
          "model_module_version": "1.5.0",
          "model_name": "HBoxModel",
          "state": {
            "_dom_classes": [],
            "_model_module": "@jupyter-widgets/controls",
            "_model_module_version": "1.5.0",
            "_model_name": "HBoxModel",
            "_view_count": null,
            "_view_module": "@jupyter-widgets/controls",
            "_view_module_version": "1.5.0",
            "_view_name": "HBoxView",
            "box_style": "",
            "children": [
              "IPY_MODEL_0a8874ff3e1e48dab9ba30067aa996cb",
              "IPY_MODEL_ea3e768ef60c4836b7d51de55f991a83",
              "IPY_MODEL_cf749976cc534893ad40fd509ca53c34"
            ],
            "layout": "IPY_MODEL_b67a575aa4784cc5b6f6293c24390dae"
          }
        },
        "71ecdea70e95479eb134e2759051cf50": {
          "model_module": "@jupyter-widgets/controls",
          "model_module_version": "1.5.0",
          "model_name": "FloatProgressModel",
          "state": {
            "_dom_classes": [],
            "_model_module": "@jupyter-widgets/controls",
            "_model_module_version": "1.5.0",
            "_model_name": "FloatProgressModel",
            "_view_count": null,
            "_view_module": "@jupyter-widgets/controls",
            "_view_module_version": "1.5.0",
            "_view_name": "ProgressView",
            "bar_style": "success",
            "description": "",
            "description_tooltip": null,
            "layout": "IPY_MODEL_78acbbd0ebf544519fc1310a2c2e2a2e",
            "max": 483,
            "min": 0,
            "orientation": "horizontal",
            "style": "IPY_MODEL_422016e9de1e4112a6d17e5998b1cdb0",
            "value": 483
          }
        },
        "78acbbd0ebf544519fc1310a2c2e2a2e": {
          "model_module": "@jupyter-widgets/base",
          "model_module_version": "1.2.0",
          "model_name": "LayoutModel",
          "state": {
            "_model_module": "@jupyter-widgets/base",
            "_model_module_version": "1.2.0",
            "_model_name": "LayoutModel",
            "_view_count": null,
            "_view_module": "@jupyter-widgets/base",
            "_view_module_version": "1.2.0",
            "_view_name": "LayoutView",
            "align_content": null,
            "align_items": null,
            "align_self": null,
            "border": null,
            "bottom": null,
            "display": null,
            "flex": null,
            "flex_flow": null,
            "grid_area": null,
            "grid_auto_columns": null,
            "grid_auto_flow": null,
            "grid_auto_rows": null,
            "grid_column": null,
            "grid_gap": null,
            "grid_row": null,
            "grid_template_areas": null,
            "grid_template_columns": null,
            "grid_template_rows": null,
            "height": null,
            "justify_content": null,
            "justify_items": null,
            "left": null,
            "margin": null,
            "max_height": null,
            "max_width": null,
            "min_height": null,
            "min_width": null,
            "object_fit": null,
            "object_position": null,
            "order": null,
            "overflow": null,
            "overflow_x": null,
            "overflow_y": null,
            "padding": null,
            "right": null,
            "top": null,
            "visibility": null,
            "width": null
          }
        },
        "7ca3deecce3c4c5987746ab33361fc3f": {
          "model_module": "@jupyter-widgets/controls",
          "model_module_version": "1.5.0",
          "model_name": "DescriptionStyleModel",
          "state": {
            "_model_module": "@jupyter-widgets/controls",
            "_model_module_version": "1.5.0",
            "_model_name": "DescriptionStyleModel",
            "_view_count": null,
            "_view_module": "@jupyter-widgets/base",
            "_view_module_version": "1.2.0",
            "_view_name": "StyleView",
            "description_width": ""
          }
        },
        "80f62b5403454e299a9e0a2b4b8992cd": {
          "model_module": "@jupyter-widgets/controls",
          "model_module_version": "1.5.0",
          "model_name": "FloatProgressModel",
          "state": {
            "_dom_classes": [],
            "_model_module": "@jupyter-widgets/controls",
            "_model_module_version": "1.5.0",
            "_model_name": "FloatProgressModel",
            "_view_count": null,
            "_view_module": "@jupyter-widgets/controls",
            "_view_module_version": "1.5.0",
            "_view_name": "ProgressView",
            "bar_style": "success",
            "description": "",
            "description_tooltip": null,
            "layout": "IPY_MODEL_8354a34986cc4b3ab7a29b7ea9870ff6",
            "max": 231508,
            "min": 0,
            "orientation": "horizontal",
            "style": "IPY_MODEL_b1f39b6a77f245efb164c25e969c4526",
            "value": 231508
          }
        },
        "8354a34986cc4b3ab7a29b7ea9870ff6": {
          "model_module": "@jupyter-widgets/base",
          "model_module_version": "1.2.0",
          "model_name": "LayoutModel",
          "state": {
            "_model_module": "@jupyter-widgets/base",
            "_model_module_version": "1.2.0",
            "_model_name": "LayoutModel",
            "_view_count": null,
            "_view_module": "@jupyter-widgets/base",
            "_view_module_version": "1.2.0",
            "_view_name": "LayoutView",
            "align_content": null,
            "align_items": null,
            "align_self": null,
            "border": null,
            "bottom": null,
            "display": null,
            "flex": null,
            "flex_flow": null,
            "grid_area": null,
            "grid_auto_columns": null,
            "grid_auto_flow": null,
            "grid_auto_rows": null,
            "grid_column": null,
            "grid_gap": null,
            "grid_row": null,
            "grid_template_areas": null,
            "grid_template_columns": null,
            "grid_template_rows": null,
            "height": null,
            "justify_content": null,
            "justify_items": null,
            "left": null,
            "margin": null,
            "max_height": null,
            "max_width": null,
            "min_height": null,
            "min_width": null,
            "object_fit": null,
            "object_position": null,
            "order": null,
            "overflow": null,
            "overflow_x": null,
            "overflow_y": null,
            "padding": null,
            "right": null,
            "top": null,
            "visibility": null,
            "width": null
          }
        },
        "840f614ff3a440a4acbe51679c5383bf": {
          "model_module": "@jupyter-widgets/controls",
          "model_module_version": "1.5.0",
          "model_name": "DescriptionStyleModel",
          "state": {
            "_model_module": "@jupyter-widgets/controls",
            "_model_module_version": "1.5.0",
            "_model_name": "DescriptionStyleModel",
            "_view_count": null,
            "_view_module": "@jupyter-widgets/base",
            "_view_module_version": "1.2.0",
            "_view_name": "StyleView",
            "description_width": ""
          }
        },
        "84e2ef9602bd4649ae48c59860f34a46": {
          "model_module": "@jupyter-widgets/base",
          "model_module_version": "1.2.0",
          "model_name": "LayoutModel",
          "state": {
            "_model_module": "@jupyter-widgets/base",
            "_model_module_version": "1.2.0",
            "_model_name": "LayoutModel",
            "_view_count": null,
            "_view_module": "@jupyter-widgets/base",
            "_view_module_version": "1.2.0",
            "_view_name": "LayoutView",
            "align_content": null,
            "align_items": null,
            "align_self": null,
            "border": null,
            "bottom": null,
            "display": null,
            "flex": null,
            "flex_flow": null,
            "grid_area": null,
            "grid_auto_columns": null,
            "grid_auto_flow": null,
            "grid_auto_rows": null,
            "grid_column": null,
            "grid_gap": null,
            "grid_row": null,
            "grid_template_areas": null,
            "grid_template_columns": null,
            "grid_template_rows": null,
            "height": null,
            "justify_content": null,
            "justify_items": null,
            "left": null,
            "margin": null,
            "max_height": null,
            "max_width": null,
            "min_height": null,
            "min_width": null,
            "object_fit": null,
            "object_position": null,
            "order": null,
            "overflow": null,
            "overflow_x": null,
            "overflow_y": null,
            "padding": null,
            "right": null,
            "top": null,
            "visibility": null,
            "width": null
          }
        },
        "852f909fc6454140abba59ceae6b1780": {
          "model_module": "@jupyter-widgets/base",
          "model_module_version": "1.2.0",
          "model_name": "LayoutModel",
          "state": {
            "_model_module": "@jupyter-widgets/base",
            "_model_module_version": "1.2.0",
            "_model_name": "LayoutModel",
            "_view_count": null,
            "_view_module": "@jupyter-widgets/base",
            "_view_module_version": "1.2.0",
            "_view_name": "LayoutView",
            "align_content": null,
            "align_items": null,
            "align_self": null,
            "border": null,
            "bottom": null,
            "display": null,
            "flex": null,
            "flex_flow": null,
            "grid_area": null,
            "grid_auto_columns": null,
            "grid_auto_flow": null,
            "grid_auto_rows": null,
            "grid_column": null,
            "grid_gap": null,
            "grid_row": null,
            "grid_template_areas": null,
            "grid_template_columns": null,
            "grid_template_rows": null,
            "height": null,
            "justify_content": null,
            "justify_items": null,
            "left": null,
            "margin": null,
            "max_height": null,
            "max_width": null,
            "min_height": null,
            "min_width": null,
            "object_fit": null,
            "object_position": null,
            "order": null,
            "overflow": null,
            "overflow_x": null,
            "overflow_y": null,
            "padding": null,
            "right": null,
            "top": null,
            "visibility": null,
            "width": null
          }
        },
        "8f36cb32e09e4363b3a1e29c36d82561": {
          "model_module": "@jupyter-widgets/base",
          "model_module_version": "1.2.0",
          "model_name": "LayoutModel",
          "state": {
            "_model_module": "@jupyter-widgets/base",
            "_model_module_version": "1.2.0",
            "_model_name": "LayoutModel",
            "_view_count": null,
            "_view_module": "@jupyter-widgets/base",
            "_view_module_version": "1.2.0",
            "_view_name": "LayoutView",
            "align_content": null,
            "align_items": null,
            "align_self": null,
            "border": null,
            "bottom": null,
            "display": null,
            "flex": null,
            "flex_flow": null,
            "grid_area": null,
            "grid_auto_columns": null,
            "grid_auto_flow": null,
            "grid_auto_rows": null,
            "grid_column": null,
            "grid_gap": null,
            "grid_row": null,
            "grid_template_areas": null,
            "grid_template_columns": null,
            "grid_template_rows": null,
            "height": null,
            "justify_content": null,
            "justify_items": null,
            "left": null,
            "margin": null,
            "max_height": null,
            "max_width": null,
            "min_height": null,
            "min_width": null,
            "object_fit": null,
            "object_position": null,
            "order": null,
            "overflow": null,
            "overflow_x": null,
            "overflow_y": null,
            "padding": null,
            "right": null,
            "top": null,
            "visibility": null,
            "width": null
          }
        },
        "9749efb6b4b54a27b49729c1f7bcd484": {
          "model_module": "@jupyter-widgets/controls",
          "model_module_version": "1.5.0",
          "model_name": "HTMLModel",
          "state": {
            "_dom_classes": [],
            "_model_module": "@jupyter-widgets/controls",
            "_model_module_version": "1.5.0",
            "_model_name": "HTMLModel",
            "_view_count": null,
            "_view_module": "@jupyter-widgets/controls",
            "_view_module_version": "1.5.0",
            "_view_name": "HTMLView",
            "description": "",
            "description_tooltip": null,
            "layout": "IPY_MODEL_08428fcc39b342cd94b10f1dfd64fe9e",
            "placeholder": "​",
            "style": "IPY_MODEL_a28b21191a514e278da1595e19506ea5",
            "value": "Downloading (…)solve/main/vocab.txt: 100%"
          }
        },
        "9d03f824b106468e9db98c01cf1cc093": {
          "model_module": "@jupyter-widgets/controls",
          "model_module_version": "1.5.0",
          "model_name": "HTMLModel",
          "state": {
            "_dom_classes": [],
            "_model_module": "@jupyter-widgets/controls",
            "_model_module_version": "1.5.0",
            "_model_name": "HTMLModel",
            "_view_count": null,
            "_view_module": "@jupyter-widgets/controls",
            "_view_module_version": "1.5.0",
            "_view_name": "HTMLView",
            "description": "",
            "description_tooltip": null,
            "layout": "IPY_MODEL_200fa38ca0c14ee7b9c6d41e99d7b8dc",
            "placeholder": "​",
            "style": "IPY_MODEL_e35e3d4e3b7845049e7c899392c12175",
            "value": " 232k/232k [00:00&lt;00:00, 2.88MB/s]"
          }
        },
        "a28b21191a514e278da1595e19506ea5": {
          "model_module": "@jupyter-widgets/controls",
          "model_module_version": "1.5.0",
          "model_name": "DescriptionStyleModel",
          "state": {
            "_model_module": "@jupyter-widgets/controls",
            "_model_module_version": "1.5.0",
            "_model_name": "DescriptionStyleModel",
            "_view_count": null,
            "_view_module": "@jupyter-widgets/base",
            "_view_module_version": "1.2.0",
            "_view_name": "StyleView",
            "description_width": ""
          }
        },
        "ab2a232607e445e2ba34a5019853b74e": {
          "model_module": "@jupyter-widgets/base",
          "model_module_version": "1.2.0",
          "model_name": "LayoutModel",
          "state": {
            "_model_module": "@jupyter-widgets/base",
            "_model_module_version": "1.2.0",
            "_model_name": "LayoutModel",
            "_view_count": null,
            "_view_module": "@jupyter-widgets/base",
            "_view_module_version": "1.2.0",
            "_view_name": "LayoutView",
            "align_content": null,
            "align_items": null,
            "align_self": null,
            "border": null,
            "bottom": null,
            "display": null,
            "flex": null,
            "flex_flow": null,
            "grid_area": null,
            "grid_auto_columns": null,
            "grid_auto_flow": null,
            "grid_auto_rows": null,
            "grid_column": null,
            "grid_gap": null,
            "grid_row": null,
            "grid_template_areas": null,
            "grid_template_columns": null,
            "grid_template_rows": null,
            "height": null,
            "justify_content": null,
            "justify_items": null,
            "left": null,
            "margin": null,
            "max_height": null,
            "max_width": null,
            "min_height": null,
            "min_width": null,
            "object_fit": null,
            "object_position": null,
            "order": null,
            "overflow": null,
            "overflow_x": null,
            "overflow_y": null,
            "padding": null,
            "right": null,
            "top": null,
            "visibility": null,
            "width": null
          }
        },
        "ae32ec995d5747cd9b2ea240cb6d6b01": {
          "model_module": "@jupyter-widgets/base",
          "model_module_version": "1.2.0",
          "model_name": "LayoutModel",
          "state": {
            "_model_module": "@jupyter-widgets/base",
            "_model_module_version": "1.2.0",
            "_model_name": "LayoutModel",
            "_view_count": null,
            "_view_module": "@jupyter-widgets/base",
            "_view_module_version": "1.2.0",
            "_view_name": "LayoutView",
            "align_content": null,
            "align_items": null,
            "align_self": null,
            "border": null,
            "bottom": null,
            "display": null,
            "flex": null,
            "flex_flow": null,
            "grid_area": null,
            "grid_auto_columns": null,
            "grid_auto_flow": null,
            "grid_auto_rows": null,
            "grid_column": null,
            "grid_gap": null,
            "grid_row": null,
            "grid_template_areas": null,
            "grid_template_columns": null,
            "grid_template_rows": null,
            "height": null,
            "justify_content": null,
            "justify_items": null,
            "left": null,
            "margin": null,
            "max_height": null,
            "max_width": null,
            "min_height": null,
            "min_width": null,
            "object_fit": null,
            "object_position": null,
            "order": null,
            "overflow": null,
            "overflow_x": null,
            "overflow_y": null,
            "padding": null,
            "right": null,
            "top": null,
            "visibility": null,
            "width": null
          }
        },
        "b022de85ad8649e3962fb353c7c14e95": {
          "model_module": "@jupyter-widgets/base",
          "model_module_version": "1.2.0",
          "model_name": "LayoutModel",
          "state": {
            "_model_module": "@jupyter-widgets/base",
            "_model_module_version": "1.2.0",
            "_model_name": "LayoutModel",
            "_view_count": null,
            "_view_module": "@jupyter-widgets/base",
            "_view_module_version": "1.2.0",
            "_view_name": "LayoutView",
            "align_content": null,
            "align_items": null,
            "align_self": null,
            "border": null,
            "bottom": null,
            "display": null,
            "flex": null,
            "flex_flow": null,
            "grid_area": null,
            "grid_auto_columns": null,
            "grid_auto_flow": null,
            "grid_auto_rows": null,
            "grid_column": null,
            "grid_gap": null,
            "grid_row": null,
            "grid_template_areas": null,
            "grid_template_columns": null,
            "grid_template_rows": null,
            "height": null,
            "justify_content": null,
            "justify_items": null,
            "left": null,
            "margin": null,
            "max_height": null,
            "max_width": null,
            "min_height": null,
            "min_width": null,
            "object_fit": null,
            "object_position": null,
            "order": null,
            "overflow": null,
            "overflow_x": null,
            "overflow_y": null,
            "padding": null,
            "right": null,
            "top": null,
            "visibility": null,
            "width": null
          }
        },
        "b1f39b6a77f245efb164c25e969c4526": {
          "model_module": "@jupyter-widgets/controls",
          "model_module_version": "1.5.0",
          "model_name": "ProgressStyleModel",
          "state": {
            "_model_module": "@jupyter-widgets/controls",
            "_model_module_version": "1.5.0",
            "_model_name": "ProgressStyleModel",
            "_view_count": null,
            "_view_module": "@jupyter-widgets/base",
            "_view_module_version": "1.2.0",
            "_view_name": "StyleView",
            "bar_color": null,
            "description_width": ""
          }
        },
        "b37befe396c84ff493020051fe3c0751": {
          "model_module": "@jupyter-widgets/controls",
          "model_module_version": "1.5.0",
          "model_name": "ProgressStyleModel",
          "state": {
            "_model_module": "@jupyter-widgets/controls",
            "_model_module_version": "1.5.0",
            "_model_name": "ProgressStyleModel",
            "_view_count": null,
            "_view_module": "@jupyter-widgets/base",
            "_view_module_version": "1.2.0",
            "_view_name": "StyleView",
            "bar_color": null,
            "description_width": ""
          }
        },
        "b67a575aa4784cc5b6f6293c24390dae": {
          "model_module": "@jupyter-widgets/base",
          "model_module_version": "1.2.0",
          "model_name": "LayoutModel",
          "state": {
            "_model_module": "@jupyter-widgets/base",
            "_model_module_version": "1.2.0",
            "_model_name": "LayoutModel",
            "_view_count": null,
            "_view_module": "@jupyter-widgets/base",
            "_view_module_version": "1.2.0",
            "_view_name": "LayoutView",
            "align_content": null,
            "align_items": null,
            "align_self": null,
            "border": null,
            "bottom": null,
            "display": null,
            "flex": null,
            "flex_flow": null,
            "grid_area": null,
            "grid_auto_columns": null,
            "grid_auto_flow": null,
            "grid_auto_rows": null,
            "grid_column": null,
            "grid_gap": null,
            "grid_row": null,
            "grid_template_areas": null,
            "grid_template_columns": null,
            "grid_template_rows": null,
            "height": null,
            "justify_content": null,
            "justify_items": null,
            "left": null,
            "margin": null,
            "max_height": null,
            "max_width": null,
            "min_height": null,
            "min_width": null,
            "object_fit": null,
            "object_position": null,
            "order": null,
            "overflow": null,
            "overflow_x": null,
            "overflow_y": null,
            "padding": null,
            "right": null,
            "top": null,
            "visibility": null,
            "width": null
          }
        },
        "b6e8c3c1ee524c428320a5b858f5ce45": {
          "model_module": "@jupyter-widgets/controls",
          "model_module_version": "1.5.0",
          "model_name": "HTMLModel",
          "state": {
            "_dom_classes": [],
            "_model_module": "@jupyter-widgets/controls",
            "_model_module_version": "1.5.0",
            "_model_name": "HTMLModel",
            "_view_count": null,
            "_view_module": "@jupyter-widgets/controls",
            "_view_module_version": "1.5.0",
            "_view_name": "HTMLView",
            "description": "",
            "description_tooltip": null,
            "layout": "IPY_MODEL_c007a659f60d4e19b69f051291f7fb9e",
            "placeholder": "​",
            "style": "IPY_MODEL_7ca3deecce3c4c5987746ab33361fc3f",
            "value": "Downloading (…)okenizer_config.json: 100%"
          }
        },
        "b7cad925e63449f28f59b00cc0f71934": {
          "model_module": "@jupyter-widgets/controls",
          "model_module_version": "1.5.0",
          "model_name": "DescriptionStyleModel",
          "state": {
            "_model_module": "@jupyter-widgets/controls",
            "_model_module_version": "1.5.0",
            "_model_name": "DescriptionStyleModel",
            "_view_count": null,
            "_view_module": "@jupyter-widgets/base",
            "_view_module_version": "1.2.0",
            "_view_name": "StyleView",
            "description_width": ""
          }
        },
        "b9a744a903d148c79f26a5c1e1169c99": {
          "model_module": "@jupyter-widgets/controls",
          "model_module_version": "1.5.0",
          "model_name": "HBoxModel",
          "state": {
            "_dom_classes": [],
            "_model_module": "@jupyter-widgets/controls",
            "_model_module_version": "1.5.0",
            "_model_name": "HBoxModel",
            "_view_count": null,
            "_view_module": "@jupyter-widgets/controls",
            "_view_module_version": "1.5.0",
            "_view_name": "HBoxView",
            "box_style": "",
            "children": [
              "IPY_MODEL_9749efb6b4b54a27b49729c1f7bcd484",
              "IPY_MODEL_80f62b5403454e299a9e0a2b4b8992cd",
              "IPY_MODEL_9d03f824b106468e9db98c01cf1cc093"
            ],
            "layout": "IPY_MODEL_dd15c473798d408eab856928277f8c2c"
          }
        },
        "c007a659f60d4e19b69f051291f7fb9e": {
          "model_module": "@jupyter-widgets/base",
          "model_module_version": "1.2.0",
          "model_name": "LayoutModel",
          "state": {
            "_model_module": "@jupyter-widgets/base",
            "_model_module_version": "1.2.0",
            "_model_name": "LayoutModel",
            "_view_count": null,
            "_view_module": "@jupyter-widgets/base",
            "_view_module_version": "1.2.0",
            "_view_name": "LayoutView",
            "align_content": null,
            "align_items": null,
            "align_self": null,
            "border": null,
            "bottom": null,
            "display": null,
            "flex": null,
            "flex_flow": null,
            "grid_area": null,
            "grid_auto_columns": null,
            "grid_auto_flow": null,
            "grid_auto_rows": null,
            "grid_column": null,
            "grid_gap": null,
            "grid_row": null,
            "grid_template_areas": null,
            "grid_template_columns": null,
            "grid_template_rows": null,
            "height": null,
            "justify_content": null,
            "justify_items": null,
            "left": null,
            "margin": null,
            "max_height": null,
            "max_width": null,
            "min_height": null,
            "min_width": null,
            "object_fit": null,
            "object_position": null,
            "order": null,
            "overflow": null,
            "overflow_x": null,
            "overflow_y": null,
            "padding": null,
            "right": null,
            "top": null,
            "visibility": null,
            "width": null
          }
        },
        "cdff8f944492492284642a42ebafdb23": {
          "model_module": "@jupyter-widgets/controls",
          "model_module_version": "1.5.0",
          "model_name": "HBoxModel",
          "state": {
            "_dom_classes": [],
            "_model_module": "@jupyter-widgets/controls",
            "_model_module_version": "1.5.0",
            "_model_name": "HBoxModel",
            "_view_count": null,
            "_view_module": "@jupyter-widgets/controls",
            "_view_module_version": "1.5.0",
            "_view_name": "HBoxView",
            "box_style": "",
            "children": [
              "IPY_MODEL_f7468a086d5b444d8422087172b1bb60",
              "IPY_MODEL_71ecdea70e95479eb134e2759051cf50",
              "IPY_MODEL_ecd2e617b12e44bb8f3652a62d775cb4"
            ],
            "layout": "IPY_MODEL_07bf34fd735d480f98db1d53339c04de"
          }
        },
        "cf749976cc534893ad40fd509ca53c34": {
          "model_module": "@jupyter-widgets/controls",
          "model_module_version": "1.5.0",
          "model_name": "HTMLModel",
          "state": {
            "_dom_classes": [],
            "_model_module": "@jupyter-widgets/controls",
            "_model_module_version": "1.5.0",
            "_model_name": "HTMLModel",
            "_view_count": null,
            "_view_module": "@jupyter-widgets/controls",
            "_view_module_version": "1.5.0",
            "_view_name": "HTMLView",
            "description": "",
            "description_tooltip": null,
            "layout": "IPY_MODEL_84e2ef9602bd4649ae48c59860f34a46",
            "placeholder": "​",
            "style": "IPY_MODEL_840f614ff3a440a4acbe51679c5383bf",
            "value": " 268M/268M [00:03&lt;00:00, 64.9MB/s]"
          }
        },
        "d649e5f6f8d04c279fb5e47816af4413": {
          "model_module": "@jupyter-widgets/controls",
          "model_module_version": "1.5.0",
          "model_name": "ProgressStyleModel",
          "state": {
            "_model_module": "@jupyter-widgets/controls",
            "_model_module_version": "1.5.0",
            "_model_name": "ProgressStyleModel",
            "_view_count": null,
            "_view_module": "@jupyter-widgets/base",
            "_view_module_version": "1.2.0",
            "_view_name": "StyleView",
            "bar_color": null,
            "description_width": ""
          }
        },
        "dd15c473798d408eab856928277f8c2c": {
          "model_module": "@jupyter-widgets/base",
          "model_module_version": "1.2.0",
          "model_name": "LayoutModel",
          "state": {
            "_model_module": "@jupyter-widgets/base",
            "_model_module_version": "1.2.0",
            "_model_name": "LayoutModel",
            "_view_count": null,
            "_view_module": "@jupyter-widgets/base",
            "_view_module_version": "1.2.0",
            "_view_name": "LayoutView",
            "align_content": null,
            "align_items": null,
            "align_self": null,
            "border": null,
            "bottom": null,
            "display": null,
            "flex": null,
            "flex_flow": null,
            "grid_area": null,
            "grid_auto_columns": null,
            "grid_auto_flow": null,
            "grid_auto_rows": null,
            "grid_column": null,
            "grid_gap": null,
            "grid_row": null,
            "grid_template_areas": null,
            "grid_template_columns": null,
            "grid_template_rows": null,
            "height": null,
            "justify_content": null,
            "justify_items": null,
            "left": null,
            "margin": null,
            "max_height": null,
            "max_width": null,
            "min_height": null,
            "min_width": null,
            "object_fit": null,
            "object_position": null,
            "order": null,
            "overflow": null,
            "overflow_x": null,
            "overflow_y": null,
            "padding": null,
            "right": null,
            "top": null,
            "visibility": null,
            "width": null
          }
        },
        "e35e3d4e3b7845049e7c899392c12175": {
          "model_module": "@jupyter-widgets/controls",
          "model_module_version": "1.5.0",
          "model_name": "DescriptionStyleModel",
          "state": {
            "_model_module": "@jupyter-widgets/controls",
            "_model_module_version": "1.5.0",
            "_model_name": "DescriptionStyleModel",
            "_view_count": null,
            "_view_module": "@jupyter-widgets/base",
            "_view_module_version": "1.2.0",
            "_view_name": "StyleView",
            "description_width": ""
          }
        },
        "e7efc11f43f444a4aa951c9d5f687eeb": {
          "model_module": "@jupyter-widgets/controls",
          "model_module_version": "1.5.0",
          "model_name": "DescriptionStyleModel",
          "state": {
            "_model_module": "@jupyter-widgets/controls",
            "_model_module_version": "1.5.0",
            "_model_name": "DescriptionStyleModel",
            "_view_count": null,
            "_view_module": "@jupyter-widgets/base",
            "_view_module_version": "1.2.0",
            "_view_name": "StyleView",
            "description_width": ""
          }
        },
        "ea3e768ef60c4836b7d51de55f991a83": {
          "model_module": "@jupyter-widgets/controls",
          "model_module_version": "1.5.0",
          "model_name": "FloatProgressModel",
          "state": {
            "_dom_classes": [],
            "_model_module": "@jupyter-widgets/controls",
            "_model_module_version": "1.5.0",
            "_model_name": "FloatProgressModel",
            "_view_count": null,
            "_view_module": "@jupyter-widgets/controls",
            "_view_module_version": "1.5.0",
            "_view_name": "ProgressView",
            "bar_style": "success",
            "description": "",
            "description_tooltip": null,
            "layout": "IPY_MODEL_599b035a11c74772aa1f482f434d8178",
            "max": 267967963,
            "min": 0,
            "orientation": "horizontal",
            "style": "IPY_MODEL_d649e5f6f8d04c279fb5e47816af4413",
            "value": 267967963
          }
        },
        "ecd2e617b12e44bb8f3652a62d775cb4": {
          "model_module": "@jupyter-widgets/controls",
          "model_module_version": "1.5.0",
          "model_name": "HTMLModel",
          "state": {
            "_dom_classes": [],
            "_model_module": "@jupyter-widgets/controls",
            "_model_module_version": "1.5.0",
            "_model_name": "HTMLModel",
            "_view_count": null,
            "_view_module": "@jupyter-widgets/controls",
            "_view_module_version": "1.5.0",
            "_view_name": "HTMLView",
            "description": "",
            "description_tooltip": null,
            "layout": "IPY_MODEL_852f909fc6454140abba59ceae6b1780",
            "placeholder": "​",
            "style": "IPY_MODEL_4c8bb3a6346b43d79a1f2357f61023e7",
            "value": " 483/483 [00:00&lt;00:00, 21.9kB/s]"
          }
        },
        "f7468a086d5b444d8422087172b1bb60": {
          "model_module": "@jupyter-widgets/controls",
          "model_module_version": "1.5.0",
          "model_name": "HTMLModel",
          "state": {
            "_dom_classes": [],
            "_model_module": "@jupyter-widgets/controls",
            "_model_module_version": "1.5.0",
            "_model_name": "HTMLModel",
            "_view_count": null,
            "_view_module": "@jupyter-widgets/controls",
            "_view_module_version": "1.5.0",
            "_view_name": "HTMLView",
            "description": "",
            "description_tooltip": null,
            "layout": "IPY_MODEL_ab2a232607e445e2ba34a5019853b74e",
            "placeholder": "​",
            "style": "IPY_MODEL_b7cad925e63449f28f59b00cc0f71934",
            "value": "Downloading (…)lve/main/config.json: 100%"
          }
        },
        "fbc0233583174c5a94e325dbd4b8d213": {
          "model_module": "@jupyter-widgets/controls",
          "model_module_version": "1.5.0",
          "model_name": "DescriptionStyleModel",
          "state": {
            "_model_module": "@jupyter-widgets/controls",
            "_model_module_version": "1.5.0",
            "_model_name": "DescriptionStyleModel",
            "_view_count": null,
            "_view_module": "@jupyter-widgets/base",
            "_view_module_version": "1.2.0",
            "_view_name": "StyleView",
            "description_width": ""
          }
        },
        "fe47e20c92044fe2a6b13ccc9ddb16c5": {
          "model_module": "@jupyter-widgets/base",
          "model_module_version": "1.2.0",
          "model_name": "LayoutModel",
          "state": {
            "_model_module": "@jupyter-widgets/base",
            "_model_module_version": "1.2.0",
            "_model_name": "LayoutModel",
            "_view_count": null,
            "_view_module": "@jupyter-widgets/base",
            "_view_module_version": "1.2.0",
            "_view_name": "LayoutView",
            "align_content": null,
            "align_items": null,
            "align_self": null,
            "border": null,
            "bottom": null,
            "display": null,
            "flex": null,
            "flex_flow": null,
            "grid_area": null,
            "grid_auto_columns": null,
            "grid_auto_flow": null,
            "grid_auto_rows": null,
            "grid_column": null,
            "grid_gap": null,
            "grid_row": null,
            "grid_template_areas": null,
            "grid_template_columns": null,
            "grid_template_rows": null,
            "height": null,
            "justify_content": null,
            "justify_items": null,
            "left": null,
            "margin": null,
            "max_height": null,
            "max_width": null,
            "min_height": null,
            "min_width": null,
            "object_fit": null,
            "object_position": null,
            "order": null,
            "overflow": null,
            "overflow_x": null,
            "overflow_y": null,
            "padding": null,
            "right": null,
            "top": null,
            "visibility": null,
            "width": null
          }
        }
      }
    }
  },
  "nbformat": 4,
  "nbformat_minor": 0
}
