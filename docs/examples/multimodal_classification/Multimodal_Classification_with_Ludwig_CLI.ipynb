{
  "cells": [
    {
      "cell_type": "markdown",
      "metadata": {
        "id": "dqW_BZ60kyWP"
      },
      "source": [
        "# Multimodal Classification of Twitter Bots - Ludwig CLI\n",
        "\n",
        "*We recommend using a GPU runtime for this example. In the Colab menu bar, choose **Runtime** > **Change Runtime Type** and choose **GPU** under Hardware Accelerator.*\n",
        "\n",
        "In this notebook, we will show how to use the Ludwig CLI to:\n",
        "\n",
        "\n",
        "1.   [Train a Ludwig Model](#scrollTo=Train)\n",
        "2.   [Evaluate the trained model](#scrollTo=Evaluate)\n",
        "3.   [Visualize training and test metrics](#scrollTo=Visualize_Metrics)\n",
        "\n",
        "\n",
        "This example is uses a dataset from Kaggle, so you'll need a [Kaggle account](https://www.kaggle.com/account/login) to download it."
      ]
    },
    {
      "cell_type": "markdown",
      "metadata": {
        "id": "yTysvPY3_E56"
      },
      "source": [
        "# Upload Kaggle Credentials\n",
        "\n",
        "Run the cell below and upload your kaggle.json file."
      ]
    },
    {
      "cell_type": "code",
      "execution_count": null,
      "metadata": {
        "id": "b7eTuBup_zEE"
      },
      "outputs": [],
      "source": [
        "import os\n",
        "\n",
        "from google.colab import files\n",
        "\n",
        "uploaded_files = files.upload()\n",
        "\n",
        "# Creates the .kaggle directory if it does not already exist.\n",
        "os.makedirs(os.path.expanduser(\"~/.kaggle\"), exist_ok=True)\n",
        "\n",
        "# Write the contents of the uploaded file to ~/.kaggle/kaggle.json\n",
        "if \"kaggle.json\" in uploaded_files:\n",
        "  with open(os.path.expanduser(\"~/.kaggle/kaggle.json\"), \"wb\") as f:\n",
        "    f.write(uploaded_files[\"kaggle.json\"])\n",
        "  os.chmod(os.path.expanduser(\"~/.kaggle/kaggle.json\"), 0o600)"
      ]
    },
    {
      "cell_type": "markdown",
      "metadata": {
        "id": "zYOMqI9UiBpz"
      },
      "source": [
        "# Download Dataset\n",
        "\n",
        "We'll be using the [twitter human-bots dataset](https://www.kaggle.com/code/davidmartngutirrez/bots-accounts-eda/data), composed of 37438 rows each corresponding to a Twitter user account. Each row contains 20 feature columns collected via Twitter API. These features contain multiple data modalities, including the account description and the profile image.\n",
        "\n",
        "The target column **account_type** has two unique values: **bot** or **human**. 25013 user accounts were annotated as human accounts, the remaining 12425 are bots.\n",
        "\n",
        "\n",
        "This dataset contains 20 columns, but we'll only use these 16 (15 input + 1 target):\n",
        "\n",
        "| column      | type | description                                         |\n",
        "|-------------|------|-----------------------------------------------------|\n",
        "| default_profile | binary | Boolean indicating whether the account has a default profile |\n",
        "| default_profile_image | binary | Boolean indicating whether the account has a default profile image |\n",
        "| description | text |  User account description                           |\n",
        "| favorites_count | number | Total number of favourited tweets             |\n",
        "| followers_count | number | Total number of followers                     |\n",
        "| friends_count | number | Total number of friends                         |\n",
        "| geo_enabled | binary | Boolean indicating whether the account has the geographic location enabled  |\n",
        "| lang | category | Language of the account                                |\n",
        "| location | category | Location of the account                            |\n",
        "| profile_background_image_url | image | Profile background image url      |\n",
        "| profile_image_url | image | Profile image url                            |\n",
        "| statuses_count | number | Total number of tweets                         |\n",
        "| verified | binary | Boolean indicating whether the account has been verified |\n",
        "| average_tweets_per_day | number | Average tweets posted per day          |\n",
        "| account_age_days | number | Account age measured in days                 |\n",
        "| account_type   | category | Account type, one of {bot, human}            |\n"
      ]
    },
    {
      "cell_type": "code",
      "execution_count": null,
      "metadata": {
        "id": "V-USzcQ9J75t"
      },
      "outputs": [],
      "source": [
        "# Downloads the dataset to the current working directory\n",
        "!kaggle datasets download danieltreiman/twitter-human-bots-dataset\n",
        "\n",
        "# Unzips the downloaded dataset, creates profile_images,\n",
        "# profile_background_images, and twitter_human_bots_dataset.csv\n",
        "!unzip -q -o twitter-human-bots-dataset.zip"
      ]
    },
    {
      "cell_type": "code",
      "execution_count": null,
      "metadata": {
        "id": "13d3EPZoCVxm"
      },
      "outputs": [],
      "source": [
        "# Previews a few rows of the dataset:\n",
        "!head twitter_human_bots_dataset.csv"
      ]
    },
    {
      "cell_type": "markdown",
      "metadata": {
        "id": "9zSzY2SmRt-v"
      },
      "source": [
        "# Train"
      ]
    },
    {
      "cell_type": "code",
      "execution_count": null,
      "metadata": {
        "id": "FczUptADgreZ"
      },
      "outputs": [],
      "source": [
        "# Prerequisite: Installs the latest version of Ludwig in the Colab environment\n",
        "!python -m pip install git+https://github.com/ludwig-ai/ludwig.git --quiet"
      ]
    },
    {
      "cell_type": "markdown",
      "metadata": {
        "id": "m-7NypeYh2hb"
      },
      "source": [
        "## Define ludwig config\n",
        "\n",
        "The Ludwig config declares the machine learning task: which columns to use, their datatypes, and which columns to predict."
      ]
    },
    {
      "cell_type": "code",
      "execution_count": null,
      "metadata": {
        "id": "wPg-qTQ6htyq"
      },
      "outputs": [],
      "source": [
        "config_yaml = \"\"\"\n",
        "input_features:\n",
        "  - name: default_profile\n",
        "    type: binary\n",
        "  - name: default_profile_image\n",
        "    type: binary\n",
        "  - name: description\n",
        "    type: text\n",
        "  - name: favourites_count\n",
        "    type: number\n",
        "  - name: followers_count\n",
        "    type: number\n",
        "  - name: friends_count\n",
        "    type: number\n",
        "  - name: geo_enabled\n",
        "    type: binary\n",
        "  - name: lang\n",
        "    type: category\n",
        "  - name: location\n",
        "    type: category\n",
        "  - name: profile_background_image_path\n",
        "    type: category\n",
        "  - name: profile_image_path\n",
        "    type: image\n",
        "    preprocessing:\n",
        "      num_channels: 3\n",
        "  - name: statuses_count\n",
        "    type: number\n",
        "  - name: verified\n",
        "    type: binary\n",
        "  - name: average_tweets_per_day\n",
        "    type: number\n",
        "  - name: account_age_days\n",
        "    type: number\n",
        "output_features:\n",
        "  - name: account_type\n",
        "    type: binary\n",
        "\"\"\"\n",
        "\n",
        "# Writes config to \"config.yaml\"\n",
        "with open(\"config.yaml\", \"w\") as f:\n",
        "  f.write(config_yaml)"
      ]
    },
    {
      "cell_type": "markdown",
      "metadata": {
        "id": "87VXm-aH9DYf"
      },
      "source": [
        "## Create and train a model"
      ]
    },
    {
      "cell_type": "code",
      "execution_count": null,
      "metadata": {
        "colab": {
          "background_save": true
        },
        "id": "fEizUlhwrSMn"
      },
      "outputs": [],
      "source": [
        "# Trains the model. This cell might take a few minutes.\n",
        "!ludwig train --dataset twitter_human_bots_dataset.csv -c config.yaml"
      ]
    },
    {
      "cell_type": "markdown",
      "metadata": {
        "id": "47tFtYwUuucY"
      },
      "source": [
        "# Evaluate"
      ]
    },
    {
      "cell_type": "code",
      "execution_count": null,
      "metadata": {
        "id": "WTe2wDNguw5D"
      },
      "outputs": [],
      "source": [
        "# Generates predictions and performance statistics for the test set.\n",
        "!ludwig evaluate --model_path results/experiment_run/model \\\n",
        "                 --dataset twitter_human_bots_dataset.csv \\\n",
        "                 --split test \\\n",
        "                 --output_directory results/experiment_run"
      ]
    },
    {
      "cell_type": "markdown",
      "metadata": {
        "id": "F1VTQf6flpxU"
      },
      "source": [
        "# Visualize Metrics"
      ]
    },
    {
      "cell_type": "code",
      "execution_count": null,
      "metadata": {
        "id": "zj1ocMUtaMRJ"
      },
      "outputs": [],
      "source": [
        "# Visualizes confusion matrix, which gives an overview of classifier performance\n",
        "# for each class.\n",
        "!ludwig visualize --visualization confusion_matrix \\\n",
        "                  --ground_truth_metadata results/experiment_run/model/training_set_metadata.json \\\n",
        "                  --test_statistics results/experiment_run/test_statistics.json \\\n",
        "                  --output_directory visualizations \\\n",
        "                  --file_format png\n",
        "\n",
        "# If you run ludwig visualize locally, visualizations will automatically show in\n",
        "# a window. Here in Colab, we can run the following code to load and display\n",
        "# generated plots inline.\n",
        "from IPython import display\n",
        "import ipywidgets\n",
        "from pathlib import Path\n",
        "\n",
        "ipywidgets.HBox([\n",
        "  ipywidgets.Image(value=Path(\"visualizations/confusion_matrix__account_type_top3.png\").read_bytes()),\n",
        "  ipywidgets.Image(value=Path(\"visualizations/confusion_matrix_entropy__account_type_top3.png\").read_bytes()),\n",
        "])"
      ]
    },
    {
      "cell_type": "code",
      "execution_count": null,
      "metadata": {
        "id": "jaYNW7T71CMf"
      },
      "outputs": [],
      "source": [
        "# Visualizes learning curves, which show how performance metrics changed over\n",
        "# time during training.\n",
        "!ludwig visualize --visualization learning_curves \\\n",
        "                  --training_statistics results/experiment_run/training_statistics.json \\\n",
        "                  --output_directory visualizations \\\n",
        "                  --file_format png\n",
        "\n",
        "\n",
        "ipywidgets.HBox([\n",
        "  ipywidgets.Image(value=Path(\"visualizations/learning_curves_account_type_loss.png\").read_bytes()),\n",
        "  ipywidgets.Image(value=Path(\"visualizations/learning_curves_account_type_accuracy.png\").read_bytes()),\n",
        "])"
      ]
    },
    {
      "cell_type": "code",
      "execution_count": null,
      "metadata": {
        "id": "d6S_KAnzaQdT"
      },
      "outputs": [],
      "source": [
        ""
      ]
    }
  ],
  "metadata": {
    "accelerator": "GPU",
    "colab": {
      "collapsed_sections": [],
      "name": "Multimodal Classification with Ludwig - CLI.ipynb",
      "toc_visible": true,
      "provenance": []
    },
    "kernelspec": {
      "display_name": "Python 3",
      "name": "python3"
    },
    "language_info": {
      "name": "python"
    }
  },
  "nbformat": 4,
  "nbformat_minor": 0
}