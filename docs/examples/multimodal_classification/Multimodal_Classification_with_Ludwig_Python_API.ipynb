{
  "cells": [
    {
      "cell_type": "markdown",
      "metadata": {
        "id": "dqW_BZ60kyWP"
      },
      "source": [
        "# Multimodal Classification of Twitter Bots - Python API\n",
        "\n",
        "*We recommend using a GPU runtime for this example. In the Colab menu bar, choose **Runtime** > **Change Runtime Type** and choose **GPU** under Hardware Accelerator.*\n",
        "\n",
        "In this notebook, we will show how to use the Ludwig Python API to:\n",
        "\n",
        "\n",
        "1.   [Train a Ludwig Model](#scrollTo=Train)\n",
        "2.   [Evaluate the trained model](#scrollTo=Evaluate)\n",
        "2.   [Visualize training and test metrics](#scrollTo=Visualize_Metrics)\n",
        "\n",
        "This example is uses a dataset from Kaggle, so you'll need a [Kaggle account](https://www.kaggle.com/account/login) to download it."
      ]
    },
    {
      "cell_type": "markdown",
      "metadata": {
        "id": "BUVNRi_rCAFp"
      },
      "source": [
        "# Upload Kaggle Credentials\n",
        "\n",
        "Run the cell below and upload your kaggle.json file."
      ]
    },
    {
      "cell_type": "code",
      "execution_count": null,
      "metadata": {
        "id": "fw8YpR1TCAee"
      },
      "outputs": [],
      "source": [
        "import os\n",
        "\n",
        "from google.colab import files\n",
        "\n",
        "uploaded_files = files.upload()\n",
        "\n",
        "# Creates the .kaggle directory if it does not already exist.\n",
        "os.makedirs(os.path.expanduser(\"~/.kaggle\"), exist_ok=True)\n",
        "\n",
        "# Write the contents of the uploaded file to ~/.kaggle/kaggle.json\n",
        "if \"kaggle.json\" in uploaded_files:\n",
        "  with open(os.path.expanduser(\"~/.kaggle/kaggle.json\"), \"wb\") as f:\n",
        "    f.write(uploaded_files[\"kaggle.json\"])\n",
        "  os.chmod(os.path.expanduser(\"~/.kaggle/kaggle.json\"), 0o600)"
      ]
    },
    {
      "cell_type": "markdown",
      "metadata": {
        "id": "7kyxOTw1CIAg"
      },
      "source": [
        "# Download Dataset\n",
        "\n",
        "We'll be using the [twitter human-bots dataset](https://www.kaggle.com/code/davidmartngutirrez/bots-accounts-eda/data), composed of 37438 rows each corresponding to a Twitter user account. Each row contains 20 feature columns collected via Twitter API. These features contain multiple data modalities, including the account description and the profile image.\n",
        "\n",
        "The target column **account_type** has two unique values: **bot** or **human**. 25013 user accounts were annotated as human accounts, the remaining 12425 are bots.\n",
        "\n",
        "\n",
        "This dataset contains 20 columns, but we'll only use these 16 (15 input + 1 target):\n",
        "\n",
        "| column      | type | description                                         |\n",
        "|-------------|------|-----------------------------------------------------|\n",
        "| default_profile | binary | Boolean indicating whether the account has a default profile |\n",
        "| default_profile_image | binary | Boolean indicating whether the account has a default profile image |\n",
        "| description | text |  User account description                           |\n",
        "| favorites_count | number | Total number of favourited tweets             |\n",
        "| followers_count | number | Total number of followers                     |\n",
        "| friends_count | number | Total number of friends                         |\n",
        "| geo_enabled | binary | Boolean indicating whether the account has the geographic location enabled  |\n",
        "| lang | category | Language of the account                                |\n",
        "| location | category | Location of the account                            |\n",
        "| profile_background_image_url | image | Profile background image url      |\n",
        "| profile_image_url | image | Profile image url                            |\n",
        "| statuses_count | number | Total number of tweets                         |\n",
        "| verified | binary | Boolean indicating whether the account has been verified |\n",
        "| average_tweets_per_day | number | Average tweets posted per day          |\n",
        "| account_age_days | number | Account age measured in days                 |\n",
        "| account_type   | category | Account type, one of {bot, human}            |\n"
      ]
    },
    {
      "cell_type": "code",
      "execution_count": null,
      "metadata": {
        "id": "jclY9wwNCIJM"
      },
      "outputs": [],
      "source": [
        "# Downloads the dataset to the current working directory\n",
        "!kaggle datasets download danieltreiman/twitter-human-bots-dataset\n",
        "\n",
        "# Unzips the downloaded dataset, creates twitter_human_bots_dataset.csv\n",
        "!unzip -q -o twitter-human-bots-dataset.zip"
      ]
    },
    {
      "cell_type": "code",
      "execution_count": null,
      "metadata": {
        "id": "v2gsXFVTClIN"
      },
      "outputs": [],
      "source": [
        "import pandas as pd\n",
        "\n",
        "# Loads the dataset\n",
        "dataset_df = pd.read_csv('twitter_human_bots_dataset.csv')\n",
        "\n",
        "# Previews a few rows of the dataset\n",
        "dataset_df.head(5)"
      ]
    },
    {
      "cell_type": "code",
      "execution_count": null,
      "metadata": {
        "id": "FczUptADgreZ"
      },
      "outputs": [],
      "source": [
        "# Prerequisite: Installs the latest version of Ludwig in the Colab environment\n",
        "!python -m pip install git+https://github.com/ludwig-ai/ludwig.git --quiet"
      ]
    },
    {
      "cell_type": "markdown",
      "metadata": {
        "id": "vtSyZji4C-7t"
      },
      "source": [
        "# Train"
      ]
    },
    {
      "cell_type": "markdown",
      "metadata": {
        "id": "m-7NypeYh2hb"
      },
      "source": [
        "## Define ludwig config\n",
        "\n",
        "The Ludwig config declares the machine learning task: which columns to use, their datatypes, and which columns to predict."
      ]
    },
    {
      "cell_type": "code",
      "execution_count": null,
      "metadata": {
        "id": "wPg-qTQ6htyq"
      },
      "outputs": [],
      "source": [
        "config = {\n",
        "  \"input_features\": [\n",
        "    {\n",
        "      \"name\": \"default_profile\",\n",
        "      \"type\": \"binary\",\n",
        "    },\n",
        "    {\n",
        "      \"name\": \"default_profile_image\",\n",
        "      \"type\": \"binary\",\n",
        "    },\n",
        "    {\n",
        "      \"name\": \"description\",\n",
        "      \"type\": \"text\",\n",
        "    },\n",
        "    {\n",
        "      \"name\": \"favourites_count\",\n",
        "      \"type\": \"number\",\n",
        "    },\n",
        "    {\n",
        "      \"name\": \"followers_count\",\n",
        "      \"type\": \"number\",\n",
        "    },\n",
        "    {\n",
        "      \"name\": \"friends_count\",\n",
        "      \"type\": \"number\",\n",
        "    },\n",
        "    {\n",
        "      \"name\": \"geo_enabled\",\n",
        "      \"type\": \"binary\",\n",
        "    },\n",
        "    {\n",
        "      \"name\": \"lang\",\n",
        "      \"type\": \"category\",\n",
        "    },\n",
        "    {\n",
        "      \"name\": \"location\",\n",
        "      \"type\": \"category\",\n",
        "    },\n",
        "    {\n",
        "      \"name\": \"profile_background_image_path\",\n",
        "      \"type\": \"category\",\n",
        "    },\n",
        "    {\n",
        "      \"name\": \"profile_image_path\",\n",
        "      \"type\": \"image\",\n",
        "      \"preprocessing\": {\n",
        "        \"num_channels\": 3\n",
        "      }\n",
        "    },\n",
        "    {\n",
        "      \"name\": \"statuses_count\",\n",
        "      \"type\": \"number\",\n",
        "    },\n",
        "    {\n",
        "      \"name\": \"verified\",\n",
        "      \"type\": \"binary\",\n",
        "    },\n",
        "    {\n",
        "      \"name\": \"average_tweets_per_day\",\n",
        "      \"type\": \"number\",\n",
        "    },\n",
        "    {\n",
        "      \"name\": \"account_age_days\",\n",
        "      \"type\": \"number\",\n",
        "    },\n",
        "  ],\n",
        "  \"output_features\": [\n",
        "    {\n",
        "      \"name\": \"account_type\",\n",
        "      \"type\": \"binary\",\n",
        "    }\n",
        "  ]\n",
        "}"
      ]
    },
    {
      "cell_type": "markdown",
      "metadata": {
        "id": "7Kw46f9XktuF"
      },
      "source": [
        "## Create a model from config\n",
        "\n"
      ]
    },
    {
      "cell_type": "code",
      "execution_count": null,
      "metadata": {
        "id": "h5nr0tmgkrZU"
      },
      "outputs": [],
      "source": [
        "import logging\n",
        "from ludwig.api import LudwigModel\n",
        "\n",
        "# Constructs Ludwig model from config dictionary\n",
        "model = LudwigModel(config, logging_level=logging.INFO)"
      ]
    },
    {
      "cell_type": "markdown",
      "metadata": {
        "id": "tZlU04uyDJhR"
      },
      "source": [
        "## Train the model"
      ]
    },
    {
      "cell_type": "code",
      "execution_count": null,
      "metadata": {
        "id": "Q1DHLkEoD8on"
      },
      "outputs": [],
      "source": [
        "# Trains the model. This cell might take a few minutes.\n",
        "train_stats, preprocessed_data, output_directory = model.train(dataset=dataset_df)"
      ]
    },
    {
      "cell_type": "markdown",
      "metadata": {
        "id": "pkHZstKbGM-H"
      },
      "source": [
        "# Evaluate"
      ]
    },
    {
      "cell_type": "code",
      "execution_count": null,
      "metadata": {
        "id": "Had-v1gtGvpG"
      },
      "outputs": [],
      "source": [
        "# Generates predictions and performance statistics for the test set.\n",
        "test_stats, predictions, output_directory = model.evaluate(\n",
        "  dataset_df[dataset_df.split == 1],\n",
        "  collect_predictions=True,\n",
        "  collect_overall_stats=True\n",
        ")"
      ]
    },
    {
      "cell_type": "markdown",
      "metadata": {
        "id": "F1VTQf6flpxU"
      },
      "source": [
        "# Visualize Metrics"
      ]
    },
    {
      "cell_type": "code",
      "execution_count": null,
      "metadata": {
        "id": "5rWnZ7liKwD1"
      },
      "outputs": [],
      "source": [
        "# Visualizes confusion matrix, which gives an overview of classifier performance\n",
        "# for each class.\n",
        "from ludwig.visualize import confusion_matrix\n",
        "\n",
        "confusion_matrix(\n",
        "  [test_stats],\n",
        "  model.training_set_metadata,\n",
        "  'account_type',\n",
        "  labels=['human', 'bot'],\n",
        "  top_n_classes=[2],\n",
        "  model_names=[''],\n",
        "  normalize=True,\n",
        ")"
      ]
    },
    {
      "cell_type": "code",
      "execution_count": null,
      "metadata": {
        "id": "HUzPePrM44wD"
      },
      "outputs": [],
      "source": [
        "# Visualizes learning curves, which show how performance metrics changed over\n",
        "# time during training.\n",
        "from ludwig.visualize import learning_curves\n",
        "\n",
        "learning_curves(train_stats, output_feature_name='account_type')"
      ]
    },
    {
      "cell_type": "code",
      "source": [
        ""
      ],
      "metadata": {
        "id": "ImmE_cMDRAi_"
      },
      "execution_count": null,
      "outputs": []
    }
  ],
  "metadata": {
    "accelerator": "GPU",
    "colab": {
      "collapsed_sections": [],
      "name": "Multimodal Classification with Ludwig - Python API.ipynb",
      "toc_visible": true,
      "provenance": []
    },
    "kernelspec": {
      "display_name": "Python 3",
      "name": "python3"
    },
    "language_info": {
      "name": "python"
    }
  },
  "nbformat": 4,
  "nbformat_minor": 0
}